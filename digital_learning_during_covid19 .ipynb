{
  "nbformat": 4,
  "nbformat_minor": 0,
  "metadata": {
    "colab": {
      "provenance": []
    },
    "kernelspec": {
      "name": "python3",
      "display_name": "Python 3"
    },
    "language_info": {
      "name": "python"
    }
  },
  "cells": [
    {
      "cell_type": "markdown",
      "source": [
        "# **Kaggle notebook and API set up**"
      ],
      "metadata": {
        "id": "guny-0tP5mAO"
      }
    },
    {
      "cell_type": "code",
      "source": [
        "!pip install kaggle # installing kaggle"
      ],
      "metadata": {
        "colab": {
          "base_uri": "https://localhost:8080/"
        },
        "id": "RNkV3wE8kApN",
        "outputId": "0ed9bfea-c8ab-4c7d-b22a-c0e5a84ff1e1"
      },
      "execution_count": 1,
      "outputs": [
        {
          "output_type": "stream",
          "name": "stdout",
          "text": [
            "Looking in indexes: https://pypi.org/simple, https://us-python.pkg.dev/colab-wheels/public/simple/\n",
            "Requirement already satisfied: kaggle in /usr/local/lib/python3.9/dist-packages (1.5.13)\n",
            "Requirement already satisfied: requests in /usr/local/lib/python3.9/dist-packages (from kaggle) (2.27.1)\n",
            "Requirement already satisfied: six>=1.10 in /usr/local/lib/python3.9/dist-packages (from kaggle) (1.16.0)\n",
            "Requirement already satisfied: tqdm in /usr/local/lib/python3.9/dist-packages (from kaggle) (4.65.0)\n",
            "Requirement already satisfied: certifi in /usr/local/lib/python3.9/dist-packages (from kaggle) (2022.12.7)\n",
            "Requirement already satisfied: python-dateutil in /usr/local/lib/python3.9/dist-packages (from kaggle) (2.8.2)\n",
            "Requirement already satisfied: urllib3 in /usr/local/lib/python3.9/dist-packages (from kaggle) (1.26.15)\n",
            "Requirement already satisfied: python-slugify in /usr/local/lib/python3.9/dist-packages (from kaggle) (8.0.1)\n",
            "Requirement already satisfied: text-unidecode>=1.3 in /usr/local/lib/python3.9/dist-packages (from python-slugify->kaggle) (1.3)\n",
            "Requirement already satisfied: charset-normalizer~=2.0.0 in /usr/local/lib/python3.9/dist-packages (from requests->kaggle) (2.0.12)\n",
            "Requirement already satisfied: idna<4,>=2.5 in /usr/local/lib/python3.9/dist-packages (from requests->kaggle) (3.4)\n"
          ]
        }
      ]
    },
    {
      "cell_type": "code",
      "source": [
        "# importing files\n",
        "from google.colab import files"
      ],
      "metadata": {
        "id": "XQoxTcMduOMl"
      },
      "execution_count": 2,
      "outputs": []
    },
    {
      "cell_type": "code",
      "source": [
        "# uploading a json file download from Kaggel\n",
        "files.upload()"
      ],
      "metadata": {
        "colab": {
          "base_uri": "https://localhost:8080/",
          "height": 90
        },
        "id": "MYqdC_GHuVby",
        "outputId": "4a4b8afc-55c5-433b-ec5f-694785307e54"
      },
      "execution_count": 3,
      "outputs": [
        {
          "output_type": "display_data",
          "data": {
            "text/plain": [
              "<IPython.core.display.HTML object>"
            ],
            "text/html": [
              "\n",
              "     <input type=\"file\" id=\"files-0c5e17c8-282e-492b-b6f0-d0f8f4d988b1\" name=\"files[]\" multiple disabled\n",
              "        style=\"border:none\" />\n",
              "     <output id=\"result-0c5e17c8-282e-492b-b6f0-d0f8f4d988b1\">\n",
              "      Upload widget is only available when the cell has been executed in the\n",
              "      current browser session. Please rerun this cell to enable.\n",
              "      </output>\n",
              "      <script>// Copyright 2017 Google LLC\n",
              "//\n",
              "// Licensed under the Apache License, Version 2.0 (the \"License\");\n",
              "// you may not use this file except in compliance with the License.\n",
              "// You may obtain a copy of the License at\n",
              "//\n",
              "//      http://www.apache.org/licenses/LICENSE-2.0\n",
              "//\n",
              "// Unless required by applicable law or agreed to in writing, software\n",
              "// distributed under the License is distributed on an \"AS IS\" BASIS,\n",
              "// WITHOUT WARRANTIES OR CONDITIONS OF ANY KIND, either express or implied.\n",
              "// See the License for the specific language governing permissions and\n",
              "// limitations under the License.\n",
              "\n",
              "/**\n",
              " * @fileoverview Helpers for google.colab Python module.\n",
              " */\n",
              "(function(scope) {\n",
              "function span(text, styleAttributes = {}) {\n",
              "  const element = document.createElement('span');\n",
              "  element.textContent = text;\n",
              "  for (const key of Object.keys(styleAttributes)) {\n",
              "    element.style[key] = styleAttributes[key];\n",
              "  }\n",
              "  return element;\n",
              "}\n",
              "\n",
              "// Max number of bytes which will be uploaded at a time.\n",
              "const MAX_PAYLOAD_SIZE = 100 * 1024;\n",
              "\n",
              "function _uploadFiles(inputId, outputId) {\n",
              "  const steps = uploadFilesStep(inputId, outputId);\n",
              "  const outputElement = document.getElementById(outputId);\n",
              "  // Cache steps on the outputElement to make it available for the next call\n",
              "  // to uploadFilesContinue from Python.\n",
              "  outputElement.steps = steps;\n",
              "\n",
              "  return _uploadFilesContinue(outputId);\n",
              "}\n",
              "\n",
              "// This is roughly an async generator (not supported in the browser yet),\n",
              "// where there are multiple asynchronous steps and the Python side is going\n",
              "// to poll for completion of each step.\n",
              "// This uses a Promise to block the python side on completion of each step,\n",
              "// then passes the result of the previous step as the input to the next step.\n",
              "function _uploadFilesContinue(outputId) {\n",
              "  const outputElement = document.getElementById(outputId);\n",
              "  const steps = outputElement.steps;\n",
              "\n",
              "  const next = steps.next(outputElement.lastPromiseValue);\n",
              "  return Promise.resolve(next.value.promise).then((value) => {\n",
              "    // Cache the last promise value to make it available to the next\n",
              "    // step of the generator.\n",
              "    outputElement.lastPromiseValue = value;\n",
              "    return next.value.response;\n",
              "  });\n",
              "}\n",
              "\n",
              "/**\n",
              " * Generator function which is called between each async step of the upload\n",
              " * process.\n",
              " * @param {string} inputId Element ID of the input file picker element.\n",
              " * @param {string} outputId Element ID of the output display.\n",
              " * @return {!Iterable<!Object>} Iterable of next steps.\n",
              " */\n",
              "function* uploadFilesStep(inputId, outputId) {\n",
              "  const inputElement = document.getElementById(inputId);\n",
              "  inputElement.disabled = false;\n",
              "\n",
              "  const outputElement = document.getElementById(outputId);\n",
              "  outputElement.innerHTML = '';\n",
              "\n",
              "  const pickedPromise = new Promise((resolve) => {\n",
              "    inputElement.addEventListener('change', (e) => {\n",
              "      resolve(e.target.files);\n",
              "    });\n",
              "  });\n",
              "\n",
              "  const cancel = document.createElement('button');\n",
              "  inputElement.parentElement.appendChild(cancel);\n",
              "  cancel.textContent = 'Cancel upload';\n",
              "  const cancelPromise = new Promise((resolve) => {\n",
              "    cancel.onclick = () => {\n",
              "      resolve(null);\n",
              "    };\n",
              "  });\n",
              "\n",
              "  // Wait for the user to pick the files.\n",
              "  const files = yield {\n",
              "    promise: Promise.race([pickedPromise, cancelPromise]),\n",
              "    response: {\n",
              "      action: 'starting',\n",
              "    }\n",
              "  };\n",
              "\n",
              "  cancel.remove();\n",
              "\n",
              "  // Disable the input element since further picks are not allowed.\n",
              "  inputElement.disabled = true;\n",
              "\n",
              "  if (!files) {\n",
              "    return {\n",
              "      response: {\n",
              "        action: 'complete',\n",
              "      }\n",
              "    };\n",
              "  }\n",
              "\n",
              "  for (const file of files) {\n",
              "    const li = document.createElement('li');\n",
              "    li.append(span(file.name, {fontWeight: 'bold'}));\n",
              "    li.append(span(\n",
              "        `(${file.type || 'n/a'}) - ${file.size} bytes, ` +\n",
              "        `last modified: ${\n",
              "            file.lastModifiedDate ? file.lastModifiedDate.toLocaleDateString() :\n",
              "                                    'n/a'} - `));\n",
              "    const percent = span('0% done');\n",
              "    li.appendChild(percent);\n",
              "\n",
              "    outputElement.appendChild(li);\n",
              "\n",
              "    const fileDataPromise = new Promise((resolve) => {\n",
              "      const reader = new FileReader();\n",
              "      reader.onload = (e) => {\n",
              "        resolve(e.target.result);\n",
              "      };\n",
              "      reader.readAsArrayBuffer(file);\n",
              "    });\n",
              "    // Wait for the data to be ready.\n",
              "    let fileData = yield {\n",
              "      promise: fileDataPromise,\n",
              "      response: {\n",
              "        action: 'continue',\n",
              "      }\n",
              "    };\n",
              "\n",
              "    // Use a chunked sending to avoid message size limits. See b/62115660.\n",
              "    let position = 0;\n",
              "    do {\n",
              "      const length = Math.min(fileData.byteLength - position, MAX_PAYLOAD_SIZE);\n",
              "      const chunk = new Uint8Array(fileData, position, length);\n",
              "      position += length;\n",
              "\n",
              "      const base64 = btoa(String.fromCharCode.apply(null, chunk));\n",
              "      yield {\n",
              "        response: {\n",
              "          action: 'append',\n",
              "          file: file.name,\n",
              "          data: base64,\n",
              "        },\n",
              "      };\n",
              "\n",
              "      let percentDone = fileData.byteLength === 0 ?\n",
              "          100 :\n",
              "          Math.round((position / fileData.byteLength) * 100);\n",
              "      percent.textContent = `${percentDone}% done`;\n",
              "\n",
              "    } while (position < fileData.byteLength);\n",
              "  }\n",
              "\n",
              "  // All done.\n",
              "  yield {\n",
              "    response: {\n",
              "      action: 'complete',\n",
              "    }\n",
              "  };\n",
              "}\n",
              "\n",
              "scope.google = scope.google || {};\n",
              "scope.google.colab = scope.google.colab || {};\n",
              "scope.google.colab._files = {\n",
              "  _uploadFiles,\n",
              "  _uploadFilesContinue,\n",
              "};\n",
              "})(self);\n",
              "</script> "
            ]
          },
          "metadata": {}
        },
        {
          "output_type": "stream",
          "name": "stdout",
          "text": [
            "Saving kaggle.json to kaggle.json\n"
          ]
        },
        {
          "output_type": "execute_result",
          "data": {
            "text/plain": [
              "{'kaggle.json': b'{\"username\":\"susaiignesh\",\"key\":\"4e82e7c97143bc0c1269429e476e9692\"}'}"
            ]
          },
          "metadata": {},
          "execution_count": 3
        }
      ]
    },
    {
      "cell_type": "code",
      "source": [
        "# to remove the current folder\n",
        "rm -r /root/.kaggle"
      ],
      "metadata": {
        "id": "nD4kRrykwDuR"
      },
      "execution_count": null,
      "outputs": []
    },
    {
      "cell_type": "code",
      "source": [
        "# this will create floder for us to save a json file\n",
        "!mkdir ~/.kaggle"
      ],
      "metadata": {
        "id": "eWNT4FfdoVp-"
      },
      "execution_count": 4,
      "outputs": []
    },
    {
      "cell_type": "code",
      "source": [
        "# cp command actully used to copy the file into the new folder that we're going to create\n",
        "\n",
        "!cp /content/kaggle.json ~/.kaggle/"
      ],
      "metadata": {
        "id": "i3y39NIsqtbu"
      },
      "execution_count": 5,
      "outputs": []
    },
    {
      "cell_type": "code",
      "source": [
        "# finaly we will call the chmod 600 to allow us to read and wirte to the file\n",
        "!chmod 600 ~/.kaggle/kaggle.json"
      ],
      "metadata": {
        "id": "6eQyEvJHxXET"
      },
      "execution_count": 6,
      "outputs": []
    },
    {
      "cell_type": "code",
      "source": [
        "!kaggle competitions list # competition list"
      ],
      "metadata": {
        "colab": {
          "base_uri": "https://localhost:8080/"
        },
        "id": "fRTwF2n5xzTI",
        "outputId": "7afaca10-e21f-46a7-9df8-94cad8f9138d"
      },
      "execution_count": 7,
      "outputs": [
        {
          "output_type": "stream",
          "name": "stdout",
          "text": [
            "ref                                                                                deadline             category             reward  teamCount  userHasEntered  \n",
            "---------------------------------------------------------------------------------  -------------------  ---------------  ----------  ---------  --------------  \n",
            "https://www.kaggle.com/competitions/vesuvius-challenge-ink-detection               2023-06-14 23:59:00  Featured         $1,000,000        123           False  \n",
            "https://www.kaggle.com/competitions/asl-signs                                      2023-05-01 23:59:00  Research           $100,000        663           False  \n",
            "https://www.kaggle.com/competitions/tlvmc-parkinsons-freezing-gait-prediction      2023-06-08 23:59:00  Research           $100,000        202           False  \n",
            "https://www.kaggle.com/competitions/amp-parkinsons-disease-progression-prediction  2023-05-18 23:59:00  Featured            $60,000        753           False  \n",
            "https://www.kaggle.com/competitions/lux-ai-season-2                                2023-04-24 23:59:00  Featured            $55,000        500           False  \n",
            "https://www.kaggle.com/competitions/predict-student-performance-from-game-play     2023-06-07 23:59:00  Featured            $55,000       1046           False  \n",
            "https://www.kaggle.com/competitions/icecube-neutrinos-in-deep-ice                  2023-04-19 23:59:00  Research            $50,000        616           False  \n",
            "https://www.kaggle.com/competitions/stable-diffusion-image-to-prompts              2023-05-15 23:59:00  Featured            $50,000        697           False  \n",
            "https://www.kaggle.com/competitions/birdclef-2023                                  2023-05-24 23:59:00  Research            $50,000        453           False  \n",
            "https://www.kaggle.com/competitions/benetech-making-graphs-accessible              2023-06-12 23:59:00  Featured            $50,000          6           False  \n",
            "https://www.kaggle.com/competitions/playground-series-s3e11                        2023-04-03 23:59:00  Playground             Swag        310           False  \n",
            "https://www.kaggle.com/competitions/titanic                                        2030-01-01 00:00:00  Getting Started   Knowledge      14865           False  \n",
            "https://www.kaggle.com/competitions/house-prices-advanced-regression-techniques    2030-01-01 00:00:00  Getting Started   Knowledge       4262           False  \n",
            "https://www.kaggle.com/competitions/spaceship-titanic                              2030-01-01 00:00:00  Getting Started   Knowledge       2333           False  \n",
            "https://www.kaggle.com/competitions/digit-recognizer                               2030-01-01 00:00:00  Getting Started   Knowledge       1376           False  \n",
            "https://www.kaggle.com/competitions/nlp-getting-started                            2030-01-01 00:00:00  Getting Started   Knowledge       1066           False  \n",
            "https://www.kaggle.com/competitions/connectx                                       2030-01-01 00:00:00  Getting Started   Knowledge        249           False  \n",
            "https://www.kaggle.com/competitions/tpu-getting-started                            2030-06-03 23:59:00  Getting Started   Knowledge        147           False  \n",
            "https://www.kaggle.com/competitions/store-sales-time-series-forecasting            2030-06-30 23:59:00  Getting Started   Knowledge        635           False  \n",
            "https://www.kaggle.com/competitions/gan-getting-started                            2030-07-01 23:59:00  Getting Started      Prizes        143           False  \n"
          ]
        }
      ]
    },
    {
      "cell_type": "code",
      "source": [
        "# checking the list of datsets\n",
        "!kaggle datasets list"
      ],
      "metadata": {
        "colab": {
          "base_uri": "https://localhost:8080/"
        },
        "id": "aJKCXVHTyD9Z",
        "outputId": "2f961036-1dc3-4720-e5ff-85e6f2f60a9d"
      },
      "execution_count": 8,
      "outputs": [
        {
          "output_type": "stream",
          "name": "stdout",
          "text": [
            "ref                                                                title                                                size  lastUpdated          downloadCount  voteCount  usabilityRating  \n",
            "-----------------------------------------------------------------  --------------------------------------------------  -----  -------------------  -------------  ---------  ---------------  \n",
            "zusmani/pakistan-toshakhana-files                                  Pakistan ToshaKhana Files                             1MB  2023-03-15 16:25:43           2355        107  1.0              \n",
            "ramkrijal/tomato-daily-prices                                      Tomato Daily Prices                                  10KB  2023-03-10 15:39:14           1359         45  1.0              \n",
            "themrityunjaypathak/covid-cases-and-deaths-worldwide               Covid Cases and Deaths WorldWide                      8KB  2023-02-01 12:22:51          14596        477  1.0              \n",
            "datascientistanna/customers-dataset                                Shop Customer Data                                   23KB  2023-02-07 18:42:21          13249        297  1.0              \n",
            "priyankkhanna/flipkart-product-dataset-by-priyank-khanna           Flipkart Product Dataset                              2MB  2023-03-03 13:44:42           1046         25  1.0              \n",
            "amaanansari09/most-streamed-songs-all-time                         Most Streamed Songs (All Time)                        8KB  2023-03-08 10:56:24           2436         64  1.0              \n",
            "utsh0dey/25k-movie-dataset                                         25k IMDb Movie Dataset                                5MB  2023-02-27 18:11:44            960         29  1.0              \n",
            "nidzsharma/covid-19-variant-data                                   COVID-19 Variant Data                                67KB  2023-03-12 14:07:53            691         30  1.0              \n",
            "rkiattisak/student-performance-in-mathematics                      Student performance prediction                        9KB  2023-03-12 04:32:56           2372         57  1.0              \n",
            "ashpalsingh1525/netflix                                            Netflix Cleaned Dataset                              86KB  2023-02-25 12:48:42           1078         35  1.0              \n",
            "imrulhasanrobi/world-population-all-countries-different-parameter  World Population all countries different parameter    8KB  2023-03-16 01:24:18            778         31  1.0              \n",
            "rayhan32/la-liga-player-status-season-2022-2023                    La Liga Player Status  Season 2022-2023              14KB  2023-03-15 19:52:19            571         29  1.0              \n",
            "thedevastator/airbnb-prices-in-european-cities                     Airbnb Prices in European Cities                      4MB  2023-02-20 09:48:04           5082         94  1.0              \n",
            "mirzahasnine/loan-data-set                                         Loan Data Set                                        11KB  2023-03-12 05:02:43           1089         35  0.9411765        \n",
            "mehmettahiraslan/customer-shopping-dataset                         Customer Shopping Dataset - Retail Sales Data         2MB  2023-03-09 07:44:35           1550         57  1.0              \n",
            "ulrikthygepedersen/shark-tank-companies                            Shark Tank Companies                                 70KB  2023-03-02 12:05:27            740         34  1.0              \n",
            "tarique7/airline-incidents-safety-data                             Airline Incidents Safety Data                         7MB  2023-03-08 09:28:38            629         28  1.0              \n",
            "rkiattisak/traveler-trip-data                                      Traveler Trip Dataset                                 4KB  2023-03-06 07:11:05           1367         38  1.0              \n",
            "rkiattisak/salaly-prediction-for-beginer                           Salary Prediction dataset                             3KB  2023-03-07 02:45:11           1349         40  1.0              \n",
            "abdullahshahzad12345/ref-tk-data-02-to-22                          Gift Received by Pak Officials 2002-22 Tosha Khana  120KB  2023-03-14 15:49:14            166         24  1.0              \n"
          ]
        }
      ]
    },
    {
      "cell_type": "markdown",
      "source": [
        "#**Introduction**\n",
        "\n",
        "* There is an imbalance in the education system during the Covid19 pandemic and most of the students don't even have access to educational tools and online learning platforms. There is an urgent need to come up with solutions and by using LearnPlatform dataset we will figure some of the common patterns and identify the clusters based on demography, geography, and accessibility."
      ],
      "metadata": {
        "id": "TS90-NBTxG1y"
      }
    },
    {
      "cell_type": "markdown",
      "source": [
        "# **Project Goals**\n",
        "* In this project, we will be using data analysis tools to figure out trends in digital learning and how it is effective towards improvised communities. We will be comparing districts and states on factors like demography, internet access, learning product access, and finance. In the end, we will summarize our report and point towards the areas that need our more attention to make education accessible for all students the United States."
      ],
      "metadata": {
        "id": "rBgUKN0Xx1cd"
      }
    },
    {
      "cell_type": "markdown",
      "source": [
        "**(I) Downloading a dataset from kaggle**"
      ],
      "metadata": {
        "id": "PUhyq2Fa4F32"
      }
    },
    {
      "cell_type": "code",
      "source": [
        "# for download the datasets \n",
        "#!kaggle competitions download -c (dataset name or path)"
      ],
      "metadata": {
        "id": "KV1YUnFk3LW5"
      },
      "execution_count": 9,
      "outputs": []
    },
    {
      "cell_type": "code",
      "source": [
        "!kaggle competitions download -c learnplatform-covid19-impact-on-digital-learning"
      ],
      "metadata": {
        "colab": {
          "base_uri": "https://localhost:8080/"
        },
        "id": "9AjSjIR40Lt7",
        "outputId": "32c3b8d1-1b49-4e17-f2f9-b68e34489781"
      },
      "execution_count": 10,
      "outputs": [
        {
          "output_type": "stream",
          "name": "stdout",
          "text": [
            "Downloading learnplatform-covid19-impact-on-digital-learning.zip to /content\n",
            " 99% 123M/124M [00:01<00:00, 84.7MB/s]\n",
            "100% 124M/124M [00:01<00:00, 87.0MB/s]\n"
          ]
        }
      ]
    },
    {
      "cell_type": "code",
      "source": [
        "!unzip learnplatform-covid19-impact-on-digital-learning.zip # unziping the dataset"
      ],
      "metadata": {
        "colab": {
          "base_uri": "https://localhost:8080/"
        },
        "id": "RUZl6uJV_zaP",
        "outputId": "ff2b62db-6e07-437f-9e8c-f71ba8693ff4"
      },
      "execution_count": 11,
      "outputs": [
        {
          "output_type": "stream",
          "name": "stdout",
          "text": [
            "Archive:  learnplatform-covid19-impact-on-digital-learning.zip\n",
            "  inflating: README.md               \n",
            "  inflating: districts_info.csv      \n",
            "  inflating: engagement_data/1000.csv  \n",
            "  inflating: engagement_data/1039.csv  \n",
            "  inflating: engagement_data/1044.csv  \n",
            "  inflating: engagement_data/1052.csv  \n",
            "  inflating: engagement_data/1131.csv  \n",
            "  inflating: engagement_data/1142.csv  \n",
            "  inflating: engagement_data/1179.csv  \n",
            "  inflating: engagement_data/1204.csv  \n",
            "  inflating: engagement_data/1270.csv  \n",
            "  inflating: engagement_data/1324.csv  \n",
            "  inflating: engagement_data/1444.csv  \n",
            "  inflating: engagement_data/1450.csv  \n",
            "  inflating: engagement_data/1470.csv  \n",
            "  inflating: engagement_data/1536.csv  \n",
            "  inflating: engagement_data/1549.csv  \n",
            "  inflating: engagement_data/1558.csv  \n",
            "  inflating: engagement_data/1570.csv  \n",
            "  inflating: engagement_data/1584.csv  \n",
            "  inflating: engagement_data/1624.csv  \n",
            "  inflating: engagement_data/1705.csv  \n",
            "  inflating: engagement_data/1712.csv  \n",
            "  inflating: engagement_data/1742.csv  \n",
            "  inflating: engagement_data/1772.csv  \n",
            "  inflating: engagement_data/1791.csv  \n",
            "  inflating: engagement_data/1857.csv  \n",
            "  inflating: engagement_data/1877.csv  \n",
            "  inflating: engagement_data/1904.csv  \n",
            "  inflating: engagement_data/1965.csv  \n",
            "  inflating: engagement_data/2017.csv  \n",
            "  inflating: engagement_data/2060.csv  \n",
            "  inflating: engagement_data/2074.csv  \n",
            "  inflating: engagement_data/2106.csv  \n",
            "  inflating: engagement_data/2130.csv  \n",
            "  inflating: engagement_data/2165.csv  \n",
            "  inflating: engagement_data/2167.csv  \n",
            "  inflating: engagement_data/2172.csv  \n",
            "  inflating: engagement_data/2201.csv  \n",
            "  inflating: engagement_data/2209.csv  \n",
            "  inflating: engagement_data/2238.csv  \n",
            "  inflating: engagement_data/2257.csv  \n",
            "  inflating: engagement_data/2285.csv  \n",
            "  inflating: engagement_data/2321.csv  \n",
            "  inflating: engagement_data/2339.csv  \n",
            "  inflating: engagement_data/2393.csv  \n",
            "  inflating: engagement_data/2439.csv  \n",
            "  inflating: engagement_data/2441.csv  \n",
            "  inflating: engagement_data/2517.csv  \n",
            "  inflating: engagement_data/2549.csv  \n",
            "  inflating: engagement_data/2567.csv  \n",
            "  inflating: engagement_data/2598.csv  \n",
            "  inflating: engagement_data/2601.csv  \n",
            "  inflating: engagement_data/2685.csv  \n",
            "  inflating: engagement_data/2729.csv  \n",
            "  inflating: engagement_data/2779.csv  \n",
            "  inflating: engagement_data/2870.csv  \n",
            "  inflating: engagement_data/2872.csv  \n",
            "  inflating: engagement_data/2940.csv  \n",
            "  inflating: engagement_data/2956.csv  \n",
            "  inflating: engagement_data/2991.csv  \n",
            "  inflating: engagement_data/3080.csv  \n",
            "  inflating: engagement_data/3160.csv  \n",
            "  inflating: engagement_data/3188.csv  \n",
            "  inflating: engagement_data/3222.csv  \n",
            "  inflating: engagement_data/3228.csv  \n",
            "  inflating: engagement_data/3248.csv  \n",
            "  inflating: engagement_data/3266.csv  \n",
            "  inflating: engagement_data/3301.csv  \n",
            "  inflating: engagement_data/3314.csv  \n",
            "  inflating: engagement_data/3322.csv  \n",
            "  inflating: engagement_data/3371.csv  \n",
            "  inflating: engagement_data/3390.csv  \n",
            "  inflating: engagement_data/3393.csv  \n",
            "  inflating: engagement_data/3412.csv  \n",
            "  inflating: engagement_data/3471.csv  \n",
            "  inflating: engagement_data/3550.csv  \n",
            "  inflating: engagement_data/3558.csv  \n",
            "  inflating: engagement_data/3580.csv  \n",
            "  inflating: engagement_data/3640.csv  \n",
            "  inflating: engagement_data/3668.csv  \n",
            "  inflating: engagement_data/3670.csv  \n",
            "  inflating: engagement_data/3692.csv  \n",
            "  inflating: engagement_data/3710.csv  \n",
            "  inflating: engagement_data/3732.csv  \n",
            "  inflating: engagement_data/3772.csv  \n",
            "  inflating: engagement_data/3864.csv  \n",
            "  inflating: engagement_data/3936.csv  \n",
            "  inflating: engagement_data/3959.csv  \n",
            "  inflating: engagement_data/3986.csv  \n",
            "  inflating: engagement_data/4029.csv  \n",
            "  inflating: engagement_data/4031.csv  \n",
            "  inflating: engagement_data/4051.csv  \n",
            "  inflating: engagement_data/4083.csv  \n",
            "  inflating: engagement_data/4165.csv  \n",
            "  inflating: engagement_data/4183.csv  \n",
            "  inflating: engagement_data/4203.csv  \n",
            "  inflating: engagement_data/4314.csv  \n",
            "  inflating: engagement_data/4348.csv  \n",
            "  inflating: engagement_data/4373.csv  \n",
            "  inflating: engagement_data/4408.csv  \n",
            "  inflating: engagement_data/4516.csv  \n",
            "  inflating: engagement_data/4520.csv  \n",
            "  inflating: engagement_data/4550.csv  \n",
            "  inflating: engagement_data/4569.csv  \n",
            "  inflating: engagement_data/4591.csv  \n",
            "  inflating: engagement_data/4602.csv  \n",
            "  inflating: engagement_data/4629.csv  \n",
            "  inflating: engagement_data/4666.csv  \n",
            "  inflating: engagement_data/4668.csv  \n",
            "  inflating: engagement_data/4683.csv  \n",
            "  inflating: engagement_data/4744.csv  \n",
            "  inflating: engagement_data/4749.csv  \n",
            "  inflating: engagement_data/4775.csv  \n",
            "  inflating: engagement_data/4808.csv  \n",
            "  inflating: engagement_data/4921.csv  \n",
            "  inflating: engagement_data/4929.csv  \n",
            "  inflating: engagement_data/4936.csv  \n",
            "  inflating: engagement_data/4937.csv  \n",
            "  inflating: engagement_data/4949.csv  \n",
            "  inflating: engagement_data/5006.csv  \n",
            "  inflating: engagement_data/5042.csv  \n",
            "  inflating: engagement_data/5057.csv  \n",
            "  inflating: engagement_data/5150.csv  \n",
            "  inflating: engagement_data/5231.csv  \n",
            "  inflating: engagement_data/5257.csv  \n",
            "  inflating: engagement_data/5380.csv  \n",
            "  inflating: engagement_data/5404.csv  \n",
            "  inflating: engagement_data/5422.csv  \n",
            "  inflating: engagement_data/5479.csv  \n",
            "  inflating: engagement_data/5510.csv  \n",
            "  inflating: engagement_data/5524.csv  \n",
            "  inflating: engagement_data/5527.csv  \n",
            "  inflating: engagement_data/5600.csv  \n",
            "  inflating: engagement_data/5604.csv  \n",
            "  inflating: engagement_data/5627.csv  \n",
            "  inflating: engagement_data/5802.csv  \n",
            "  inflating: engagement_data/5882.csv  \n",
            "  inflating: engagement_data/5890.csv  \n",
            "  inflating: engagement_data/5903.csv  \n",
            "  inflating: engagement_data/5934.csv  \n",
            "  inflating: engagement_data/5970.csv  \n",
            "  inflating: engagement_data/5987.csv  \n",
            "  inflating: engagement_data/6046.csv  \n",
            "  inflating: engagement_data/6049.csv  \n",
            "  inflating: engagement_data/6055.csv  \n",
            "  inflating: engagement_data/6066.csv  \n",
            "  inflating: engagement_data/6104.csv  \n",
            "  inflating: engagement_data/6131.csv  \n",
            "  inflating: engagement_data/6144.csv  \n",
            "  inflating: engagement_data/6165.csv  \n",
            "  inflating: engagement_data/6194.csv  \n",
            "  inflating: engagement_data/6250.csv  \n",
            "  inflating: engagement_data/6345.csv  \n",
            "  inflating: engagement_data/6418.csv  \n",
            "  inflating: engagement_data/6512.csv  \n",
            "  inflating: engagement_data/6577.csv  \n",
            "  inflating: engagement_data/6584.csv  \n",
            "  inflating: engagement_data/6640.csv  \n",
            "  inflating: engagement_data/6665.csv  \n",
            "  inflating: engagement_data/6721.csv  \n",
            "  inflating: engagement_data/6762.csv  \n",
            "  inflating: engagement_data/6774.csv  \n",
            "  inflating: engagement_data/6919.csv  \n",
            "  inflating: engagement_data/6998.csv  \n",
            "  inflating: engagement_data/7086.csv  \n",
            "  inflating: engagement_data/7164.csv  \n",
            "  inflating: engagement_data/7177.csv  \n",
            "  inflating: engagement_data/7305.csv  \n",
            "  inflating: engagement_data/7308.csv  \n",
            "  inflating: engagement_data/7342.csv  \n",
            "  inflating: engagement_data/7352.csv  \n",
            "  inflating: engagement_data/7387.csv  \n",
            "  inflating: engagement_data/7457.csv  \n",
            "  inflating: engagement_data/7541.csv  \n",
            "  inflating: engagement_data/7614.csv  \n",
            "  inflating: engagement_data/7660.csv  \n",
            "  inflating: engagement_data/7675.csv  \n",
            "  inflating: engagement_data/7723.csv  \n",
            "  inflating: engagement_data/7741.csv  \n",
            "  inflating: engagement_data/7752.csv  \n",
            "  inflating: engagement_data/7767.csv  \n",
            "  inflating: engagement_data/7785.csv  \n",
            "  inflating: engagement_data/7798.csv  \n",
            "  inflating: engagement_data/7829.csv  \n",
            "  inflating: engagement_data/7858.csv  \n",
            "  inflating: engagement_data/7964.csv  \n",
            "  inflating: engagement_data/7970.csv  \n",
            "  inflating: engagement_data/7975.csv  \n",
            "  inflating: engagement_data/7980.csv  \n",
            "  inflating: engagement_data/8017.csv  \n",
            "  inflating: engagement_data/8076.csv  \n",
            "  inflating: engagement_data/8103.csv  \n",
            "  inflating: engagement_data/8127.csv  \n",
            "  inflating: engagement_data/8160.csv  \n",
            "  inflating: engagement_data/8184.csv  \n",
            "  inflating: engagement_data/8256.csv  \n",
            "  inflating: engagement_data/8328.csv  \n",
            "  inflating: engagement_data/8425.csv  \n",
            "  inflating: engagement_data/8433.csv  \n",
            "  inflating: engagement_data/8515.csv  \n",
            "  inflating: engagement_data/8520.csv  \n",
            "  inflating: engagement_data/8539.csv  \n",
            "  inflating: engagement_data/8556.csv  \n",
            "  inflating: engagement_data/8685.csv  \n",
            "  inflating: engagement_data/8702.csv  \n",
            "  inflating: engagement_data/8723.csv  \n",
            "  inflating: engagement_data/8748.csv  \n",
            "  inflating: engagement_data/8784.csv  \n",
            "  inflating: engagement_data/8796.csv  \n",
            "  inflating: engagement_data/8815.csv  \n",
            "  inflating: engagement_data/8845.csv  \n",
            "  inflating: engagement_data/8884.csv  \n",
            "  inflating: engagement_data/8902.csv  \n",
            "  inflating: engagement_data/8937.csv  \n",
            "  inflating: engagement_data/9007.csv  \n",
            "  inflating: engagement_data/9043.csv  \n",
            "  inflating: engagement_data/9120.csv  \n",
            "  inflating: engagement_data/9140.csv  \n",
            "  inflating: engagement_data/9230.csv  \n",
            "  inflating: engagement_data/9303.csv  \n",
            "  inflating: engagement_data/9357.csv  \n",
            "  inflating: engagement_data/9463.csv  \n",
            "  inflating: engagement_data/9478.csv  \n",
            "  inflating: engagement_data/9515.csv  \n",
            "  inflating: engagement_data/9536.csv  \n",
            "  inflating: engagement_data/9537.csv  \n",
            "  inflating: engagement_data/9553.csv  \n",
            "  inflating: engagement_data/9589.csv  \n",
            "  inflating: engagement_data/9729.csv  \n",
            "  inflating: engagement_data/9778.csv  \n",
            "  inflating: engagement_data/9812.csv  \n",
            "  inflating: engagement_data/9839.csv  \n",
            "  inflating: engagement_data/9899.csv  \n",
            "  inflating: engagement_data/9927.csv  \n",
            "  inflating: products_info.csv       \n"
          ]
        }
      ]
    },
    {
      "cell_type": "markdown",
      "source": [
        "# **Import relevant libraries**"
      ],
      "metadata": {
        "id": "YJg5HBsZ6DRg"
      }
    },
    {
      "cell_type": "markdown",
      "source": [
        "* I will be mostly using Altair, Seaborn, and Plotly for data visualization. For data analysis, I will be using Numpy and Pandas."
      ],
      "metadata": {
        "id": "HMDkBM8O6IL4"
      }
    },
    {
      "cell_type": "code",
      "source": [
        "import numpy as np \n",
        "import pandas as pd \n",
        "import math\n",
        "\n",
        "import glob\n",
        "import os\n",
        "\n",
        "import altair as alt\n",
        "import seaborn as sns\n",
        "import matplotlib.pyplot as plt\n",
        "\n",
        "import plotly.express as px\n",
        "import plotly.graph_objects as go"
      ],
      "metadata": {
        "id": "Bu2dFs9555tW"
      },
      "execution_count": 12,
      "outputs": []
    },
    {
      "cell_type": "markdown",
      "source": [
        "# **Description of data**\n",
        "\n",
        "* We have three types of Dataset.\n",
        "\n"
      ],
      "metadata": {
        "id": "4uf-n2Tc5sMT"
      }
    },
    {
      "cell_type": "markdown",
      "source": [
        "* Products data contains Sevice names, Companies, and educational sectors.\n",
        "\n",
        "* District data contains Demography, Locations, and Educational Spendings.\n",
        "\n",
        "* Engagement data contains student's engagement with different products per day."
      ],
      "metadata": {
        "id": "Ha0rL6dK5w2g"
      }
    },
    {
      "cell_type": "markdown",
      "source": [
        "#**Product**"
      ],
      "metadata": {
        "id": "4knRuHWk6tb-"
      }
    },
    {
      "cell_type": "markdown",
      "source": [
        "* The product file products_info.csv includes information about the characteristics of the top 372 products with most users in 2020. The categories listed in this file are part of LearnPlatform's product taxonomy.\n",
        "\n"
      ],
      "metadata": {
        "id": "7zh3fBjH61AH"
      }
    },
    {
      "cell_type": "markdown",
      "source": [
        "| Name  | \tDescription |\n",
        "|-------|---------------|\n",
        "| LP ID | The unique identifier of the product |\n",
        "| URL\t| Web Link to the specific product|\n",
        "| Product Name |\tName of the specific product|\n",
        "| Provider/Company Name\t|Name of the product provider|\n",
        "| Sector(s) |\tSector of education where the product is used|\n",
        "| Primary Essential Function | The basic function of the product. There are two layers of labels here. Products are first labeled as one of these three categories: LC = Learning & Curriculum, CM = Classroom Management, and SDO = School & District Operations. Each of these categories have multiple sub-categories with which the products were labeled||\n"
      ],
      "metadata": {
        "id": "NhkDy_Iy7vR5"
      }
    },
    {
      "cell_type": "markdown",
      "source": [
        "**Loading Data Educational Product Data**\n",
        "\n",
        "* As we can see we have product names, Companies, and Sector data with Primary Functions."
      ],
      "metadata": {
        "id": "pjJ7MCnw-p4p"
      }
    },
    {
      "cell_type": "code",
      "source": [
        "products_data = pd.read_csv(\"products_info.csv\")\n",
        "products_data.head()"
      ],
      "metadata": {
        "colab": {
          "base_uri": "https://localhost:8080/",
          "height": 206
        },
        "id": "AOdeJoat7Xzh",
        "outputId": "2730e7f0-eeea-4436-e3b8-d82acbaca9bc"
      },
      "execution_count": 13,
      "outputs": [
        {
          "output_type": "execute_result",
          "data": {
            "text/plain": [
              "   LP ID                           URL  Product Name  Provider/Company Name  \\\n",
              "0  13117    https://www.splashmath.com   SplashLearn          StudyPad Inc.   \n",
              "1  66933          https://abcmouse.com  ABCmouse.com  Age of Learning, Inc    \n",
              "2  50479         https://www.abcya.com        ABCya!         ABCya.com, LLC   \n",
              "3  92993         http://www.aleks.com/         ALEKS    McGraw-Hill PreK-12   \n",
              "4  73104  https://www.achieve3000.com/   Achieve3000            Achieve3000   \n",
              "\n",
              "            Sector(s)                         Primary Essential Function  \n",
              "0             PreK-12                    LC - Digital Learning Platforms  \n",
              "1             PreK-12                    LC - Digital Learning Platforms  \n",
              "2             PreK-12  LC - Sites, Resources & Reference - Games & Si...  \n",
              "3  PreK-12; Higher Ed                    LC - Digital Learning Platforms  \n",
              "4             PreK-12                    LC - Digital Learning Platforms  "
            ],
            "text/html": [
              "\n",
              "  <div id=\"df-62242c6b-b0b2-42da-886f-0091cad158a0\">\n",
              "    <div class=\"colab-df-container\">\n",
              "      <div>\n",
              "<style scoped>\n",
              "    .dataframe tbody tr th:only-of-type {\n",
              "        vertical-align: middle;\n",
              "    }\n",
              "\n",
              "    .dataframe tbody tr th {\n",
              "        vertical-align: top;\n",
              "    }\n",
              "\n",
              "    .dataframe thead th {\n",
              "        text-align: right;\n",
              "    }\n",
              "</style>\n",
              "<table border=\"1\" class=\"dataframe\">\n",
              "  <thead>\n",
              "    <tr style=\"text-align: right;\">\n",
              "      <th></th>\n",
              "      <th>LP ID</th>\n",
              "      <th>URL</th>\n",
              "      <th>Product Name</th>\n",
              "      <th>Provider/Company Name</th>\n",
              "      <th>Sector(s)</th>\n",
              "      <th>Primary Essential Function</th>\n",
              "    </tr>\n",
              "  </thead>\n",
              "  <tbody>\n",
              "    <tr>\n",
              "      <th>0</th>\n",
              "      <td>13117</td>\n",
              "      <td>https://www.splashmath.com</td>\n",
              "      <td>SplashLearn</td>\n",
              "      <td>StudyPad Inc.</td>\n",
              "      <td>PreK-12</td>\n",
              "      <td>LC - Digital Learning Platforms</td>\n",
              "    </tr>\n",
              "    <tr>\n",
              "      <th>1</th>\n",
              "      <td>66933</td>\n",
              "      <td>https://abcmouse.com</td>\n",
              "      <td>ABCmouse.com</td>\n",
              "      <td>Age of Learning, Inc</td>\n",
              "      <td>PreK-12</td>\n",
              "      <td>LC - Digital Learning Platforms</td>\n",
              "    </tr>\n",
              "    <tr>\n",
              "      <th>2</th>\n",
              "      <td>50479</td>\n",
              "      <td>https://www.abcya.com</td>\n",
              "      <td>ABCya!</td>\n",
              "      <td>ABCya.com, LLC</td>\n",
              "      <td>PreK-12</td>\n",
              "      <td>LC - Sites, Resources &amp; Reference - Games &amp; Si...</td>\n",
              "    </tr>\n",
              "    <tr>\n",
              "      <th>3</th>\n",
              "      <td>92993</td>\n",
              "      <td>http://www.aleks.com/</td>\n",
              "      <td>ALEKS</td>\n",
              "      <td>McGraw-Hill PreK-12</td>\n",
              "      <td>PreK-12; Higher Ed</td>\n",
              "      <td>LC - Digital Learning Platforms</td>\n",
              "    </tr>\n",
              "    <tr>\n",
              "      <th>4</th>\n",
              "      <td>73104</td>\n",
              "      <td>https://www.achieve3000.com/</td>\n",
              "      <td>Achieve3000</td>\n",
              "      <td>Achieve3000</td>\n",
              "      <td>PreK-12</td>\n",
              "      <td>LC - Digital Learning Platforms</td>\n",
              "    </tr>\n",
              "  </tbody>\n",
              "</table>\n",
              "</div>\n",
              "      <button class=\"colab-df-convert\" onclick=\"convertToInteractive('df-62242c6b-b0b2-42da-886f-0091cad158a0')\"\n",
              "              title=\"Convert this dataframe to an interactive table.\"\n",
              "              style=\"display:none;\">\n",
              "        \n",
              "  <svg xmlns=\"http://www.w3.org/2000/svg\" height=\"24px\"viewBox=\"0 0 24 24\"\n",
              "       width=\"24px\">\n",
              "    <path d=\"M0 0h24v24H0V0z\" fill=\"none\"/>\n",
              "    <path d=\"M18.56 5.44l.94 2.06.94-2.06 2.06-.94-2.06-.94-.94-2.06-.94 2.06-2.06.94zm-11 1L8.5 8.5l.94-2.06 2.06-.94-2.06-.94L8.5 2.5l-.94 2.06-2.06.94zm10 10l.94 2.06.94-2.06 2.06-.94-2.06-.94-.94-2.06-.94 2.06-2.06.94z\"/><path d=\"M17.41 7.96l-1.37-1.37c-.4-.4-.92-.59-1.43-.59-.52 0-1.04.2-1.43.59L10.3 9.45l-7.72 7.72c-.78.78-.78 2.05 0 2.83L4 21.41c.39.39.9.59 1.41.59.51 0 1.02-.2 1.41-.59l7.78-7.78 2.81-2.81c.8-.78.8-2.07 0-2.86zM5.41 20L4 18.59l7.72-7.72 1.47 1.35L5.41 20z\"/>\n",
              "  </svg>\n",
              "      </button>\n",
              "      \n",
              "  <style>\n",
              "    .colab-df-container {\n",
              "      display:flex;\n",
              "      flex-wrap:wrap;\n",
              "      gap: 12px;\n",
              "    }\n",
              "\n",
              "    .colab-df-convert {\n",
              "      background-color: #E8F0FE;\n",
              "      border: none;\n",
              "      border-radius: 50%;\n",
              "      cursor: pointer;\n",
              "      display: none;\n",
              "      fill: #1967D2;\n",
              "      height: 32px;\n",
              "      padding: 0 0 0 0;\n",
              "      width: 32px;\n",
              "    }\n",
              "\n",
              "    .colab-df-convert:hover {\n",
              "      background-color: #E2EBFA;\n",
              "      box-shadow: 0px 1px 2px rgba(60, 64, 67, 0.3), 0px 1px 3px 1px rgba(60, 64, 67, 0.15);\n",
              "      fill: #174EA6;\n",
              "    }\n",
              "\n",
              "    [theme=dark] .colab-df-convert {\n",
              "      background-color: #3B4455;\n",
              "      fill: #D2E3FC;\n",
              "    }\n",
              "\n",
              "    [theme=dark] .colab-df-convert:hover {\n",
              "      background-color: #434B5C;\n",
              "      box-shadow: 0px 1px 3px 1px rgba(0, 0, 0, 0.15);\n",
              "      filter: drop-shadow(0px 1px 2px rgba(0, 0, 0, 0.3));\n",
              "      fill: #FFFFFF;\n",
              "    }\n",
              "  </style>\n",
              "\n",
              "      <script>\n",
              "        const buttonEl =\n",
              "          document.querySelector('#df-62242c6b-b0b2-42da-886f-0091cad158a0 button.colab-df-convert');\n",
              "        buttonEl.style.display =\n",
              "          google.colab.kernel.accessAllowed ? 'block' : 'none';\n",
              "\n",
              "        async function convertToInteractive(key) {\n",
              "          const element = document.querySelector('#df-62242c6b-b0b2-42da-886f-0091cad158a0');\n",
              "          const dataTable =\n",
              "            await google.colab.kernel.invokeFunction('convertToInteractive',\n",
              "                                                     [key], {});\n",
              "          if (!dataTable) return;\n",
              "\n",
              "          const docLinkHtml = 'Like what you see? Visit the ' +\n",
              "            '<a target=\"_blank\" href=https://colab.research.google.com/notebooks/data_table.ipynb>data table notebook</a>'\n",
              "            + ' to learn more about interactive tables.';\n",
              "          element.innerHTML = '';\n",
              "          dataTable['output_type'] = 'display_data';\n",
              "          await google.colab.output.renderOutput(dataTable, element);\n",
              "          const docLink = document.createElement('div');\n",
              "          docLink.innerHTML = docLinkHtml;\n",
              "          element.appendChild(docLink);\n",
              "        }\n",
              "      </script>\n",
              "    </div>\n",
              "  </div>\n",
              "  "
            ]
          },
          "metadata": {},
          "execution_count": 13
        }
      ]
    },
    {
      "cell_type": "markdown",
      "source": [
        "# **District**"
      ],
      "metadata": {
        "id": "0phmYXY1BP5E"
      }
    },
    {
      "cell_type": "markdown",
      "source": [
        "* The district file districts_info.csv includes information about the characteristics of school districts, including data from.\n",
        "\n",
        "* NCES (2018-19),\n",
        "* FCC (Dec 2018), and\n",
        "* Edunomics Lab.\n",
        "\n",
        "| Name | \tDescription|\n",
        "|------|--------------|\n",
        "| district_id|The unique identifier of the school district|\n",
        "|state| The state where the district resides in|\n",
        "| locale|\tNCES locale classification that categorizes U.S. territory into four types of areas: City, Suburban, Town, and Rural. See Locale Boundaries User's Manual for more information|\n",
        "|pct_black/hispanic| Percentage of students in the districts identified as Black or Hispanic based on 2018-19 NCES data|\n",
        "| pct_free/reduced| \tPercentage of students in the districts eligible for free or reduced-price lunch based on 2018-19 NCES data|\n",
        "|countyconnectionsratio| ratio (residential fixed high-speed connections over 200 kbps in at least one direction/households) based on the county level data from FCC From 477 (December 2018 version). See FCC data for more information|\n",
        "| pptotalraw| Per-pupil total expenditure (sum of local and federal expenditure) from Edunomics Lab's National Education Resource Database on Schools (NERD$) project. The expenditure data are school-by-school, and we use the median value to represent the expenditure of a given school district.|"
      ],
      "metadata": {
        "id": "l6TxyRPpBVyk"
      }
    },
    {
      "cell_type": "markdown",
      "source": [
        "#**Loading data district data**\n",
        "\n",
        "* We have different states, locale, educational spending and more importanly we have Demographical data."
      ],
      "metadata": {
        "id": "R1CmaSTdEWWP"
      }
    },
    {
      "cell_type": "code",
      "source": [
        "districts_data = pd.read_csv(\"districts_info.csv\")\n",
        "districts_data.head()"
      ],
      "metadata": {
        "colab": {
          "base_uri": "https://localhost:8080/",
          "height": 206
        },
        "id": "Sr0hZF9mES9_",
        "outputId": "3ed1edc3-7074-46c3-a9ba-0b23d413a72e"
      },
      "execution_count": 14,
      "outputs": [
        {
          "output_type": "execute_result",
          "data": {
            "text/plain": [
              "   district_id     state  locale pct_black/hispanic pct_free/reduced  \\\n",
              "0         8815  Illinois  Suburb           [0, 0.2[         [0, 0.2[   \n",
              "1         2685       NaN     NaN                NaN              NaN   \n",
              "2         4921      Utah  Suburb           [0, 0.2[       [0.2, 0.4[   \n",
              "3         3188       NaN     NaN                NaN              NaN   \n",
              "4         2238       NaN     NaN                NaN              NaN   \n",
              "\n",
              "  county_connections_ratio    pp_total_raw  \n",
              "0                [0.18, 1[  [14000, 16000[  \n",
              "1                      NaN             NaN  \n",
              "2                [0.18, 1[    [6000, 8000[  \n",
              "3                      NaN             NaN  \n",
              "4                      NaN             NaN  "
            ],
            "text/html": [
              "\n",
              "  <div id=\"df-5b7f3cff-8e89-4cd3-8372-24c654ade181\">\n",
              "    <div class=\"colab-df-container\">\n",
              "      <div>\n",
              "<style scoped>\n",
              "    .dataframe tbody tr th:only-of-type {\n",
              "        vertical-align: middle;\n",
              "    }\n",
              "\n",
              "    .dataframe tbody tr th {\n",
              "        vertical-align: top;\n",
              "    }\n",
              "\n",
              "    .dataframe thead th {\n",
              "        text-align: right;\n",
              "    }\n",
              "</style>\n",
              "<table border=\"1\" class=\"dataframe\">\n",
              "  <thead>\n",
              "    <tr style=\"text-align: right;\">\n",
              "      <th></th>\n",
              "      <th>district_id</th>\n",
              "      <th>state</th>\n",
              "      <th>locale</th>\n",
              "      <th>pct_black/hispanic</th>\n",
              "      <th>pct_free/reduced</th>\n",
              "      <th>county_connections_ratio</th>\n",
              "      <th>pp_total_raw</th>\n",
              "    </tr>\n",
              "  </thead>\n",
              "  <tbody>\n",
              "    <tr>\n",
              "      <th>0</th>\n",
              "      <td>8815</td>\n",
              "      <td>Illinois</td>\n",
              "      <td>Suburb</td>\n",
              "      <td>[0, 0.2[</td>\n",
              "      <td>[0, 0.2[</td>\n",
              "      <td>[0.18, 1[</td>\n",
              "      <td>[14000, 16000[</td>\n",
              "    </tr>\n",
              "    <tr>\n",
              "      <th>1</th>\n",
              "      <td>2685</td>\n",
              "      <td>NaN</td>\n",
              "      <td>NaN</td>\n",
              "      <td>NaN</td>\n",
              "      <td>NaN</td>\n",
              "      <td>NaN</td>\n",
              "      <td>NaN</td>\n",
              "    </tr>\n",
              "    <tr>\n",
              "      <th>2</th>\n",
              "      <td>4921</td>\n",
              "      <td>Utah</td>\n",
              "      <td>Suburb</td>\n",
              "      <td>[0, 0.2[</td>\n",
              "      <td>[0.2, 0.4[</td>\n",
              "      <td>[0.18, 1[</td>\n",
              "      <td>[6000, 8000[</td>\n",
              "    </tr>\n",
              "    <tr>\n",
              "      <th>3</th>\n",
              "      <td>3188</td>\n",
              "      <td>NaN</td>\n",
              "      <td>NaN</td>\n",
              "      <td>NaN</td>\n",
              "      <td>NaN</td>\n",
              "      <td>NaN</td>\n",
              "      <td>NaN</td>\n",
              "    </tr>\n",
              "    <tr>\n",
              "      <th>4</th>\n",
              "      <td>2238</td>\n",
              "      <td>NaN</td>\n",
              "      <td>NaN</td>\n",
              "      <td>NaN</td>\n",
              "      <td>NaN</td>\n",
              "      <td>NaN</td>\n",
              "      <td>NaN</td>\n",
              "    </tr>\n",
              "  </tbody>\n",
              "</table>\n",
              "</div>\n",
              "      <button class=\"colab-df-convert\" onclick=\"convertToInteractive('df-5b7f3cff-8e89-4cd3-8372-24c654ade181')\"\n",
              "              title=\"Convert this dataframe to an interactive table.\"\n",
              "              style=\"display:none;\">\n",
              "        \n",
              "  <svg xmlns=\"http://www.w3.org/2000/svg\" height=\"24px\"viewBox=\"0 0 24 24\"\n",
              "       width=\"24px\">\n",
              "    <path d=\"M0 0h24v24H0V0z\" fill=\"none\"/>\n",
              "    <path d=\"M18.56 5.44l.94 2.06.94-2.06 2.06-.94-2.06-.94-.94-2.06-.94 2.06-2.06.94zm-11 1L8.5 8.5l.94-2.06 2.06-.94-2.06-.94L8.5 2.5l-.94 2.06-2.06.94zm10 10l.94 2.06.94-2.06 2.06-.94-2.06-.94-.94-2.06-.94 2.06-2.06.94z\"/><path d=\"M17.41 7.96l-1.37-1.37c-.4-.4-.92-.59-1.43-.59-.52 0-1.04.2-1.43.59L10.3 9.45l-7.72 7.72c-.78.78-.78 2.05 0 2.83L4 21.41c.39.39.9.59 1.41.59.51 0 1.02-.2 1.41-.59l7.78-7.78 2.81-2.81c.8-.78.8-2.07 0-2.86zM5.41 20L4 18.59l7.72-7.72 1.47 1.35L5.41 20z\"/>\n",
              "  </svg>\n",
              "      </button>\n",
              "      \n",
              "  <style>\n",
              "    .colab-df-container {\n",
              "      display:flex;\n",
              "      flex-wrap:wrap;\n",
              "      gap: 12px;\n",
              "    }\n",
              "\n",
              "    .colab-df-convert {\n",
              "      background-color: #E8F0FE;\n",
              "      border: none;\n",
              "      border-radius: 50%;\n",
              "      cursor: pointer;\n",
              "      display: none;\n",
              "      fill: #1967D2;\n",
              "      height: 32px;\n",
              "      padding: 0 0 0 0;\n",
              "      width: 32px;\n",
              "    }\n",
              "\n",
              "    .colab-df-convert:hover {\n",
              "      background-color: #E2EBFA;\n",
              "      box-shadow: 0px 1px 2px rgba(60, 64, 67, 0.3), 0px 1px 3px 1px rgba(60, 64, 67, 0.15);\n",
              "      fill: #174EA6;\n",
              "    }\n",
              "\n",
              "    [theme=dark] .colab-df-convert {\n",
              "      background-color: #3B4455;\n",
              "      fill: #D2E3FC;\n",
              "    }\n",
              "\n",
              "    [theme=dark] .colab-df-convert:hover {\n",
              "      background-color: #434B5C;\n",
              "      box-shadow: 0px 1px 3px 1px rgba(0, 0, 0, 0.15);\n",
              "      filter: drop-shadow(0px 1px 2px rgba(0, 0, 0, 0.3));\n",
              "      fill: #FFFFFF;\n",
              "    }\n",
              "  </style>\n",
              "\n",
              "      <script>\n",
              "        const buttonEl =\n",
              "          document.querySelector('#df-5b7f3cff-8e89-4cd3-8372-24c654ade181 button.colab-df-convert');\n",
              "        buttonEl.style.display =\n",
              "          google.colab.kernel.accessAllowed ? 'block' : 'none';\n",
              "\n",
              "        async function convertToInteractive(key) {\n",
              "          const element = document.querySelector('#df-5b7f3cff-8e89-4cd3-8372-24c654ade181');\n",
              "          const dataTable =\n",
              "            await google.colab.kernel.invokeFunction('convertToInteractive',\n",
              "                                                     [key], {});\n",
              "          if (!dataTable) return;\n",
              "\n",
              "          const docLinkHtml = 'Like what you see? Visit the ' +\n",
              "            '<a target=\"_blank\" href=https://colab.research.google.com/notebooks/data_table.ipynb>data table notebook</a>'\n",
              "            + ' to learn more about interactive tables.';\n",
              "          element.innerHTML = '';\n",
              "          dataTable['output_type'] = 'display_data';\n",
              "          await google.colab.output.renderOutput(dataTable, element);\n",
              "          const docLink = document.createElement('div');\n",
              "          docLink.innerHTML = docLinkHtml;\n",
              "          element.appendChild(docLink);\n",
              "        }\n",
              "      </script>\n",
              "    </div>\n",
              "  </div>\n",
              "  "
            ]
          },
          "metadata": {},
          "execution_count": 14
        }
      ]
    },
    {
      "cell_type": "markdown",
      "source": [
        "# **Engagement data**\n",
        "* The engagement data are aggregated at school district level, and each file in the folder engagement_data represents data from one school district.\n",
        "\n",
        "|Name|Description|\n",
        "|-----|-----------|\n",
        "|time| \tdate in \"YYYY-MM-DD\"|\n",
        "|lp_id|The unique identifier of the product|\n",
        "|pct_access|Percentage of students in the district have at least one page-load event of a given product and on a given day|\n",
        "|engagement_index\t| Total page-load events per one thousand students of a given product and on a given day|"
      ],
      "metadata": {
        "id": "t6reqw23NrWp"
      }
    },
    {
      "cell_type": "markdown",
      "source": [
        "**Note:Our engagement data is split out into various.csv files, thus we must integrate them all into a single.csv file.**"
      ],
      "metadata": {
        "id": "FYjFmzRaNrpU"
      }
    },
    {
      "cell_type": "code",
      "source": [
        "import pandas as pd\n",
        "import os"
      ],
      "metadata": {
        "id": "y5kEOsbVBKME"
      },
      "execution_count": 15,
      "outputs": []
    },
    {
      "cell_type": "code",
      "source": [
        "# Set the folder path where the CSV files are stored\n",
        "folder_path = '/content/engagement_data'\n",
        "\n",
        "# Get a list of all CSV files in the folder and also cheking the all file are in same formate\n",
        "csv_files = [os.path.join(folder_path, f) for f in os.listdir(folder_path) if f.endswith('.csv')]\n",
        "\n",
        "# Create an empty DataFrame to store the combined data\n",
        "combined_data = pd.DataFrame()\n",
        "\n",
        "# Loop through each CSV file and append its data to the combined data DataFrame\n",
        "for csv_file in csv_files:\n",
        "    data = pd.read_csv(csv_file)\n",
        "    combined_data = combined_data.append(data, ignore_index=True)\n",
        "\n",
        "\n",
        "# Write the combined data to a CSV file\n",
        "combined_data.to_csv('combined_data.csv', index=False)"
      ],
      "metadata": {
        "id": "M1VQmNmtCTuR",
        "colab": {
          "base_uri": "https://localhost:8080/"
        },
        "outputId": "c70d08b8-39be-438f-c71e-057fab64ec05"
      },
      "execution_count": 16,
      "outputs": [
        {
          "output_type": "stream",
          "name": "stderr",
          "text": [
            "<ipython-input-16-2208c18f096c>:13: FutureWarning: The frame.append method is deprecated and will be removed from pandas in a future version. Use pandas.concat instead.\n",
            "  combined_data = combined_data.append(data, ignore_index=True)\n",
            "<ipython-input-16-2208c18f096c>:13: FutureWarning: The frame.append method is deprecated and will be removed from pandas in a future version. Use pandas.concat instead.\n",
            "  combined_data = combined_data.append(data, ignore_index=True)\n",
            "<ipython-input-16-2208c18f096c>:13: FutureWarning: The frame.append method is deprecated and will be removed from pandas in a future version. Use pandas.concat instead.\n",
            "  combined_data = combined_data.append(data, ignore_index=True)\n",
            "<ipython-input-16-2208c18f096c>:13: FutureWarning: The frame.append method is deprecated and will be removed from pandas in a future version. Use pandas.concat instead.\n",
            "  combined_data = combined_data.append(data, ignore_index=True)\n",
            "<ipython-input-16-2208c18f096c>:13: FutureWarning: The frame.append method is deprecated and will be removed from pandas in a future version. Use pandas.concat instead.\n",
            "  combined_data = combined_data.append(data, ignore_index=True)\n",
            "<ipython-input-16-2208c18f096c>:13: FutureWarning: The frame.append method is deprecated and will be removed from pandas in a future version. Use pandas.concat instead.\n",
            "  combined_data = combined_data.append(data, ignore_index=True)\n",
            "<ipython-input-16-2208c18f096c>:13: FutureWarning: The frame.append method is deprecated and will be removed from pandas in a future version. Use pandas.concat instead.\n",
            "  combined_data = combined_data.append(data, ignore_index=True)\n",
            "<ipython-input-16-2208c18f096c>:13: FutureWarning: The frame.append method is deprecated and will be removed from pandas in a future version. Use pandas.concat instead.\n",
            "  combined_data = combined_data.append(data, ignore_index=True)\n",
            "<ipython-input-16-2208c18f096c>:13: FutureWarning: The frame.append method is deprecated and will be removed from pandas in a future version. Use pandas.concat instead.\n",
            "  combined_data = combined_data.append(data, ignore_index=True)\n",
            "<ipython-input-16-2208c18f096c>:13: FutureWarning: The frame.append method is deprecated and will be removed from pandas in a future version. Use pandas.concat instead.\n",
            "  combined_data = combined_data.append(data, ignore_index=True)\n",
            "<ipython-input-16-2208c18f096c>:13: FutureWarning: The frame.append method is deprecated and will be removed from pandas in a future version. Use pandas.concat instead.\n",
            "  combined_data = combined_data.append(data, ignore_index=True)\n",
            "<ipython-input-16-2208c18f096c>:13: FutureWarning: The frame.append method is deprecated and will be removed from pandas in a future version. Use pandas.concat instead.\n",
            "  combined_data = combined_data.append(data, ignore_index=True)\n",
            "<ipython-input-16-2208c18f096c>:13: FutureWarning: The frame.append method is deprecated and will be removed from pandas in a future version. Use pandas.concat instead.\n",
            "  combined_data = combined_data.append(data, ignore_index=True)\n",
            "<ipython-input-16-2208c18f096c>:13: FutureWarning: The frame.append method is deprecated and will be removed from pandas in a future version. Use pandas.concat instead.\n",
            "  combined_data = combined_data.append(data, ignore_index=True)\n",
            "<ipython-input-16-2208c18f096c>:13: FutureWarning: The frame.append method is deprecated and will be removed from pandas in a future version. Use pandas.concat instead.\n",
            "  combined_data = combined_data.append(data, ignore_index=True)\n",
            "<ipython-input-16-2208c18f096c>:13: FutureWarning: The frame.append method is deprecated and will be removed from pandas in a future version. Use pandas.concat instead.\n",
            "  combined_data = combined_data.append(data, ignore_index=True)\n",
            "<ipython-input-16-2208c18f096c>:13: FutureWarning: The frame.append method is deprecated and will be removed from pandas in a future version. Use pandas.concat instead.\n",
            "  combined_data = combined_data.append(data, ignore_index=True)\n",
            "<ipython-input-16-2208c18f096c>:13: FutureWarning: The frame.append method is deprecated and will be removed from pandas in a future version. Use pandas.concat instead.\n",
            "  combined_data = combined_data.append(data, ignore_index=True)\n",
            "<ipython-input-16-2208c18f096c>:13: FutureWarning: The frame.append method is deprecated and will be removed from pandas in a future version. Use pandas.concat instead.\n",
            "  combined_data = combined_data.append(data, ignore_index=True)\n",
            "<ipython-input-16-2208c18f096c>:13: FutureWarning: The frame.append method is deprecated and will be removed from pandas in a future version. Use pandas.concat instead.\n",
            "  combined_data = combined_data.append(data, ignore_index=True)\n",
            "<ipython-input-16-2208c18f096c>:13: FutureWarning: The frame.append method is deprecated and will be removed from pandas in a future version. Use pandas.concat instead.\n",
            "  combined_data = combined_data.append(data, ignore_index=True)\n",
            "<ipython-input-16-2208c18f096c>:13: FutureWarning: The frame.append method is deprecated and will be removed from pandas in a future version. Use pandas.concat instead.\n",
            "  combined_data = combined_data.append(data, ignore_index=True)\n",
            "<ipython-input-16-2208c18f096c>:13: FutureWarning: The frame.append method is deprecated and will be removed from pandas in a future version. Use pandas.concat instead.\n",
            "  combined_data = combined_data.append(data, ignore_index=True)\n",
            "<ipython-input-16-2208c18f096c>:13: FutureWarning: The frame.append method is deprecated and will be removed from pandas in a future version. Use pandas.concat instead.\n",
            "  combined_data = combined_data.append(data, ignore_index=True)\n",
            "<ipython-input-16-2208c18f096c>:13: FutureWarning: The frame.append method is deprecated and will be removed from pandas in a future version. Use pandas.concat instead.\n",
            "  combined_data = combined_data.append(data, ignore_index=True)\n",
            "<ipython-input-16-2208c18f096c>:13: FutureWarning: The frame.append method is deprecated and will be removed from pandas in a future version. Use pandas.concat instead.\n",
            "  combined_data = combined_data.append(data, ignore_index=True)\n",
            "<ipython-input-16-2208c18f096c>:13: FutureWarning: The frame.append method is deprecated and will be removed from pandas in a future version. Use pandas.concat instead.\n",
            "  combined_data = combined_data.append(data, ignore_index=True)\n",
            "<ipython-input-16-2208c18f096c>:13: FutureWarning: The frame.append method is deprecated and will be removed from pandas in a future version. Use pandas.concat instead.\n",
            "  combined_data = combined_data.append(data, ignore_index=True)\n",
            "<ipython-input-16-2208c18f096c>:13: FutureWarning: The frame.append method is deprecated and will be removed from pandas in a future version. Use pandas.concat instead.\n",
            "  combined_data = combined_data.append(data, ignore_index=True)\n",
            "<ipython-input-16-2208c18f096c>:13: FutureWarning: The frame.append method is deprecated and will be removed from pandas in a future version. Use pandas.concat instead.\n",
            "  combined_data = combined_data.append(data, ignore_index=True)\n",
            "<ipython-input-16-2208c18f096c>:13: FutureWarning: The frame.append method is deprecated and will be removed from pandas in a future version. Use pandas.concat instead.\n",
            "  combined_data = combined_data.append(data, ignore_index=True)\n",
            "<ipython-input-16-2208c18f096c>:13: FutureWarning: The frame.append method is deprecated and will be removed from pandas in a future version. Use pandas.concat instead.\n",
            "  combined_data = combined_data.append(data, ignore_index=True)\n",
            "<ipython-input-16-2208c18f096c>:13: FutureWarning: The frame.append method is deprecated and will be removed from pandas in a future version. Use pandas.concat instead.\n",
            "  combined_data = combined_data.append(data, ignore_index=True)\n",
            "<ipython-input-16-2208c18f096c>:13: FutureWarning: The frame.append method is deprecated and will be removed from pandas in a future version. Use pandas.concat instead.\n",
            "  combined_data = combined_data.append(data, ignore_index=True)\n",
            "<ipython-input-16-2208c18f096c>:13: FutureWarning: The frame.append method is deprecated and will be removed from pandas in a future version. Use pandas.concat instead.\n",
            "  combined_data = combined_data.append(data, ignore_index=True)\n",
            "<ipython-input-16-2208c18f096c>:13: FutureWarning: The frame.append method is deprecated and will be removed from pandas in a future version. Use pandas.concat instead.\n",
            "  combined_data = combined_data.append(data, ignore_index=True)\n",
            "<ipython-input-16-2208c18f096c>:13: FutureWarning: The frame.append method is deprecated and will be removed from pandas in a future version. Use pandas.concat instead.\n",
            "  combined_data = combined_data.append(data, ignore_index=True)\n",
            "<ipython-input-16-2208c18f096c>:13: FutureWarning: The frame.append method is deprecated and will be removed from pandas in a future version. Use pandas.concat instead.\n",
            "  combined_data = combined_data.append(data, ignore_index=True)\n",
            "<ipython-input-16-2208c18f096c>:13: FutureWarning: The frame.append method is deprecated and will be removed from pandas in a future version. Use pandas.concat instead.\n",
            "  combined_data = combined_data.append(data, ignore_index=True)\n",
            "<ipython-input-16-2208c18f096c>:13: FutureWarning: The frame.append method is deprecated and will be removed from pandas in a future version. Use pandas.concat instead.\n",
            "  combined_data = combined_data.append(data, ignore_index=True)\n",
            "<ipython-input-16-2208c18f096c>:13: FutureWarning: The frame.append method is deprecated and will be removed from pandas in a future version. Use pandas.concat instead.\n",
            "  combined_data = combined_data.append(data, ignore_index=True)\n",
            "<ipython-input-16-2208c18f096c>:13: FutureWarning: The frame.append method is deprecated and will be removed from pandas in a future version. Use pandas.concat instead.\n",
            "  combined_data = combined_data.append(data, ignore_index=True)\n",
            "<ipython-input-16-2208c18f096c>:13: FutureWarning: The frame.append method is deprecated and will be removed from pandas in a future version. Use pandas.concat instead.\n",
            "  combined_data = combined_data.append(data, ignore_index=True)\n",
            "<ipython-input-16-2208c18f096c>:13: FutureWarning: The frame.append method is deprecated and will be removed from pandas in a future version. Use pandas.concat instead.\n",
            "  combined_data = combined_data.append(data, ignore_index=True)\n",
            "<ipython-input-16-2208c18f096c>:13: FutureWarning: The frame.append method is deprecated and will be removed from pandas in a future version. Use pandas.concat instead.\n",
            "  combined_data = combined_data.append(data, ignore_index=True)\n",
            "<ipython-input-16-2208c18f096c>:13: FutureWarning: The frame.append method is deprecated and will be removed from pandas in a future version. Use pandas.concat instead.\n",
            "  combined_data = combined_data.append(data, ignore_index=True)\n",
            "<ipython-input-16-2208c18f096c>:13: FutureWarning: The frame.append method is deprecated and will be removed from pandas in a future version. Use pandas.concat instead.\n",
            "  combined_data = combined_data.append(data, ignore_index=True)\n",
            "<ipython-input-16-2208c18f096c>:13: FutureWarning: The frame.append method is deprecated and will be removed from pandas in a future version. Use pandas.concat instead.\n",
            "  combined_data = combined_data.append(data, ignore_index=True)\n",
            "<ipython-input-16-2208c18f096c>:13: FutureWarning: The frame.append method is deprecated and will be removed from pandas in a future version. Use pandas.concat instead.\n",
            "  combined_data = combined_data.append(data, ignore_index=True)\n",
            "<ipython-input-16-2208c18f096c>:13: FutureWarning: The frame.append method is deprecated and will be removed from pandas in a future version. Use pandas.concat instead.\n",
            "  combined_data = combined_data.append(data, ignore_index=True)\n",
            "<ipython-input-16-2208c18f096c>:13: FutureWarning: The frame.append method is deprecated and will be removed from pandas in a future version. Use pandas.concat instead.\n",
            "  combined_data = combined_data.append(data, ignore_index=True)\n",
            "<ipython-input-16-2208c18f096c>:13: FutureWarning: The frame.append method is deprecated and will be removed from pandas in a future version. Use pandas.concat instead.\n",
            "  combined_data = combined_data.append(data, ignore_index=True)\n",
            "<ipython-input-16-2208c18f096c>:13: FutureWarning: The frame.append method is deprecated and will be removed from pandas in a future version. Use pandas.concat instead.\n",
            "  combined_data = combined_data.append(data, ignore_index=True)\n",
            "<ipython-input-16-2208c18f096c>:13: FutureWarning: The frame.append method is deprecated and will be removed from pandas in a future version. Use pandas.concat instead.\n",
            "  combined_data = combined_data.append(data, ignore_index=True)\n",
            "<ipython-input-16-2208c18f096c>:13: FutureWarning: The frame.append method is deprecated and will be removed from pandas in a future version. Use pandas.concat instead.\n",
            "  combined_data = combined_data.append(data, ignore_index=True)\n",
            "<ipython-input-16-2208c18f096c>:13: FutureWarning: The frame.append method is deprecated and will be removed from pandas in a future version. Use pandas.concat instead.\n",
            "  combined_data = combined_data.append(data, ignore_index=True)\n",
            "<ipython-input-16-2208c18f096c>:13: FutureWarning: The frame.append method is deprecated and will be removed from pandas in a future version. Use pandas.concat instead.\n",
            "  combined_data = combined_data.append(data, ignore_index=True)\n",
            "<ipython-input-16-2208c18f096c>:13: FutureWarning: The frame.append method is deprecated and will be removed from pandas in a future version. Use pandas.concat instead.\n",
            "  combined_data = combined_data.append(data, ignore_index=True)\n",
            "<ipython-input-16-2208c18f096c>:13: FutureWarning: The frame.append method is deprecated and will be removed from pandas in a future version. Use pandas.concat instead.\n",
            "  combined_data = combined_data.append(data, ignore_index=True)\n",
            "<ipython-input-16-2208c18f096c>:13: FutureWarning: The frame.append method is deprecated and will be removed from pandas in a future version. Use pandas.concat instead.\n",
            "  combined_data = combined_data.append(data, ignore_index=True)\n",
            "<ipython-input-16-2208c18f096c>:13: FutureWarning: The frame.append method is deprecated and will be removed from pandas in a future version. Use pandas.concat instead.\n",
            "  combined_data = combined_data.append(data, ignore_index=True)\n",
            "<ipython-input-16-2208c18f096c>:13: FutureWarning: The frame.append method is deprecated and will be removed from pandas in a future version. Use pandas.concat instead.\n",
            "  combined_data = combined_data.append(data, ignore_index=True)\n",
            "<ipython-input-16-2208c18f096c>:13: FutureWarning: The frame.append method is deprecated and will be removed from pandas in a future version. Use pandas.concat instead.\n",
            "  combined_data = combined_data.append(data, ignore_index=True)\n",
            "<ipython-input-16-2208c18f096c>:13: FutureWarning: The frame.append method is deprecated and will be removed from pandas in a future version. Use pandas.concat instead.\n",
            "  combined_data = combined_data.append(data, ignore_index=True)\n",
            "<ipython-input-16-2208c18f096c>:13: FutureWarning: The frame.append method is deprecated and will be removed from pandas in a future version. Use pandas.concat instead.\n",
            "  combined_data = combined_data.append(data, ignore_index=True)\n",
            "<ipython-input-16-2208c18f096c>:13: FutureWarning: The frame.append method is deprecated and will be removed from pandas in a future version. Use pandas.concat instead.\n",
            "  combined_data = combined_data.append(data, ignore_index=True)\n",
            "<ipython-input-16-2208c18f096c>:13: FutureWarning: The frame.append method is deprecated and will be removed from pandas in a future version. Use pandas.concat instead.\n",
            "  combined_data = combined_data.append(data, ignore_index=True)\n",
            "<ipython-input-16-2208c18f096c>:13: FutureWarning: The frame.append method is deprecated and will be removed from pandas in a future version. Use pandas.concat instead.\n",
            "  combined_data = combined_data.append(data, ignore_index=True)\n",
            "<ipython-input-16-2208c18f096c>:13: FutureWarning: The frame.append method is deprecated and will be removed from pandas in a future version. Use pandas.concat instead.\n",
            "  combined_data = combined_data.append(data, ignore_index=True)\n",
            "<ipython-input-16-2208c18f096c>:13: FutureWarning: The frame.append method is deprecated and will be removed from pandas in a future version. Use pandas.concat instead.\n",
            "  combined_data = combined_data.append(data, ignore_index=True)\n",
            "<ipython-input-16-2208c18f096c>:13: FutureWarning: The frame.append method is deprecated and will be removed from pandas in a future version. Use pandas.concat instead.\n",
            "  combined_data = combined_data.append(data, ignore_index=True)\n",
            "<ipython-input-16-2208c18f096c>:13: FutureWarning: The frame.append method is deprecated and will be removed from pandas in a future version. Use pandas.concat instead.\n",
            "  combined_data = combined_data.append(data, ignore_index=True)\n",
            "<ipython-input-16-2208c18f096c>:13: FutureWarning: The frame.append method is deprecated and will be removed from pandas in a future version. Use pandas.concat instead.\n",
            "  combined_data = combined_data.append(data, ignore_index=True)\n",
            "<ipython-input-16-2208c18f096c>:13: FutureWarning: The frame.append method is deprecated and will be removed from pandas in a future version. Use pandas.concat instead.\n",
            "  combined_data = combined_data.append(data, ignore_index=True)\n",
            "<ipython-input-16-2208c18f096c>:13: FutureWarning: The frame.append method is deprecated and will be removed from pandas in a future version. Use pandas.concat instead.\n",
            "  combined_data = combined_data.append(data, ignore_index=True)\n",
            "<ipython-input-16-2208c18f096c>:13: FutureWarning: The frame.append method is deprecated and will be removed from pandas in a future version. Use pandas.concat instead.\n",
            "  combined_data = combined_data.append(data, ignore_index=True)\n",
            "<ipython-input-16-2208c18f096c>:13: FutureWarning: The frame.append method is deprecated and will be removed from pandas in a future version. Use pandas.concat instead.\n",
            "  combined_data = combined_data.append(data, ignore_index=True)\n",
            "<ipython-input-16-2208c18f096c>:13: FutureWarning: The frame.append method is deprecated and will be removed from pandas in a future version. Use pandas.concat instead.\n",
            "  combined_data = combined_data.append(data, ignore_index=True)\n",
            "<ipython-input-16-2208c18f096c>:13: FutureWarning: The frame.append method is deprecated and will be removed from pandas in a future version. Use pandas.concat instead.\n",
            "  combined_data = combined_data.append(data, ignore_index=True)\n",
            "<ipython-input-16-2208c18f096c>:13: FutureWarning: The frame.append method is deprecated and will be removed from pandas in a future version. Use pandas.concat instead.\n",
            "  combined_data = combined_data.append(data, ignore_index=True)\n",
            "<ipython-input-16-2208c18f096c>:13: FutureWarning: The frame.append method is deprecated and will be removed from pandas in a future version. Use pandas.concat instead.\n",
            "  combined_data = combined_data.append(data, ignore_index=True)\n",
            "<ipython-input-16-2208c18f096c>:13: FutureWarning: The frame.append method is deprecated and will be removed from pandas in a future version. Use pandas.concat instead.\n",
            "  combined_data = combined_data.append(data, ignore_index=True)\n",
            "<ipython-input-16-2208c18f096c>:13: FutureWarning: The frame.append method is deprecated and will be removed from pandas in a future version. Use pandas.concat instead.\n",
            "  combined_data = combined_data.append(data, ignore_index=True)\n",
            "<ipython-input-16-2208c18f096c>:13: FutureWarning: The frame.append method is deprecated and will be removed from pandas in a future version. Use pandas.concat instead.\n",
            "  combined_data = combined_data.append(data, ignore_index=True)\n",
            "<ipython-input-16-2208c18f096c>:13: FutureWarning: The frame.append method is deprecated and will be removed from pandas in a future version. Use pandas.concat instead.\n",
            "  combined_data = combined_data.append(data, ignore_index=True)\n",
            "<ipython-input-16-2208c18f096c>:13: FutureWarning: The frame.append method is deprecated and will be removed from pandas in a future version. Use pandas.concat instead.\n",
            "  combined_data = combined_data.append(data, ignore_index=True)\n",
            "<ipython-input-16-2208c18f096c>:13: FutureWarning: The frame.append method is deprecated and will be removed from pandas in a future version. Use pandas.concat instead.\n",
            "  combined_data = combined_data.append(data, ignore_index=True)\n",
            "<ipython-input-16-2208c18f096c>:13: FutureWarning: The frame.append method is deprecated and will be removed from pandas in a future version. Use pandas.concat instead.\n",
            "  combined_data = combined_data.append(data, ignore_index=True)\n",
            "<ipython-input-16-2208c18f096c>:13: FutureWarning: The frame.append method is deprecated and will be removed from pandas in a future version. Use pandas.concat instead.\n",
            "  combined_data = combined_data.append(data, ignore_index=True)\n",
            "<ipython-input-16-2208c18f096c>:13: FutureWarning: The frame.append method is deprecated and will be removed from pandas in a future version. Use pandas.concat instead.\n",
            "  combined_data = combined_data.append(data, ignore_index=True)\n",
            "<ipython-input-16-2208c18f096c>:13: FutureWarning: The frame.append method is deprecated and will be removed from pandas in a future version. Use pandas.concat instead.\n",
            "  combined_data = combined_data.append(data, ignore_index=True)\n",
            "<ipython-input-16-2208c18f096c>:13: FutureWarning: The frame.append method is deprecated and will be removed from pandas in a future version. Use pandas.concat instead.\n",
            "  combined_data = combined_data.append(data, ignore_index=True)\n",
            "<ipython-input-16-2208c18f096c>:13: FutureWarning: The frame.append method is deprecated and will be removed from pandas in a future version. Use pandas.concat instead.\n",
            "  combined_data = combined_data.append(data, ignore_index=True)\n",
            "<ipython-input-16-2208c18f096c>:13: FutureWarning: The frame.append method is deprecated and will be removed from pandas in a future version. Use pandas.concat instead.\n",
            "  combined_data = combined_data.append(data, ignore_index=True)\n",
            "<ipython-input-16-2208c18f096c>:13: FutureWarning: The frame.append method is deprecated and will be removed from pandas in a future version. Use pandas.concat instead.\n",
            "  combined_data = combined_data.append(data, ignore_index=True)\n",
            "<ipython-input-16-2208c18f096c>:13: FutureWarning: The frame.append method is deprecated and will be removed from pandas in a future version. Use pandas.concat instead.\n",
            "  combined_data = combined_data.append(data, ignore_index=True)\n",
            "<ipython-input-16-2208c18f096c>:13: FutureWarning: The frame.append method is deprecated and will be removed from pandas in a future version. Use pandas.concat instead.\n",
            "  combined_data = combined_data.append(data, ignore_index=True)\n",
            "<ipython-input-16-2208c18f096c>:13: FutureWarning: The frame.append method is deprecated and will be removed from pandas in a future version. Use pandas.concat instead.\n",
            "  combined_data = combined_data.append(data, ignore_index=True)\n",
            "<ipython-input-16-2208c18f096c>:13: FutureWarning: The frame.append method is deprecated and will be removed from pandas in a future version. Use pandas.concat instead.\n",
            "  combined_data = combined_data.append(data, ignore_index=True)\n",
            "<ipython-input-16-2208c18f096c>:13: FutureWarning: The frame.append method is deprecated and will be removed from pandas in a future version. Use pandas.concat instead.\n",
            "  combined_data = combined_data.append(data, ignore_index=True)\n",
            "<ipython-input-16-2208c18f096c>:13: FutureWarning: The frame.append method is deprecated and will be removed from pandas in a future version. Use pandas.concat instead.\n",
            "  combined_data = combined_data.append(data, ignore_index=True)\n",
            "<ipython-input-16-2208c18f096c>:13: FutureWarning: The frame.append method is deprecated and will be removed from pandas in a future version. Use pandas.concat instead.\n",
            "  combined_data = combined_data.append(data, ignore_index=True)\n",
            "<ipython-input-16-2208c18f096c>:13: FutureWarning: The frame.append method is deprecated and will be removed from pandas in a future version. Use pandas.concat instead.\n",
            "  combined_data = combined_data.append(data, ignore_index=True)\n",
            "<ipython-input-16-2208c18f096c>:13: FutureWarning: The frame.append method is deprecated and will be removed from pandas in a future version. Use pandas.concat instead.\n",
            "  combined_data = combined_data.append(data, ignore_index=True)\n",
            "<ipython-input-16-2208c18f096c>:13: FutureWarning: The frame.append method is deprecated and will be removed from pandas in a future version. Use pandas.concat instead.\n",
            "  combined_data = combined_data.append(data, ignore_index=True)\n",
            "<ipython-input-16-2208c18f096c>:13: FutureWarning: The frame.append method is deprecated and will be removed from pandas in a future version. Use pandas.concat instead.\n",
            "  combined_data = combined_data.append(data, ignore_index=True)\n",
            "<ipython-input-16-2208c18f096c>:13: FutureWarning: The frame.append method is deprecated and will be removed from pandas in a future version. Use pandas.concat instead.\n",
            "  combined_data = combined_data.append(data, ignore_index=True)\n",
            "<ipython-input-16-2208c18f096c>:13: FutureWarning: The frame.append method is deprecated and will be removed from pandas in a future version. Use pandas.concat instead.\n",
            "  combined_data = combined_data.append(data, ignore_index=True)\n",
            "<ipython-input-16-2208c18f096c>:13: FutureWarning: The frame.append method is deprecated and will be removed from pandas in a future version. Use pandas.concat instead.\n",
            "  combined_data = combined_data.append(data, ignore_index=True)\n",
            "<ipython-input-16-2208c18f096c>:13: FutureWarning: The frame.append method is deprecated and will be removed from pandas in a future version. Use pandas.concat instead.\n",
            "  combined_data = combined_data.append(data, ignore_index=True)\n",
            "<ipython-input-16-2208c18f096c>:13: FutureWarning: The frame.append method is deprecated and will be removed from pandas in a future version. Use pandas.concat instead.\n",
            "  combined_data = combined_data.append(data, ignore_index=True)\n",
            "<ipython-input-16-2208c18f096c>:13: FutureWarning: The frame.append method is deprecated and will be removed from pandas in a future version. Use pandas.concat instead.\n",
            "  combined_data = combined_data.append(data, ignore_index=True)\n",
            "<ipython-input-16-2208c18f096c>:13: FutureWarning: The frame.append method is deprecated and will be removed from pandas in a future version. Use pandas.concat instead.\n",
            "  combined_data = combined_data.append(data, ignore_index=True)\n",
            "<ipython-input-16-2208c18f096c>:13: FutureWarning: The frame.append method is deprecated and will be removed from pandas in a future version. Use pandas.concat instead.\n",
            "  combined_data = combined_data.append(data, ignore_index=True)\n",
            "<ipython-input-16-2208c18f096c>:13: FutureWarning: The frame.append method is deprecated and will be removed from pandas in a future version. Use pandas.concat instead.\n",
            "  combined_data = combined_data.append(data, ignore_index=True)\n",
            "<ipython-input-16-2208c18f096c>:13: FutureWarning: The frame.append method is deprecated and will be removed from pandas in a future version. Use pandas.concat instead.\n",
            "  combined_data = combined_data.append(data, ignore_index=True)\n",
            "<ipython-input-16-2208c18f096c>:13: FutureWarning: The frame.append method is deprecated and will be removed from pandas in a future version. Use pandas.concat instead.\n",
            "  combined_data = combined_data.append(data, ignore_index=True)\n",
            "<ipython-input-16-2208c18f096c>:13: FutureWarning: The frame.append method is deprecated and will be removed from pandas in a future version. Use pandas.concat instead.\n",
            "  combined_data = combined_data.append(data, ignore_index=True)\n",
            "<ipython-input-16-2208c18f096c>:13: FutureWarning: The frame.append method is deprecated and will be removed from pandas in a future version. Use pandas.concat instead.\n",
            "  combined_data = combined_data.append(data, ignore_index=True)\n",
            "<ipython-input-16-2208c18f096c>:13: FutureWarning: The frame.append method is deprecated and will be removed from pandas in a future version. Use pandas.concat instead.\n",
            "  combined_data = combined_data.append(data, ignore_index=True)\n",
            "<ipython-input-16-2208c18f096c>:13: FutureWarning: The frame.append method is deprecated and will be removed from pandas in a future version. Use pandas.concat instead.\n",
            "  combined_data = combined_data.append(data, ignore_index=True)\n",
            "<ipython-input-16-2208c18f096c>:13: FutureWarning: The frame.append method is deprecated and will be removed from pandas in a future version. Use pandas.concat instead.\n",
            "  combined_data = combined_data.append(data, ignore_index=True)\n",
            "<ipython-input-16-2208c18f096c>:13: FutureWarning: The frame.append method is deprecated and will be removed from pandas in a future version. Use pandas.concat instead.\n",
            "  combined_data = combined_data.append(data, ignore_index=True)\n",
            "<ipython-input-16-2208c18f096c>:13: FutureWarning: The frame.append method is deprecated and will be removed from pandas in a future version. Use pandas.concat instead.\n",
            "  combined_data = combined_data.append(data, ignore_index=True)\n",
            "<ipython-input-16-2208c18f096c>:13: FutureWarning: The frame.append method is deprecated and will be removed from pandas in a future version. Use pandas.concat instead.\n",
            "  combined_data = combined_data.append(data, ignore_index=True)\n",
            "<ipython-input-16-2208c18f096c>:13: FutureWarning: The frame.append method is deprecated and will be removed from pandas in a future version. Use pandas.concat instead.\n",
            "  combined_data = combined_data.append(data, ignore_index=True)\n",
            "<ipython-input-16-2208c18f096c>:13: FutureWarning: The frame.append method is deprecated and will be removed from pandas in a future version. Use pandas.concat instead.\n",
            "  combined_data = combined_data.append(data, ignore_index=True)\n",
            "<ipython-input-16-2208c18f096c>:13: FutureWarning: The frame.append method is deprecated and will be removed from pandas in a future version. Use pandas.concat instead.\n",
            "  combined_data = combined_data.append(data, ignore_index=True)\n",
            "<ipython-input-16-2208c18f096c>:13: FutureWarning: The frame.append method is deprecated and will be removed from pandas in a future version. Use pandas.concat instead.\n",
            "  combined_data = combined_data.append(data, ignore_index=True)\n",
            "<ipython-input-16-2208c18f096c>:13: FutureWarning: The frame.append method is deprecated and will be removed from pandas in a future version. Use pandas.concat instead.\n",
            "  combined_data = combined_data.append(data, ignore_index=True)\n",
            "<ipython-input-16-2208c18f096c>:13: FutureWarning: The frame.append method is deprecated and will be removed from pandas in a future version. Use pandas.concat instead.\n",
            "  combined_data = combined_data.append(data, ignore_index=True)\n",
            "<ipython-input-16-2208c18f096c>:13: FutureWarning: The frame.append method is deprecated and will be removed from pandas in a future version. Use pandas.concat instead.\n",
            "  combined_data = combined_data.append(data, ignore_index=True)\n",
            "<ipython-input-16-2208c18f096c>:13: FutureWarning: The frame.append method is deprecated and will be removed from pandas in a future version. Use pandas.concat instead.\n",
            "  combined_data = combined_data.append(data, ignore_index=True)\n",
            "<ipython-input-16-2208c18f096c>:13: FutureWarning: The frame.append method is deprecated and will be removed from pandas in a future version. Use pandas.concat instead.\n",
            "  combined_data = combined_data.append(data, ignore_index=True)\n",
            "<ipython-input-16-2208c18f096c>:13: FutureWarning: The frame.append method is deprecated and will be removed from pandas in a future version. Use pandas.concat instead.\n",
            "  combined_data = combined_data.append(data, ignore_index=True)\n",
            "<ipython-input-16-2208c18f096c>:13: FutureWarning: The frame.append method is deprecated and will be removed from pandas in a future version. Use pandas.concat instead.\n",
            "  combined_data = combined_data.append(data, ignore_index=True)\n",
            "<ipython-input-16-2208c18f096c>:13: FutureWarning: The frame.append method is deprecated and will be removed from pandas in a future version. Use pandas.concat instead.\n",
            "  combined_data = combined_data.append(data, ignore_index=True)\n",
            "<ipython-input-16-2208c18f096c>:13: FutureWarning: The frame.append method is deprecated and will be removed from pandas in a future version. Use pandas.concat instead.\n",
            "  combined_data = combined_data.append(data, ignore_index=True)\n",
            "<ipython-input-16-2208c18f096c>:13: FutureWarning: The frame.append method is deprecated and will be removed from pandas in a future version. Use pandas.concat instead.\n",
            "  combined_data = combined_data.append(data, ignore_index=True)\n",
            "<ipython-input-16-2208c18f096c>:13: FutureWarning: The frame.append method is deprecated and will be removed from pandas in a future version. Use pandas.concat instead.\n",
            "  combined_data = combined_data.append(data, ignore_index=True)\n",
            "<ipython-input-16-2208c18f096c>:13: FutureWarning: The frame.append method is deprecated and will be removed from pandas in a future version. Use pandas.concat instead.\n",
            "  combined_data = combined_data.append(data, ignore_index=True)\n",
            "<ipython-input-16-2208c18f096c>:13: FutureWarning: The frame.append method is deprecated and will be removed from pandas in a future version. Use pandas.concat instead.\n",
            "  combined_data = combined_data.append(data, ignore_index=True)\n",
            "<ipython-input-16-2208c18f096c>:13: FutureWarning: The frame.append method is deprecated and will be removed from pandas in a future version. Use pandas.concat instead.\n",
            "  combined_data = combined_data.append(data, ignore_index=True)\n",
            "<ipython-input-16-2208c18f096c>:13: FutureWarning: The frame.append method is deprecated and will be removed from pandas in a future version. Use pandas.concat instead.\n",
            "  combined_data = combined_data.append(data, ignore_index=True)\n",
            "<ipython-input-16-2208c18f096c>:13: FutureWarning: The frame.append method is deprecated and will be removed from pandas in a future version. Use pandas.concat instead.\n",
            "  combined_data = combined_data.append(data, ignore_index=True)\n",
            "<ipython-input-16-2208c18f096c>:13: FutureWarning: The frame.append method is deprecated and will be removed from pandas in a future version. Use pandas.concat instead.\n",
            "  combined_data = combined_data.append(data, ignore_index=True)\n",
            "<ipython-input-16-2208c18f096c>:13: FutureWarning: The frame.append method is deprecated and will be removed from pandas in a future version. Use pandas.concat instead.\n",
            "  combined_data = combined_data.append(data, ignore_index=True)\n",
            "<ipython-input-16-2208c18f096c>:13: FutureWarning: The frame.append method is deprecated and will be removed from pandas in a future version. Use pandas.concat instead.\n",
            "  combined_data = combined_data.append(data, ignore_index=True)\n",
            "<ipython-input-16-2208c18f096c>:13: FutureWarning: The frame.append method is deprecated and will be removed from pandas in a future version. Use pandas.concat instead.\n",
            "  combined_data = combined_data.append(data, ignore_index=True)\n",
            "<ipython-input-16-2208c18f096c>:13: FutureWarning: The frame.append method is deprecated and will be removed from pandas in a future version. Use pandas.concat instead.\n",
            "  combined_data = combined_data.append(data, ignore_index=True)\n",
            "<ipython-input-16-2208c18f096c>:13: FutureWarning: The frame.append method is deprecated and will be removed from pandas in a future version. Use pandas.concat instead.\n",
            "  combined_data = combined_data.append(data, ignore_index=True)\n",
            "<ipython-input-16-2208c18f096c>:13: FutureWarning: The frame.append method is deprecated and will be removed from pandas in a future version. Use pandas.concat instead.\n",
            "  combined_data = combined_data.append(data, ignore_index=True)\n",
            "<ipython-input-16-2208c18f096c>:13: FutureWarning: The frame.append method is deprecated and will be removed from pandas in a future version. Use pandas.concat instead.\n",
            "  combined_data = combined_data.append(data, ignore_index=True)\n",
            "<ipython-input-16-2208c18f096c>:13: FutureWarning: The frame.append method is deprecated and will be removed from pandas in a future version. Use pandas.concat instead.\n",
            "  combined_data = combined_data.append(data, ignore_index=True)\n",
            "<ipython-input-16-2208c18f096c>:13: FutureWarning: The frame.append method is deprecated and will be removed from pandas in a future version. Use pandas.concat instead.\n",
            "  combined_data = combined_data.append(data, ignore_index=True)\n",
            "<ipython-input-16-2208c18f096c>:13: FutureWarning: The frame.append method is deprecated and will be removed from pandas in a future version. Use pandas.concat instead.\n",
            "  combined_data = combined_data.append(data, ignore_index=True)\n",
            "<ipython-input-16-2208c18f096c>:13: FutureWarning: The frame.append method is deprecated and will be removed from pandas in a future version. Use pandas.concat instead.\n",
            "  combined_data = combined_data.append(data, ignore_index=True)\n",
            "<ipython-input-16-2208c18f096c>:13: FutureWarning: The frame.append method is deprecated and will be removed from pandas in a future version. Use pandas.concat instead.\n",
            "  combined_data = combined_data.append(data, ignore_index=True)\n",
            "<ipython-input-16-2208c18f096c>:13: FutureWarning: The frame.append method is deprecated and will be removed from pandas in a future version. Use pandas.concat instead.\n",
            "  combined_data = combined_data.append(data, ignore_index=True)\n",
            "<ipython-input-16-2208c18f096c>:13: FutureWarning: The frame.append method is deprecated and will be removed from pandas in a future version. Use pandas.concat instead.\n",
            "  combined_data = combined_data.append(data, ignore_index=True)\n",
            "<ipython-input-16-2208c18f096c>:13: FutureWarning: The frame.append method is deprecated and will be removed from pandas in a future version. Use pandas.concat instead.\n",
            "  combined_data = combined_data.append(data, ignore_index=True)\n",
            "<ipython-input-16-2208c18f096c>:13: FutureWarning: The frame.append method is deprecated and will be removed from pandas in a future version. Use pandas.concat instead.\n",
            "  combined_data = combined_data.append(data, ignore_index=True)\n",
            "<ipython-input-16-2208c18f096c>:13: FutureWarning: The frame.append method is deprecated and will be removed from pandas in a future version. Use pandas.concat instead.\n",
            "  combined_data = combined_data.append(data, ignore_index=True)\n",
            "<ipython-input-16-2208c18f096c>:13: FutureWarning: The frame.append method is deprecated and will be removed from pandas in a future version. Use pandas.concat instead.\n",
            "  combined_data = combined_data.append(data, ignore_index=True)\n",
            "<ipython-input-16-2208c18f096c>:13: FutureWarning: The frame.append method is deprecated and will be removed from pandas in a future version. Use pandas.concat instead.\n",
            "  combined_data = combined_data.append(data, ignore_index=True)\n",
            "<ipython-input-16-2208c18f096c>:13: FutureWarning: The frame.append method is deprecated and will be removed from pandas in a future version. Use pandas.concat instead.\n",
            "  combined_data = combined_data.append(data, ignore_index=True)\n",
            "<ipython-input-16-2208c18f096c>:13: FutureWarning: The frame.append method is deprecated and will be removed from pandas in a future version. Use pandas.concat instead.\n",
            "  combined_data = combined_data.append(data, ignore_index=True)\n",
            "<ipython-input-16-2208c18f096c>:13: FutureWarning: The frame.append method is deprecated and will be removed from pandas in a future version. Use pandas.concat instead.\n",
            "  combined_data = combined_data.append(data, ignore_index=True)\n",
            "<ipython-input-16-2208c18f096c>:13: FutureWarning: The frame.append method is deprecated and will be removed from pandas in a future version. Use pandas.concat instead.\n",
            "  combined_data = combined_data.append(data, ignore_index=True)\n",
            "<ipython-input-16-2208c18f096c>:13: FutureWarning: The frame.append method is deprecated and will be removed from pandas in a future version. Use pandas.concat instead.\n",
            "  combined_data = combined_data.append(data, ignore_index=True)\n",
            "<ipython-input-16-2208c18f096c>:13: FutureWarning: The frame.append method is deprecated and will be removed from pandas in a future version. Use pandas.concat instead.\n",
            "  combined_data = combined_data.append(data, ignore_index=True)\n",
            "<ipython-input-16-2208c18f096c>:13: FutureWarning: The frame.append method is deprecated and will be removed from pandas in a future version. Use pandas.concat instead.\n",
            "  combined_data = combined_data.append(data, ignore_index=True)\n",
            "<ipython-input-16-2208c18f096c>:13: FutureWarning: The frame.append method is deprecated and will be removed from pandas in a future version. Use pandas.concat instead.\n",
            "  combined_data = combined_data.append(data, ignore_index=True)\n",
            "<ipython-input-16-2208c18f096c>:13: FutureWarning: The frame.append method is deprecated and will be removed from pandas in a future version. Use pandas.concat instead.\n",
            "  combined_data = combined_data.append(data, ignore_index=True)\n",
            "<ipython-input-16-2208c18f096c>:13: FutureWarning: The frame.append method is deprecated and will be removed from pandas in a future version. Use pandas.concat instead.\n",
            "  combined_data = combined_data.append(data, ignore_index=True)\n",
            "<ipython-input-16-2208c18f096c>:13: FutureWarning: The frame.append method is deprecated and will be removed from pandas in a future version. Use pandas.concat instead.\n",
            "  combined_data = combined_data.append(data, ignore_index=True)\n",
            "<ipython-input-16-2208c18f096c>:13: FutureWarning: The frame.append method is deprecated and will be removed from pandas in a future version. Use pandas.concat instead.\n",
            "  combined_data = combined_data.append(data, ignore_index=True)\n",
            "<ipython-input-16-2208c18f096c>:13: FutureWarning: The frame.append method is deprecated and will be removed from pandas in a future version. Use pandas.concat instead.\n",
            "  combined_data = combined_data.append(data, ignore_index=True)\n",
            "<ipython-input-16-2208c18f096c>:13: FutureWarning: The frame.append method is deprecated and will be removed from pandas in a future version. Use pandas.concat instead.\n",
            "  combined_data = combined_data.append(data, ignore_index=True)\n",
            "<ipython-input-16-2208c18f096c>:13: FutureWarning: The frame.append method is deprecated and will be removed from pandas in a future version. Use pandas.concat instead.\n",
            "  combined_data = combined_data.append(data, ignore_index=True)\n",
            "<ipython-input-16-2208c18f096c>:13: FutureWarning: The frame.append method is deprecated and will be removed from pandas in a future version. Use pandas.concat instead.\n",
            "  combined_data = combined_data.append(data, ignore_index=True)\n",
            "<ipython-input-16-2208c18f096c>:13: FutureWarning: The frame.append method is deprecated and will be removed from pandas in a future version. Use pandas.concat instead.\n",
            "  combined_data = combined_data.append(data, ignore_index=True)\n",
            "<ipython-input-16-2208c18f096c>:13: FutureWarning: The frame.append method is deprecated and will be removed from pandas in a future version. Use pandas.concat instead.\n",
            "  combined_data = combined_data.append(data, ignore_index=True)\n",
            "<ipython-input-16-2208c18f096c>:13: FutureWarning: The frame.append method is deprecated and will be removed from pandas in a future version. Use pandas.concat instead.\n",
            "  combined_data = combined_data.append(data, ignore_index=True)\n",
            "<ipython-input-16-2208c18f096c>:13: FutureWarning: The frame.append method is deprecated and will be removed from pandas in a future version. Use pandas.concat instead.\n",
            "  combined_data = combined_data.append(data, ignore_index=True)\n",
            "<ipython-input-16-2208c18f096c>:13: FutureWarning: The frame.append method is deprecated and will be removed from pandas in a future version. Use pandas.concat instead.\n",
            "  combined_data = combined_data.append(data, ignore_index=True)\n",
            "<ipython-input-16-2208c18f096c>:13: FutureWarning: The frame.append method is deprecated and will be removed from pandas in a future version. Use pandas.concat instead.\n",
            "  combined_data = combined_data.append(data, ignore_index=True)\n",
            "<ipython-input-16-2208c18f096c>:13: FutureWarning: The frame.append method is deprecated and will be removed from pandas in a future version. Use pandas.concat instead.\n",
            "  combined_data = combined_data.append(data, ignore_index=True)\n",
            "<ipython-input-16-2208c18f096c>:13: FutureWarning: The frame.append method is deprecated and will be removed from pandas in a future version. Use pandas.concat instead.\n",
            "  combined_data = combined_data.append(data, ignore_index=True)\n",
            "<ipython-input-16-2208c18f096c>:13: FutureWarning: The frame.append method is deprecated and will be removed from pandas in a future version. Use pandas.concat instead.\n",
            "  combined_data = combined_data.append(data, ignore_index=True)\n",
            "<ipython-input-16-2208c18f096c>:13: FutureWarning: The frame.append method is deprecated and will be removed from pandas in a future version. Use pandas.concat instead.\n",
            "  combined_data = combined_data.append(data, ignore_index=True)\n",
            "<ipython-input-16-2208c18f096c>:13: FutureWarning: The frame.append method is deprecated and will be removed from pandas in a future version. Use pandas.concat instead.\n",
            "  combined_data = combined_data.append(data, ignore_index=True)\n",
            "<ipython-input-16-2208c18f096c>:13: FutureWarning: The frame.append method is deprecated and will be removed from pandas in a future version. Use pandas.concat instead.\n",
            "  combined_data = combined_data.append(data, ignore_index=True)\n",
            "<ipython-input-16-2208c18f096c>:13: FutureWarning: The frame.append method is deprecated and will be removed from pandas in a future version. Use pandas.concat instead.\n",
            "  combined_data = combined_data.append(data, ignore_index=True)\n",
            "<ipython-input-16-2208c18f096c>:13: FutureWarning: The frame.append method is deprecated and will be removed from pandas in a future version. Use pandas.concat instead.\n",
            "  combined_data = combined_data.append(data, ignore_index=True)\n",
            "<ipython-input-16-2208c18f096c>:13: FutureWarning: The frame.append method is deprecated and will be removed from pandas in a future version. Use pandas.concat instead.\n",
            "  combined_data = combined_data.append(data, ignore_index=True)\n",
            "<ipython-input-16-2208c18f096c>:13: FutureWarning: The frame.append method is deprecated and will be removed from pandas in a future version. Use pandas.concat instead.\n",
            "  combined_data = combined_data.append(data, ignore_index=True)\n",
            "<ipython-input-16-2208c18f096c>:13: FutureWarning: The frame.append method is deprecated and will be removed from pandas in a future version. Use pandas.concat instead.\n",
            "  combined_data = combined_data.append(data, ignore_index=True)\n",
            "<ipython-input-16-2208c18f096c>:13: FutureWarning: The frame.append method is deprecated and will be removed from pandas in a future version. Use pandas.concat instead.\n",
            "  combined_data = combined_data.append(data, ignore_index=True)\n",
            "<ipython-input-16-2208c18f096c>:13: FutureWarning: The frame.append method is deprecated and will be removed from pandas in a future version. Use pandas.concat instead.\n",
            "  combined_data = combined_data.append(data, ignore_index=True)\n",
            "<ipython-input-16-2208c18f096c>:13: FutureWarning: The frame.append method is deprecated and will be removed from pandas in a future version. Use pandas.concat instead.\n",
            "  combined_data = combined_data.append(data, ignore_index=True)\n",
            "<ipython-input-16-2208c18f096c>:13: FutureWarning: The frame.append method is deprecated and will be removed from pandas in a future version. Use pandas.concat instead.\n",
            "  combined_data = combined_data.append(data, ignore_index=True)\n",
            "<ipython-input-16-2208c18f096c>:13: FutureWarning: The frame.append method is deprecated and will be removed from pandas in a future version. Use pandas.concat instead.\n",
            "  combined_data = combined_data.append(data, ignore_index=True)\n",
            "<ipython-input-16-2208c18f096c>:13: FutureWarning: The frame.append method is deprecated and will be removed from pandas in a future version. Use pandas.concat instead.\n",
            "  combined_data = combined_data.append(data, ignore_index=True)\n",
            "<ipython-input-16-2208c18f096c>:13: FutureWarning: The frame.append method is deprecated and will be removed from pandas in a future version. Use pandas.concat instead.\n",
            "  combined_data = combined_data.append(data, ignore_index=True)\n",
            "<ipython-input-16-2208c18f096c>:13: FutureWarning: The frame.append method is deprecated and will be removed from pandas in a future version. Use pandas.concat instead.\n",
            "  combined_data = combined_data.append(data, ignore_index=True)\n",
            "<ipython-input-16-2208c18f096c>:13: FutureWarning: The frame.append method is deprecated and will be removed from pandas in a future version. Use pandas.concat instead.\n",
            "  combined_data = combined_data.append(data, ignore_index=True)\n",
            "<ipython-input-16-2208c18f096c>:13: FutureWarning: The frame.append method is deprecated and will be removed from pandas in a future version. Use pandas.concat instead.\n",
            "  combined_data = combined_data.append(data, ignore_index=True)\n",
            "<ipython-input-16-2208c18f096c>:13: FutureWarning: The frame.append method is deprecated and will be removed from pandas in a future version. Use pandas.concat instead.\n",
            "  combined_data = combined_data.append(data, ignore_index=True)\n",
            "<ipython-input-16-2208c18f096c>:13: FutureWarning: The frame.append method is deprecated and will be removed from pandas in a future version. Use pandas.concat instead.\n",
            "  combined_data = combined_data.append(data, ignore_index=True)\n",
            "<ipython-input-16-2208c18f096c>:13: FutureWarning: The frame.append method is deprecated and will be removed from pandas in a future version. Use pandas.concat instead.\n",
            "  combined_data = combined_data.append(data, ignore_index=True)\n",
            "<ipython-input-16-2208c18f096c>:13: FutureWarning: The frame.append method is deprecated and will be removed from pandas in a future version. Use pandas.concat instead.\n",
            "  combined_data = combined_data.append(data, ignore_index=True)\n",
            "<ipython-input-16-2208c18f096c>:13: FutureWarning: The frame.append method is deprecated and will be removed from pandas in a future version. Use pandas.concat instead.\n",
            "  combined_data = combined_data.append(data, ignore_index=True)\n",
            "<ipython-input-16-2208c18f096c>:13: FutureWarning: The frame.append method is deprecated and will be removed from pandas in a future version. Use pandas.concat instead.\n",
            "  combined_data = combined_data.append(data, ignore_index=True)\n",
            "<ipython-input-16-2208c18f096c>:13: FutureWarning: The frame.append method is deprecated and will be removed from pandas in a future version. Use pandas.concat instead.\n",
            "  combined_data = combined_data.append(data, ignore_index=True)\n",
            "<ipython-input-16-2208c18f096c>:13: FutureWarning: The frame.append method is deprecated and will be removed from pandas in a future version. Use pandas.concat instead.\n",
            "  combined_data = combined_data.append(data, ignore_index=True)\n",
            "<ipython-input-16-2208c18f096c>:13: FutureWarning: The frame.append method is deprecated and will be removed from pandas in a future version. Use pandas.concat instead.\n",
            "  combined_data = combined_data.append(data, ignore_index=True)\n",
            "<ipython-input-16-2208c18f096c>:13: FutureWarning: The frame.append method is deprecated and will be removed from pandas in a future version. Use pandas.concat instead.\n",
            "  combined_data = combined_data.append(data, ignore_index=True)\n",
            "<ipython-input-16-2208c18f096c>:13: FutureWarning: The frame.append method is deprecated and will be removed from pandas in a future version. Use pandas.concat instead.\n",
            "  combined_data = combined_data.append(data, ignore_index=True)\n",
            "<ipython-input-16-2208c18f096c>:13: FutureWarning: The frame.append method is deprecated and will be removed from pandas in a future version. Use pandas.concat instead.\n",
            "  combined_data = combined_data.append(data, ignore_index=True)\n",
            "<ipython-input-16-2208c18f096c>:13: FutureWarning: The frame.append method is deprecated and will be removed from pandas in a future version. Use pandas.concat instead.\n",
            "  combined_data = combined_data.append(data, ignore_index=True)\n",
            "<ipython-input-16-2208c18f096c>:13: FutureWarning: The frame.append method is deprecated and will be removed from pandas in a future version. Use pandas.concat instead.\n",
            "  combined_data = combined_data.append(data, ignore_index=True)\n",
            "<ipython-input-16-2208c18f096c>:13: FutureWarning: The frame.append method is deprecated and will be removed from pandas in a future version. Use pandas.concat instead.\n",
            "  combined_data = combined_data.append(data, ignore_index=True)\n",
            "<ipython-input-16-2208c18f096c>:13: FutureWarning: The frame.append method is deprecated and will be removed from pandas in a future version. Use pandas.concat instead.\n",
            "  combined_data = combined_data.append(data, ignore_index=True)\n",
            "<ipython-input-16-2208c18f096c>:13: FutureWarning: The frame.append method is deprecated and will be removed from pandas in a future version. Use pandas.concat instead.\n",
            "  combined_data = combined_data.append(data, ignore_index=True)\n",
            "<ipython-input-16-2208c18f096c>:13: FutureWarning: The frame.append method is deprecated and will be removed from pandas in a future version. Use pandas.concat instead.\n",
            "  combined_data = combined_data.append(data, ignore_index=True)\n",
            "<ipython-input-16-2208c18f096c>:13: FutureWarning: The frame.append method is deprecated and will be removed from pandas in a future version. Use pandas.concat instead.\n",
            "  combined_data = combined_data.append(data, ignore_index=True)\n",
            "<ipython-input-16-2208c18f096c>:13: FutureWarning: The frame.append method is deprecated and will be removed from pandas in a future version. Use pandas.concat instead.\n",
            "  combined_data = combined_data.append(data, ignore_index=True)\n",
            "<ipython-input-16-2208c18f096c>:13: FutureWarning: The frame.append method is deprecated and will be removed from pandas in a future version. Use pandas.concat instead.\n",
            "  combined_data = combined_data.append(data, ignore_index=True)\n",
            "<ipython-input-16-2208c18f096c>:13: FutureWarning: The frame.append method is deprecated and will be removed from pandas in a future version. Use pandas.concat instead.\n",
            "  combined_data = combined_data.append(data, ignore_index=True)\n",
            "<ipython-input-16-2208c18f096c>:13: FutureWarning: The frame.append method is deprecated and will be removed from pandas in a future version. Use pandas.concat instead.\n",
            "  combined_data = combined_data.append(data, ignore_index=True)\n",
            "<ipython-input-16-2208c18f096c>:13: FutureWarning: The frame.append method is deprecated and will be removed from pandas in a future version. Use pandas.concat instead.\n",
            "  combined_data = combined_data.append(data, ignore_index=True)\n",
            "<ipython-input-16-2208c18f096c>:13: FutureWarning: The frame.append method is deprecated and will be removed from pandas in a future version. Use pandas.concat instead.\n",
            "  combined_data = combined_data.append(data, ignore_index=True)\n"
          ]
        }
      ]
    },
    {
      "cell_type": "markdown",
      "source": [
        "#**Loading Data Engagement Data**\n",
        "\n",
        "* Now, \"combined_data.csv\" has all of the csv files in one file."
      ],
      "metadata": {
        "id": "JvXKKobqPYRs"
      }
    },
    {
      "cell_type": "code",
      "source": [
        "eng_data = pd.read_csv(\"combined_data.csv\")"
      ],
      "metadata": {
        "id": "F7kNlG82EQHQ"
      },
      "execution_count": 17,
      "outputs": []
    },
    {
      "cell_type": "code",
      "source": [
        "eng_data"
      ],
      "metadata": {
        "id": "re9hB2GvKXJl",
        "outputId": "ea74bf39-8d76-4c22-e359-dafedc8d1d67",
        "colab": {
          "base_uri": "https://localhost:8080/",
          "height": 423
        }
      },
      "execution_count": 18,
      "outputs": [
        {
          "output_type": "execute_result",
          "data": {
            "text/plain": [
              "                time    lp_id  pct_access  engagement_index\n",
              "0         2020-01-01  77713.0        0.07              1.09\n",
              "1         2020-01-01  99916.0        3.21            127.76\n",
              "2         2020-01-01  16406.0        0.04              3.49\n",
              "3         2020-01-01  97280.0        0.07              4.59\n",
              "4         2020-01-01  32348.0        0.00               NaN\n",
              "...              ...      ...         ...               ...\n",
              "22324185  2020-12-31  63290.0        0.01              0.13\n",
              "22324186  2020-12-31  11069.0        0.01              0.07\n",
              "22324187  2020-12-31  92993.0        0.06             47.43\n",
              "22324188  2020-12-31  41980.0        0.01              0.13\n",
              "22324189  2020-12-31  22599.0        0.09              5.53\n",
              "\n",
              "[22324190 rows x 4 columns]"
            ],
            "text/html": [
              "\n",
              "  <div id=\"df-47885bb5-9325-48cb-8804-367933486bd4\">\n",
              "    <div class=\"colab-df-container\">\n",
              "      <div>\n",
              "<style scoped>\n",
              "    .dataframe tbody tr th:only-of-type {\n",
              "        vertical-align: middle;\n",
              "    }\n",
              "\n",
              "    .dataframe tbody tr th {\n",
              "        vertical-align: top;\n",
              "    }\n",
              "\n",
              "    .dataframe thead th {\n",
              "        text-align: right;\n",
              "    }\n",
              "</style>\n",
              "<table border=\"1\" class=\"dataframe\">\n",
              "  <thead>\n",
              "    <tr style=\"text-align: right;\">\n",
              "      <th></th>\n",
              "      <th>time</th>\n",
              "      <th>lp_id</th>\n",
              "      <th>pct_access</th>\n",
              "      <th>engagement_index</th>\n",
              "    </tr>\n",
              "  </thead>\n",
              "  <tbody>\n",
              "    <tr>\n",
              "      <th>0</th>\n",
              "      <td>2020-01-01</td>\n",
              "      <td>77713.0</td>\n",
              "      <td>0.07</td>\n",
              "      <td>1.09</td>\n",
              "    </tr>\n",
              "    <tr>\n",
              "      <th>1</th>\n",
              "      <td>2020-01-01</td>\n",
              "      <td>99916.0</td>\n",
              "      <td>3.21</td>\n",
              "      <td>127.76</td>\n",
              "    </tr>\n",
              "    <tr>\n",
              "      <th>2</th>\n",
              "      <td>2020-01-01</td>\n",
              "      <td>16406.0</td>\n",
              "      <td>0.04</td>\n",
              "      <td>3.49</td>\n",
              "    </tr>\n",
              "    <tr>\n",
              "      <th>3</th>\n",
              "      <td>2020-01-01</td>\n",
              "      <td>97280.0</td>\n",
              "      <td>0.07</td>\n",
              "      <td>4.59</td>\n",
              "    </tr>\n",
              "    <tr>\n",
              "      <th>4</th>\n",
              "      <td>2020-01-01</td>\n",
              "      <td>32348.0</td>\n",
              "      <td>0.00</td>\n",
              "      <td>NaN</td>\n",
              "    </tr>\n",
              "    <tr>\n",
              "      <th>...</th>\n",
              "      <td>...</td>\n",
              "      <td>...</td>\n",
              "      <td>...</td>\n",
              "      <td>...</td>\n",
              "    </tr>\n",
              "    <tr>\n",
              "      <th>22324185</th>\n",
              "      <td>2020-12-31</td>\n",
              "      <td>63290.0</td>\n",
              "      <td>0.01</td>\n",
              "      <td>0.13</td>\n",
              "    </tr>\n",
              "    <tr>\n",
              "      <th>22324186</th>\n",
              "      <td>2020-12-31</td>\n",
              "      <td>11069.0</td>\n",
              "      <td>0.01</td>\n",
              "      <td>0.07</td>\n",
              "    </tr>\n",
              "    <tr>\n",
              "      <th>22324187</th>\n",
              "      <td>2020-12-31</td>\n",
              "      <td>92993.0</td>\n",
              "      <td>0.06</td>\n",
              "      <td>47.43</td>\n",
              "    </tr>\n",
              "    <tr>\n",
              "      <th>22324188</th>\n",
              "      <td>2020-12-31</td>\n",
              "      <td>41980.0</td>\n",
              "      <td>0.01</td>\n",
              "      <td>0.13</td>\n",
              "    </tr>\n",
              "    <tr>\n",
              "      <th>22324189</th>\n",
              "      <td>2020-12-31</td>\n",
              "      <td>22599.0</td>\n",
              "      <td>0.09</td>\n",
              "      <td>5.53</td>\n",
              "    </tr>\n",
              "  </tbody>\n",
              "</table>\n",
              "<p>22324190 rows × 4 columns</p>\n",
              "</div>\n",
              "      <button class=\"colab-df-convert\" onclick=\"convertToInteractive('df-47885bb5-9325-48cb-8804-367933486bd4')\"\n",
              "              title=\"Convert this dataframe to an interactive table.\"\n",
              "              style=\"display:none;\">\n",
              "        \n",
              "  <svg xmlns=\"http://www.w3.org/2000/svg\" height=\"24px\"viewBox=\"0 0 24 24\"\n",
              "       width=\"24px\">\n",
              "    <path d=\"M0 0h24v24H0V0z\" fill=\"none\"/>\n",
              "    <path d=\"M18.56 5.44l.94 2.06.94-2.06 2.06-.94-2.06-.94-.94-2.06-.94 2.06-2.06.94zm-11 1L8.5 8.5l.94-2.06 2.06-.94-2.06-.94L8.5 2.5l-.94 2.06-2.06.94zm10 10l.94 2.06.94-2.06 2.06-.94-2.06-.94-.94-2.06-.94 2.06-2.06.94z\"/><path d=\"M17.41 7.96l-1.37-1.37c-.4-.4-.92-.59-1.43-.59-.52 0-1.04.2-1.43.59L10.3 9.45l-7.72 7.72c-.78.78-.78 2.05 0 2.83L4 21.41c.39.39.9.59 1.41.59.51 0 1.02-.2 1.41-.59l7.78-7.78 2.81-2.81c.8-.78.8-2.07 0-2.86zM5.41 20L4 18.59l7.72-7.72 1.47 1.35L5.41 20z\"/>\n",
              "  </svg>\n",
              "      </button>\n",
              "      \n",
              "  <style>\n",
              "    .colab-df-container {\n",
              "      display:flex;\n",
              "      flex-wrap:wrap;\n",
              "      gap: 12px;\n",
              "    }\n",
              "\n",
              "    .colab-df-convert {\n",
              "      background-color: #E8F0FE;\n",
              "      border: none;\n",
              "      border-radius: 50%;\n",
              "      cursor: pointer;\n",
              "      display: none;\n",
              "      fill: #1967D2;\n",
              "      height: 32px;\n",
              "      padding: 0 0 0 0;\n",
              "      width: 32px;\n",
              "    }\n",
              "\n",
              "    .colab-df-convert:hover {\n",
              "      background-color: #E2EBFA;\n",
              "      box-shadow: 0px 1px 2px rgba(60, 64, 67, 0.3), 0px 1px 3px 1px rgba(60, 64, 67, 0.15);\n",
              "      fill: #174EA6;\n",
              "    }\n",
              "\n",
              "    [theme=dark] .colab-df-convert {\n",
              "      background-color: #3B4455;\n",
              "      fill: #D2E3FC;\n",
              "    }\n",
              "\n",
              "    [theme=dark] .colab-df-convert:hover {\n",
              "      background-color: #434B5C;\n",
              "      box-shadow: 0px 1px 3px 1px rgba(0, 0, 0, 0.15);\n",
              "      filter: drop-shadow(0px 1px 2px rgba(0, 0, 0, 0.3));\n",
              "      fill: #FFFFFF;\n",
              "    }\n",
              "  </style>\n",
              "\n",
              "      <script>\n",
              "        const buttonEl =\n",
              "          document.querySelector('#df-47885bb5-9325-48cb-8804-367933486bd4 button.colab-df-convert');\n",
              "        buttonEl.style.display =\n",
              "          google.colab.kernel.accessAllowed ? 'block' : 'none';\n",
              "\n",
              "        async function convertToInteractive(key) {\n",
              "          const element = document.querySelector('#df-47885bb5-9325-48cb-8804-367933486bd4');\n",
              "          const dataTable =\n",
              "            await google.colab.kernel.invokeFunction('convertToInteractive',\n",
              "                                                     [key], {});\n",
              "          if (!dataTable) return;\n",
              "\n",
              "          const docLinkHtml = 'Like what you see? Visit the ' +\n",
              "            '<a target=\"_blank\" href=https://colab.research.google.com/notebooks/data_table.ipynb>data table notebook</a>'\n",
              "            + ' to learn more about interactive tables.';\n",
              "          element.innerHTML = '';\n",
              "          dataTable['output_type'] = 'display_data';\n",
              "          await google.colab.output.renderOutput(dataTable, element);\n",
              "          const docLink = document.createElement('div');\n",
              "          docLink.innerHTML = docLinkHtml;\n",
              "          element.appendChild(docLink);\n",
              "        }\n",
              "      </script>\n",
              "    </div>\n",
              "  </div>\n",
              "  "
            ]
          },
          "metadata": {},
          "execution_count": 18
        }
      ]
    },
    {
      "cell_type": "markdown",
      "source": [
        "#**Creating custome Altair theme**\n",
        "\n",
        "* You can create your own theme in Altair which provides uniformity to your plots"
      ],
      "metadata": {
        "id": "tjAPx2V4fgVl"
      }
    },
    {
      "cell_type": "code",
      "source": [
        "def LearnPlatorm_theme(*args, **kwargs):\n",
        "    return {\n",
        "            \"width\": 500,\n",
        "            \"height\": 300,\n",
        "            \"config\": {\n",
        "              \"style\": {\n",
        "                \"bar\": {\n",
        "                  \"size\": 15\n",
        "                },\n",
        "                \"guide-title\": {\n",
        "                  \"fontSize\": 15\n",
        "                },\n",
        "                \"guide-label\": {\n",
        "                  \"fontSize\": 15\n",
        "                },\n",
        "              },\n",
        "              \"scale\": {\n",
        "                \"bandPaddingInner\": 0.5,\n",
        "                \"bandPaddingOuter\": 0.5\n",
        "              },\n",
        "              \"legend\": {\n",
        "                \"symbolSize\": 15,\n",
        "                \"titleFontSize\": 15,\n",
        "                \"labelFontSize\": 9\n",
        "              },\n",
        "              \"axis\": {\n",
        "                \"titleFontSize\": 15,\n",
        "                \"labelFontSize\": 18\n",
        "              },\n",
        "              \"title\": {\"fontSize\": 20},\n",
        "            }\n",
        "          }\n",
        "          \n",
        "\n",
        "alt.themes.register('LearnPlatorm_theme', LearnPlatorm_theme)\n",
        "alt.themes.enable('LearnPlatorm_theme');"
      ],
      "metadata": {
        "id": "th-t1tfLKYlR"
      },
      "execution_count": 19,
      "outputs": []
    },
    {
      "cell_type": "markdown",
      "source": [
        "#**Missing Data**\n",
        "\n",
        "* Let's look at all three DataFrames for missing values per Column"
      ],
      "metadata": {
        "id": "Ul8f0wUgsFa_"
      }
    },
    {
      "cell_type": "markdown",
      "source": [
        "#**Plot Missing function**\n",
        "\n",
        "* The function helps us plot an Altair bar chart for all data frames containing missing values."
      ],
      "metadata": {
        "id": "z35GP3aLsN4D"
      }
    },
    {
      "cell_type": "code",
      "source": [
        "def plot_missing(df):\n",
        "    data = df.isnull().sum().to_frame().reset_index()\\\n",
        "            .rename(columns={'index':'Columns',0:'Counts'})\n",
        "    return alt.Chart(data).mark_bar().encode(\n",
        "    x='Columns',\n",
        "    y='Counts',\n",
        "    tooltip='Counts'\n",
        "    )"
      ],
      "metadata": {
        "id": "SvrsdUQYr8rw"
      },
      "execution_count": 22,
      "outputs": []
    },
    {
      "cell_type": "markdown",
      "source": [
        "**As we can observe that our district dataset mostly contains missing values in pp_total_raw,pct_free/reduced,county_connections_ratio. Let's see all the missing values together in the next section.**"
      ],
      "metadata": {
        "id": "aKiM5vMNsqLx"
      }
    },
    {
      "cell_type": "code",
      "source": [
        "NA = pd.DataFrame(data=[districts_data.isna().sum().tolist(), [\"{:.2f}\".format(i)+'%' \\\n",
        "            for i in (districts_data.isna().sum()/districts_data.shape[0]*100).tolist()]], \n",
        "            columns=districts_data.columns, index=['NA Count', 'NA Percent']).transpose().\\\n",
        "            sort_values(by='NA Count',ascending=False)\n",
        "NA.style.background_gradient(cmap=\"vlag\", subset=['NA Count'])"
      ],
      "metadata": {
        "colab": {
          "base_uri": "https://localhost:8080/",
          "height": 269
        },
        "id": "1dRd1ktfskOS",
        "outputId": "5cf4deec-79c3-4baa-e419-b7a1c9dd6b04"
      },
      "execution_count": 23,
      "outputs": [
        {
          "output_type": "execute_result",
          "data": {
            "text/plain": [
              "<pandas.io.formats.style.Styler at 0x7f1ec0066ac0>"
            ],
            "text/html": [
              "<style type=\"text/css\">\n",
              "#T_ad863_row0_col0 {\n",
              "  background-color: #a9373b;\n",
              "  color: #f1f1f1;\n",
              "}\n",
              "#T_ad863_row1_col0 {\n",
              "  background-color: #d59c99;\n",
              "  color: #f1f1f1;\n",
              "}\n",
              "#T_ad863_row2_col0 {\n",
              "  background-color: #e9cbc9;\n",
              "  color: #000000;\n",
              "}\n",
              "#T_ad863_row3_col0, #T_ad863_row4_col0, #T_ad863_row5_col0 {\n",
              "  background-color: #faf5f5;\n",
              "  color: #000000;\n",
              "}\n",
              "#T_ad863_row6_col0 {\n",
              "  background-color: #2369bd;\n",
              "  color: #f1f1f1;\n",
              "}\n",
              "</style>\n",
              "<table id=\"T_ad863\" class=\"dataframe\">\n",
              "  <thead>\n",
              "    <tr>\n",
              "      <th class=\"blank level0\" >&nbsp;</th>\n",
              "      <th id=\"T_ad863_level0_col0\" class=\"col_heading level0 col0\" >NA Count</th>\n",
              "      <th id=\"T_ad863_level0_col1\" class=\"col_heading level0 col1\" >NA Percent</th>\n",
              "    </tr>\n",
              "  </thead>\n",
              "  <tbody>\n",
              "    <tr>\n",
              "      <th id=\"T_ad863_level0_row0\" class=\"row_heading level0 row0\" >pp_total_raw</th>\n",
              "      <td id=\"T_ad863_row0_col0\" class=\"data row0 col0\" >115</td>\n",
              "      <td id=\"T_ad863_row0_col1\" class=\"data row0 col1\" >49.36%</td>\n",
              "    </tr>\n",
              "    <tr>\n",
              "      <th id=\"T_ad863_level0_row1\" class=\"row_heading level0 row1\" >pct_free/reduced</th>\n",
              "      <td id=\"T_ad863_row1_col0\" class=\"data row1 col0\" >85</td>\n",
              "      <td id=\"T_ad863_row1_col1\" class=\"data row1 col1\" >36.48%</td>\n",
              "    </tr>\n",
              "    <tr>\n",
              "      <th id=\"T_ad863_level0_row2\" class=\"row_heading level0 row2\" >county_connections_ratio</th>\n",
              "      <td id=\"T_ad863_row2_col0\" class=\"data row2 col0\" >71</td>\n",
              "      <td id=\"T_ad863_row2_col1\" class=\"data row2 col1\" >30.47%</td>\n",
              "    </tr>\n",
              "    <tr>\n",
              "      <th id=\"T_ad863_level0_row3\" class=\"row_heading level0 row3\" >state</th>\n",
              "      <td id=\"T_ad863_row3_col0\" class=\"data row3 col0\" >57</td>\n",
              "      <td id=\"T_ad863_row3_col1\" class=\"data row3 col1\" >24.46%</td>\n",
              "    </tr>\n",
              "    <tr>\n",
              "      <th id=\"T_ad863_level0_row4\" class=\"row_heading level0 row4\" >locale</th>\n",
              "      <td id=\"T_ad863_row4_col0\" class=\"data row4 col0\" >57</td>\n",
              "      <td id=\"T_ad863_row4_col1\" class=\"data row4 col1\" >24.46%</td>\n",
              "    </tr>\n",
              "    <tr>\n",
              "      <th id=\"T_ad863_level0_row5\" class=\"row_heading level0 row5\" >pct_black/hispanic</th>\n",
              "      <td id=\"T_ad863_row5_col0\" class=\"data row5 col0\" >57</td>\n",
              "      <td id=\"T_ad863_row5_col1\" class=\"data row5 col1\" >24.46%</td>\n",
              "    </tr>\n",
              "    <tr>\n",
              "      <th id=\"T_ad863_level0_row6\" class=\"row_heading level0 row6\" >district_id</th>\n",
              "      <td id=\"T_ad863_row6_col0\" class=\"data row6 col0\" >0</td>\n",
              "      <td id=\"T_ad863_row6_col1\" class=\"data row6 col1\" >0.00%</td>\n",
              "    </tr>\n",
              "  </tbody>\n",
              "</table>\n"
            ]
          },
          "metadata": {},
          "execution_count": 23
        }
      ]
    },
    {
      "cell_type": "markdown",
      "source": [
        "**The subplot below shows missing values in all three datasets we will be removing them in the next section as it is hard to replace them without actual information.**"
      ],
      "metadata": {
        "id": "foCAFykEtfBq"
      }
    },
    {
      "cell_type": "code",
      "source": [
        "plot_eng = plot_missing(eng_data).\\\n",
        "        properties(title='Engagement', width=200, height=200)\n",
        "\n",
        "plot_pro = plot_missing(products_data).\\\n",
        "        properties(title='Products', width=200, height=200)\n",
        "\n",
        "plot_dis = plot_missing(districts_data).\\\n",
        "        properties(title='Districts', width=200, height=200)\n",
        "\n",
        "alt.hconcat(plot_pro, plot_dis, plot_eng )"
      ],
      "metadata": {
        "colab": {
          "base_uri": "https://localhost:8080/",
          "height": 470
        },
        "id": "k_KvwNiVtHJN",
        "outputId": "f7720f0a-1efc-41b4-fe7b-ef959a2c71d3"
      },
      "execution_count": 25,
      "outputs": [
        {
          "output_type": "execute_result",
          "data": {
            "text/html": [
              "\n",
              "<div id=\"altair-viz-79b7ddd6c53c4f5bab0371c625203f19\"></div>\n",
              "<script type=\"text/javascript\">\n",
              "  var VEGA_DEBUG = (typeof VEGA_DEBUG == \"undefined\") ? {} : VEGA_DEBUG;\n",
              "  (function(spec, embedOpt){\n",
              "    let outputDiv = document.currentScript.previousElementSibling;\n",
              "    if (outputDiv.id !== \"altair-viz-79b7ddd6c53c4f5bab0371c625203f19\") {\n",
              "      outputDiv = document.getElementById(\"altair-viz-79b7ddd6c53c4f5bab0371c625203f19\");\n",
              "    }\n",
              "    const paths = {\n",
              "      \"vega\": \"https://cdn.jsdelivr.net/npm//vega@5?noext\",\n",
              "      \"vega-lib\": \"https://cdn.jsdelivr.net/npm//vega-lib?noext\",\n",
              "      \"vega-lite\": \"https://cdn.jsdelivr.net/npm//vega-lite@4.17.0?noext\",\n",
              "      \"vega-embed\": \"https://cdn.jsdelivr.net/npm//vega-embed@6?noext\",\n",
              "    };\n",
              "\n",
              "    function maybeLoadScript(lib, version) {\n",
              "      var key = `${lib.replace(\"-\", \"\")}_version`;\n",
              "      return (VEGA_DEBUG[key] == version) ?\n",
              "        Promise.resolve(paths[lib]) :\n",
              "        new Promise(function(resolve, reject) {\n",
              "          var s = document.createElement('script');\n",
              "          document.getElementsByTagName(\"head\")[0].appendChild(s);\n",
              "          s.async = true;\n",
              "          s.onload = () => {\n",
              "            VEGA_DEBUG[key] = version;\n",
              "            return resolve(paths[lib]);\n",
              "          };\n",
              "          s.onerror = () => reject(`Error loading script: ${paths[lib]}`);\n",
              "          s.src = paths[lib];\n",
              "        });\n",
              "    }\n",
              "\n",
              "    function showError(err) {\n",
              "      outputDiv.innerHTML = `<div class=\"error\" style=\"color:red;\">${err}</div>`;\n",
              "      throw err;\n",
              "    }\n",
              "\n",
              "    function displayChart(vegaEmbed) {\n",
              "      vegaEmbed(outputDiv, spec, embedOpt)\n",
              "        .catch(err => showError(`Javascript Error: ${err.message}<br>This usually means there's a typo in your chart specification. See the javascript console for the full traceback.`));\n",
              "    }\n",
              "\n",
              "    if(typeof define === \"function\" && define.amd) {\n",
              "      requirejs.config({paths});\n",
              "      require([\"vega-embed\"], displayChart, err => showError(`Error loading script: ${err.message}`));\n",
              "    } else {\n",
              "      maybeLoadScript(\"vega\", \"5\")\n",
              "        .then(() => maybeLoadScript(\"vega-lite\", \"4.17.0\"))\n",
              "        .then(() => maybeLoadScript(\"vega-embed\", \"6\"))\n",
              "        .catch(showError)\n",
              "        .then(() => displayChart(vegaEmbed));\n",
              "    }\n",
              "  })({\"width\": 500, \"height\": 300, \"config\": {\"style\": {\"bar\": {\"size\": 15}, \"guide-title\": {\"fontSize\": 15}, \"guide-label\": {\"fontSize\": 15}}, \"scale\": {\"bandPaddingInner\": 0.5, \"bandPaddingOuter\": 0.5}, \"legend\": {\"symbolSize\": 15, \"titleFontSize\": 15, \"labelFontSize\": 9}, \"axis\": {\"titleFontSize\": 15, \"labelFontSize\": 18}, \"title\": {\"fontSize\": 20}}, \"hconcat\": [{\"data\": {\"name\": \"data-289e040b80cffa5efc8572ace1a5b402\"}, \"mark\": \"bar\", \"encoding\": {\"tooltip\": {\"field\": \"Counts\", \"type\": \"quantitative\"}, \"x\": {\"field\": \"Columns\", \"type\": \"nominal\"}, \"y\": {\"field\": \"Counts\", \"type\": \"quantitative\"}}, \"height\": 200, \"title\": \"Products\", \"width\": 200}, {\"data\": {\"name\": \"data-cb9c38bed664f6a275e22731a1267750\"}, \"mark\": \"bar\", \"encoding\": {\"tooltip\": {\"field\": \"Counts\", \"type\": \"quantitative\"}, \"x\": {\"field\": \"Columns\", \"type\": \"nominal\"}, \"y\": {\"field\": \"Counts\", \"type\": \"quantitative\"}}, \"height\": 200, \"title\": \"Districts\", \"width\": 200}, {\"data\": {\"name\": \"data-8661dd6de5296348596f8d2c94fb8c7c\"}, \"mark\": \"bar\", \"encoding\": {\"tooltip\": {\"field\": \"Counts\", \"type\": \"quantitative\"}, \"x\": {\"field\": \"Columns\", \"type\": \"nominal\"}, \"y\": {\"field\": \"Counts\", \"type\": \"quantitative\"}}, \"height\": 200, \"title\": \"Engagement\", \"width\": 200}], \"$schema\": \"https://vega.github.io/schema/vega-lite/v4.17.0.json\", \"datasets\": {\"data-289e040b80cffa5efc8572ace1a5b402\": [{\"Columns\": \"LP ID\", \"Counts\": 0}, {\"Columns\": \"URL\", \"Counts\": 0}, {\"Columns\": \"Product Name\", \"Counts\": 0}, {\"Columns\": \"Provider/Company Name\", \"Counts\": 1}, {\"Columns\": \"Sector(s)\", \"Counts\": 20}, {\"Columns\": \"Primary Essential Function\", \"Counts\": 20}], \"data-cb9c38bed664f6a275e22731a1267750\": [{\"Columns\": \"district_id\", \"Counts\": 0}, {\"Columns\": \"state\", \"Counts\": 57}, {\"Columns\": \"locale\", \"Counts\": 57}, {\"Columns\": \"pct_black/hispanic\", \"Counts\": 57}, {\"Columns\": \"pct_free/reduced\", \"Counts\": 85}, {\"Columns\": \"county_connections_ratio\", \"Counts\": 71}, {\"Columns\": \"pp_total_raw\", \"Counts\": 115}], \"data-8661dd6de5296348596f8d2c94fb8c7c\": [{\"Columns\": \"time\", \"Counts\": 0}, {\"Columns\": \"lp_id\", \"Counts\": 541}, {\"Columns\": \"pct_access\", \"Counts\": 13447}, {\"Columns\": \"engagement_index\", \"Counts\": 5378409}]}}, {\"mode\": \"vega-lite\"});\n",
              "</script>"
            ],
            "text/plain": [
              "alt.HConcatChart(...)"
            ]
          },
          "metadata": {},
          "execution_count": 25
        }
      ]
    },
    {
      "cell_type": "markdown",
      "source": [
        "#**Cleaning Data**"
      ],
      "metadata": {
        "id": "8i02qimZuDbx"
      }
    },
    {
      "cell_type": "markdown",
      "source": [
        "We will be cleaning district data as it contains an array of values. We will be taking advantage of both limits.\n",
        "\n",
        "* Converting list of columnspct_black/hispanic and pct_free/reduced into float.\n",
        "\n",
        "* Converting list pp_total_raw into Integers.\n",
        "\n",
        "* Droping county_connections_ratio due to static 0.18 to 1 values acrross all categories.\n"
      ],
      "metadata": {
        "id": "Wm99r3NRuKx5"
      }
    },
    {
      "cell_type": "code",
      "source": [
        "districts_data.dropna(inplace = True)\n",
        "for i in ['pct_black/hispanic', 'pct_free/reduced','county_connections_ratio']:\n",
        "    districts_data[i] = districts_data[i].apply(lambda x: float(str(x).split(',')[0][1:])+0.1)\n",
        "\n",
        "districts_data['pp_total_raw'] = districts_data['pp_total_raw'].apply(lambda x: int(x.split(',')[0][1:]) + 1000)\n",
        "districts_data.drop('county_connections_ratio', axis = 1, inplace = True)\n",
        "\n",
        "districts_data.head()"
      ],
      "metadata": {
        "colab": {
          "base_uri": "https://localhost:8080/",
          "height": 206
        },
        "id": "BNrdhSYhtirB",
        "outputId": "b62ff5f6-9179-4e90-8863-ed23afe7d851"
      },
      "execution_count": 26,
      "outputs": [
        {
          "output_type": "execute_result",
          "data": {
            "text/plain": [
              "   district_id           state  locale  pct_black/hispanic  pct_free/reduced  \\\n",
              "0         8815        Illinois  Suburb                 0.1               0.1   \n",
              "2         4921            Utah  Suburb                 0.1               0.3   \n",
              "5         5987       Wisconsin  Suburb                 0.1               0.1   \n",
              "6         3710            Utah  Suburb                 0.1               0.5   \n",
              "7         7177  North Carolina  Suburb                 0.3               0.3   \n",
              "\n",
              "   pp_total_raw  \n",
              "0         15000  \n",
              "2          7000  \n",
              "5         11000  \n",
              "6          7000  \n",
              "7          9000  "
            ],
            "text/html": [
              "\n",
              "  <div id=\"df-bfe2b021-a931-4aa9-93fd-6989a5d23cac\">\n",
              "    <div class=\"colab-df-container\">\n",
              "      <div>\n",
              "<style scoped>\n",
              "    .dataframe tbody tr th:only-of-type {\n",
              "        vertical-align: middle;\n",
              "    }\n",
              "\n",
              "    .dataframe tbody tr th {\n",
              "        vertical-align: top;\n",
              "    }\n",
              "\n",
              "    .dataframe thead th {\n",
              "        text-align: right;\n",
              "    }\n",
              "</style>\n",
              "<table border=\"1\" class=\"dataframe\">\n",
              "  <thead>\n",
              "    <tr style=\"text-align: right;\">\n",
              "      <th></th>\n",
              "      <th>district_id</th>\n",
              "      <th>state</th>\n",
              "      <th>locale</th>\n",
              "      <th>pct_black/hispanic</th>\n",
              "      <th>pct_free/reduced</th>\n",
              "      <th>pp_total_raw</th>\n",
              "    </tr>\n",
              "  </thead>\n",
              "  <tbody>\n",
              "    <tr>\n",
              "      <th>0</th>\n",
              "      <td>8815</td>\n",
              "      <td>Illinois</td>\n",
              "      <td>Suburb</td>\n",
              "      <td>0.1</td>\n",
              "      <td>0.1</td>\n",
              "      <td>15000</td>\n",
              "    </tr>\n",
              "    <tr>\n",
              "      <th>2</th>\n",
              "      <td>4921</td>\n",
              "      <td>Utah</td>\n",
              "      <td>Suburb</td>\n",
              "      <td>0.1</td>\n",
              "      <td>0.3</td>\n",
              "      <td>7000</td>\n",
              "    </tr>\n",
              "    <tr>\n",
              "      <th>5</th>\n",
              "      <td>5987</td>\n",
              "      <td>Wisconsin</td>\n",
              "      <td>Suburb</td>\n",
              "      <td>0.1</td>\n",
              "      <td>0.1</td>\n",
              "      <td>11000</td>\n",
              "    </tr>\n",
              "    <tr>\n",
              "      <th>6</th>\n",
              "      <td>3710</td>\n",
              "      <td>Utah</td>\n",
              "      <td>Suburb</td>\n",
              "      <td>0.1</td>\n",
              "      <td>0.5</td>\n",
              "      <td>7000</td>\n",
              "    </tr>\n",
              "    <tr>\n",
              "      <th>7</th>\n",
              "      <td>7177</td>\n",
              "      <td>North Carolina</td>\n",
              "      <td>Suburb</td>\n",
              "      <td>0.3</td>\n",
              "      <td>0.3</td>\n",
              "      <td>9000</td>\n",
              "    </tr>\n",
              "  </tbody>\n",
              "</table>\n",
              "</div>\n",
              "      <button class=\"colab-df-convert\" onclick=\"convertToInteractive('df-bfe2b021-a931-4aa9-93fd-6989a5d23cac')\"\n",
              "              title=\"Convert this dataframe to an interactive table.\"\n",
              "              style=\"display:none;\">\n",
              "        \n",
              "  <svg xmlns=\"http://www.w3.org/2000/svg\" height=\"24px\"viewBox=\"0 0 24 24\"\n",
              "       width=\"24px\">\n",
              "    <path d=\"M0 0h24v24H0V0z\" fill=\"none\"/>\n",
              "    <path d=\"M18.56 5.44l.94 2.06.94-2.06 2.06-.94-2.06-.94-.94-2.06-.94 2.06-2.06.94zm-11 1L8.5 8.5l.94-2.06 2.06-.94-2.06-.94L8.5 2.5l-.94 2.06-2.06.94zm10 10l.94 2.06.94-2.06 2.06-.94-2.06-.94-.94-2.06-.94 2.06-2.06.94z\"/><path d=\"M17.41 7.96l-1.37-1.37c-.4-.4-.92-.59-1.43-.59-.52 0-1.04.2-1.43.59L10.3 9.45l-7.72 7.72c-.78.78-.78 2.05 0 2.83L4 21.41c.39.39.9.59 1.41.59.51 0 1.02-.2 1.41-.59l7.78-7.78 2.81-2.81c.8-.78.8-2.07 0-2.86zM5.41 20L4 18.59l7.72-7.72 1.47 1.35L5.41 20z\"/>\n",
              "  </svg>\n",
              "      </button>\n",
              "      \n",
              "  <style>\n",
              "    .colab-df-container {\n",
              "      display:flex;\n",
              "      flex-wrap:wrap;\n",
              "      gap: 12px;\n",
              "    }\n",
              "\n",
              "    .colab-df-convert {\n",
              "      background-color: #E8F0FE;\n",
              "      border: none;\n",
              "      border-radius: 50%;\n",
              "      cursor: pointer;\n",
              "      display: none;\n",
              "      fill: #1967D2;\n",
              "      height: 32px;\n",
              "      padding: 0 0 0 0;\n",
              "      width: 32px;\n",
              "    }\n",
              "\n",
              "    .colab-df-convert:hover {\n",
              "      background-color: #E2EBFA;\n",
              "      box-shadow: 0px 1px 2px rgba(60, 64, 67, 0.3), 0px 1px 3px 1px rgba(60, 64, 67, 0.15);\n",
              "      fill: #174EA6;\n",
              "    }\n",
              "\n",
              "    [theme=dark] .colab-df-convert {\n",
              "      background-color: #3B4455;\n",
              "      fill: #D2E3FC;\n",
              "    }\n",
              "\n",
              "    [theme=dark] .colab-df-convert:hover {\n",
              "      background-color: #434B5C;\n",
              "      box-shadow: 0px 1px 3px 1px rgba(0, 0, 0, 0.15);\n",
              "      filter: drop-shadow(0px 1px 2px rgba(0, 0, 0, 0.3));\n",
              "      fill: #FFFFFF;\n",
              "    }\n",
              "  </style>\n",
              "\n",
              "      <script>\n",
              "        const buttonEl =\n",
              "          document.querySelector('#df-bfe2b021-a931-4aa9-93fd-6989a5d23cac button.colab-df-convert');\n",
              "        buttonEl.style.display =\n",
              "          google.colab.kernel.accessAllowed ? 'block' : 'none';\n",
              "\n",
              "        async function convertToInteractive(key) {\n",
              "          const element = document.querySelector('#df-bfe2b021-a931-4aa9-93fd-6989a5d23cac');\n",
              "          const dataTable =\n",
              "            await google.colab.kernel.invokeFunction('convertToInteractive',\n",
              "                                                     [key], {});\n",
              "          if (!dataTable) return;\n",
              "\n",
              "          const docLinkHtml = 'Like what you see? Visit the ' +\n",
              "            '<a target=\"_blank\" href=https://colab.research.google.com/notebooks/data_table.ipynb>data table notebook</a>'\n",
              "            + ' to learn more about interactive tables.';\n",
              "          element.innerHTML = '';\n",
              "          dataTable['output_type'] = 'display_data';\n",
              "          await google.colab.output.renderOutput(dataTable, element);\n",
              "          const docLink = document.createElement('div');\n",
              "          docLink.innerHTML = docLinkHtml;\n",
              "          element.appendChild(docLink);\n",
              "        }\n",
              "      </script>\n",
              "    </div>\n",
              "  </div>\n",
              "  "
            ]
          },
          "metadata": {},
          "execution_count": 26
        }
      ]
    },
    {
      "cell_type": "markdown",
      "source": [
        "#**Feature Distributions Visualization**\n",
        "\n",
        "* In this section, we will discover different features distributions."
      ],
      "metadata": {
        "id": "fgajg0uQvnC8"
      }
    },
    {
      "cell_type": "markdown",
      "source": [
        "#**Districts per states**\n",
        "\n",
        "* As we can see the dataset contains more districts from Utah and Illinois than any other state"
      ],
      "metadata": {
        "id": "d4ku-zN2vxrn"
      }
    },
    {
      "cell_type": "code",
      "source": [
        "alt.Chart(districts_data.dropna()).mark_bar(\n",
        "    cornerRadiusTopLeft=3,\n",
        "    cornerRadiusTopRight=3).encode(\n",
        "    x=alt.X('state:O',sort=alt.EncodingSortField(field=\"state\", op=\"count\", order='descending')),\n",
        "    y=alt.Y('count(state):O'),\n",
        "    tooltip='count(state):O',\n",
        "    color=alt.Color('state:O',\n",
        "                    sort=alt.EncodingSortField(field=\"state\",op=\"count\", order='descending'),\n",
        "                    legend=None,scale=alt.Scale(scheme = 'blues')) \n",
        "    ).properties(title='Number of Districts per states')"
      ],
      "metadata": {
        "colab": {
          "base_uri": "https://localhost:8080/",
          "height": 507
        },
        "id": "9eLAWaEgufmt",
        "outputId": "69935538-d6de-4a00-d478-2498dcdcafc7"
      },
      "execution_count": 27,
      "outputs": [
        {
          "output_type": "execute_result",
          "data": {
            "text/html": [
              "\n",
              "<div id=\"altair-viz-75122db3692c4b87ac508a69db5c0706\"></div>\n",
              "<script type=\"text/javascript\">\n",
              "  var VEGA_DEBUG = (typeof VEGA_DEBUG == \"undefined\") ? {} : VEGA_DEBUG;\n",
              "  (function(spec, embedOpt){\n",
              "    let outputDiv = document.currentScript.previousElementSibling;\n",
              "    if (outputDiv.id !== \"altair-viz-75122db3692c4b87ac508a69db5c0706\") {\n",
              "      outputDiv = document.getElementById(\"altair-viz-75122db3692c4b87ac508a69db5c0706\");\n",
              "    }\n",
              "    const paths = {\n",
              "      \"vega\": \"https://cdn.jsdelivr.net/npm//vega@5?noext\",\n",
              "      \"vega-lib\": \"https://cdn.jsdelivr.net/npm//vega-lib?noext\",\n",
              "      \"vega-lite\": \"https://cdn.jsdelivr.net/npm//vega-lite@4.17.0?noext\",\n",
              "      \"vega-embed\": \"https://cdn.jsdelivr.net/npm//vega-embed@6?noext\",\n",
              "    };\n",
              "\n",
              "    function maybeLoadScript(lib, version) {\n",
              "      var key = `${lib.replace(\"-\", \"\")}_version`;\n",
              "      return (VEGA_DEBUG[key] == version) ?\n",
              "        Promise.resolve(paths[lib]) :\n",
              "        new Promise(function(resolve, reject) {\n",
              "          var s = document.createElement('script');\n",
              "          document.getElementsByTagName(\"head\")[0].appendChild(s);\n",
              "          s.async = true;\n",
              "          s.onload = () => {\n",
              "            VEGA_DEBUG[key] = version;\n",
              "            return resolve(paths[lib]);\n",
              "          };\n",
              "          s.onerror = () => reject(`Error loading script: ${paths[lib]}`);\n",
              "          s.src = paths[lib];\n",
              "        });\n",
              "    }\n",
              "\n",
              "    function showError(err) {\n",
              "      outputDiv.innerHTML = `<div class=\"error\" style=\"color:red;\">${err}</div>`;\n",
              "      throw err;\n",
              "    }\n",
              "\n",
              "    function displayChart(vegaEmbed) {\n",
              "      vegaEmbed(outputDiv, spec, embedOpt)\n",
              "        .catch(err => showError(`Javascript Error: ${err.message}<br>This usually means there's a typo in your chart specification. See the javascript console for the full traceback.`));\n",
              "    }\n",
              "\n",
              "    if(typeof define === \"function\" && define.amd) {\n",
              "      requirejs.config({paths});\n",
              "      require([\"vega-embed\"], displayChart, err => showError(`Error loading script: ${err.message}`));\n",
              "    } else {\n",
              "      maybeLoadScript(\"vega\", \"5\")\n",
              "        .then(() => maybeLoadScript(\"vega-lite\", \"4.17.0\"))\n",
              "        .then(() => maybeLoadScript(\"vega-embed\", \"6\"))\n",
              "        .catch(showError)\n",
              "        .then(() => displayChart(vegaEmbed));\n",
              "    }\n",
              "  })({\"width\": 500, \"height\": 300, \"config\": {\"style\": {\"bar\": {\"size\": 15}, \"guide-title\": {\"fontSize\": 15}, \"guide-label\": {\"fontSize\": 15}}, \"scale\": {\"bandPaddingInner\": 0.5, \"bandPaddingOuter\": 0.5}, \"legend\": {\"symbolSize\": 15, \"titleFontSize\": 15, \"labelFontSize\": 9}, \"axis\": {\"titleFontSize\": 15, \"labelFontSize\": 18}, \"title\": {\"fontSize\": 20}}, \"data\": {\"name\": \"data-4bbbb94343e6021295c4c6f2acfe577a\"}, \"mark\": {\"type\": \"bar\", \"cornerRadiusTopLeft\": 3, \"cornerRadiusTopRight\": 3}, \"encoding\": {\"color\": {\"field\": \"state\", \"legend\": null, \"scale\": {\"scheme\": \"blues\"}, \"sort\": {\"field\": \"state\", \"op\": \"count\", \"order\": \"descending\"}, \"type\": \"ordinal\"}, \"tooltip\": {\"aggregate\": \"count\", \"field\": \"state\", \"type\": \"ordinal\"}, \"x\": {\"field\": \"state\", \"sort\": {\"field\": \"state\", \"op\": \"count\", \"order\": \"descending\"}, \"type\": \"ordinal\"}, \"y\": {\"aggregate\": \"count\", \"field\": \"state\", \"type\": \"ordinal\"}}, \"title\": \"Number of Districts per states\", \"$schema\": \"https://vega.github.io/schema/vega-lite/v4.17.0.json\", \"datasets\": {\"data-4bbbb94343e6021295c4c6f2acfe577a\": [{\"district_id\": 8815, \"state\": \"Illinois\", \"locale\": \"Suburb\", \"pct_black/hispanic\": 0.1, \"pct_free/reduced\": 0.1, \"pp_total_raw\": 15000}, {\"district_id\": 4921, \"state\": \"Utah\", \"locale\": \"Suburb\", \"pct_black/hispanic\": 0.1, \"pct_free/reduced\": 0.30000000000000004, \"pp_total_raw\": 7000}, {\"district_id\": 5987, \"state\": \"Wisconsin\", \"locale\": \"Suburb\", \"pct_black/hispanic\": 0.1, \"pct_free/reduced\": 0.1, \"pp_total_raw\": 11000}, {\"district_id\": 3710, \"state\": \"Utah\", \"locale\": \"Suburb\", \"pct_black/hispanic\": 0.1, \"pct_free/reduced\": 0.5, \"pp_total_raw\": 7000}, {\"district_id\": 7177, \"state\": \"North Carolina\", \"locale\": \"Suburb\", \"pct_black/hispanic\": 0.30000000000000004, \"pct_free/reduced\": 0.30000000000000004, \"pp_total_raw\": 9000}, {\"district_id\": 9812, \"state\": \"Utah\", \"locale\": \"Suburb\", \"pct_black/hispanic\": 0.1, \"pct_free/reduced\": 0.30000000000000004, \"pp_total_raw\": 7000}, {\"district_id\": 6584, \"state\": \"North Carolina\", \"locale\": \"Rural\", \"pct_black/hispanic\": 0.5, \"pct_free/reduced\": 0.7, \"pp_total_raw\": 9000}, {\"district_id\": 7457, \"state\": \"Washington\", \"locale\": \"City\", \"pct_black/hispanic\": 0.5, \"pct_free/reduced\": 0.5, \"pp_total_raw\": 13000}, {\"district_id\": 7614, \"state\": \"Utah\", \"locale\": \"City\", \"pct_black/hispanic\": 0.30000000000000004, \"pct_free/reduced\": 0.30000000000000004, \"pp_total_raw\": 9000}, {\"district_id\": 4808, \"state\": \"Indiana\", \"locale\": \"City\", \"pct_black/hispanic\": 0.9, \"pct_free/reduced\": 0.9, \"pp_total_raw\": 9000}, {\"district_id\": 1877, \"state\": \"Illinois\", \"locale\": \"Rural\", \"pct_black/hispanic\": 0.1, \"pct_free/reduced\": 0.1, \"pp_total_raw\": 13000}, {\"district_id\": 2779, \"state\": \"Illinois\", \"locale\": \"Rural\", \"pct_black/hispanic\": 0.1, \"pct_free/reduced\": 0.1, \"pp_total_raw\": 11000}, {\"district_id\": 8328, \"state\": \"Utah\", \"locale\": \"Town\", \"pct_black/hispanic\": 0.1, \"pct_free/reduced\": 0.5, \"pp_total_raw\": 11000}, {\"district_id\": 9043, \"state\": \"Illinois\", \"locale\": \"Suburb\", \"pct_black/hispanic\": 0.9, \"pct_free/reduced\": 0.9, \"pp_total_raw\": 13000}, {\"district_id\": 1549, \"state\": \"Virginia\", \"locale\": \"Suburb\", \"pct_black/hispanic\": 0.1, \"pct_free/reduced\": 0.30000000000000004, \"pp_total_raw\": 11000}, {\"district_id\": 4051, \"state\": \"Missouri\", \"locale\": \"Suburb\", \"pct_black/hispanic\": 0.1, \"pct_free/reduced\": 0.30000000000000004, \"pp_total_raw\": 11000}, {\"district_id\": 2167, \"state\": \"Washington\", \"locale\": \"Suburb\", \"pct_black/hispanic\": 0.1, \"pct_free/reduced\": 0.1, \"pp_total_raw\": 15000}, {\"district_id\": 6577, \"state\": \"Illinois\", \"locale\": \"Suburb\", \"pct_black/hispanic\": 0.1, \"pct_free/reduced\": 0.1, \"pp_total_raw\": 11000}, {\"district_id\": 4936, \"state\": \"Utah\", \"locale\": \"Suburb\", \"pct_black/hispanic\": 0.1, \"pct_free/reduced\": 0.1, \"pp_total_raw\": 7000}, {\"district_id\": 5231, \"state\": \"Utah\", \"locale\": \"Town\", \"pct_black/hispanic\": 0.1, \"pct_free/reduced\": 0.5, \"pp_total_raw\": 11000}, {\"district_id\": 8433, \"state\": \"New Jersey\", \"locale\": \"Suburb\", \"pct_black/hispanic\": 0.1, \"pct_free/reduced\": 0.1, \"pp_total_raw\": 19000}, {\"district_id\": 2165, \"state\": \"Utah\", \"locale\": \"Suburb\", \"pct_black/hispanic\": 0.30000000000000004, \"pct_free/reduced\": 0.30000000000000004, \"pp_total_raw\": 7000}, {\"district_id\": 8784, \"state\": \"Illinois\", \"locale\": \"Suburb\", \"pct_black/hispanic\": 0.7, \"pct_free/reduced\": 0.7, \"pp_total_raw\": 11000}, {\"district_id\": 7798, \"state\": \"New York\", \"locale\": \"Rural\", \"pct_black/hispanic\": 0.1, \"pct_free/reduced\": 0.30000000000000004, \"pp_total_raw\": 23000}, {\"district_id\": 3550, \"state\": \"Minnesota\", \"locale\": \"Suburb\", \"pct_black/hispanic\": 0.5, \"pct_free/reduced\": 0.7, \"pp_total_raw\": 15000}, {\"district_id\": 2601, \"state\": \"Illinois\", \"locale\": \"Suburb\", \"pct_black/hispanic\": 0.7, \"pct_free/reduced\": 0.5, \"pp_total_raw\": 13000}, {\"district_id\": 7660, \"state\": \"Utah\", \"locale\": \"Suburb\", \"pct_black/hispanic\": 0.1, \"pct_free/reduced\": 0.1, \"pp_total_raw\": 7000}, {\"district_id\": 9899, \"state\": \"Illinois\", \"locale\": \"Suburb\", \"pct_black/hispanic\": 0.30000000000000004, \"pct_free/reduced\": 0.1, \"pp_total_raw\": 13000}, {\"district_id\": 1742, \"state\": \"Missouri\", \"locale\": \"Suburb\", \"pct_black/hispanic\": 0.1, \"pct_free/reduced\": 0.30000000000000004, \"pp_total_raw\": 9000}, {\"district_id\": 4629, \"state\": \"Illinois\", \"locale\": \"Suburb\", \"pct_black/hispanic\": 0.1, \"pct_free/reduced\": 0.30000000000000004, \"pp_total_raw\": 17000}, {\"district_id\": 3222, \"state\": \"Indiana\", \"locale\": \"City\", \"pct_black/hispanic\": 0.30000000000000004, \"pct_free/reduced\": 0.7, \"pp_total_raw\": 9000}, {\"district_id\": 1772, \"state\": \"Utah\", \"locale\": \"City\", \"pct_black/hispanic\": 0.30000000000000004, \"pct_free/reduced\": 0.5, \"pp_total_raw\": 9000}, {\"district_id\": 8884, \"state\": \"Texas\", \"locale\": \"City\", \"pct_black/hispanic\": 0.7, \"pct_free/reduced\": 0.5, \"pp_total_raw\": 9000}, {\"district_id\": 1712, \"state\": \"Illinois\", \"locale\": \"Suburb\", \"pct_black/hispanic\": 0.5, \"pct_free/reduced\": 0.5, \"pp_total_raw\": 13000}, {\"district_id\": 5042, \"state\": \"Illinois\", \"locale\": \"Town\", \"pct_black/hispanic\": 0.30000000000000004, \"pct_free/reduced\": 0.9, \"pp_total_raw\": 11000}, {\"district_id\": 3692, \"state\": \"Utah\", \"locale\": \"Suburb\", \"pct_black/hispanic\": 0.1, \"pct_free/reduced\": 0.5, \"pp_total_raw\": 9000}, {\"district_id\": 4683, \"state\": \"Texas\", \"locale\": \"Suburb\", \"pct_black/hispanic\": 0.5, \"pct_free/reduced\": 0.5, \"pp_total_raw\": 9000}, {\"district_id\": 2567, \"state\": \"Washington\", \"locale\": \"Suburb\", \"pct_black/hispanic\": 0.1, \"pct_free/reduced\": 0.30000000000000004, \"pp_total_raw\": 13000}, {\"district_id\": 7767, \"state\": \"North Carolina\", \"locale\": \"City\", \"pct_black/hispanic\": 0.5, \"pct_free/reduced\": 0.7, \"pp_total_raw\": 11000}, {\"district_id\": 7308, \"state\": \"Utah\", \"locale\": \"Suburb\", \"pct_black/hispanic\": 0.1, \"pct_free/reduced\": 0.30000000000000004, \"pp_total_raw\": 5000}, {\"district_id\": 8902, \"state\": \"Wisconsin\", \"locale\": \"Suburb\", \"pct_black/hispanic\": 0.1, \"pct_free/reduced\": 0.30000000000000004, \"pp_total_raw\": 11000}, {\"district_id\": 5890, \"state\": \"Illinois\", \"locale\": \"Suburb\", \"pct_black/hispanic\": 0.30000000000000004, \"pct_free/reduced\": 0.30000000000000004, \"pp_total_raw\": 19000}, {\"district_id\": 3864, \"state\": \"Utah\", \"locale\": \"Suburb\", \"pct_black/hispanic\": 0.1, \"pct_free/reduced\": 0.1, \"pp_total_raw\": 7000}, {\"district_id\": 5600, \"state\": \"Utah\", \"locale\": \"Suburb\", \"pct_black/hispanic\": 0.1, \"pct_free/reduced\": 0.30000000000000004, \"pp_total_raw\": 7000}, {\"district_id\": 6919, \"state\": \"Florida\", \"locale\": \"Suburb\", \"pct_black/hispanic\": 0.5, \"pct_free/reduced\": 0.5, \"pp_total_raw\": 7000}, {\"district_id\": 7980, \"state\": \"Virginia\", \"locale\": \"Rural\", \"pct_black/hispanic\": 0.1, \"pct_free/reduced\": 0.5, \"pp_total_raw\": 11000}, {\"district_id\": 7387, \"state\": \"Utah\", \"locale\": \"City\", \"pct_black/hispanic\": 0.1, \"pct_free/reduced\": 0.30000000000000004, \"pp_total_raw\": 7000}, {\"district_id\": 2956, \"state\": \"Missouri\", \"locale\": \"City\", \"pct_black/hispanic\": 0.1, \"pct_free/reduced\": 0.5, \"pp_total_raw\": 9000}, {\"district_id\": 9553, \"state\": \"Illinois\", \"locale\": \"Suburb\", \"pct_black/hispanic\": 0.1, \"pct_free/reduced\": 0.1, \"pp_total_raw\": 15000}, {\"district_id\": 1536, \"state\": \"Indiana\", \"locale\": \"Rural\", \"pct_black/hispanic\": 0.1, \"pct_free/reduced\": 0.5, \"pp_total_raw\": 9000}, {\"district_id\": 8937, \"state\": \"Illinois\", \"locale\": \"Rural\", \"pct_black/hispanic\": 0.1, \"pct_free/reduced\": 0.1, \"pp_total_raw\": 13000}, {\"district_id\": 8520, \"state\": \"New York\", \"locale\": \"Rural\", \"pct_black/hispanic\": 0.1, \"pct_free/reduced\": 0.30000000000000004, \"pp_total_raw\": 17000}, {\"district_id\": 2130, \"state\": \"Washington\", \"locale\": \"Suburb\", \"pct_black/hispanic\": 0.5, \"pct_free/reduced\": 0.7, \"pp_total_raw\": 15000}, {\"district_id\": 3772, \"state\": \"Utah\", \"locale\": \"Suburb\", \"pct_black/hispanic\": 0.1, \"pct_free/reduced\": 0.30000000000000004, \"pp_total_raw\": 9000}, {\"district_id\": 4775, \"state\": \"New York\", \"locale\": \"Suburb\", \"pct_black/hispanic\": 0.1, \"pct_free/reduced\": 0.30000000000000004, \"pp_total_raw\": 17000}, {\"district_id\": 9778, \"state\": \"Utah\", \"locale\": \"Town\", \"pct_black/hispanic\": 0.1, \"pct_free/reduced\": 0.5, \"pp_total_raw\": 9000}, {\"district_id\": 1470, \"state\": \"New York\", \"locale\": \"Rural\", \"pct_black/hispanic\": 0.1, \"pct_free/reduced\": 0.5, \"pp_total_raw\": 33000}, {\"district_id\": 1324, \"state\": \"Indiana\", \"locale\": \"Rural\", \"pct_black/hispanic\": 0.1, \"pct_free/reduced\": 0.5, \"pp_total_raw\": 9000}, {\"district_id\": 3160, \"state\": \"Utah\", \"locale\": \"Suburb\", \"pct_black/hispanic\": 0.1, \"pct_free/reduced\": 0.30000000000000004, \"pp_total_raw\": 9000}, {\"district_id\": 2393, \"state\": \"Illinois\", \"locale\": \"Suburb\", \"pct_black/hispanic\": 0.1, \"pct_free/reduced\": 0.1, \"pp_total_raw\": 13000}, {\"district_id\": 9230, \"state\": \"Utah\", \"locale\": \"Rural\", \"pct_black/hispanic\": 0.1, \"pct_free/reduced\": 0.1, \"pp_total_raw\": 7000}, {\"district_id\": 3248, \"state\": \"Illinois\", \"locale\": \"Suburb\", \"pct_black/hispanic\": 0.7, \"pct_free/reduced\": 0.7, \"pp_total_raw\": 13000}, {\"district_id\": 5627, \"state\": \"Indiana\", \"locale\": \"Rural\", \"pct_black/hispanic\": 0.1, \"pct_free/reduced\": 0.5, \"pp_total_raw\": 9000}, {\"district_id\": 7752, \"state\": \"Wisconsin\", \"locale\": \"Suburb\", \"pct_black/hispanic\": 0.1, \"pct_free/reduced\": 0.1, \"pp_total_raw\": 11000}, {\"district_id\": 4348, \"state\": \"Missouri\", \"locale\": \"Suburb\", \"pct_black/hispanic\": 0.1, \"pct_free/reduced\": 0.30000000000000004, \"pp_total_raw\": 9000}, {\"district_id\": 1052, \"state\": \"Illinois\", \"locale\": \"Suburb\", \"pct_black/hispanic\": 0.30000000000000004, \"pct_free/reduced\": 0.30000000000000004, \"pp_total_raw\": 17000}, {\"district_id\": 6762, \"state\": \"Utah\", \"locale\": \"Suburb\", \"pct_black/hispanic\": 0.1, \"pct_free/reduced\": 0.1, \"pp_total_raw\": 5000}, {\"district_id\": 1204, \"state\": \"Utah\", \"locale\": \"Suburb\", \"pct_black/hispanic\": 0.1, \"pct_free/reduced\": 0.1, \"pp_total_raw\": 7000}, {\"district_id\": 2870, \"state\": \"Indiana\", \"locale\": \"Suburb\", \"pct_black/hispanic\": 0.9, \"pct_free/reduced\": 0.7, \"pp_total_raw\": 9000}, {\"district_id\": 3558, \"state\": \"North Carolina\", \"locale\": \"Suburb\", \"pct_black/hispanic\": 0.30000000000000004, \"pct_free/reduced\": 0.30000000000000004, \"pp_total_raw\": 9000}, {\"district_id\": 4668, \"state\": \"Utah\", \"locale\": \"Suburb\", \"pct_black/hispanic\": 0.1, \"pct_free/reduced\": 0.30000000000000004, \"pp_total_raw\": 7000}, {\"district_id\": 2285, \"state\": \"Illinois\", \"locale\": \"Suburb\", \"pct_black/hispanic\": 0.1, \"pct_free/reduced\": 0.5, \"pp_total_raw\": 13000}, {\"district_id\": 4744, \"state\": \"Utah\", \"locale\": \"Suburb\", \"pct_black/hispanic\": 0.30000000000000004, \"pct_free/reduced\": 0.30000000000000004, \"pp_total_raw\": 9000}, {\"district_id\": 7541, \"state\": \"Utah\", \"locale\": \"Suburb\", \"pct_black/hispanic\": 0.30000000000000004, \"pct_free/reduced\": 0.30000000000000004, \"pp_total_raw\": 9000}, {\"district_id\": 1270, \"state\": \"Utah\", \"locale\": \"Rural\", \"pct_black/hispanic\": 0.1, \"pct_free/reduced\": 0.5, \"pp_total_raw\": 9000}, {\"district_id\": 4183, \"state\": \"Utah\", \"locale\": \"Town\", \"pct_black/hispanic\": 0.1, \"pct_free/reduced\": 0.5, \"pp_total_raw\": 9000}, {\"district_id\": 5510, \"state\": \"Washington\", \"locale\": \"City\", \"pct_black/hispanic\": 0.30000000000000004, \"pct_free/reduced\": 0.5, \"pp_total_raw\": 15000}, {\"district_id\": 3228, \"state\": \"Indiana\", \"locale\": \"Town\", \"pct_black/hispanic\": 0.1, \"pct_free/reduced\": 0.5, \"pp_total_raw\": 9000}, {\"district_id\": 5422, \"state\": \"Missouri\", \"locale\": \"Town\", \"pct_black/hispanic\": 0.1, \"pct_free/reduced\": 0.30000000000000004, \"pp_total_raw\": 9000}, {\"district_id\": 8256, \"state\": \"New Jersey\", \"locale\": \"Suburb\", \"pct_black/hispanic\": 0.1, \"pct_free/reduced\": 0.1, \"pp_total_raw\": 15000}, {\"district_id\": 4373, \"state\": \"Utah\", \"locale\": \"City\", \"pct_black/hispanic\": 0.1, \"pct_free/reduced\": 0.1, \"pp_total_raw\": 9000}, {\"district_id\": 2441, \"state\": \"Utah\", \"locale\": \"Town\", \"pct_black/hispanic\": 0.1, \"pct_free/reduced\": 0.30000000000000004, \"pp_total_raw\": 9000}, {\"district_id\": 6144, \"state\": \"Michigan\", \"locale\": \"Suburb\", \"pct_black/hispanic\": 0.5, \"pct_free/reduced\": 0.7, \"pp_total_raw\": 11000}, {\"district_id\": 3732, \"state\": \"Michigan\", \"locale\": \"Suburb\", \"pct_black/hispanic\": 0.5, \"pct_free/reduced\": 0.5, \"pp_total_raw\": 13000}, {\"district_id\": 3266, \"state\": \"Utah\", \"locale\": \"Town\", \"pct_black/hispanic\": 0.1, \"pct_free/reduced\": 0.5, \"pp_total_raw\": 11000}, {\"district_id\": 1705, \"state\": \"Washington\", \"locale\": \"City\", \"pct_black/hispanic\": 0.30000000000000004, \"pct_free/reduced\": 0.5, \"pp_total_raw\": 13000}, {\"district_id\": 9515, \"state\": \"New York\", \"locale\": \"Rural\", \"pct_black/hispanic\": 0.1, \"pct_free/reduced\": 0.5, \"pp_total_raw\": 19000}, {\"district_id\": 4929, \"state\": \"Virginia\", \"locale\": \"Rural\", \"pct_black/hispanic\": 0.1, \"pct_free/reduced\": 0.5, \"pp_total_raw\": 13000}]}}, {\"mode\": \"vega-lite\"});\n",
              "</script>"
            ],
            "text/plain": [
              "alt.Chart(...)"
            ]
          },
          "metadata": {},
          "execution_count": 27
        }
      ]
    },
    {
      "cell_type": "markdown",
      "source": [
        "#**Locale Distribution**\n",
        "\n",
        "* The suburbs are dominating with 59 percentage, which also means people from medium to high class have more access to internet."
      ],
      "metadata": {
        "id": "2TbyyRxiwEIT"
      }
    },
    {
      "cell_type": "code",
      "source": [
        "fig, ax  = plt.subplots(figsize=(16, 8))\n",
        "fig.suptitle('Locale Distribution', size = 20, color = \"black\")\n",
        "explode = ( 0.03, 0.03, 0.3, 0.03)\n",
        "labels = list(districts_data.locale.value_counts().index)\n",
        "sizes = districts_data[\"locale\"].dropna().value_counts()\n",
        "ax.pie(sizes, \n",
        "       explode = explode, \n",
        "       colors = sns.color_palette(\"Set2\"),\n",
        "       startangle = 60,\n",
        "       labels = labels,\n",
        "       autopct = '%1.0f%%',\n",
        "       pctdistance = 0.9\n",
        "      )\n",
        "ax.add_artist(plt.Circle((0,0),0.4,fc='white'))\n",
        "plt.show()"
      ],
      "metadata": {
        "colab": {
          "base_uri": "https://localhost:8080/",
          "height": 523
        },
        "id": "GoV1t5Zev5LI",
        "outputId": "573ed1ce-0234-4e65-a65a-db8d10117890"
      },
      "execution_count": 28,
      "outputs": [
        {
          "output_type": "display_data",
          "data": {
            "text/plain": [
              "<Figure size 1152x576 with 1 Axes>"
            ],
            "image/png": "[encoded data removed]"
          },
          "metadata": {}
        }
      ]
    },
    {
      "cell_type": "markdown",
      "source": [
        "#**Educational Product Providers**\n",
        "\n",
        "* Google provide most educational products then any one close to it\n",
        "* In short online education is dominatied by Google LLC."
      ],
      "metadata": {
        "id": "zyYZ1Dp1wVL-"
      }
    },
    {
      "cell_type": "code",
      "source": [
        "alt.Chart(products_data.dropna()).transform_aggregate(\n",
        "        count='count()',\n",
        "        groupby=['Provider/Company Name']\n",
        "    ).transform_window(\n",
        "        rank='rank(count)',\n",
        "        sort=[alt.SortField('count', order='descending')]\n",
        "    ).transform_filter(\n",
        "        alt.datum.rank < 10\n",
        "    ).mark_bar(\n",
        "    cornerRadiusTopLeft=3,\n",
        "    cornerRadiusTopRight=3).encode(\n",
        "        y=alt.Y('Provider/Company Name:N', sort='-x'),\n",
        "        x='count:Q',\n",
        "        tooltip='count:Q',\n",
        "        color=alt.Color('Provider/Company Name:O',\n",
        "                    sort=alt.EncodingSortField(field=\"Provider/Company Name\",op=\"count\", order='descending'),\n",
        "                    legend=None,scale=alt.Scale(scheme = 'set2')) \n",
        "    ).properties(title='Top Educational Product Providers')"
      ],
      "metadata": {
        "colab": {
          "base_uri": "https://localhost:8080/",
          "height": 399
        },
        "id": "oe0pVnjzwM5d",
        "outputId": "3d2e023a-d99c-4e89-c12b-761668594939"
      },
      "execution_count": 29,
      "outputs": [
        {
          "output_type": "execute_result",
          "data": {
            "text/html": [
              "\n",
              "<div id=\"altair-viz-b410be3a3044412ab053c1e3027fd192\"></div>\n",
              "<script type=\"text/javascript\">\n",
              "  var VEGA_DEBUG = (typeof VEGA_DEBUG == \"undefined\") ? {} : VEGA_DEBUG;\n",
              "  (function(spec, embedOpt){\n",
              "    let outputDiv = document.currentScript.previousElementSibling;\n",
              "    if (outputDiv.id !== \"altair-viz-b410be3a3044412ab053c1e3027fd192\") {\n",
              "      outputDiv = document.getElementById(\"altair-viz-b410be3a3044412ab053c1e3027fd192\");\n",
              "    }\n",
              "    const paths = {\n",
              "      \"vega\": \"https://cdn.jsdelivr.net/npm//vega@5?noext\",\n",
              "      \"vega-lib\": \"https://cdn.jsdelivr.net/npm//vega-lib?noext\",\n",
              "      \"vega-lite\": \"https://cdn.jsdelivr.net/npm//vega-lite@4.17.0?noext\",\n",
              "      \"vega-embed\": \"https://cdn.jsdelivr.net/npm//vega-embed@6?noext\",\n",
              "    };\n",
              "\n",
              "    function maybeLoadScript(lib, version) {\n",
              "      var key = `${lib.replace(\"-\", \"\")}_version`;\n",
              "      return (VEGA_DEBUG[key] == version) ?\n",
              "        Promise.resolve(paths[lib]) :\n",
              "        new Promise(function(resolve, reject) {\n",
              "          var s = document.createElement('script');\n",
              "          document.getElementsByTagName(\"head\")[0].appendChild(s);\n",
              "          s.async = true;\n",
              "          s.onload = () => {\n",
              "            VEGA_DEBUG[key] = version;\n",
              "            return resolve(paths[lib]);\n",
              "          };\n",
              "          s.onerror = () => reject(`Error loading script: ${paths[lib]}`);\n",
              "          s.src = paths[lib];\n",
              "        });\n",
              "    }\n",
              "\n",
              "    function showError(err) {\n",
              "      outputDiv.innerHTML = `<div class=\"error\" style=\"color:red;\">${err}</div>`;\n",
              "      throw err;\n",
              "    }\n",
              "\n",
              "    function displayChart(vegaEmbed) {\n",
              "      vegaEmbed(outputDiv, spec, embedOpt)\n",
              "        .catch(err => showError(`Javascript Error: ${err.message}<br>This usually means there's a typo in your chart specification. See the javascript console for the full traceback.`));\n",
              "    }\n",
              "\n",
              "    if(typeof define === \"function\" && define.amd) {\n",
              "      requirejs.config({paths});\n",
              "      require([\"vega-embed\"], displayChart, err => showError(`Error loading script: ${err.message}`));\n",
              "    } else {\n",
              "      maybeLoadScript(\"vega\", \"5\")\n",
              "        .then(() => maybeLoadScript(\"vega-lite\", \"4.17.0\"))\n",
              "        .then(() => maybeLoadScript(\"vega-embed\", \"6\"))\n",
              "        .catch(showError)\n",
              "        .then(() => displayChart(vegaEmbed));\n",
              "    }\n",
              "  })({\"width\": 500, \"height\": 300, \"config\": {\"style\": {\"bar\": {\"size\": 15}, \"guide-title\": {\"fontSize\": 15}, \"guide-label\": {\"fontSize\": 15}}, \"scale\": {\"bandPaddingInner\": 0.5, \"bandPaddingOuter\": 0.5}, \"legend\": {\"symbolSize\": 15, \"titleFontSize\": 15, \"labelFontSize\": 9}, \"axis\": {\"titleFontSize\": 15, \"labelFontSize\": 18}, \"title\": {\"fontSize\": 20}}, \"data\": {\"name\": \"data-f035f5fe3359ae829ab37aba15c719f6\"}, \"mark\": {\"type\": \"bar\", \"cornerRadiusTopLeft\": 3, \"cornerRadiusTopRight\": 3}, \"encoding\": {\"color\": {\"field\": \"Provider/Company Name\", \"legend\": null, \"scale\": {\"scheme\": \"set2\"}, \"sort\": {\"field\": \"Provider/Company Name\", \"op\": \"count\", \"order\": \"descending\"}, \"type\": \"ordinal\"}, \"tooltip\": {\"field\": \"count\", \"type\": \"quantitative\"}, \"x\": {\"field\": \"count\", \"type\": \"quantitative\"}, \"y\": {\"field\": \"Provider/Company Name\", \"sort\": \"-x\", \"type\": \"nominal\"}}, \"title\": \"Top Educational Product Providers\", \"transform\": [{\"aggregate\": [{\"op\": \"count\", \"as\": \"count\"}], \"groupby\": [\"Provider/Company Name\"]}, {\"window\": [{\"op\": \"rank\", \"field\": \"count\", \"as\": \"rank\"}], \"sort\": [{\"field\": \"count\", \"order\": \"descending\"}]}, {\"filter\": \"(datum.rank < 10)\"}], \"$schema\": \"https://vega.github.io/schema/vega-lite/v4.17.0.json\", \"datasets\": {\"data-f035f5fe3359ae829ab37aba15c719f6\": [{\"LP ID\": 13117, \"URL\": \"https://www.splashmath.com\", \"Product Name\": \"SplashLearn\", \"Provider/Company Name\": \"StudyPad Inc.\", \"Sector(s)\": \"PreK-12\", \"Primary Essential Function\": \"LC - Digital Learning Platforms\"}, {\"LP ID\": 66933, \"URL\": \"https://abcmouse.com\", \"Product Name\": \"ABCmouse.com\", \"Provider/Company Name\": \"Age of Learning, Inc \", \"Sector(s)\": \"PreK-12\", \"Primary Essential Function\": \"LC - Digital Learning Platforms\"}, {\"LP ID\": 50479, \"URL\": \"https://www.abcya.com\", \"Product Name\": \"ABCya!\", \"Provider/Company Name\": \"ABCya.com, LLC\", \"Sector(s)\": \"PreK-12\", \"Primary Essential Function\": \"LC - Sites, Resources & Reference - Games & Simulations\"}, {\"LP ID\": 92993, \"URL\": \"http://www.aleks.com/\", \"Product Name\": \"ALEKS\", \"Provider/Company Name\": \"McGraw-Hill PreK-12\", \"Sector(s)\": \"PreK-12; Higher Ed\", \"Primary Essential Function\": \"LC - Digital Learning Platforms\"}, {\"LP ID\": 73104, \"URL\": \"https://www.achieve3000.com/\", \"Product Name\": \"Achieve3000\", \"Provider/Company Name\": \"Achieve3000\", \"Sector(s)\": \"PreK-12\", \"Primary Essential Function\": \"LC - Digital Learning Platforms\"}, {\"LP ID\": 37600, \"URL\": \"http://www.activelylearn.com/\", \"Product Name\": \"Actively Learn\", \"Provider/Company Name\": \"Actively Learn\", \"Sector(s)\": \"PreK-12\", \"Primary Essential Function\": \"LC - Digital Learning Platforms\"}, {\"LP ID\": 18663, \"URL\": \"http://www.adaptedmind.com\", \"Product Name\": \"AdaptedMind\", \"Provider/Company Name\": \"GloWorld\", \"Sector(s)\": \"PreK-12\", \"Primary Essential Function\": \"LC - Digital Learning Platforms\"}, {\"LP ID\": 65131, \"URL\": \"http://www.amplify.com/\", \"Product Name\": \"Amplify\", \"Provider/Company Name\": \"Amplify Education, Inc.\", \"Sector(s)\": \"PreK-12\", \"Primary Essential Function\": \"LC - Courseware & Textbooks\"}, {\"LP ID\": 26491, \"URL\": \"http://www.answers.com/\", \"Product Name\": \"Answers\", \"Provider/Company Name\": \"Answers\", \"Sector(s)\": \"PreK-12; Higher Ed\", \"Primary Essential Function\": \"LC - Study Tools - Q&A\"}, {\"LP ID\": 56441, \"URL\": \"http://www.audible.com\", \"Product Name\": \"Audible\", \"Provider/Company Name\": \"Amazon.com, Inc. \", \"Sector(s)\": \"PreK-12; Higher Ed; Corporate\", \"Primary Essential Function\": \"LC - Sites, Resources & Reference - Streaming Services\"}, {\"LP ID\": 89802, \"URL\": \"http://bartleby.com/\", \"Product Name\": \"Bartleby\", \"Provider/Company Name\": \"Bartleby\", \"Sector(s)\": \"PreK-12; Higher Ed\", \"Primary Essential Function\": \"LC - Study Tools\"}, {\"LP ID\": 72703, \"URL\": \"http://betterlesson.com/\", \"Product Name\": \"Better Lesson\", \"Provider/Company Name\": \"BetterLesson\", \"Sector(s)\": \"PreK-12; Higher Ed\", \"Primary Essential Function\": \"CM - Teacher Resources - Professional Learning\"}, {\"LP ID\": 76889, \"URL\": \"https://www.blackboard.com/\", \"Product Name\": \"Blackboard\", \"Provider/Company Name\": \"Blackboard Inc\", \"Sector(s)\": \"PreK-12; Higher Ed\", \"Primary Essential Function\": \"SDO - Learning Management Systems (LMS)\"}, {\"LP ID\": 49563, \"URL\": \"https://bookcreator.com/\", \"Product Name\": \"Book Creator\", \"Provider/Company Name\": \"Tools for Schools, Inc. (Book Creator)\", \"Sector(s)\": \"PreK-12\", \"Primary Essential Function\": \"LC - Content Creation & Curation\"}, {\"LP ID\": 55589, \"URL\": \"http://www.brainpop.com/\", \"Product Name\": \"BrainPOP\", \"Provider/Company Name\": \"BrainPOP LLC\", \"Sector(s)\": \"PreK-12\", \"Primary Essential Function\": \"LC - Digital Learning Platforms\"}, {\"LP ID\": 84652, \"URL\": \"http://www.ck12.org\", \"Product Name\": \"CK-12\", \"Provider/Company Name\": \"CK-12 Foundation\", \"Sector(s)\": \"PreK-12\", \"Primary Essential Function\": \"LC - Digital Learning Platforms\"}, {\"LP ID\": 16633, \"URL\": \"http://www.cnn.com/cnn10\", \"Product Name\": \"CNN Student News\", \"Provider/Company Name\": \"Cable News Network\", \"Sector(s)\": \"PreK-12; Higher Ed; Corporate\", \"Primary Essential Function\": \"LC - Sites, Resources & Reference\"}, {\"LP ID\": 47364, \"URL\": \"https://www.canvas.net/\", \"Product Name\": \"Canvas\", \"Provider/Company Name\": \"Instructure, Inc. \", \"Sector(s)\": \"PreK-12; Higher Ed; Corporate\", \"Primary Essential Function\": \"LC - Online Course Providers & Technical Skills Development\"}, {\"LP ID\": 50104, \"URL\": \"http://www.chegg.com/\", \"Product Name\": \"Chegg\", \"Provider/Company Name\": \"Chegg\", \"Sector(s)\": \"PreK-12; Higher Ed\", \"Primary Essential Function\": \"LC - Study Tools\"}, {\"LP ID\": 47267, \"URL\": \"http://www.classdojo.com/\", \"Product Name\": \"ClassDojo\", \"Provider/Company Name\": \"ClassDojo, Inc.\", \"Sector(s)\": \"PreK-12\", \"Primary Essential Function\": \"CM - Classroom Engagement & Instruction - Communication & Messaging\"}, {\"LP ID\": 76649, \"URL\": \"https://clever.com/\", \"Product Name\": \"Clever\", \"Provider/Company Name\": \"Clever\", \"Sector(s)\": \"PreK-12\", \"Primary Essential Function\": \"SDO - School Management Software - SSO\"}, {\"LP ID\": 96116, \"URL\": \"http://www.cliffsnotes.com\", \"Product Name\": \"CliffsNotes\", \"Provider/Company Name\": \"Houghton Mifflin Harcourt\", \"Sector(s)\": \"PreK-12; Higher Ed\", \"Primary Essential Function\": \"LC - Study Tools\"}, {\"LP ID\": 85975, \"URL\": \"http://www.code.org\", \"Product Name\": \"Code.org\", \"Provider/Company Name\": \"Code.org\", \"Sector(s)\": \"PreK-12\", \"Primary Essential Function\": \"LC - Digital Learning Platforms\"}, {\"LP ID\": 94158, \"URL\": \"http://www.coolmath.com\", \"Product Name\": \"CoolMath\", \"Provider/Company Name\": \"Constructive Media\", \"Sector(s)\": \"PreK-12\", \"Primary Essential Function\": \"LC - Sites, Resources & Reference\"}, {\"LP ID\": 64947, \"URL\": \"http://www.desmos.com\", \"Product Name\": \"Desmos\", \"Provider/Company Name\": \"Desmos\", \"Sector(s)\": \"PreK-12; Higher Ed\", \"Primary Essential Function\": \"LC - Study Tools\"}, {\"LP ID\": 15225, \"URL\": \"http://www.merriam-webster.com/\", \"Product Name\": \"Dictionary - Merriam-Webster\", \"Provider/Company Name\": \"Merriam-Webster\", \"Sector(s)\": \"PreK-12; Higher Ed; Corporate\", \"Primary Essential Function\": \"LC - Sites, Resources & Reference - Thesaurus & Dictionary\"}, {\"LP ID\": 14168, \"URL\": \"http://dictionary.com\", \"Product Name\": \"Dictionary.com\", \"Provider/Company Name\": \"Dictionary.com\", \"Sector(s)\": \"PreK-12; Higher Ed; Corporate\", \"Primary Essential Function\": \"LC - Sites, Resources & Reference - Thesaurus & Dictionary\"}, {\"LP ID\": 28633, \"URL\": \"http://www.discoveryeducation.com/\", \"Product Name\": \"Discovery Education\", \"Provider/Company Name\": \"Discovery Communications\", \"Sector(s)\": \"PreK-12\", \"Primary Essential Function\": \"LC - Digital Learning Platforms\"}, {\"LP ID\": 71279, \"URL\": \"http://www.dreambox.com/\", \"Product Name\": \"DreamBox\", \"Provider/Company Name\": \"Dreambox Learning\", \"Sector(s)\": \"PreK-12\", \"Primary Essential Function\": \"LC - Digital Learning Platforms\"}, {\"LP ID\": 98001, \"URL\": \"http://www.dropbox.com\", \"Product Name\": \"Dropbox\", \"Provider/Company Name\": \"Dropbox\", \"Sector(s)\": \"PreK-12; Higher Ed; Corporate\", \"Primary Essential Function\": \"LC/CM/SDO - Other\"}, {\"LP ID\": 43491, \"URL\": \"http://duolingo.com/\", \"Product Name\": \"Duolingo\", \"Provider/Company Name\": \"Duolingo\", \"Sector(s)\": \"PreK-12; Higher Ed; Corporate\", \"Primary Essential Function\": \"LC - Digital Learning Platforms\"}, {\"LP ID\": 35971, \"URL\": \"http://www.edpuzzle.com/\", \"Product Name\": \"Edpuzzle\", \"Provider/Company Name\": \"EDpuzzle Inc.\", \"Sector(s)\": \"PreK-12\", \"Primary Essential Function\": \"LC - Digital Learning Platforms\"}, {\"LP ID\": 50712, \"URL\": \"http://earthquake.usgs.gov/learn/kids/\", \"Product Name\": \"Earthquakes for Kids\", \"Provider/Company Name\": \"US Geological Survey\", \"Sector(s)\": \"PreK-12\", \"Primary Essential Function\": \"LC - Sites, Resources & Reference\"}, {\"LP ID\": 57724, \"URL\": \"http://www.easybib.com/\", \"Product Name\": \"EasyBib\", \"Provider/Company Name\": \"Imagine Easy Solutions\", \"Sector(s)\": \"PreK-12; Higher Ed\", \"Primary Essential Function\": \"LC - Study Tools\"}, {\"LP ID\": 95253, \"URL\": \"http://www.edgenuity.com/\", \"Product Name\": \"Edgenuity\", \"Provider/Company Name\": \"Edgenuity Inc.\", \"Sector(s)\": \"PreK-12; Higher Ed; Corporate\", \"Primary Essential Function\": \"LC - Digital Learning Platforms\"}, {\"LP ID\": 56695, \"URL\": \"http://ellevationeducation.com/\", \"Product Name\": \"Ellevation\", \"Provider/Company Name\": \"Ellevation\", \"Sector(s)\": \"PreK-12\", \"Primary Essential Function\": \"SDO - Data, Analytics & Reporting\"}, {\"LP ID\": 54430, \"URL\": \"http://www.britannica.com/\", \"Product Name\": \"Encyclopedia Britannica\", \"Provider/Company Name\": \"Encyclopaedia Britannica, Inc.\", \"Sector(s)\": \"PreK-12; Higher Ed; Corporate\", \"Primary Essential Function\": \"LC - Sites, Resources & Reference - Encyclopedia\"}, {\"LP ID\": 26970, \"URL\": \"https://www.engageny.org/\", \"Product Name\": \"EngageNY\", \"Provider/Company Name\": \"New York State Education Department\", \"Sector(s)\": \"PreK-12\", \"Primary Essential Function\": \"LC - Sites, Resources & Reference\"}, {\"LP ID\": 98402, \"URL\": \"https://www.reflexmath.com/\", \"Product Name\": \"Reflex Math\", \"Provider/Company Name\": \"ExploreLearning, LLC\", \"Sector(s)\": \"PreK-12\", \"Primary Essential Function\": \"LC - Digital Learning Platforms\"}, {\"LP ID\": 13983, \"URL\": \"http://www.facebook.com/\", \"Product Name\": \"Facebook\", \"Provider/Company Name\": \"Facebook\", \"Sector(s)\": \"PreK-12; Higher Ed; Corporate\", \"Primary Essential Function\": \"LC/CM/SDO - Other\"}, {\"LP ID\": 19044, \"URL\": \"https://fligprid.com\", \"Product Name\": \"Flipgrid\", \"Provider/Company Name\": \"Flipgrid\", \"Sector(s)\": \"PreK-12\", \"Primary Essential Function\": \"LC - Content Creation & Curation\"}, {\"LP ID\": 16753, \"URL\": \"http://www.flocabulary.com/\", \"Product Name\": \"Flocabulary\", \"Provider/Company Name\": \"Flocabulary\", \"Sector(s)\": \"PreK-12; Higher Ed\", \"Primary Essential Function\": \"LC - Digital Learning Platforms\"}, {\"LP ID\": 83076, \"URL\": \"http://www.geogebra.org\", \"Product Name\": \"GeoGebra\", \"Provider/Company Name\": \"GeoGebra\", \"Sector(s)\": \"PreK-12\", \"Primary Essential Function\": \"LC - Study Tools\"}, {\"LP ID\": 23927, \"URL\": \"https://goguardian.com/\", \"Product Name\": \"GoGuardian\", \"Provider/Company Name\": \"GoGuardian\", \"Sector(s)\": \"PreK-12\", \"Primary Essential Function\": \"CM - Classroom Engagement & Instruction - Classroom Management\"}, {\"LP ID\": 86703, \"URL\": \"https://www.gonoodle.com/\", \"Product Name\": \"GoNoodle\", \"Provider/Company Name\": \"HealthTeacher\", \"Sector(s)\": \"PreK-12\", \"Primary Essential Function\": \"CM - Classroom Engagement & Instruction - Classroom Management\"}, {\"LP ID\": 77698, \"URL\": \"http://www.goodreads.com\", \"Product Name\": \"Goodreads\", \"Provider/Company Name\": \"Goodreads\", \"Sector(s)\": \"PreK-12; Higher Ed\", \"Primary Essential Function\": \"LC - Sites, Resources & Reference - Digital Collection & Repository\"}, {\"LP ID\": 72713, \"URL\": \"http://www.google.com/books\", \"Product Name\": \"Google Books\", \"Provider/Company Name\": \"Google LLC\", \"Sector(s)\": \"PreK-12; Higher Ed; Corporate\", \"Primary Essential Function\": \"LC - Sites, Resources & Reference\"}, {\"LP ID\": 30851, \"URL\": \"https://www.google.com/chrome/\", \"Product Name\": \"Google Chrome\", \"Provider/Company Name\": \"Google LLC\", \"Sector(s)\": \"PreK-12; Higher Ed; Corporate\", \"Primary Essential Function\": \"LC/CM/SDO - Other\"}, {\"LP ID\": 95731, \"URL\": \"http://docs.google.com/\", \"Product Name\": \"Google Docs\", \"Provider/Company Name\": \"Google LLC\", \"Sector(s)\": \"PreK-12; Higher Ed; Corporate\", \"Primary Essential Function\": \"LC - Content Creation & Curation\"}, {\"LP ID\": 99916, \"URL\": \"https://drive.google.com/start\", \"Product Name\": \"Google Drive\", \"Provider/Company Name\": \"Google LLC\", \"Sector(s)\": \"PreK-12; Higher Ed; Corporate\", \"Primary Essential Function\": \"LC/CM/SDO - Other\"}, {\"LP ID\": 11206, \"URL\": \"http://www.google.com/earth/\", \"Product Name\": \"Google Earth\", \"Provider/Company Name\": \"Google LLC\", \"Sector(s)\": \"PreK-12; Higher Ed; Corporate\", \"Primary Essential Function\": \"LC - Sites, Resources & Reference\"}, {\"LP ID\": 33185, \"URL\": \"http://www.google.com/forms/about/\", \"Product Name\": \"Google Forms\", \"Provider/Company Name\": \"Google LLC\", \"Sector(s)\": \"PreK-12; Higher Ed; Corporate\", \"Primary Essential Function\": \"CM - Classroom Engagement & Instruction - Assessment & Classroom Response\"}, {\"LP ID\": 48333, \"URL\": \"https://hangouts.google.com/\", \"Product Name\": \"Google Hangouts\", \"Provider/Company Name\": \"Google LLC\", \"Sector(s)\": \"PreK-12; Higher Ed; Corporate\", \"Primary Essential Function\": \"CM - Virtual Classroom - Video Conferencing & Screen Sharing\"}, {\"LP ID\": 69827, \"URL\": \"http://sites.google.com/\", \"Product Name\": \"Google Sites\", \"Provider/Company Name\": \"Google LLC\", \"Sector(s)\": \"PreK-12; Higher Ed; Corporate\", \"Primary Essential Function\": \"SDO - Data, Analytics & Reporting - Site Hosting & Data Warehousing\"}, {\"LP ID\": 16406, \"URL\": \"http://translate.google.com/\", \"Product Name\": \"Google Translate\", \"Provider/Company Name\": \"Google LLC\", \"Sector(s)\": \"PreK-12; Higher Ed; Corporate\", \"Primary Essential Function\": \"LC - Study Tools\"}, {\"LP ID\": 21917, \"URL\": \"https://voice.google.com\", \"Product Name\": \"Google Voice\", \"Provider/Company Name\": \"Google LLC\", \"Sector(s)\": \"PreK-12; Higher Ed; Corporate\", \"Primary Essential Function\": \"CM - Classroom Engagement & Instruction - Communication & Messaging\"}, {\"LP ID\": 52448, \"URL\": \"http://plus.google.com/\", \"Product Name\": \"Google Currents\", \"Provider/Company Name\": \"Google LLC\", \"Sector(s)\": \"PreK-12; Higher Ed; Corporate\", \"Primary Essential Function\": \"CM - Classroom Engagement & Instruction - Communication & Messaging\"}, {\"LP ID\": 51340, \"URL\": \"https://www.grammarly.com/\", \"Product Name\": \"Grammarly\", \"Provider/Company Name\": \"Grammarly\", \"Sector(s)\": \"PreK-12; Higher Ed; Corporate\", \"Primary Essential Function\": \"LC - Study Tools\"}, {\"LP ID\": 95767, \"URL\": \"http://hapara.com/\", \"Product Name\": \"Hapara\", \"Provider/Company Name\": \"Hapara\", \"Sector(s)\": \"PreK-12\", \"Primary Essential Function\": \"CM - Classroom Engagement & Instruction - Classroom Management\"}, {\"LP ID\": 33624, \"URL\": \"http://www.howstuffworks.com/\", \"Product Name\": \"HowStuffWorks\", \"Provider/Company Name\": \"HowStuffWorks\", \"Sector(s)\": \"PreK-12; Higher Ed\", \"Primary Essential Function\": \"LC - Sites, Resources & Reference\"}, {\"LP ID\": 80616, \"URL\": \"https://www.ixl.com/math/\", \"Product Name\": \"IXL Math\", \"Provider/Company Name\": \"IXL Learning\", \"Sector(s)\": \"PreK-12\", \"Primary Essential Function\": \"LC - Digital Learning Platforms\"}, {\"LP ID\": 35007, \"URL\": \"http://www.imaginelearning.com/\", \"Product Name\": \"Imagine Learning\", \"Provider/Company Name\": \"Imagine Learning\", \"Sector(s)\": \"PreK-12\", \"Primary Essential Function\": \"LC - Digital Learning Platforms\"}, {\"LP ID\": 72784, \"URL\": \"http://www.infinitecampus.com/\", \"Product Name\": \"Infinite Campus\", \"Provider/Company Name\": \"Infinite Campus\", \"Sector(s)\": \"PreK-12\", \"Primary Essential Function\": \"SDO - Data, Analytics & Reporting - Student Information Systems (SIS)\"}, {\"LP ID\": 18904, \"URL\": \"http://www.instructables.com/\", \"Product Name\": \"Instructables\", \"Provider/Company Name\": \" Autodesk, Inc\", \"Sector(s)\": \"PreK-12\", \"Primary Essential Function\": \"LC - Sites, Resources & Reference\"}, {\"LP ID\": 50762, \"URL\": \"http://archive.org/\", \"Product Name\": \"Internet Archive\", \"Provider/Company Name\": \"The Internet Archive\", \"Sector(s)\": \"PreK-12; Higher Ed; Corporate\", \"Primary Essential Function\": \"LC - Sites, Resources & Reference - Digital Collection & Repository\"}, {\"LP ID\": 59257, \"URL\": \"http://www.issuu.com\", \"Product Name\": \"Issuu\", \"Provider/Company Name\": \"Issuu\", \"Sector(s)\": \"PreK-12; Higher Ed; Corporate\", \"Primary Essential Function\": \"LC - Content Creation & Curation\"}, {\"LP ID\": 26881, \"URL\": \"http://www.istation.com\", \"Product Name\": \"iStation\", \"Provider/Company Name\": \"Istation\", \"Sector(s)\": \"PreK-12\", \"Primary Essential Function\": \"LC - Digital Learning Platforms\"}, {\"LP ID\": 84217, \"URL\": \"http://blogs.kqed.org/education/e-books/\", \"Product Name\": \"KQED E-books\", \"Provider/Company Name\": \"KQED\", \"Sector(s)\": \"PreK-12; Higher Ed\", \"Primary Essential Function\": \"LC - Sites, Resources & Reference - Digital Collection & Repository\"}, {\"LP ID\": 24711, \"URL\": \"https://kahoot.it\", \"Product Name\": \"Kahoot!\", \"Provider/Company Name\": \"Kahoot! AS\", \"Sector(s)\": \"PreK-12; Higher Ed; Corporate\", \"Primary Essential Function\": \"LC - Study Tools\"}, {\"LP ID\": 29322, \"URL\": \"http://www.khanacademy.org\", \"Product Name\": \"Khan Academy\", \"Provider/Company Name\": \"Khan Academy\", \"Sector(s)\": \"PreK-12; Higher Ed\", \"Primary Essential Function\": \"LC - Digital Learning Platforms\"}, {\"LP ID\": 52175, \"URL\": \"http://www.washingtonpost.com/lifestyle/kidspost\", \"Product Name\": \"The Washington Post KidsPost\", \"Provider/Company Name\": \"Washington Post\", \"Sector(s)\": \"PreK-12\", \"Primary Essential Function\": \"LC - Sites, Resources & Reference\"}, {\"LP ID\": 30025, \"URL\": \"http://www.learnzillion.com/\", \"Product Name\": \"LearnZillion\", \"Provider/Company Name\": \"LearnZillion\", \"Sector(s)\": \"PreK-12\", \"Primary Essential Function\": \"LC - Courseware & Textbooks\"}, {\"LP ID\": 29921, \"URL\": \"http://www.learninga-z.com/index.html\", \"Product Name\": \"Learning A-Z\", \"Provider/Company Name\": \"Learning A-Z\", \"Sector(s)\": \"PreK-12\", \"Primary Essential Function\": \"LC - Courseware & Textbooks\"}, {\"LP ID\": 25559, \"URL\": \"http://www.lexialearning.com/\", \"Product Name\": \"Lexia Core5 Reading\", \"Provider/Company Name\": \"Lexia Learning\", \"Sector(s)\": \"PreK-12\", \"Primary Essential Function\": \"LC - Digital Learning Platforms\"}, {\"LP ID\": 10650, \"URL\": \"http://www.loc.gov\", \"Product Name\": \"Library of Congress\", \"Provider/Company Name\": \"Library of Congress\", \"Sector(s)\": \"PreK-12; Higher Ed; Corporate\", \"Primary Essential Function\": \"LC - Sites, Resources & Reference\"}, {\"LP ID\": 41587, \"URL\": \"http://www.linkedin.com\", \"Product Name\": \"LinkedIn\", \"Provider/Company Name\": \"LinkedIn\", \"Sector(s)\": \"PreK-12; Higher Ed; Corporate\", \"Primary Essential Function\": \"LC - Career Planning & Job Search\"}, {\"LP ID\": 36102, \"URL\": \"https://littlealchemy.com/\", \"Product Name\": \"Little Alchemy\", \"Provider/Company Name\": \"Jakub Koziol\", \"Sector(s)\": \"PreK-12\", \"Primary Essential Function\": \"LC - Sites, Resources & Reference - Games & Simulations\"}, {\"LP ID\": 94954, \"URL\": \"https://www.masteryconnect.com/\", \"Product Name\": \"MasteryConnect\", \"Provider/Company Name\": \"MasteryConnect\", \"Sector(s)\": \"PreK-12\", \"Primary Essential Function\": \"LC - Digital Learning Platforms\"}, {\"LP ID\": 92867, \"URL\": \"http://www.mathplayground.com\", \"Product Name\": \"Math Playground\", \"Provider/Company Name\": \"Math Playground\", \"Sector(s)\": \"PreK-12\", \"Primary Essential Function\": \"LC - Sites, Resources & Reference - Games & Simulations\"}, {\"LP ID\": 57949, \"URL\": \"https://mathway.com/mobile\", \"Product Name\": \"Mathway\", \"Provider/Company Name\": \"Mathway\", \"Sector(s)\": \"PreK-12; Higher Ed\", \"Primary Essential Function\": \"LC - Study Tools\"}, {\"LP ID\": 81127, \"URL\": \"http://spaceplace.nasa.gov\", \"Product Name\": \"NASA's Space Place\", \"Provider/Company Name\": \"NASA\", \"Sector(s)\": \"PreK-12\", \"Primary Essential Function\": \"LC - Sites, Resources & Reference\"}, {\"LP ID\": 16468, \"URL\": \"http://www.archives.gov/\", \"Product Name\": \"National Archives\", \"Provider/Company Name\": \"United States National Archives\", \"Sector(s)\": \"PreK-12; Higher Ed\", \"Primary Essential Function\": \"LC - Sites, Resources & Reference - Digital Collection & Repository\"}, {\"LP ID\": 55031, \"URL\": \"https://nearpod.com/\", \"Product Name\": \"Nearpod\", \"Provider/Company Name\": \"Nearpod Inc.\", \"Sector(s)\": \"PreK-12\", \"Primary Essential Function\": \"LC - Digital Learning Platforms\"}, {\"LP ID\": 97280, \"URL\": \"http://www.newsela.com\", \"Product Name\": \"Newsela\", \"Provider/Company Name\": \"Newsela\", \"Sector(s)\": \"PreK-12\", \"Primary Essential Function\": \"LC - Digital Learning Platforms\"}, {\"LP ID\": 62934, \"URL\": \"http://www.noredink.com/\", \"Product Name\": \"NoRedInk\", \"Provider/Company Name\": \"NoRedInk\", \"Sector(s)\": \"PreK-12\", \"Primary Essential Function\": \"LC - Digital Learning Platforms\"}, {\"LP ID\": 19181, \"URL\": \"http://noodletools.com/\", \"Product Name\": \"NoodleTools\", \"Provider/Company Name\": \"NoodleTools\", \"Sector(s)\": \"PreK-12; Higher Ed\", \"Primary Essential Function\": \"LC - Study Tools\"}, {\"LP ID\": 26372, \"URL\": \"https://www.overdrive.com/\", \"Product Name\": \"OverDrive Education\", \"Provider/Company Name\": \"OverDrive\", \"Sector(s)\": \"PreK-12; Higher Ed\", \"Primary Essential Function\": \"LC - Sites, Resources & Reference - Digital Collection & Repository\"}, {\"LP ID\": 51853, \"URL\": \"http://pbskids.org/\", \"Product Name\": \"PBS Kids\", \"Provider/Company Name\": \"PBS\", \"Sector(s)\": \"PreK-12\", \"Primary Essential Function\": \"LC - Sites, Resources & Reference - Games & Simulations\"}, {\"LP ID\": 86575, \"URL\": \"http://www.pbslearningmedia.org/\", \"Product Name\": \"PBS LearningMedia\", \"Provider/Company Name\": \"PBS\", \"Sector(s)\": \"PreK-12\", \"Primary Essential Function\": \"LC - Digital Learning Platforms\"}, {\"LP ID\": 73101, \"URL\": \"http://padlet.com/\", \"Product Name\": \"Padlet\", \"Provider/Company Name\": \"Padlet\", \"Sector(s)\": \"PreK-12; Higher Ed; Corporate\", \"Primary Essential Function\": \"LC - Content Creation & Curation\"}, {\"LP ID\": 44853, \"URL\": \"https://www.panoramaed.com/\", \"Product Name\": \"Panorama Education\", \"Provider/Company Name\": \"Panorama Education\", \"Sector(s)\": \"PreK-12\", \"Primary Essential Function\": \"SDO - Human Resources\"}, {\"LP ID\": 90440, \"URL\": \"https://www.pebblego.com/login.php\", \"Product Name\": \"PebbleGo\", \"Provider/Company Name\": \"Capstone\", \"Sector(s)\": \"PreK-12\", \"Primary Essential Function\": \"LC - Digital Learning Platforms\"}, {\"LP ID\": 37017, \"URL\": \"https://pixlr.com/\", \"Product Name\": \"Pixlr\", \"Provider/Company Name\": \"Pixlr\", \"Sector(s)\": \"PreK-12; Higher Ed; Corporate\", \"Primary Essential Function\": \"LC - Content Creation & Curation\"}, {\"LP ID\": 92871, \"URL\": \"https://www.powerschool.com/\", \"Product Name\": \"PowerSchool\", \"Provider/Company Name\": \"PowerSchool Group LLC\", \"Sector(s)\": \"PreK-12; Higher Ed; Corporate\", \"Primary Essential Function\": \"SDO - Data, Analytics & Reporting - Student Information Systems (SIS)\"}, {\"LP ID\": 65358, \"URL\": \"http://www.prezi.com\", \"Product Name\": \"Prezi\", \"Provider/Company Name\": \"Prezi Inc.\", \"Sector(s)\": \"PreK-12; Higher Ed; Corporate\", \"Primary Essential Function\": \"LC - Content Creation & Curation\"}, {\"LP ID\": 64948, \"URL\": \"https://prodigygame.com/\", \"Product Name\": \"Prodigy\", \"Provider/Company Name\": \"SMARTeacher Inc.\", \"Sector(s)\": \"PreK-12\", \"Primary Essential Function\": \"LC - Sites, Resources & Reference - Games & Simulations\"}, {\"LP ID\": 49570, \"URL\": \"http://www.ptable.com/\", \"Product Name\": \"Ptable\", \"Provider/Company Name\": \"Michael Dayah\", \"Sector(s)\": \"PreK-12; Higher Ed\", \"Primary Essential Function\": \"LC - Sites, Resources & Reference\"}, {\"LP ID\": 23483, \"URL\": \"http://owl.english.purdue.edu/\", \"Product Name\": \"Purdue Online Writing Lab\", \"Provider/Company Name\": \"Online Writing Lab\", \"Sector(s)\": \"PreK-12; Higher Ed\", \"Primary Essential Function\": \"LC - Sites, Resources & Reference\"}, {\"LP ID\": 49062, \"URL\": \"http://www.quia.com/web\", \"Product Name\": \"Quia Web\", \"Provider/Company Name\": \"IXL Learning\", \"Sector(s)\": \"PreK-12\", \"Primary Essential Function\": \"LC - Digital Learning Platforms\"}, {\"LP ID\": 20594, \"URL\": \"http://www.quill.org/\", \"Product Name\": \"Quill\", \"Provider/Company Name\": \"Quill.org\", \"Sector(s)\": \"PreK-12\", \"Primary Essential Function\": \"LC - Study Tools\"}, {\"LP ID\": 98265, \"URL\": \"http://quizlet.com/\", \"Product Name\": \"Quizlet\", \"Provider/Company Name\": \"Quizlet\", \"Sector(s)\": \"PreK-12\", \"Primary Essential Function\": \"LC - Study Tools\"}, {\"LP ID\": 80144, \"URL\": \"https://www.quora.com/\", \"Product Name\": \"Quora\", \"Provider/Company Name\": \"Quora\", \"Sector(s)\": \"PreK-12; Higher Ed; Corporate\", \"Primary Essential Function\": \"LC - Study Tools - Q&A\"}, {\"LP ID\": 83862, \"URL\": \"http://www.raz-kids.com/\", \"Product Name\": \"Raz-Kids\", \"Provider/Company Name\": \"Learning A-Z\", \"Sector(s)\": \"PreK-12\", \"Primary Essential Function\": \"LC - Digital Learning Platforms\"}, {\"LP ID\": 64915, \"URL\": \"http://www.readworks.org/\", \"Product Name\": \"ReadWorks\", \"Provider/Company Name\": \"ReadWorks\", \"Sector(s)\": \"PreK-12\", \"Primary Essential Function\": \"LC - Digital Learning Platforms\"}, {\"LP ID\": 55355, \"URL\": \"http://www.readwritethink.org/\", \"Product Name\": \"ReadWriteThink\", \"Provider/Company Name\": \"ReadWriteThink.org\", \"Sector(s)\": \"PreK-12\", \"Primary Essential Function\": \"LC - Sites, Resources & Reference\"}, {\"LP ID\": 84007, \"URL\": \"http://www.readinga-z.com\", \"Product Name\": \"Reading A-Z\", \"Provider/Company Name\": \"Learning A-Z\", \"Sector(s)\": \"PreK-12\", \"Primary Essential Function\": \"LC - Courseware & Textbooks\"}, {\"LP ID\": 95859, \"URL\": \"http://remind.com/\", \"Product Name\": \"Remind\", \"Provider/Company Name\": \"Remind101\", \"Sector(s)\": \"PreK-12\", \"Primary Essential Function\": \"CM - Classroom Engagement & Instruction - Communication & Messaging\"}, {\"LP ID\": 64998, \"URL\": \"http://web.stmath.com/\", \"Product Name\": \"ST Math\", \"Provider/Company Name\": \"MIND Research Institute\", \"Sector(s)\": \"PreK-12\", \"Primary Essential Function\": \"LC - Digital Learning Platforms\"}, {\"LP ID\": 56218, \"URL\": \"http://www.schoolloop.com/\", \"Product Name\": \"School Loop\", \"Provider/Company Name\": \"School Loop\", \"Sector(s)\": \"PreK-12\", \"Primary Essential Function\": \"SDO - Data, Analytics & Reporting - Site Hosting & Data Warehousing\"}, {\"LP ID\": 49094, \"URL\": \"http://www.schooltube.com/\", \"Product Name\": \"SchoolTube\", \"Provider/Company Name\": \"SchoolTube\", \"Sector(s)\": \"PreK-12; Higher Ed\", \"Primary Essential Function\": \"CM - Classroom Engagement & Instruction - Classroom Management\"}, {\"LP ID\": 54550, \"URL\": \"http://www.schoolnet.com/\", \"Product Name\": \"Schoolnet\", \"Provider/Company Name\": \"Savvas Learning Company | Formerly Pearson K12 Learning\", \"Sector(s)\": \"PreK-12\", \"Primary Essential Function\": \"LC - Digital Learning Platforms\"}, {\"LP ID\": 20069, \"URL\": \"http://www.schoology.com/\", \"Product Name\": \"Schoology\", \"Provider/Company Name\": \"Schoology\", \"Sector(s)\": \"PreK-12\", \"Primary Essential Function\": \"SDO - Learning Management Systems (LMS)\"}, {\"LP ID\": 93256, \"URL\": \"http://www.nature.com/scitable\", \"Product Name\": \"Scitable\", \"Provider/Company Name\": \"Nature America, Inc\", \"Sector(s)\": \"PreK-12; Higher Ed\", \"Primary Essential Function\": \"LC - Sites, Resources & Reference - Digital Collection & Repository\"}, {\"LP ID\": 71805, \"URL\": \"http://scratch.mit.edu/\", \"Product Name\": \"Scratch\", \"Provider/Company Name\": \"MIT Media Lab\", \"Sector(s)\": \"PreK-12\", \"Primary Essential Function\": \"LC - Content Creation & Curation\"}, {\"LP ID\": 50580, \"URL\": \"http://securly.com/\", \"Product Name\": \"Securly Anywhere Filter\", \"Provider/Company Name\": \"Securly Inc \", \"Sector(s)\": \"PreK-12\", \"Primary Essential Function\": \"SDO - School Management Software - Mobile Device Management\"}, {\"LP ID\": 56028, \"URL\": \"http://www.shmoop.com\", \"Product Name\": \"Shmoop\", \"Provider/Company Name\": \"Shmoop University, Inc\", \"Sector(s)\": \"PreK-12\", \"Primary Essential Function\": \"LC - Study Tools\"}, {\"LP ID\": 12803, \"URL\": \"http://www.slideshare.net/\", \"Product Name\": \"SlideShare\", \"Provider/Company Name\": \"LinkedIn\", \"Sector(s)\": \"PreK-12; Higher Ed\", \"Primary Essential Function\": \"LC - Sites, Resources & Reference\"}, {\"LP ID\": 30593, \"URL\": \"http://www.socrative.com/\", \"Product Name\": \"Socrative\", \"Provider/Company Name\": \"Showbie Inc \", \"Sector(s)\": \"PreK-12\", \"Primary Essential Function\": \"LC - Digital Learning Platforms\"}, {\"LP ID\": 54827, \"URL\": \"http://www.soundcloud.com\", \"Product Name\": \"SoundCloud\", \"Provider/Company Name\": \"SoundCloud\", \"Sector(s)\": \"PreK-12; Higher Ed; Corporate\", \"Primary Essential Function\": \"LC - Sites, Resources & Reference - Streaming Services\"}, {\"LP ID\": 85072, \"URL\": \"http://www.space.com/\", \"Product Name\": \"Space.com\", \"Provider/Company Name\": \"Purch\", \"Sector(s)\": \"PreK-12; Higher Ed\", \"Primary Essential Function\": \"LC - Sites, Resources & Reference\"}, {\"LP ID\": 49751, \"URL\": \"http://www.sparknotes.com\", \"Product Name\": \"SparkNotes\", \"Provider/Company Name\": \"SparkNotes\", \"Sector(s)\": \"PreK-12; Higher Ed\", \"Primary Essential Function\": \"LC - Study Tools\"}, {\"LP ID\": 55450, \"URL\": \"https://apps.apple.com/us/app/spotify-music-and-podcasts/id324684580?ign-mpt=uo%3D4\", \"Product Name\": \"Spotify: Music and podcasts\", \"Provider/Company Name\": \"Spotify Ltd\", \"Sector(s)\": \"PreK-12; Higher Ed; Corporate\", \"Primary Essential Function\": \"LC - Sites, Resources & Reference - Streaming Services\"}, {\"LP ID\": 64838, \"URL\": \"http://www.starfall.com/\", \"Product Name\": \"Starfall\", \"Provider/Company Name\": \"Starfall Education\", \"Sector(s)\": \"PreK-12\", \"Primary Essential Function\": \"LC - Sites, Resources & Reference - Games & Simulations\"}, {\"LP ID\": 39841, \"URL\": \"http://studyjams.scholastic.com\", \"Product Name\": \"StudyJams!\", \"Provider/Company Name\": \"Scholastic Inc\", \"Sector(s)\": \"PreK-12\", \"Primary Essential Function\": \"LC - Sites, Resources & Reference\"}, {\"LP ID\": 58986, \"URL\": \"http://www.tolerance.org/\", \"Product Name\": \"Learning for Justice\", \"Provider/Company Name\": \"Southern Poverty Law Center\", \"Sector(s)\": \"PreK-12\", \"Primary Essential Function\": \"LC - Sites, Resources & Reference\"}, {\"LP ID\": 94264, \"URL\": \"http://www.physicsclassroom.com/\", \"Product Name\": \"The Physics Classroom\", \"Provider/Company Name\": \"Physics Classroom, LLC\", \"Sector(s)\": \"PreK-12; Higher Ed\", \"Primary Essential Function\": \"LC - Sites, Resources & Reference\"}, {\"LP ID\": 86059, \"URL\": \"http://thesaurus.com/\", \"Product Name\": \"Thesaurus.com\", \"Provider/Company Name\": \"Dictionary.com\", \"Sector(s)\": \"PreK-12; Higher Ed; Corporate\", \"Primary Essential Function\": \"LC - Sites, Resources & Reference - Thesaurus & Dictionary\"}, {\"LP ID\": 78586, \"URL\": \"http://www.thinglink.com\", \"Product Name\": \"ThingLink\", \"Provider/Company Name\": \"ThingLink\", \"Sector(s)\": \"PreK-12; Higher Ed; Corporate\", \"Primary Essential Function\": \"LC - Content Creation & Curation\"}, {\"LP ID\": 14124, \"URL\": \"http://www.tumblr.com/\", \"Product Name\": \"Tumblr\", \"Provider/Company Name\": \"Tumblr \", \"Sector(s)\": \"PreK-12; Higher Ed\", \"Primary Essential Function\": \"LC/CM/SDO - Other\"}, {\"LP ID\": 73323, \"URL\": \"http://turnitin.com/\", \"Product Name\": \"Turnitin\", \"Provider/Company Name\": \"Turnitin\", \"Sector(s)\": \"PreK-12; Higher Ed\", \"Primary Essential Function\": \"CM - Teacher Resources - Grading & Attendance\"}, {\"LP ID\": 41581, \"URL\": \"http://www.tynker.com/\", \"Product Name\": \"Tynker\", \"Provider/Company Name\": \"Neuron Fuel\", \"Sector(s)\": \"PreK-12\", \"Primary Essential Function\": \"LC - Digital Learning Platforms\"}, {\"LP ID\": 93742, \"URL\": \"http://www.typingclub.com\", \"Product Name\": \"TypingClub\", \"Provider/Company Name\": \"TypingClub\", \"Sector(s)\": \"PreK-12; Higher Ed; Corporate\", \"Primary Essential Function\": \"LC - Digital Learning Platforms\"}, {\"LP ID\": 75451, \"URL\": \"http://www.ushmm.org/\", \"Product Name\": \"United States Holocaust Memorial Museum\", \"Provider/Company Name\": \"US Holocaust Museum\", \"Sector(s)\": \"PreK-12; Higher Ed\", \"Primary Essential Function\": \"LC - Sites, Resources & Reference\"}, {\"LP ID\": 26753, \"URL\": \"http://vimeo.com/\", \"Product Name\": \"Vimeo\", \"Provider/Company Name\": \"Vimeo\", \"Sector(s)\": \"PreK-12; Higher Ed; Corporate\", \"Primary Essential Function\": \"LC - Content Creation & Curation\"}, {\"LP ID\": 14769, \"URL\": \"http://www.spellingcity.com/\", \"Product Name\": \"Vocabulary Spelling City\", \"Provider/Company Name\": \"VocabularySpellingCity\", \"Sector(s)\": \"PreK-12\", \"Primary Essential Function\": \"LC - Digital Learning Platforms\"}, {\"LP ID\": 94324, \"URL\": \"http://www.wevideo.com/education\", \"Product Name\": \"WeVideo for Schools\", \"Provider/Company Name\": \"WeVideo, Inc.\", \"Sector(s)\": \"PreK-12; Higher Ed; Corporate\", \"Primary Essential Function\": \"LC - Content Creation & Curation\"}, {\"LP ID\": 32050, \"URL\": \"https://www.webex.com/\", \"Product Name\": \"WebEx\", \"Provider/Company Name\": \"Cisco\", \"Sector(s)\": \"PreK-12; Higher Ed; Corporate\", \"Primary Essential Function\": \"CM - Virtual Classroom - Video Conferencing & Screen Sharing\"}, {\"LP ID\": 13699, \"URL\": \"http://www.weebly.com\", \"Product Name\": \"Weebly\", \"Provider/Company Name\": \"Weebly\", \"Sector(s)\": \"Corporate\", \"Primary Essential Function\": \"SDO - Data, Analytics & Reporting\"}, {\"LP ID\": 68490, \"URL\": \"http://commons.wikimedia.org/\", \"Product Name\": \"Wikimedia Commons\", \"Provider/Company Name\": \"The Wikimedia Foundation\", \"Sector(s)\": \"PreK-12; Higher Ed; Corporate\", \"Primary Essential Function\": \"LC - Sites, Resources & Reference - Digital Collection & Repository\"}, {\"LP ID\": 13496, \"URL\": \"http://www.wikipedia.org/\", \"Product Name\": \"Wikipedia\", \"Provider/Company Name\": \"The Wikimedia Foundation\", \"Sector(s)\": \"PreK-12; Higher Ed; Corporate\", \"Primary Essential Function\": \"LC - Sites, Resources & Reference - Encyclopedia\"}, {\"LP ID\": 25793, \"URL\": \"http://www.wix.com/\", \"Product Name\": \"Wix\", \"Provider/Company Name\": \"Wix.com, Inc\", \"Sector(s)\": \"PreK-12; Higher Ed; Corporate\", \"Primary Essential Function\": \"SDO - Data, Analytics & Reporting - Site Hosting & Data Warehousing\"}, {\"LP ID\": 69429, \"URL\": \"http://wordpress.com/\", \"Product Name\": \"WordPress\", \"Provider/Company Name\": \"WordPress\", \"Sector(s)\": \"PreK-12; Higher Ed; Corporate\", \"Primary Essential Function\": \"SDO - Data, Analytics & Reporting - Site Hosting & Data Warehousing\"}, {\"LP ID\": 24744, \"URL\": \"http://worldbookonline.com/\", \"Product Name\": \"World Book Online\", \"Provider/Company Name\": \"World Book, Inc\", \"Sector(s)\": \"PreK-12; Higher Ed\", \"Primary Essential Function\": \"LC - Sites, Resources & Reference - Encyclopedia\"}, {\"LP ID\": 11406, \"URL\": \"http://www.wyzant.com\", \"Product Name\": \"WyzAnt\", \"Provider/Company Name\": \"WyzAnt\", \"Sector(s)\": \"PreK-12\", \"Primary Essential Function\": \"LC - Study Tools - Tutoring\"}, {\"LP ID\": 61384, \"URL\": \"http://www.xtramath.org/\", \"Product Name\": \"XtraMath\", \"Provider/Company Name\": \"XtraMath\", \"Sector(s)\": \"PreK-12\", \"Primary Essential Function\": \"LC - Digital Learning Platforms\"}, {\"LP ID\": 61292, \"URL\": \"http://www.youtube.com\", \"Product Name\": \"YouTube\", \"Provider/Company Name\": \"Google LLC\", \"Sector(s)\": \"PreK-12; Higher Ed; Corporate\", \"Primary Essential Function\": \"LC - Sites, Resources & Reference - Streaming Services\"}, {\"LP ID\": 93690, \"URL\": \"http://www.calculator.com\", \"Product Name\": \"Calculator.com\", \"Provider/Company Name\": \"Calculator.com\", \"Sector(s)\": \"PreK-12; Higher Ed; Corporate\", \"Primary Essential Function\": \"LC - Sites, Resources & Reference\"}, {\"LP ID\": 61441, \"URL\": \"http://www.i-ready.com/\", \"Product Name\": \"i-Ready\", \"Provider/Company Name\": \"Curriculum Associates\", \"Sector(s)\": \"PreK-12\", \"Primary Essential Function\": \"LC - Digital Learning Platforms\"}, {\"LP ID\": 17182, \"URL\": \"http://www.icivics.org/\", \"Product Name\": \"iCivics\", \"Provider/Company Name\": \"iCivics Inc\", \"Sector(s)\": \"PreK-12\", \"Primary Essential Function\": \"LC - Sites, Resources & Reference\"}, {\"LP ID\": 50724, \"URL\": \"https://www.myon.com/index.html\", \"Product Name\": \"myON Reader\", \"Provider/Company Name\": \"Renaissance Learning\", \"Sector(s)\": \"PreK-12\", \"Primary Essential Function\": \"LC - Digital Learning Platforms\"}, {\"LP ID\": 54794, \"URL\": \"https://www.ets.org/\", \"Product Name\": \"MAPP\", \"Provider/Company Name\": \"Educational Testing Service\", \"Sector(s)\": \"PreK-12; Higher Ed; Corporate\", \"Primary Essential Function\": \"SDO - Large-Scale & Standardized Testing\"}, {\"LP ID\": 63335, \"URL\": \"https://www.mathgames.com/\", \"Product Name\": \"Math Games (MathGames)\", \"Provider/Company Name\": \"TeachMe\", \"Sector(s)\": \"PreK-12\", \"Primary Essential Function\": \"LC - Sites, Resources & Reference - Games & Simulations\"}, {\"LP ID\": 57343, \"URL\": \"http://goformative.com/\", \"Product Name\": \"Formative\", \"Provider/Company Name\": \"Formative\", \"Sector(s)\": \"PreK-12\", \"Primary Essential Function\": \"LC - Digital Learning Platforms\"}, {\"LP ID\": 40928, \"URL\": \"https://www.peardeck.com/\", \"Product Name\": \"Pear Deck\", \"Provider/Company Name\": \"Pear Deck\", \"Sector(s)\": \"PreK-12\", \"Primary Essential Function\": \"LC - Digital Learning Platforms\"}, {\"LP ID\": 58235, \"URL\": \"http://ed.ted.com/\", \"Product Name\": \"TedEd\", \"Provider/Company Name\": \"TED Conferences\", \"Sector(s)\": \"PreK-12; Higher Ed\", \"Primary Essential Function\": \"LC - Sites, Resources & Reference\"}, {\"LP ID\": 32213, \"URL\": \"https://classroom.google.com\", \"Product Name\": \"Google Classroom\", \"Provider/Company Name\": \"Google LLC\", \"Sector(s)\": \"PreK-12; Higher Ed; Corporate\", \"Primary Essential Function\": \"SDO - Learning Management Systems (LMS)\"}, {\"LP ID\": 26696, \"URL\": \"https://www.surveymonkey.com/\", \"Product Name\": \"SurveyMonkey\", \"Provider/Company Name\": \"SurveyMonkey\", \"Sector(s)\": \"PreK-12; Higher Ed; Corporate\", \"Primary Essential Function\": \"CM - Classroom Engagement & Instruction - Assessment & Classroom Response\"}, {\"LP ID\": 49571, \"URL\": \"http://www.education.com/\", \"Product Name\": \"Education.com\", \"Provider/Company Name\": \"Education.com\", \"Sector(s)\": \"PreK-12\", \"Primary Essential Function\": \"LC - Sites, Resources & Reference\"}, {\"LP ID\": 25585, \"URL\": \"http://www.heinemann.com/fountasandpinnell/lli_overview.aspx\", \"Product Name\": \"Leveled Literacy Intervention\", \"Provider/Company Name\": \"Houghton Mifflin Harcourt\", \"Sector(s)\": \"PreK-12\", \"Primary Essential Function\": \"LC - Courseware & Textbooks\"}, {\"LP ID\": 59304, \"URL\": \"http://www.weareteachers.com/\", \"Product Name\": \"WeAreTeachers\", \"Provider/Company Name\": \"WeAreTeachers\", \"Sector(s)\": \"PreK-12\", \"Primary Essential Function\": \"CM - Teacher Resources - Lesson Planning\"}, {\"LP ID\": 78662, \"URL\": \"https://www.teachervision.com/\", \"Product Name\": \"TeacherVision\", \"Provider/Company Name\": \"Sandbox Networks\", \"Sector(s)\": \"PreK-12\", \"Primary Essential Function\": \"CM - Teacher Resources - Lesson Planning\"}, {\"LP ID\": 65277, \"URL\": \"https://www.teacherspayteachers.com/\", \"Product Name\": \"TeachersPayTeachers\", \"Provider/Company Name\": \"TEACHERSPAYTEACHERS\", \"Sector(s)\": \"PreK-12\", \"Primary Essential Function\": \"CM - Teacher Resources - Lesson Planning\"}, {\"LP ID\": 34887, \"URL\": \"http://www.naviance.com/\", \"Product Name\": \"Naviance\", \"Provider/Company Name\": \"Hobsons\", \"Sector(s)\": \"PreK-12\", \"Primary Essential Function\": \"LC - Career Planning & Job Search\"}, {\"LP ID\": 91030, \"URL\": \"http://brainly.com/\", \"Product Name\": \"Brainly\", \"Provider/Company Name\": \"Brainly\", \"Sector(s)\": \"PreK-12\", \"Primary Essential Function\": \"LC - Study Tools - Q&A\"}, {\"LP ID\": 78063, \"URL\": \"https://www.classlink.com/\", \"Product Name\": \"ClassLink\", \"Provider/Company Name\": \"ClassLink\", \"Sector(s)\": \"PreK-12; Higher Ed\", \"Primary Essential Function\": \"SDO - School Management Software - SSO\"}, {\"LP ID\": 35237, \"URL\": \"http://www.sharpschool.com/\", \"Product Name\": \"Sharp School\", \"Provider/Company Name\": \"SharpSchool\", \"Sector(s)\": \"PreK-12\", \"Primary Essential Function\": \"SDO - Data, Analytics & Reporting - Site Hosting & Data Warehousing\"}, {\"LP ID\": 37153, \"URL\": \"https://www.zearn.org/\", \"Product Name\": \"Zearn\", \"Provider/Company Name\": \"Zearn\", \"Sector(s)\": \"PreK-12\", \"Primary Essential Function\": \"LC - Digital Learning Platforms\"}, {\"LP ID\": 67035, \"URL\": \"http://www.commonlit.org/\", \"Product Name\": \"CommonLit\", \"Provider/Company Name\": \"CommonLit\", \"Sector(s)\": \"PreK-12\", \"Primary Essential Function\": \"LC - Digital Learning Platforms\"}, {\"LP ID\": 76229, \"URL\": \"http://www.readtheory.org/\", \"Product Name\": \"Read Theory\", \"Provider/Company Name\": \"Read Theory\", \"Sector(s)\": \"PreK-12\", \"Primary Essential Function\": \"LC - Digital Learning Platforms\"}, {\"LP ID\": 52615, \"URL\": \"http://mysteryscience.com/\", \"Product Name\": \"Mystery Science\", \"Provider/Company Name\": \"Mystery Science, Inc\", \"Sector(s)\": \"PreK-12\", \"Primary Essential Function\": \"LC - Sites, Resources & Reference\"}, {\"LP ID\": 24120, \"URL\": \"http://www.edulastic.com/\", \"Product Name\": \"Edulastic\", \"Provider/Company Name\": \"Edulastic\", \"Sector(s)\": \"PreK-12\", \"Primary Essential Function\": \"LC - Digital Learning Platforms\"}, {\"LP ID\": 55032, \"URL\": \"http://www.ascd.org/professional-development.aspx\", \"Product Name\": \"ASCD Professional Development Tools\", \"Provider/Company Name\": \"Association for Supervision and Curriculum Development\", \"Sector(s)\": \"PreK-12\", \"Primary Essential Function\": \"CM - Teacher Resources - Professional Learning\"}, {\"LP ID\": 50692, \"URL\": \"https://www.schoolmessenger.com\", \"Product Name\": \"SchoolMessenger\", \"Provider/Company Name\": \"West Corporation\", \"Sector(s)\": \"PreK-12\", \"Primary Essential Function\": \"CM - Classroom Engagement & Instruction - Communication & Messaging\"}, {\"LP ID\": 73952, \"URL\": \"http://www.mheducation.com\", \"Product Name\": \"McGraw-Hill Education\", \"Provider/Company Name\": \"McGraw-Hill PreK-12\", \"Sector(s)\": \"PreK-12; Higher Ed\", \"Primary Essential Function\": \"LC - Courseware & Textbooks\"}, {\"LP ID\": 81236, \"URL\": \"https://www.box.com/\", \"Product Name\": \"Box\", \"Provider/Company Name\": \"Box\", \"Sector(s)\": \"PreK-12; Higher Ed; Corporate\", \"Primary Essential Function\": \"LC/CM/SDO - Other\"}, {\"LP ID\": 28525, \"URL\": \"https://www.renaissance.com\", \"Product Name\": \"Renaissance Learning\", \"Provider/Company Name\": \"Renaissance Learning\", \"Sector(s)\": \"PreK-12\", \"Primary Essential Function\": \"LC - Digital Learning Platforms\"}, {\"LP ID\": 71275, \"URL\": \"http://wistia.com/\", \"Product Name\": \"Wistia\", \"Provider/Company Name\": \"Wistia\", \"Sector(s)\": \"PreK-12; Higher Ed; Corporate\", \"Primary Essential Function\": \"LC - Content Creation & Curation\"}, {\"LP ID\": 67431, \"URL\": \"http://www.autodesk.com\", \"Product Name\": \"Autodesk\", \"Provider/Company Name\": \" Autodesk, Inc\", \"Sector(s)\": \"PreK-12; Higher Ed; Corporate\", \"Primary Essential Function\": \"LC - Content Creation & Curation\"}, {\"LP ID\": 43149, \"URL\": \"http://contentkeeper.com/\", \"Product Name\": \"ContentKeeper\", \"Provider/Company Name\": \"ContentKeeper Technologies\", \"Sector(s)\": \"PreK-12; Higher Ed; Corporate\", \"Primary Essential Function\": \"SDO - School Management Software - Mobile Device Management\"}, {\"LP ID\": 57293, \"URL\": \"http://www.worldcampus.psu.edu\", \"Product Name\": \"Penn State World Campus\", \"Provider/Company Name\": \"The Pennsylvania State Universtity\", \"Sector(s)\": \"PreK-12; Higher Ed\", \"Primary Essential Function\": \"LC - Online Course Providers & Technical Skills Development\"}, {\"LP ID\": 85682, \"URL\": \"http://www.qualtrics.com\", \"Product Name\": \"Qualtrics\", \"Provider/Company Name\": \"Qualtrics\", \"Sector(s)\": \"Higher Ed; Corporate\", \"Primary Essential Function\": \"SDO - Data, Analytics & Reporting\"}, {\"LP ID\": 10533, \"URL\": \"http://www.scholastic.com\", \"Product Name\": \"Scholastic\", \"Provider/Company Name\": \"Scholastic Inc\", \"Sector(s)\": \"PreK-12\", \"Primary Essential Function\": \"LC - Sites, Resources & References - Learning Materials & Supplies\"}, {\"LP ID\": 88885, \"URL\": \"http://lumenlearning.com/\", \"Product Name\": \"Lumen Learning\", \"Provider/Company Name\": \"Lumen Learning\", \"Sector(s)\": \"PreK-12; Higher Ed; Corporate\", \"Primary Essential Function\": \"LC - Online Course Providers & Technical Skills Development\"}, {\"LP ID\": 29286, \"URL\": \"http://socratic.org\", \"Product Name\": \"Socratic\", \"Provider/Company Name\": \"Vespr\", \"Sector(s)\": \"PreK-12; Higher Ed\", \"Primary Essential Function\": \"LC - Study Tools - Q&A\"}, {\"LP ID\": 94058, \"URL\": \"https://www.coursehero.com/\", \"Product Name\": \"Course Hero\", \"Provider/Company Name\": \"Course Hero\", \"Sector(s)\": \"PreK-12; Higher Ed\", \"Primary Essential Function\": \"LC - Study Tools\"}, {\"LP ID\": 78818, \"URL\": \"http://www.enotes.com/\", \"Product Name\": \"eNotes\", \"Provider/Company Name\": \"Enotes.com\", \"Sector(s)\": \"PreK-12; Higher Ed\", \"Primary Essential Function\": \"LC - Study Tools - Q&A\"}, {\"LP ID\": 48625, \"URL\": \"http://www.culturegrams.com/\", \"Product Name\": \"CultureGrams\", \"Provider/Company Name\": \"ProQuest\", \"Sector(s)\": \"PreK-12; Higher Ed\", \"Primary Essential Function\": \"LC - Sites, Resources & Reference - Digital Collection & Repository\"}, {\"LP ID\": 22741, \"URL\": \"http://tes.com\", \"Product Name\": \"TES\", \"Provider/Company Name\": \" Tes Global Ltd \", \"Sector(s)\": \"PreK-12; Higher Ed\", \"Primary Essential Function\": \"SDO - Human Resources\"}, {\"LP ID\": 61945, \"URL\": \"https://zoom.us/\", \"Product Name\": \"Zoom\", \"Provider/Company Name\": \"ZOOM VIDEO COMMUNICATIONS, INC.\", \"Sector(s)\": \"PreK-12; Higher Ed; Corporate\", \"Primary Essential Function\": \"CM - Virtual Classroom - Video Conferencing & Screen Sharing\"}, {\"LP ID\": 91165, \"URL\": \"http://www.mobymax.com/\", \"Product Name\": \"MobyMax\", \"Provider/Company Name\": \"MobyMax\", \"Sector(s)\": \"PreK-12\", \"Primary Essential Function\": \"LC - Digital Learning Platforms\"}, {\"LP ID\": 65797, \"URL\": \"https://chrome.google.com/webstore/detail/google-drawings/mkaakpdehdafacodkgkpghoibnmamcme?hl=en-US\", \"Product Name\": \"Google Drawings\", \"Provider/Company Name\": \"Google LLC\", \"Sector(s)\": \"PreK-12; Higher Ed; Corporate\", \"Primary Essential Function\": \"LC - Content Creation & Curation\"}, {\"LP ID\": 76214, \"URL\": \"http://quizizz.com/\", \"Product Name\": \"Quizizz\", \"Provider/Company Name\": \"Quizizz\", \"Sector(s)\": \"PreK-12; Higher Ed; Corporate\", \"Primary Essential Function\": \"LC - Study Tools\"}, {\"LP ID\": 64850, \"URL\": \"https://calendly.com/\", \"Product Name\": \"Calendly\", \"Provider/Company Name\": \"Calendly\", \"Sector(s)\": \"PreK-12; Higher Ed; Corporate\", \"Primary Essential Function\": \"CM - Classroom Engagement & Instruction - Classroom Management\"}, {\"LP ID\": 76122, \"URL\": \"https://canva.com/\", \"Product Name\": \"Canva\", \"Provider/Company Name\": \"Canva\", \"Sector(s)\": \"PreK-12; Higher Ed; Corporate\", \"Primary Essential Function\": \"LC - Content Creation & Curation\"}, {\"LP ID\": 19334, \"URL\": \"http://www.enchantedlearning.com/\", \"Product Name\": \"Enchanted Learning\", \"Provider/Company Name\": \"Enchanted Learning\", \"Sector(s)\": \"PreK-12\", \"Primary Essential Function\": \"LC - Sites, Resources & Reference\"}, {\"LP ID\": 70740, \"URL\": \"https://screencast-o-matic.com/\", \"Product Name\": \"Screencast-O-Matic\", \"Provider/Company Name\": \"Screencast-O-Matic\", \"Sector(s)\": \"PreK-12; Higher Ed; Corporate\", \"Primary Essential Function\": \"LC - Content Creation & Curation\"}, {\"LP ID\": 39004, \"URL\": \"http://www.tumblebooklibrary.com\", \"Product Name\": \"TumbleBooks\", \"Provider/Company Name\": \"TumbleBooks\", \"Sector(s)\": \"PreK-12\", \"Primary Essential Function\": \"LC - Sites, Resources & Reference - Digital Collection & Repository\"}, {\"LP ID\": 72676, \"URL\": \"https://www.kamiapp.com/\", \"Product Name\": \"Kami\", \"Provider/Company Name\": \"Kami Limited\", \"Sector(s)\": \"PreK-12\", \"Primary Essential Function\": \"LC - Digital Learning Platforms\"}, {\"LP ID\": 11585, \"URL\": \"https://www-k6.thinkcentral.com/ePC/start.do\", \"Product Name\": \"Think Central\", \"Provider/Company Name\": \"Houghton Mifflin Harcourt\", \"Sector(s)\": \"PreK-12\", \"Primary Essential Function\": \"LC - Digital Learning Platforms\"}, {\"LP ID\": 74653, \"URL\": \"https://www.studiesweekly.com\", \"Product Name\": \"Studies Weekly\", \"Provider/Company Name\": \"Studies Weekly\", \"Sector(s)\": \"PreK-12\", \"Primary Essential Function\": \"LC - Courseware & Textbooks\"}, {\"LP ID\": 28456, \"URL\": \"http://www.smartmusic.com\", \"Product Name\": \"SmartMusic\", \"Provider/Company Name\": \"MakeMusic, Inc.\", \"Sector(s)\": \"PreK-12; Higher Ed\", \"Primary Essential Function\": \"LC - Study Tools\"}, {\"LP ID\": 60051, \"URL\": \"https://www.bigideasmath.com\", \"Product Name\": \"Big Ideas Math\", \"Provider/Company Name\": \"Big Ideas Learning\", \"Sector(s)\": \"PreK-12\", \"Primary Essential Function\": \"LC - Courseware & Textbooks\"}, {\"LP ID\": 46123, \"URL\": \"https://www.collegeboard.org/\", \"Product Name\": \"College Board\", \"Provider/Company Name\": \"The College Board\", \"Sector(s)\": \"PreK-12\", \"Primary Essential Function\": \"SDO - Large-Scale & Standardized Testing\"}, {\"LP ID\": 24342, \"URL\": \"https://www.ebscohost.com/academic/ap-images-collection\", \"Product Name\": \"AP Images Collection\", \"Provider/Company Name\": \"EBSCO Industries, Inc\", \"Sector(s)\": \"PreK-12; Higher Ed\", \"Primary Essential Function\": \"LC - Sites, Resources & Reference - Digital Collection & Repository\"}, {\"LP ID\": 89267, \"URL\": \"http://www.wiley.com\", \"Product Name\": \"Wiley\", \"Provider/Company Name\": \"John Wiley and Sons Inco\", \"Sector(s)\": \"PreK-12; Higher Ed; Corporate\", \"Primary Essential Function\": \"LC - Courseware & Textbooks\"}, {\"LP ID\": 50168, \"URL\": \"http://www.hmhco.com\", \"Product Name\": \"Houghton Mifflin Harcourt\", \"Provider/Company Name\": \"Houghton Mifflin Harcourt\", \"Sector(s)\": \"PreK-12; Higher Ed\", \"Primary Essential Function\": \"LC - Courseware & Textbooks\"}, {\"LP ID\": 89688, \"URL\": \"http://www.teachtci.com\", \"Product Name\": \"Teach TCI\", \"Provider/Company Name\": \"Teach TCI\", \"Sector(s)\": \"PreK-12\", \"Primary Essential Function\": \"LC - Courseware & Textbooks\"}, {\"LP ID\": 97209, \"URL\": \"https://spark.adobe.com\", \"Product Name\": \"Adobe Spark\", \"Provider/Company Name\": \"Adobe Inc.\", \"Sector(s)\": \"PreK-12; Higher Ed; Corporate\", \"Primary Essential Function\": \"LC - Content Creation & Curation\"}, {\"LP ID\": 79673, \"URL\": \"https://www.zendesk.com/\", \"Product Name\": \"Zendesk\", \"Provider/Company Name\": \"Zendesk\", \"Sector(s)\": \"PreK-12; Higher Ed; Corporate\", \"Primary Essential Function\": \"SDO - Human Resources\"}, {\"LP ID\": 18982, \"URL\": \"https://www.gotomeeting.com/\", \"Product Name\": \"GoToMeeting\", \"Provider/Company Name\": \"LogMeIn\", \"Sector(s)\": \"PreK-12; Higher Ed; Corporate\", \"Primary Essential Function\": \"CM - Virtual Classroom - Video Conferencing & Screen Sharing\"}, {\"LP ID\": 70167, \"URL\": \"https://www.microsoft.com/en-us/download/details.aspx?id=23714\", \"Product Name\": \"Microsoft XNA Game Studio\", \"Provider/Company Name\": \"Microsoft\", \"Sector(s)\": \"PreK-12; Higher Ed; Corporate\", \"Primary Essential Function\": \"LC - Content Creation & Curation\"}, {\"LP ID\": 49521, \"URL\": \"http://www.hp.com/\", \"Product Name\": \"HP\", \"Provider/Company Name\": \"Hewlett-Packard\", \"Sector(s)\": \"PreK-12; Higher Ed; Corporate\", \"Primary Essential Function\": \"LC/CM/SDO - Other\"}, {\"LP ID\": 21298, \"URL\": \"https://www.explorelearning.com/index.cfm?method=cCorp.dspAbout\", \"Product Name\": \"ExploreLearning Gizmos\", \"Provider/Company Name\": \"ExploreLearning, LLC\", \"Sector(s)\": \"PreK-12\", \"Primary Essential Function\": \"LC - Digital Learning Platforms\"}, {\"LP ID\": 24829, \"URL\": \"http://www.utahcompose.com/\", \"Product Name\": \"Utah Compose\", \"Provider/Company Name\": \"Measurement Incorporated \", \"Sector(s)\": \"PreK-12\", \"Primary Essential Function\": \"LC - Study Tools\"}, {\"LP ID\": 52196, \"URL\": \"https://jr.brainpop.com/\", \"Product Name\": \"BrainPOP Jr.\", \"Provider/Company Name\": \"BrainPOP LLC\", \"Sector(s)\": \"PreK-12\", \"Primary Essential Function\": \"LC - Digital Learning Platforms\"}, {\"LP ID\": 45601, \"URL\": \"https://www.pearsonrealize.com/#/\", \"Product Name\": \"Savvas Realize\", \"Provider/Company Name\": \"Savvas Learning Company | Formerly Pearson K12 Learning\", \"Sector(s)\": \"PreK-12\", \"Primary Essential Function\": \"SDO - Learning Management Systems (LMS)\"}, {\"LP ID\": 25267, \"URL\": \"http://www.discoveryeducation.com/what-we-offer/techbook-digital-textbooks/science/index.cfm\", \"Product Name\": \"Discovery Education - Science TechBook\", \"Provider/Company Name\": \"Discovery Education\", \"Sector(s)\": \"PreK-12\", \"Primary Essential Function\": \"LC - Digital Learning Platforms\"}, {\"LP ID\": 38871, \"URL\": \"https://gsuite.google.com/\", \"Product Name\": \"Google Workspace\", \"Provider/Company Name\": \"Google LLC\", \"Sector(s)\": \"PreK-12; Higher Ed; Corporate\", \"Primary Essential Function\": \"LC/CM/SDO - Other\"}, {\"LP ID\": 28324, \"URL\": \"http://www.curriculumassociates.com/products/ready-common-core-reading.aspx#.WFG2KfkrJEY\", \"Product Name\": \"i-Ready Reading\", \"Provider/Company Name\": \"Curriculum Associates\", \"Sector(s)\": \"PreK-12\", \"Primary Essential Function\": \"LC - Digital Learning Platforms\"}, {\"LP ID\": 50129, \"URL\": \"https://www.curriculumassociates.com/products/i-ready\", \"Product Name\": \"i-Ready Mathematics\", \"Provider/Company Name\": \"Curriculum Associates\", \"Sector(s)\": \"PreK-12\", \"Primary Essential Function\": \"LC - Digital Learning Platforms\"}, {\"LP ID\": 11069, \"URL\": \"http://www.mrdonn.org/index.html\", \"Product Name\": \"Mr. Donn\", \"Provider/Company Name\": \"mrdonn.org\", \"Sector(s)\": \"PreK-12\", \"Primary Essential Function\": \"LC - Sites, Resources & Reference\"}, {\"LP ID\": 33946, \"URL\": \"http://www.jstor.org/\", \"Product Name\": \"JSTOR\", \"Provider/Company Name\": \"ITHAKA\", \"Sector(s)\": \"PreK-12; Higher Ed; Corporate\", \"Primary Essential Function\": \"LC - Sites, Resources & Reference - Digital Collection & Repository\"}, {\"LP ID\": 87342, \"URL\": \"http://www.litcharts.com/\", \"Product Name\": \"LitCharts\", \"Provider/Company Name\": \"LitCharts LLC\", \"Sector(s)\": \"PreK-12; Higher Ed\", \"Primary Essential Function\": \"LC - Study Tools\"}, {\"LP ID\": 80560, \"URL\": \"https://www.nitrotype.com/\", \"Product Name\": \"Nitro Type\", \"Provider/Company Name\": \"Teaching.com\", \"Sector(s)\": \"PreK-12\", \"Primary Essential Function\": \"LC - Digital Learning Platforms\"}, {\"LP ID\": 92844, \"URL\": \"https://www.typing.com/\", \"Product Name\": \"Typing.com\", \"Provider/Company Name\": \"Teaching.com\", \"Sector(s)\": \"PreK-12; Higher Ed; Corporate\", \"Primary Essential Function\": \"LC - Digital Learning Platforms\"}, {\"LP ID\": 61517, \"URL\": \"http://www.hmhco.com/shop/education-curriculum/world-languages/spanish/avancemos\", \"Product Name\": \"\\u00a1Avancemos!\", \"Provider/Company Name\": \"Houghton Mifflin Harcourt\", \"Sector(s)\": \"PreK-12\", \"Primary Essential Function\": \"LC - Courseware & Textbooks\"}, {\"LP ID\": 96706, \"URL\": \"http://www.cengage.com/s/mindtap-course-list\", \"Product Name\": \"MindTap\", \"Provider/Company Name\": \"Cengage Learning\", \"Sector(s)\": \"PreK-12; Higher Ed\", \"Primary Essential Function\": \"LC - Courseware & Textbooks\"}, {\"LP ID\": 26533, \"URL\": \"https://www.screencastify.com/\", \"Product Name\": \"Screencastify\", \"Provider/Company Name\": \"Screencastify, LLC\", \"Sector(s)\": \"PreK-12\", \"Primary Essential Function\": \"LC - Content Creation & Curation\"}, {\"LP ID\": 68019, \"URL\": \"https://connected.mcgraw-hill.com/connected/login.do\", \"Product Name\": \"ConnectED\", \"Provider/Company Name\": \"McGraw-Hill PreK-12\", \"Sector(s)\": \"PreK-12\", \"Primary Essential Function\": \"LC - Digital Learning Platforms\"}, {\"LP ID\": 28504, \"URL\": \"http://google.com/sheets/about/\", \"Product Name\": \"Google Sheets\", \"Provider/Company Name\": \"Google LLC\", \"Sector(s)\": \"PreK-12; Higher Ed; Corporate\", \"Primary Essential Function\": \"LC/CM/SDO - Other\"}, {\"LP ID\": 86775, \"URL\": \"http://www.wordreference.com\", \"Product Name\": \"WordReference.com\", \"Provider/Company Name\": \"WordReference.com\", \"Sector(s)\": \"PreK-12; Higher Ed; Corporate\", \"Primary Essential Function\": \"LC - Sites, Resources & Reference - Thesaurus & Dictionary\"}, {\"LP ID\": 36692, \"URL\": \"https://www.getepic.com/\", \"Product Name\": \"Epic! - Unlimited Books for Kids\", \"Provider/Company Name\": \"Epic Creations, Inc.\", \"Sector(s)\": \"PreK-12\", \"Primary Essential Function\": \"LC - Digital Learning Platforms\"}, {\"LP ID\": 17941, \"URL\": \"https://www.kidsa-z.com/main/Login\", \"Product Name\": \"Kids A-Z\", \"Provider/Company Name\": \"Lazel Inc.\", \"Sector(s)\": \"PreK-12\", \"Primary Essential Function\": \"LC - Digital Learning Platforms\"}, {\"LP ID\": 78247, \"URL\": \"http://www.fountasandpinnell.com/\", \"Product Name\": \"Fountas & Pinnell\", \"Provider/Company Name\": \"Heinemann, a division of Greenwood Publishing Group LLC\", \"Sector(s)\": \"PreK-12\", \"Primary Essential Function\": \"LC - Courseware & Textbooks\"}, {\"LP ID\": 29790, \"URL\": \"http://www.hoodamath.com/\", \"Product Name\": \"Hooda Math\", \"Provider/Company Name\": \"Hooda Math\", \"Sector(s)\": \"PreK-12\", \"Primary Essential Function\": \"LC - Sites, Resources & Reference - Games & Simulations\"}, {\"LP ID\": 28199, \"URL\": \"https://www.iheart.com/\", \"Product Name\": \"iHeartRadio\", \"Provider/Company Name\": \"iHeartRadio\", \"Sector(s)\": \"PreK-12; Higher Ed; Corporate\", \"Primary Essential Function\": \"LC - Sites, Resources & Reference - Streaming Services\"}, {\"LP ID\": 41675, \"URL\": \"http://onlinelibrary.uen.org/\", \"Product Name\": \"onlinelibrary.uen.org\", \"Provider/Company Name\": \"Utah Education Network\", \"Sector(s)\": \"PreK-12; Higher Ed\", \"Primary Essential Function\": \"LC - Sites, Resources & Reference - Digital Collection & Repository\"}, {\"LP ID\": 11237, \"URL\": \"http://www.online-stopwatch.com/\", \"Product Name\": \"online-stopwatch.com\", \"Provider/Company Name\": \"online-stopwatch.com\", \"Sector(s)\": \"PreK-12; Higher Ed\", \"Primary Essential Function\": \"LC - Sites, Resources & Reference\"}, {\"LP ID\": 15254, \"URL\": \"http://appinventor.mit.edu/explore/\", \"Product Name\": \"MIT App Inventor\", \"Provider/Company Name\": \"Massachusetts Institute of Technology\", \"Sector(s)\": \"PreK-12; Higher Ed; Corporate\", \"Primary Essential Function\": \"LC - Content Creation & Curation\"}, {\"LP ID\": 22856, \"URL\": \"https://www.texthelp.com/en-us/products/fluencytutor/\", \"Product Name\": \"Fluency Tutor\", \"Provider/Company Name\": \"Texthelp, Inc.\", \"Sector(s)\": \"PreK-12\", \"Primary Essential Function\": \"LC - Digital Learning Platforms\"}, {\"LP ID\": 88925, \"URL\": \"https://edu.google.com/expeditions/#about\", \"Product Name\": \"Google Expeditions\", \"Provider/Company Name\": \"Google LLC\", \"Sector(s)\": \"PreK-12; Higher Ed; Corporate\", \"Primary Essential Function\": \"LC - Sites, Resources & Reference - Digital Collection & Repository\"}, {\"LP ID\": 60825, \"URL\": \"http://study.com\", \"Product Name\": \"Study.com\", \"Provider/Company Name\": \"Study.com\", \"Sector(s)\": \"PreK-12; Higher Ed\", \"Primary Essential Function\": \"LC - Digital Learning Platforms\"}, {\"LP ID\": 81654, \"URL\": \"https://www.tinkercad.com/\", \"Product Name\": \"Tinkercad\", \"Provider/Company Name\": \" Autodesk, Inc\", \"Sector(s)\": \"PreK-12; Higher Ed; Corporate\", \"Primary Essential Function\": \"LC - Content Creation & Curation\"}, {\"LP ID\": 42410, \"URL\": \"https://conjuguemos.com/\", \"Product Name\": \"Conjuguemos\", \"Provider/Company Name\": \"Yegros Educational LLC DBA Conjuguemos\", \"Sector(s)\": \"PreK-12\", \"Primary Essential Function\": \"LC - Digital Learning Platforms\"}, {\"LP ID\": 42608, \"URL\": \"https://www.raz-plus.com/\", \"Product Name\": \"Raz-Plus\", \"Provider/Company Name\": \"Learning A-Z\", \"Sector(s)\": \"PreK-12\", \"Primary Essential Function\": \"LC - Courseware & Textbooks\"}, {\"LP ID\": 83118, \"URL\": \"https://www.legendsoflearning.com\", \"Product Name\": \"Legends of Learning\", \"Provider/Company Name\": \"Legends of Learning\", \"Sector(s)\": \"PreK-12\", \"Primary Essential Function\": \"LC - Digital Learning Platforms\"}, {\"LP ID\": 84342, \"URL\": \"https://blindsidenetworks.com/\", \"Product Name\": \"Blindside Networks\", \"Provider/Company Name\": \"Blindside Networks\", \"Sector(s)\": \"PreK-12; Higher Ed; Corporate\", \"Primary Essential Function\": \"SDO - Data, Analytics & Reporting - Site Hosting & Data Warehousing\"}, {\"LP ID\": 10745, \"URL\": \"https://wonderopolis.org\", \"Product Name\": \"Wonderopolis\", \"Provider/Company Name\": \"National Center for Families Learning\", \"Sector(s)\": \"PreK-12\", \"Primary Essential Function\": \"LC - Study Tools - Q&A\"}, {\"LP ID\": 16164, \"URL\": \"https://www.nytimes.com\", \"Product Name\": \"nytimes.com\", \"Provider/Company Name\": \"The New York Times\", \"Sector(s)\": \"PreK-12; Higher Ed; Corporate\", \"Primary Essential Function\": \"LC - Sites, Resources & Reference\"}, {\"LP ID\": 69757, \"URL\": \"https://www.deltamath.com/\", \"Product Name\": \"DeltaMath\", \"Provider/Company Name\": \"DeltaMath\", \"Sector(s)\": \"PreK-12\", \"Primary Essential Function\": \"LC - Digital Learning Platforms\"}, {\"LP ID\": 80473, \"URL\": \"http://www.didax.com/\", \"Product Name\": \"Didax\", \"Provider/Company Name\": \"Didax Education\", \"Sector(s)\": \"PreK-12\", \"Primary Essential Function\": \"LC - Sites, Resources & References - Learning Materials & Supplies\"}, {\"LP ID\": 37479, \"URL\": \"https://www.frontlineeducation.com/\", \"Product Name\": \"Frontline Education\", \"Provider/Company Name\": \"Frontline Education\", \"Sector(s)\": \"PreK-12\", \"Primary Essential Function\": \"SDO - Human Resources\"}, {\"LP ID\": 69706, \"URL\": \"http://www.performancematters.com/\", \"Product Name\": \"PoweSchool Performance Matters\", \"Provider/Company Name\": \"Performance Matters\", \"Sector(s)\": \"PreK-12\", \"Primary Essential Function\": \"CM - Classroom Engagement & Instruction - Assessment & Classroom Response\"}, {\"LP ID\": 44025, \"URL\": \"https://www.soundtrap.com/\", \"Product Name\": \"Soundtrap\", \"Provider/Company Name\": \"Spotify USA Inc\", \"Sector(s)\": \"PreK-12; Higher Ed; Corporate\", \"Primary Essential Function\": \"LC - Content Creation & Curation\"}, {\"LP ID\": 98102, \"URL\": \"https://wow.boomlearning.com/search?collection=Featured\", \"Product Name\": \"Boom Cards by Boom Learning\", \"Provider/Company Name\": \"Boom Learning (a dba of Omega Labs Inc.)\", \"Sector(s)\": \"PreK-12\", \"Primary Essential Function\": \"LC - Digital Learning Platforms\"}, {\"LP ID\": 26407, \"URL\": \"http://www.edmentum.com/products/academy\", \"Product Name\": \"EdOptions Academy\", \"Provider/Company Name\": \"Edmentum\", \"Sector(s)\": \"PreK-12\", \"Primary Essential Function\": \"LC - Online Course Providers & Technical Skills Development\"}, {\"LP ID\": 36859, \"URL\": \"https://www.instagram.com\", \"Product Name\": \"Instagram\", \"Provider/Company Name\": \"Instagram\", \"Sector(s)\": \"PreK-12; Higher Ed; Corporate\", \"Primary Essential Function\": \"LC/CM/SDO - Other\"}, {\"LP ID\": 72468, \"URL\": \"https://outlook.live.com/owa/\", \"Product Name\": \"Microsoft Outlook\", \"Provider/Company Name\": \"Microsoft\", \"Sector(s)\": \"PreK-12; Higher Ed; Corporate\", \"Primary Essential Function\": \"LC/CM/SDO - Other\"}, {\"LP ID\": 83270, \"URL\": \"https://artsandculture.google.com/\", \"Product Name\": \"Google Arts & Culture\", \"Provider/Company Name\": \"Google LLC\", \"Sector(s)\": \"PreK-12; Higher Ed\", \"Primary Essential Function\": \"LC - Sites, Resources & Reference - Digital Collection & Repository\"}, {\"LP ID\": 76661, \"URL\": \"https://www.worldwildlife.org\", \"Product Name\": \"WWF ~ World Wildlife Fund\", \"Provider/Company Name\": \"World Wildlife Fund\", \"Sector(s)\": \"PreK-12; Higher Ed\", \"Primary Essential Function\": \"LC - Sites, Resources & Reference\"}, {\"LP ID\": 13945, \"URL\": \"https://sched.com/\", \"Product Name\": \"Sched\", \"Provider/Company Name\": \"Sched LLC\", \"Sector(s)\": \"PreK-12; Higher Ed; Corporate\", \"Primary Essential Function\": \"CM - Classroom Engagement & Instruction - Classroom Management\"}, {\"LP ID\": 11286, \"URL\": \"https://abcnews.go.com/?cid=marketing_search_ABC%20News%20-%20Branded%20General%20-%20BMM\", \"Product Name\": \"ABC News\", \"Provider/Company Name\": \"ABC digital\", \"Sector(s)\": \"PreK-12; Higher Ed; Corporate\", \"Primary Essential Function\": \"LC - Sites, Resources & Reference\"}, {\"LP ID\": 42725, \"URL\": \"https://www.lexialearning.com/products/core5\", \"Product Name\": \"myLexia\", \"Provider/Company Name\": \"Lexia Learning\", \"Sector(s)\": \"PreK-12\", \"Primary Essential Function\": \"LC - Digital Learning Platforms\"}, {\"LP ID\": 26512, \"URL\": \"https://www.multiplication.com/\", \"Product Name\": \"Multiplication.com\", \"Provider/Company Name\": \"Multiplication.com\", \"Sector(s)\": \"PreK-12\", \"Primary Essential Function\": \"LC - Sites, Resources & Reference - Games & Simulations\"}, {\"LP ID\": 48708, \"URL\": \"http://www.storylineonline.net/\", \"Product Name\": \"Storyline Online\", \"Provider/Company Name\": \"SAG-AFTRA Foundation\", \"Sector(s)\": \"PreK-12\", \"Primary Essential Function\": \"LC - Sites, Resources & Reference\"}, {\"LP ID\": 46819, \"URL\": \"https://www.tes.com/lessons\", \"Product Name\": \"Tes Teach\", \"Provider/Company Name\": \" Tes Global Ltd \", \"Sector(s)\": \"PreK-12\", \"Primary Essential Function\": \"LC - Content Creation & Curation\"}, {\"LP ID\": 79578, \"URL\": \"https://flippity.net/\", \"Product Name\": \"Flippity\", \"Provider/Company Name\": \"Flippity\", \"Sector(s)\": \"PreK-12; Higher Ed\", \"Primary Essential Function\": \"LC - Study Tools\"}, {\"LP ID\": 91873, \"URL\": \"https://www.breakoutedu.com/\", \"Product Name\": \"Breakout EDU\", \"Provider/Company Name\": \"Breakout, Inc\", \"Sector(s)\": \"PreK-12\", \"Primary Essential Function\": \"LC - Digital Learning Platforms\"}, {\"LP ID\": 98468, \"URL\": \"https://gsuite.google.com/products/jamboard/\", \"Product Name\": \"Jamboard\", \"Provider/Company Name\": \"Google LLC\", \"Sector(s)\": \"PreK-12; Higher Ed; Corporate\", \"Primary Essential Function\": \"LC - Content Creation & Curation\"}, {\"LP ID\": 49050, \"URL\": \"https://www.freckle.com/\", \"Product Name\": \"Freckle by Renaissance\", \"Provider/Company Name\": \"Renaissance Learning, Inc.\", \"Sector(s)\": \"PreK-12\", \"Primary Essential Function\": \"LC - Digital Learning Platforms\"}, {\"LP ID\": 16401, \"URL\": \"https://www.pbs.org/\", \"Product Name\": \"PBS\", \"Provider/Company Name\": \"PBS\", \"Sector(s)\": \"PreK-12; Higher Ed; Corporate\", \"Primary Essential Function\": \"LC - Sites, Resources & Reference\"}, {\"LP ID\": 50282, \"URL\": \"https://safeshare.tv/\", \"Product Name\": \"SafeShare\", \"Provider/Company Name\": \"Vitzo Ltd\", \"Sector(s)\": \"PreK-12; Higher Ed\", \"Primary Essential Function\": \"CM - Classroom Engagement & Instruction - Classroom Management\"}, {\"LP ID\": 52758, \"URL\": \"https://www.adobe.com/products/character-animator.html\", \"Product Name\": \"Adobe Character Animator\", \"Provider/Company Name\": \"Adobe Inc.\", \"Sector(s)\": \"PreK-12; Higher Ed; Corporate\", \"Primary Essential Function\": \"LC - Content Creation & Curation\"}, {\"LP ID\": 90153, \"URL\": \"https://www.netflix.com/\", \"Product Name\": \"Netflix\", \"Provider/Company Name\": \"Netflix\", \"Sector(s)\": \"PreK-12; Higher Ed; Corporate\", \"Primary Essential Function\": \"LC - Sites, Resources & Reference - Streaming Services\"}, {\"LP ID\": 77430, \"URL\": \"https://www.canvaslms.com/gauge/\", \"Product Name\": \"Instructure\", \"Provider/Company Name\": \"Instructure, Inc. \", \"Sector(s)\": \"PreK-12; Higher Ed; Corporate\", \"Primary Essential Function\": \"SDO - Learning Management Systems (LMS)\"}, {\"LP ID\": 19184, \"URL\": \"http://pearsoneasybridge.com/\", \"Product Name\": \"Savvas EasyBridge\", \"Provider/Company Name\": \"Savvas Learning Company | Formerly Pearson K12 Learning\", \"Sector(s)\": \"PreK-12\", \"Primary Essential Function\": \"SDO - Admissions, Enrollment & Rostering\"}, {\"LP ID\": 68713, \"URL\": \"http://www.discoveryeducation.com/what-we-offer/techbook-digital-textbooks/math/\", \"Product Name\": \"Discovery Education Math Techbook\", \"Provider/Company Name\": \"Discovery Education\", \"Sector(s)\": \"PreK-12\", \"Primary Essential Function\": \"LC - Courseware & Textbooks\"}, {\"LP ID\": 99580, \"URL\": \"https://loom.com/\", \"Product Name\": \"Loom - Video Recorder: Screen, Webcam and Mic\", \"Provider/Company Name\": \"Loom, Inc\", \"Sector(s)\": \"PreK-12; Higher Ed; Corporate\", \"Primary Essential Function\": \"CM - Virtual Classroom - Video Conferencing & Screen Sharing\"}, {\"LP ID\": 96217, \"URL\": \"https://www.mathlearningcenter.org/\", \"Product Name\": \"The Math Learning Center\", \"Provider/Company Name\": \"The Math Learning Center\", \"Sector(s)\": \"PreK-12\", \"Primary Essential Function\": \"LC - Courseware & Textbooks\"}, {\"LP ID\": 31827, \"URL\": \"https://onedrive.live.com/about/en-us/\", \"Product Name\": \"Microsoft OneDrive\", \"Provider/Company Name\": \"Microsoft\", \"Sector(s)\": \"PreK-12; Higher Ed; Corporate\", \"Primary Essential Function\": \"LC/CM/SDO - Other\"}, {\"LP ID\": 41424, \"URL\": \"https://www.commonapp.org/\", \"Product Name\": \"Common App\", \"Provider/Company Name\": \"The Common Application, Inc.\", \"Sector(s)\": \"PreK-12; Higher Ed\", \"Primary Essential Function\": \"LC - Career Planning & Job Search\"}, {\"LP ID\": 51288, \"URL\": \"https://www.eventbrite.com/\", \"Product Name\": \"Eventbrite\", \"Provider/Company Name\": \"Eventbrite\", \"Sector(s)\": \"PreK-12; Higher Ed; Corporate\", \"Primary Essential Function\": \"LC - Sites, Resources & Reference\"}, {\"LP ID\": 92894, \"URL\": \"https://www.marketwatch.com/\", \"Product Name\": \"MarketWatch\", \"Provider/Company Name\": \"MarketWatch\", \"Sector(s)\": \"PreK-12; Higher Ed; Corporate\", \"Primary Essential Function\": \"LC - Sites, Resources & Reference\"}, {\"LP ID\": 72758, \"URL\": \"https://www.google.com/calendar\", \"Product Name\": \"Google Calendar\", \"Provider/Company Name\": \"Google LLC\", \"Sector(s)\": \"PreK-12; Higher Ed; Corporate\", \"Primary Essential Function\": \"LC/CM/SDO - Other\"}, {\"LP ID\": 49687, \"URL\": \"https://www.snapchat.com/\", \"Product Name\": \"Snapchat\", \"Provider/Company Name\": \"Snap Inc.\", \"Sector(s)\": \"PreK-12; Higher Ed\", \"Primary Essential Function\": \"LC/CM/SDO - Other\"}, {\"LP ID\": 20619, \"URL\": \"https://doodle.com/\", \"Product Name\": \"Doodle\", \"Provider/Company Name\": \"Doodle Ltd\", \"Sector(s)\": \"PreK-12; Higher Ed; Corporate\", \"Primary Essential Function\": \"CM - Classroom Engagement & Instruction - Classroom Management\"}, {\"LP ID\": 63740, \"URL\": \"https://www.generationgenius.com/\", \"Product Name\": \"Generation Genius\", \"Provider/Company Name\": \"Generation Genius, Inc.\", \"Sector(s)\": \"PreK-12\", \"Primary Essential Function\": \"LC - Digital Learning Platforms\"}, {\"LP ID\": 18090, \"URL\": \"https://minecraft.net/en-us/\", \"Product Name\": \"Minecraft\", \"Provider/Company Name\": \"Microsoft\", \"Sector(s)\": \"PreK-12; Higher Ed\", \"Primary Essential Function\": \"LC - Sites, Resources & Reference - Games & Simulations\"}, {\"LP ID\": 45005, \"URL\": \"https://github.com/\", \"Product Name\": \"GitHub\", \"Provider/Company Name\": \"GitHub\", \"Sector(s)\": \"PreK-12; Higher Ed; Corporate\", \"Primary Essential Function\": \"LC - Content Creation & Curation\"}, {\"LP ID\": 77713, \"URL\": \"https://www.gale.com/c/testing-and-education-reference-center\", \"Product Name\": \"Gale Presents: Peterson's Test Prep\", \"Provider/Company Name\": \"Gale Cengage\", \"Sector(s)\": \"PreK-12\", \"Primary Essential Function\": \"LC - Study Tools - Test Prep & Study Skills\"}, {\"LP ID\": 33326, \"URL\": \"https://www.ducksters.com/\", \"Product Name\": \"Ducksters\", \"Provider/Company Name\": \"Technological Solutions, Inc. (TSI)\", \"Sector(s)\": \"PreK-12\", \"Primary Essential Function\": \"LC - Sites, Resources & Reference - Games & Simulations\"}, {\"LP ID\": 50626, \"URL\": \"https://forms.office.com/\", \"Product Name\": \"Microsoft Forms\", \"Provider/Company Name\": \"Microsoft Education\", \"Sector(s)\": \"PreK-12; Higher Ed; Corporate\", \"Primary Essential Function\": \"CM - Classroom Engagement & Instruction - Assessment & Classroom Response\"}, {\"LP ID\": 86294, \"URL\": \"https://www.kiddle.co/\", \"Product Name\": \"Kiddle\", \"Provider/Company Name\": \"Google LLC\", \"Sector(s)\": \"PreK-12\", \"Primary Essential Function\": \"LC - Sites, Resources & Reference - Encyclopedia\"}, {\"LP ID\": 90929, \"URL\": \"https://www.gimkit.com/\", \"Product Name\": \"Gimkit\", \"Provider/Company Name\": \"Gimkit\", \"Sector(s)\": \"PreK-12\", \"Primary Essential Function\": \"LC - Digital Learning Platforms\"}, {\"LP ID\": 28701, \"URL\": \"https://www.luminpdf.com/\", \"Product Name\": \"Lumin PDF\", \"Provider/Company Name\": \"Nitrolabs Limited\", \"Sector(s)\": \"PreK-12; Higher Ed; Corporate\", \"Primary Essential Function\": \"LC/CM/SDO - Other\"}, {\"LP ID\": 69863, \"URL\": \"https://chrome.google.com/webstore\", \"Product Name\": \"Chrome Web Store\", \"Provider/Company Name\": \"Google LLC\", \"Sector(s)\": \"PreK-12; Higher Ed; Corporate\", \"Primary Essential Function\": \"LC/CM/SDO - Other\"}, {\"LP ID\": 17920, \"URL\": \"https://beinternetawesome.withgoogle.com/en_us/interland\", \"Product Name\": \"Interland\", \"Provider/Company Name\": \"Google LLC\", \"Sector(s)\": \"PreK-12\", \"Primary Essential Function\": \"LC - Sites, Resources & Reference\"}, {\"LP ID\": 48984, \"URL\": \"https://www.safeschools.com\", \"Product Name\": \"SafeSchools\", \"Provider/Company Name\": \"Vector Solutions\", \"Sector(s)\": \"PreK-12\", \"Primary Essential Function\": \"SDO - Environmental, Health & Safety (EHS) Compliance\"}, {\"LP ID\": 59434, \"URL\": \"https://app.seesaw.me/\", \"Product Name\": \"Seesaw : The Learning Journal\", \"Provider/Company Name\": \"Seesaw Learning Inc\", \"Sector(s)\": \"PreK-12\", \"Primary Essential Function\": \"LC - Content Creation & Curation\"}, {\"LP ID\": 31956, \"URL\": \"https://apcentral.collegeboard.org\", \"Product Name\": \"AP Central\", \"Provider/Company Name\": \"The College Board\", \"Sector(s)\": \"PreK-12\", \"Primary Essential Function\": \"LC - Study Tools - Test Prep & Study Skills\"}, {\"LP ID\": 74174, \"URL\": \"http://wakelet.com\", \"Product Name\": \"Wakelet\", \"Provider/Company Name\": \"Wakelet\", \"Sector(s)\": \"PreK-12; Higher Ed; Corporate\", \"Primary Essential Function\": \"LC - Sites, Resources & Reference\"}, {\"LP ID\": 20677, \"URL\": \"https://www.remove.bg\", \"Product Name\": \"remove.bg\", \"Provider/Company Name\": \"Kaleido AI GmbH\", \"Sector(s)\": \"PreK-12; Higher Ed; Corporate\", \"Primary Essential Function\": \"LC - Sites, Resources & Reference\"}, {\"LP ID\": 32032, \"URL\": \"https://www.signupgenius.com/\", \"Product Name\": \"SignUpGenius\", \"Provider/Company Name\": \"SignUpGenius\", \"Sector(s)\": \"PreK-12; Higher Ed; Corporate\", \"Primary Essential Function\": \"CM - Classroom Engagement & Instruction - Classroom Management\"}, {\"LP ID\": 66838, \"URL\": \"https://www.vooks.com/\", \"Product Name\": \"Vooks\", \"Provider/Company Name\": \"Vooks, Inc.\", \"Sector(s)\": \"PreK-12\", \"Primary Essential Function\": \"LC - Sites, Resources & Reference\"}, {\"LP ID\": 79652, \"URL\": \"https://www.istockphoto.com/\", \"Product Name\": \"iStock\", \"Provider/Company Name\": \"iStockphoto LP\", \"Sector(s)\": \"PreK-12; Higher Ed; Corporate\", \"Primary Essential Function\": \"LC - Content Creation & Curation\"}, {\"LP ID\": 29158, \"URL\": \"https://storyworks.scholastic.com\", \"Product Name\": \"Storyworks\", \"Provider/Company Name\": \"Scholastic Inc\", \"Sector(s)\": \"PreK-12\", \"Primary Essential Function\": \"LC - Courseware & Textbooks\"}, {\"LP ID\": 37373, \"URL\": \"https://www.peardeck.com/googleslides\", \"Product Name\": \"Pear Deck for Google Slides\", \"Provider/Company Name\": \"GitHub\", \"Sector(s)\": \"PreK-12\", \"Primary Essential Function\": \"LC - Digital Learning Platforms\"}, {\"LP ID\": 12816, \"URL\": \"https://www.turtlediary.com/\", \"Product Name\": \"Turtle Diary\", \"Provider/Company Name\": \"TurtleDiary LLC\", \"Sector(s)\": \"PreK-12\", \"Primary Essential Function\": \"LC - Sites, Resources & Reference - Games & Simulations\"}, {\"LP ID\": 96034, \"URL\": \"http://www.roomrecess.com/\", \"Product Name\": \"RoomRecess.com\", \"Provider/Company Name\": \"RoomRecess.com\", \"Sector(s)\": \"PreK-12\", \"Primary Essential Function\": \"LC - Sites, Resources & Reference - Games & Simulations\"}, {\"LP ID\": 18697, \"URL\": \"https://myap.collegeboard.org/login\", \"Product Name\": \"College Board AP Classroom\", \"Provider/Company Name\": \"The College Board\", \"Sector(s)\": \"PreK-12\", \"Primary Essential Function\": \"LC - Study Tools - Test Prep & Study Skills\"}, {\"LP ID\": 57084, \"URL\": \"https://www.coolmathgames.com\", \"Product Name\": \"CoolMath Games\", \"Provider/Company Name\": \"CoolMath.com LLC\", \"Sector(s)\": \"PreK-12\", \"Primary Essential Function\": \"LC - Sites, Resources & Reference - Games & Simulations\"}, {\"LP ID\": 64124, \"URL\": \"https://learn.genetics.utah.edu/\", \"Product Name\": \"Learn.Genetics\", \"Provider/Company Name\": \"The University of Utah \", \"Sector(s)\": \"PreK-12; Higher Ed\", \"Primary Essential Function\": \"LC - Sites, Resources & Reference\"}, {\"LP ID\": 47261, \"URL\": \"https://www.funbrain.com/\", \"Product Name\": \"Funbrain\", \"Provider/Company Name\": \"Funbrain Holdings, LLC\", \"Sector(s)\": \"PreK-12\", \"Primary Essential Function\": \"LC - Sites, Resources & Reference\"}, {\"LP ID\": 35201, \"URL\": \"https://www.symbolab.com/\", \"Product Name\": \"Symbolab\", \"Provider/Company Name\": \"EqsQuest Ltd\", \"Sector(s)\": \"PreK-12; Higher Ed\", \"Primary Essential Function\": \"LC - Study Tools\"}, {\"LP ID\": 36620, \"URL\": \"https://www.disneyplus.com/\", \"Product Name\": \"Disney+\", \"Provider/Company Name\": \"Disney\", \"Sector(s)\": \"PreK-12; Higher Ed\", \"Primary Essential Function\": \"LC - Sites, Resources & Reference - Streaming Services\"}, {\"LP ID\": 54110, \"URL\": \"https://www.pandora.com/\", \"Product Name\": \"Pandora\", \"Provider/Company Name\": \"Pandora Media, LLC\", \"Sector(s)\": \"PreK-12; Higher Ed\", \"Primary Essential Function\": \"LC - Sites, Resources & Reference - Streaming Services\"}, {\"LP ID\": 39623, \"URL\": \"https://www.spanishdict.com/\", \"Product Name\": \"SpanishDict\", \"Provider/Company Name\": \"Curiosity Media Inc\", \"Sector(s)\": \"PreK-12; Higher Ed; Corporate\", \"Primary Essential Function\": \"LC - Study Tools\"}, {\"LP ID\": 62538, \"URL\": \"https://www.bitmoji.com\", \"Product Name\": \"Bitmoji\", \"Provider/Company Name\": \"Snap Inc.\", \"Sector(s)\": \"PreK-12\", \"Primary Essential Function\": \"LC - Content Creation & Curation\"}, {\"LP ID\": 71152, \"URL\": \"http://phet.colorado.edu/\", \"Product Name\": \"PhET Interactive Science Simulations\", \"Provider/Company Name\": \"University of Colorado\", \"Sector(s)\": \"PreK-12\", \"Primary Essential Function\": \"LC - Sites, Resources & Reference - Games & Simulations\"}, {\"LP ID\": 55816, \"URL\": \"https://www.adobe.com/creativecloud/buy/education.html\", \"Product Name\": \"Adobe Creative Cloud for Higher Ed\", \"Provider/Company Name\": \"Adobe Inc\", \"Sector(s)\": \"PreK-12; Higher Ed; Corporate\", \"Primary Essential Function\": \"LC - Content Creation & Curation\"}, {\"LP ID\": 95967, \"URL\": \"https://www.livescience.com\", \"Product Name\": \"Live Science\", \"Provider/Company Name\": \"Future US Inc\", \"Sector(s)\": \"PreK-12\", \"Primary Essential Function\": \"LC - Sites, Resources & Reference\"}, {\"LP ID\": 11910, \"URL\": \"https://www.pewresearch.org/\", \"Product Name\": \"Pew Research Center\", \"Provider/Company Name\": \"Pew Research Center \", \"Sector(s)\": \"PreK-12; Higher Ed\", \"Primary Essential Function\": \"LC - Sites, Resources & Reference - Digital Collection & Repository\"}, {\"LP ID\": 37948, \"URL\": \"https://www.docusign.com/\", \"Product Name\": \"DocuSign\", \"Provider/Company Name\": \"DocuSign Inc\", \"Sector(s)\": \"PreK-12; Higher Ed; Corporate\", \"Primary Essential Function\": \"SDO - Other\"}, {\"LP ID\": 30008, \"URL\": \"https://groups.google.com/a/learnplatform.com/forum/#!overview\", \"Product Name\": \"Google Groups\", \"Provider/Company Name\": \"Google LLC\", \"Sector(s)\": \"PreK-12; Higher Ed; Corporate\", \"Primary Essential Function\": \"CM - Classroom Engagement & Instruction - Classroom Management\"}, {\"LP ID\": 48010, \"URL\": \"https://site.gcntraining.com\", \"Product Name\": \"GCN Training\", \"Provider/Company Name\": \"Global Compliance Network Inc\", \"Sector(s)\": \"PreK-12; Higher Ed; Corporate\", \"Primary Essential Function\": \"LC - Online Course Providers & Technical Skills Development\"}, {\"LP ID\": 80972, \"URL\": \"https://www.explorelearning.com\", \"Product Name\": \"ExploreLearning\", \"Provider/Company Name\": \"ExploreLearning, LLC\", \"Sector(s)\": \"PreK-12\", \"Primary Essential Function\": \"LC - Sites, Resources & Reference - Games & Simulations\"}, {\"LP ID\": 99789, \"URL\": \"https://www.evite.com\", \"Product Name\": \"Evite\", \"Provider/Company Name\": \"Evite\", \"Sector(s)\": \"PreK-12; Higher Ed; Corporate\", \"Primary Essential Function\": \"LC - Content Creation & Curation\"}, {\"LP ID\": 75206, \"URL\": \"https://www.ixl.com\", \"Product Name\": \"IXL\", \"Provider/Company Name\": \"IXL Learning\", \"Sector(s)\": \"PreK-12\", \"Primary Essential Function\": \"LC - Digital Learning Platforms\"}, {\"LP ID\": 77320, \"URL\": \"https://www.lakeshorelearning.com\", \"Product Name\": \"Lakeshore\", \"Provider/Company Name\": \"Lakeshore Learning Materials\", \"Sector(s)\": \"PreK-12\", \"Primary Essential Function\": \"LC - Sites, Resources & References - Learning Materials & Supplies\"}, {\"LP ID\": 29806, \"URL\": \"https://www.mathworksheets4kids.com\", \"Product Name\": \"Math Worksheets 4 Kids\", \"Provider/Company Name\": \"Math Worksheets 4 Kids\", \"Sector(s)\": \"PreK-12\", \"Primary Essential Function\": \"LC - Study Tools\"}, {\"LP ID\": 98845, \"URL\": \"https://meet.google.com/_meet\", \"Product Name\": \"Meet\", \"Provider/Company Name\": \"Google LLC\", \"Sector(s)\": \"PreK-12; Higher Ed; Corporate\", \"Primary Essential Function\": \"CM - Virtual Classroom - Video Conferencing & Screen Sharing\"}, {\"LP ID\": 28467, \"URL\": \"https://www.slidescarnival.com\", \"Product Name\": \"SlidesCarnival\", \"Provider/Company Name\": \"SlidesCarnival\", \"Sector(s)\": \"PreK-12; Higher Ed; Corporate\", \"Primary Essential Function\": \"LC - Content Creation & Curation\"}, {\"LP ID\": 23644, \"URL\": \"https://www.thoughtco.com\", \"Product Name\": \"ThoughtCo\", \"Provider/Company Name\": \"DotDash\", \"Sector(s)\": \"PreK-12; Higher Ed\", \"Primary Essential Function\": \"LC - Sites, Resources & Reference\"}, {\"LP ID\": 82101, \"URL\": \"https://time.com\", \"Product Name\": \"Time\", \"Provider/Company Name\": \"Time USA, LLC \", \"Sector(s)\": \"PreK-12; Higher Ed; Corporate\", \"Primary Essential Function\": \"LC - Sites, Resources & Reference\"}, {\"LP ID\": 70878, \"URL\": \"https://musiclab.chromeexperiments.com/\", \"Product Name\": \"CHROME MUSIC LAB\", \"Provider/Company Name\": \"Google LLC\", \"Sector(s)\": \"PreK-12; Higher Ed\", \"Primary Essential Function\": \"LC - Content Creation & Curation\"}, {\"LP ID\": 79295, \"URL\": \"https://www.quavermusic.com\", \"Product Name\": \"QuaverMusic\", \"Provider/Company Name\": \"Quaver Music\", \"Sector(s)\": \"PreK-12\", \"Primary Essential Function\": \"LC - Digital Learning Platforms\"}, {\"LP ID\": 11313, \"URL\": \"http://toytheater.com\", \"Product Name\": \"Toy Theater\", \"Provider/Company Name\": \"Toy Theater\", \"Sector(s)\": \"PreK-12\", \"Primary Essential Function\": \"LC - Sites, Resources & Reference - Games & Simulations\"}, {\"LP ID\": 19750, \"URL\": \"https://whiteboard.fi\", \"Product Name\": \"Whiteboard.fi\", \"Provider/Company Name\": \"Whiteboard.fi\", \"Sector(s)\": \"PreK-12\", \"Primary Essential Function\": \"LC - Content Creation & Curation\"}, {\"LP ID\": 22767, \"URL\": \"https://apps.apple.com/us/app/zoom-cloud-meetings/id546505307?ign-mpt=uo%3D4\", \"Product Name\": \"ZOOM Cloud Meetings\", \"Provider/Company Name\": \"ZOOM VIDEO COMMUNICATIONS, INC.\", \"Sector(s)\": \"PreK-12; Higher Ed; Corporate\", \"Primary Essential Function\": \"CM - Virtual Classroom - Video Conferencing & Screen Sharing\"}, {\"LP ID\": 94218, \"URL\": \"http://www.viewpure.com/\", \"Product Name\": \"ViewPure\", \"Provider/Company Name\": \"ViewPure\", \"Sector(s)\": \"PreK-12\", \"Primary Essential Function\": \"CM - Classroom Engagement & Instruction - Classroom Management\"}, {\"LP ID\": 98128, \"URL\": \"https://www.blooket.com\", \"Product Name\": \"Blooket\", \"Provider/Company Name\": \"Blooket LLC\", \"Sector(s)\": \"PreK-12\", \"Primary Essential Function\": \"LC - Digital Learning Platforms\"}, {\"LP ID\": 21650, \"URL\": \"https://www.musictheory.net/\", \"Product Name\": \"Music Theory\", \"Provider/Company Name\": \"musictheory.net\", \"Sector(s)\": \"PreK-12; Higher Ed\", \"Primary Essential Function\": \"LC - Study Tools\"}, {\"LP ID\": 64581, \"URL\": \"https://hulu.com\", \"Product Name\": \"Hulu\", \"Provider/Company Name\": \"Hulu, LLC\", \"Sector(s)\": \"PreK-12; Higher Ed\", \"Primary Essential Function\": \"LC - Sites, Resources & Reference - Streaming Services\"}, {\"LP ID\": 83704, \"URL\": \"http://www.investopedia.com\", \"Product Name\": \"Investopedia\", \"Provider/Company Name\": \"IAC\", \"Sector(s)\": \"PreK-12; Higher Ed; Corporate\", \"Primary Essential Function\": \"LC - Sites, Resources & Reference\"}, {\"LP ID\": 70706, \"URL\": \"https://canvas.apps.chrome/\", \"Product Name\": \"Canvas for Chrome\", \"Provider/Company Name\": \"Canvas Talent, Inc. \", \"Sector(s)\": \"PreK-12; Higher Ed; Corporate\", \"Primary Essential Function\": \"LC - Content Creation & Curation\"}, {\"LP ID\": 13282, \"URL\": \"https://www.schoolspecialty.com/\", \"Product Name\": \"School Specialty\", \"Provider/Company Name\": \"School Specialty Inc\", \"Sector(s)\": \"PreK-12\", \"Primary Essential Function\": \"LC - Sites, Resources & References - Learning Materials & Supplies\"}, {\"LP ID\": 24396, \"URL\": \"https://www.mathsisfun.com/\", \"Product Name\": \"Math is Fun\", \"Provider/Company Name\": \"Mathsisfun.com\", \"Sector(s)\": \"PreK-12\", \"Primary Essential Function\": \"LC - Sites, Resources & Reference\"}, {\"LP ID\": 22241, \"URL\": \"https://www.history.com/\", \"Product Name\": \"History.com\", \"Provider/Company Name\": \" A&E Television Networks, LLC\", \"Sector(s)\": \"PreK-12; Higher Ed\", \"Primary Essential Function\": \"LC - Sites, Resources & Reference\"}, {\"LP ID\": 93376, \"URL\": \"https://www.cultofpedagogy.com/\", \"Product Name\": \"Cult of Pedagogy\", \"Provider/Company Name\": \"Cult of Pedagogy\", \"Sector(s)\": \"PreK-12\", \"Primary Essential Function\": \"CM - Teacher Resources - Professional Learning\"}, {\"LP ID\": 88065, \"URL\": \"https://dochub.com/\", \"Product Name\": \"DocHub\", \"Provider/Company Name\": \"DocHub\", \"Sector(s)\": \"PreK-12; Higher Ed; Corporate\", \"Primary Essential Function\": \"SDO - Other\"}, {\"LP ID\": 37805, \"URL\": \"http://google.com/slides/about/\", \"Product Name\": \"Google Slides\", \"Provider/Company Name\": \"Google LLC\", \"Sector(s)\": \"PreK-12; Higher Ed; Corporate\", \"Primary Essential Function\": \"LC - Content Creation & Curation\"}, {\"LP ID\": 32555, \"URL\": \"http://www.innersloth.com/gameAmongUs.php\", \"Product Name\": \"Among Us\", \"Provider/Company Name\": \"InnerSloth\", \"Sector(s)\": \"PreK-12; Higher Ed\", \"Primary Essential Function\": \"LC - Sites, Resources & Reference - Games & Simulations\"}]}}, {\"mode\": \"vega-lite\"});\n",
              "</script>"
            ],
            "text/plain": [
              "alt.Chart(...)"
            ]
          },
          "metadata": {},
          "execution_count": 29
        }
      ]
    },
    {
      "cell_type": "markdown",
      "source": [
        "**Let'see what are the products provided by Google**"
      ],
      "metadata": {
        "id": "6ANHeiQvwqwE"
      }
    },
    {
      "cell_type": "code",
      "source": [
        "products_data[products_data['Provider/Company Name']=='Google LLC']['Product Name'].value_counts().head(10).to_frame()"
      ],
      "metadata": {
        "colab": {
          "base_uri": "https://localhost:8080/",
          "height": 363
        },
        "id": "RRcdU_9awg19",
        "outputId": "7dbe5c7c-05a9-4145-bf8d-51db9c93e306"
      },
      "execution_count": 30,
      "outputs": [
        {
          "output_type": "execute_result",
          "data": {
            "text/plain": [
              "                  Product Name\n",
              "Google Books                 1\n",
              "Google Chrome                1\n",
              "CHROME MUSIC LAB             1\n",
              "Meet                         1\n",
              "Google Groups                1\n",
              "Interland                    1\n",
              "Chrome Web Store             1\n",
              "Kiddle                       1\n",
              "Google Calendar              1\n",
              "Jamboard                     1"
            ],
            "text/html": [
              "\n",
              "  <div id=\"df-9bea4b5a-c840-469b-be92-a795407d7c9f\">\n",
              "    <div class=\"colab-df-container\">\n",
              "      <div>\n",
              "<style scoped>\n",
              "    .dataframe tbody tr th:only-of-type {\n",
              "        vertical-align: middle;\n",
              "    }\n",
              "\n",
              "    .dataframe tbody tr th {\n",
              "        vertical-align: top;\n",
              "    }\n",
              "\n",
              "    .dataframe thead th {\n",
              "        text-align: right;\n",
              "    }\n",
              "</style>\n",
              "<table border=\"1\" class=\"dataframe\">\n",
              "  <thead>\n",
              "    <tr style=\"text-align: right;\">\n",
              "      <th></th>\n",
              "      <th>Product Name</th>\n",
              "    </tr>\n",
              "  </thead>\n",
              "  <tbody>\n",
              "    <tr>\n",
              "      <th>Google Books</th>\n",
              "      <td>1</td>\n",
              "    </tr>\n",
              "    <tr>\n",
              "      <th>Google Chrome</th>\n",
              "      <td>1</td>\n",
              "    </tr>\n",
              "    <tr>\n",
              "      <th>CHROME MUSIC LAB</th>\n",
              "      <td>1</td>\n",
              "    </tr>\n",
              "    <tr>\n",
              "      <th>Meet</th>\n",
              "      <td>1</td>\n",
              "    </tr>\n",
              "    <tr>\n",
              "      <th>Google Groups</th>\n",
              "      <td>1</td>\n",
              "    </tr>\n",
              "    <tr>\n",
              "      <th>Interland</th>\n",
              "      <td>1</td>\n",
              "    </tr>\n",
              "    <tr>\n",
              "      <th>Chrome Web Store</th>\n",
              "      <td>1</td>\n",
              "    </tr>\n",
              "    <tr>\n",
              "      <th>Kiddle</th>\n",
              "      <td>1</td>\n",
              "    </tr>\n",
              "    <tr>\n",
              "      <th>Google Calendar</th>\n",
              "      <td>1</td>\n",
              "    </tr>\n",
              "    <tr>\n",
              "      <th>Jamboard</th>\n",
              "      <td>1</td>\n",
              "    </tr>\n",
              "  </tbody>\n",
              "</table>\n",
              "</div>\n",
              "      <button class=\"colab-df-convert\" onclick=\"convertToInteractive('df-9bea4b5a-c840-469b-be92-a795407d7c9f')\"\n",
              "              title=\"Convert this dataframe to an interactive table.\"\n",
              "              style=\"display:none;\">\n",
              "        \n",
              "  <svg xmlns=\"http://www.w3.org/2000/svg\" height=\"24px\"viewBox=\"0 0 24 24\"\n",
              "       width=\"24px\">\n",
              "    <path d=\"M0 0h24v24H0V0z\" fill=\"none\"/>\n",
              "    <path d=\"M18.56 5.44l.94 2.06.94-2.06 2.06-.94-2.06-.94-.94-2.06-.94 2.06-2.06.94zm-11 1L8.5 8.5l.94-2.06 2.06-.94-2.06-.94L8.5 2.5l-.94 2.06-2.06.94zm10 10l.94 2.06.94-2.06 2.06-.94-2.06-.94-.94-2.06-.94 2.06-2.06.94z\"/><path d=\"M17.41 7.96l-1.37-1.37c-.4-.4-.92-.59-1.43-.59-.52 0-1.04.2-1.43.59L10.3 9.45l-7.72 7.72c-.78.78-.78 2.05 0 2.83L4 21.41c.39.39.9.59 1.41.59.51 0 1.02-.2 1.41-.59l7.78-7.78 2.81-2.81c.8-.78.8-2.07 0-2.86zM5.41 20L4 18.59l7.72-7.72 1.47 1.35L5.41 20z\"/>\n",
              "  </svg>\n",
              "      </button>\n",
              "      \n",
              "  <style>\n",
              "    .colab-df-container {\n",
              "      display:flex;\n",
              "      flex-wrap:wrap;\n",
              "      gap: 12px;\n",
              "    }\n",
              "\n",
              "    .colab-df-convert {\n",
              "      background-color: #E8F0FE;\n",
              "      border: none;\n",
              "      border-radius: 50%;\n",
              "      cursor: pointer;\n",
              "      display: none;\n",
              "      fill: #1967D2;\n",
              "      height: 32px;\n",
              "      padding: 0 0 0 0;\n",
              "      width: 32px;\n",
              "    }\n",
              "\n",
              "    .colab-df-convert:hover {\n",
              "      background-color: #E2EBFA;\n",
              "      box-shadow: 0px 1px 2px rgba(60, 64, 67, 0.3), 0px 1px 3px 1px rgba(60, 64, 67, 0.15);\n",
              "      fill: #174EA6;\n",
              "    }\n",
              "\n",
              "    [theme=dark] .colab-df-convert {\n",
              "      background-color: #3B4455;\n",
              "      fill: #D2E3FC;\n",
              "    }\n",
              "\n",
              "    [theme=dark] .colab-df-convert:hover {\n",
              "      background-color: #434B5C;\n",
              "      box-shadow: 0px 1px 3px 1px rgba(0, 0, 0, 0.15);\n",
              "      filter: drop-shadow(0px 1px 2px rgba(0, 0, 0, 0.3));\n",
              "      fill: #FFFFFF;\n",
              "    }\n",
              "  </style>\n",
              "\n",
              "      <script>\n",
              "        const buttonEl =\n",
              "          document.querySelector('#df-9bea4b5a-c840-469b-be92-a795407d7c9f button.colab-df-convert');\n",
              "        buttonEl.style.display =\n",
              "          google.colab.kernel.accessAllowed ? 'block' : 'none';\n",
              "\n",
              "        async function convertToInteractive(key) {\n",
              "          const element = document.querySelector('#df-9bea4b5a-c840-469b-be92-a795407d7c9f');\n",
              "          const dataTable =\n",
              "            await google.colab.kernel.invokeFunction('convertToInteractive',\n",
              "                                                     [key], {});\n",
              "          if (!dataTable) return;\n",
              "\n",
              "          const docLinkHtml = 'Like what you see? Visit the ' +\n",
              "            '<a target=\"_blank\" href=https://colab.research.google.com/notebooks/data_table.ipynb>data table notebook</a>'\n",
              "            + ' to learn more about interactive tables.';\n",
              "          element.innerHTML = '';\n",
              "          dataTable['output_type'] = 'display_data';\n",
              "          await google.colab.output.renderOutput(dataTable, element);\n",
              "          const docLink = document.createElement('div');\n",
              "          docLink.innerHTML = docLinkHtml;\n",
              "          element.appendChild(docLink);\n",
              "        }\n",
              "      </script>\n",
              "    </div>\n",
              "  </div>\n",
              "  "
            ]
          },
          "metadata": {},
          "execution_count": 30
        }
      ]
    },
    {
      "cell_type": "markdown",
      "source": [
        "#**Educational Sector Distributions**\n",
        "\n",
        "* Educational sectors are divided into three categories, PreK-12, Higher Education, and Corporate.\n",
        "\n",
        "* Some products are specific to a sector but others are quite general."
      ],
      "metadata": {
        "id": "HlH1keoGwzSN"
      }
    },
    {
      "cell_type": "code",
      "source": [
        "sector = products_data[\"Sector(s)\"].value_counts().to_frame().reset_index()\n",
        "sector.style.background_gradient(cmap=\"Set2\", subset=['Sector(s)'])"
      ],
      "metadata": {
        "colab": {
          "base_uri": "https://localhost:8080/",
          "height": 206
        },
        "id": "LwaQxO9XwwRM",
        "outputId": "a2c49645-30f6-4592-b544-0aa724b58984"
      },
      "execution_count": 31,
      "outputs": [
        {
          "output_type": "execute_result",
          "data": {
            "text/plain": [
              "<pandas.io.formats.style.Styler at 0x7f1ec08136a0>"
            ],
            "text/html": [
              "<style type=\"text/css\">\n",
              "#T_a4b0c_row0_col1 {\n",
              "  background-color: #b3b3b3;\n",
              "  color: #000000;\n",
              "}\n",
              "#T_a4b0c_row1_col1 {\n",
              "  background-color: #ffd92f;\n",
              "  color: #000000;\n",
              "}\n",
              "#T_a4b0c_row2_col1 {\n",
              "  background-color: #e78ac3;\n",
              "  color: #f1f1f1;\n",
              "}\n",
              "#T_a4b0c_row3_col1, #T_a4b0c_row4_col1 {\n",
              "  background-color: #66c2a5;\n",
              "  color: #000000;\n",
              "}\n",
              "</style>\n",
              "<table id=\"T_a4b0c\" class=\"dataframe\">\n",
              "  <thead>\n",
              "    <tr>\n",
              "      <th class=\"blank level0\" >&nbsp;</th>\n",
              "      <th id=\"T_a4b0c_level0_col0\" class=\"col_heading level0 col0\" >index</th>\n",
              "      <th id=\"T_a4b0c_level0_col1\" class=\"col_heading level0 col1\" >Sector(s)</th>\n",
              "    </tr>\n",
              "  </thead>\n",
              "  <tbody>\n",
              "    <tr>\n",
              "      <th id=\"T_a4b0c_level0_row0\" class=\"row_heading level0 row0\" >0</th>\n",
              "      <td id=\"T_a4b0c_row0_col0\" class=\"data row0 col0\" >PreK-12</td>\n",
              "      <td id=\"T_a4b0c_row0_col1\" class=\"data row0 col1\" >170</td>\n",
              "    </tr>\n",
              "    <tr>\n",
              "      <th id=\"T_a4b0c_level0_row1\" class=\"row_heading level0 row1\" >1</th>\n",
              "      <td id=\"T_a4b0c_row1_col0\" class=\"data row1 col0\" >PreK-12; Higher Ed; Corporate</td>\n",
              "      <td id=\"T_a4b0c_row1_col1\" class=\"data row1 col1\" >115</td>\n",
              "    </tr>\n",
              "    <tr>\n",
              "      <th id=\"T_a4b0c_level0_row2\" class=\"row_heading level0 row2\" >2</th>\n",
              "      <td id=\"T_a4b0c_row2_col0\" class=\"data row2 col0\" >PreK-12; Higher Ed</td>\n",
              "      <td id=\"T_a4b0c_row2_col1\" class=\"data row2 col1\" >65</td>\n",
              "    </tr>\n",
              "    <tr>\n",
              "      <th id=\"T_a4b0c_level0_row3\" class=\"row_heading level0 row3\" >3</th>\n",
              "      <td id=\"T_a4b0c_row3_col0\" class=\"data row3 col0\" >Corporate</td>\n",
              "      <td id=\"T_a4b0c_row3_col1\" class=\"data row3 col1\" >1</td>\n",
              "    </tr>\n",
              "    <tr>\n",
              "      <th id=\"T_a4b0c_level0_row4\" class=\"row_heading level0 row4\" >4</th>\n",
              "      <td id=\"T_a4b0c_row4_col0\" class=\"data row4 col0\" >Higher Ed; Corporate</td>\n",
              "      <td id=\"T_a4b0c_row4_col1\" class=\"data row4 col1\" >1</td>\n",
              "    </tr>\n",
              "  </tbody>\n",
              "</table>\n"
            ]
          },
          "metadata": {},
          "execution_count": 31
        }
      ]
    },
    {
      "cell_type": "markdown",
      "source": [
        "**As we can see PreK education is dominating the distribution with 54 percentage.**"
      ],
      "metadata": {
        "id": "rkmQix7Yw-fc"
      }
    },
    {
      "cell_type": "code",
      "source": [
        "c1,c2,c3 = 0, 0, 0\n",
        "for s in products_data[\"Sector(s)\"]:\n",
        "    if(not pd.isnull(s)):\n",
        "        s = s.split(\";\")\n",
        "        for i in range(len(s)):\n",
        "            sub = s[i].strip()\n",
        "            if(sub == 'PreK-12'): c1+=1\n",
        "            if(sub == 'Higher Ed'): c2+=1\n",
        "            if(sub == 'Corporate'): c3+=1\n",
        "\n",
        "fig, ax  = plt.subplots(figsize=(16, 8))\n",
        "                \n",
        "fig.suptitle('Educational Sector Distribution', size = 20, color = \"black\")\n",
        "explode = ( 0.03, 0.03, 0.3)\n",
        "labels = ['PreK-12','Higher Ed','Corporate']\n",
        "sizes = [c1,c2,c3]\n",
        "ax.pie(sizes, \n",
        "       explode = explode, \n",
        "       colors = sns.color_palette(\"Set2\"),\n",
        "       startangle = 60,\n",
        "       labels = labels,\n",
        "       autopct = '%1.0f%%',\n",
        "       pctdistance = 0.9\n",
        "      )\n",
        "ax.add_artist(plt.Circle((0,0),0.4,fc='white'))\n",
        "plt.show()"
      ],
      "metadata": {
        "colab": {
          "base_uri": "https://localhost:8080/",
          "height": 523
        },
        "id": "8YV7Qp8Aw7A4",
        "outputId": "d768d4c7-272d-458e-d846-348eccd52795"
      },
      "execution_count": 32,
      "outputs": [
        {
          "output_type": "display_data",
          "data": {
            "text/plain": [
              "<Figure size 1152x576 with 1 Axes>"
            ],
            "image/png": "[encoded data removed]"
          },
          "metadata": {}
        }
      ]
    },
    {
      "cell_type": "markdown",
      "source": [
        "#**Primary Functions with main and subcategories**"
      ],
      "metadata": {
        "id": "Qyt42PAuxPtk"
      }
    },
    {
      "cell_type": "markdown",
      "source": [
        "There are three types of main primary functions.\n",
        "\n",
        "* LC = Learning & Curriculum.\n",
        "\n",
        "* CM = Classroom Management.\n",
        "\n",
        "* SDO = School & District Operations.\n",
        "\n",
        "* You can interact with Plotly sunburst plot to explore the distribution of main categories and subcategories.\n",
        "\n",
        "The Learning products have majority shares in this group and the most common subcategories are digital learning platforms."
      ],
      "metadata": {
        "id": "zmgNjRUxxTgk"
      }
    },
    {
      "cell_type": "code",
      "source": [
        "PEF_cat_main = []\n",
        "PEF_cat_sub = []\n",
        "for p in products_data[\"Primary Essential Function\"]:\n",
        "    \n",
        "    if (not pd.isnull(p)):\n",
        "        cat1 = p.split(\"-\",1)[0].strip()\n",
        "        PEF_cat_main.append(cat1)\n",
        "        \n",
        "        cat2 = p.split(\"-\",1)[1].strip()\n",
        "        PEF_cat_sub.append(cat2)\n",
        "    else:\n",
        "        PEF_cat_main.append(np.nan)\n",
        "        PEF_cat_sub.append(np.nan)\n",
        "        \n",
        "products_data[\"Essential_Function_main\"] = PEF_cat_main\n",
        "products_data[\"Essential_Function_sub\"] = PEF_cat_sub\n",
        "\n",
        "DE = (\n",
        "    products_data[[\"Essential_Function_main\", \"Essential_Function_sub\"]]\n",
        "    .value_counts()\n",
        "    .rename_axis([\"Essential_Function_main\", \"Essential_Function_sub\"])\n",
        "    .reset_index(name=\"counts\")\n",
        ")\n",
        "\n",
        "fig = px.sunburst(\n",
        "    DE,\n",
        "    path=[\"Essential_Function_main\", \"Essential_Function_sub\"],\n",
        "    values=\"counts\",\n",
        "    title=\"Sunburst Primary Essential Functions\",\n",
        ")\n",
        "fig.show()"
      ],
      "metadata": {
        "colab": {
          "base_uri": "https://localhost:8080/",
          "height": 542
        },
        "id": "u6jhB5SuxKu-",
        "outputId": "a9ce200f-11e3-4769-8568-eb26026f43e3"
      },
      "execution_count": 33,
      "outputs": [
        {
          "output_type": "display_data",
          "data": {
            "text/html": [
              "<html>\n",
              "<head><meta charset=\"utf-8\" /></head>\n",
              "<body>\n",
              "    <div>            <script src=\"https://cdnjs.cloudflare.com/ajax/libs/mathjax/2.7.5/MathJax.js?config=TeX-AMS-MML_SVG\"></script><script type=\"text/javascript\">if (window.MathJax && window.MathJax.Hub && window.MathJax.Hub.Config) {window.MathJax.Hub.Config({SVG: {font: \"STIX-Web\"}});}</script>                <script type=\"text/javascript\">window.PlotlyConfig = {MathJaxConfig: 'local'};</script>\n",
              "        <script src=\"https://cdn.plot.ly/plotly-2.18.2.min.js\"></script>                <div id=\"2cc89117-4581-43e3-820f-5e58a8a1e973\" class=\"plotly-graph-div\" style=\"height:525px; width:100%;\"></div>            <script type=\"text/javascript\">                                    window.PLOTLYENV=window.PLOTLYENV || {};                                    if (document.getElementById(\"2cc89117-4581-43e3-820f-5e58a8a1e973\")) {                    Plotly.newPlot(                        \"2cc89117-4581-43e3-820f-5e58a8a1e973\",                        [{\"branchvalues\":\"total\",\"domain\":{\"x\":[0.0,1.0],\"y\":[0.0,1.0]},\"hovertemplate\":\"labels=%{label}<br>counts=%{value}<br>parent=%{parent}<br>id=%{id}<extra></extra>\",\"ids\":[\"SDO/Admissions, Enrollment & Rostering\",\"LC/Career Planning & Job Search\",\"CM/Classroom Engagement & Instruction - Assessment & Classroom Response\",\"CM/Classroom Engagement & Instruction - Classroom Management\",\"CM/Classroom Engagement & Instruction - Communication & Messaging\",\"LC/Content Creation & Curation\",\"LC/Courseware & Textbooks\",\"SDO/Data, Analytics & Reporting\",\"SDO/Data, Analytics & Reporting - Site Hosting & Data Warehousing\",\"SDO/Data, Analytics & Reporting - Student Information Systems (SIS)\",\"LC/Digital Learning Platforms\",\"SDO/Environmental, Health & Safety (EHS) Compliance\",\"SDO/Human Resources\",\"SDO/Large-Scale & Standardized Testing\",\"SDO/Learning Management Systems (LMS)\",\"LC/Online Course Providers & Technical Skills Development\",\"LC/CM/SDO/Other\",\"SDO/Other\",\"SDO/School Management Software - Mobile Device Management\",\"SDO/School Management Software - SSO\",\"LC/Sites, Resources & Reference\",\"LC/Sites, Resources & Reference - Digital Collection & Repository\",\"LC/Sites, Resources & Reference - Encyclopedia\",\"LC/Sites, Resources & Reference - Games & Simulations\",\"LC/Sites, Resources & Reference - Streaming Services\",\"LC/Sites, Resources & Reference - Thesaurus & Dictionary\",\"LC/Sites, Resources & References - Learning Materials & Supplies\",\"LC/Study Tools\",\"LC/Study Tools - Q&A\",\"LC/Study Tools - Test Prep & Study Skills\",\"LC/Study Tools - Tutoring\",\"CM/Teacher Resources - Grading & Attendance\",\"CM/Teacher Resources - Lesson Planning\",\"CM/Teacher Resources - Professional Learning\",\"CM/Virtual Classroom - Video Conferencing & Screen Sharing\",\"CM\",\"LC\",\"LC/CM/SDO\",\"SDO\"],\"labels\":[\"Admissions, Enrollment & Rostering\",\"Career Planning & Job Search\",\"Classroom Engagement & Instruction - Assessment & Classroom Response\",\"Classroom Engagement & Instruction - Classroom Management\",\"Classroom Engagement & Instruction - Communication & Messaging\",\"Content Creation & Curation\",\"Courseware & Textbooks\",\"Data, Analytics & Reporting\",\"Data, Analytics & Reporting - Site Hosting & Data Warehousing\",\"Data, Analytics & Reporting - Student Information Systems (SIS)\",\"Digital Learning Platforms\",\"Environmental, Health & Safety (EHS) Compliance\",\"Human Resources\",\"Large-Scale & Standardized Testing\",\"Learning Management Systems (LMS)\",\"Online Course Providers & Technical Skills Development\",\"Other\",\"Other\",\"School Management Software - Mobile Device Management\",\"School Management Software - SSO\",\"Sites, Resources & Reference\",\"Sites, Resources & Reference - Digital Collection & Repository\",\"Sites, Resources & Reference - Encyclopedia\",\"Sites, Resources & Reference - Games & Simulations\",\"Sites, Resources & Reference - Streaming Services\",\"Sites, Resources & Reference - Thesaurus & Dictionary\",\"Sites, Resources & References - Learning Materials & Supplies\",\"Study Tools\",\"Study Tools - Q&A\",\"Study Tools - Test Prep & Study Skills\",\"Study Tools - Tutoring\",\"Teacher Resources - Grading & Attendance\",\"Teacher Resources - Lesson Planning\",\"Teacher Resources - Professional Learning\",\"Virtual Classroom - Video Conferencing & Screen Sharing\",\"CM\",\"LC\",\"LC/CM/SDO\",\"SDO\"],\"name\":\"\",\"parents\":[\"SDO\",\"LC\",\"CM\",\"CM\",\"CM\",\"LC\",\"LC\",\"SDO\",\"SDO\",\"SDO\",\"LC\",\"SDO\",\"SDO\",\"SDO\",\"SDO\",\"LC\",\"LC/CM/SDO\",\"SDO\",\"SDO\",\"SDO\",\"LC\",\"LC\",\"LC\",\"LC\",\"LC\",\"LC\",\"LC\",\"LC\",\"LC\",\"LC\",\"LC\",\"CM\",\"CM\",\"CM\",\"CM\",\"\",\"\",\"\",\"\"],\"values\":[1,3,4,11,5,36,18,3,6,2,74,1,4,2,5,5,16,2,2,2,47,15,4,18,9,4,4,25,6,3,1,1,3,3,7,34,272,16,30],\"type\":\"sunburst\"}],                        {\"template\":{\"data\":{\"histogram2dcontour\":[{\"type\":\"histogram2dcontour\",\"colorbar\":{\"outlinewidth\":0,\"ticks\":\"\"},\"colorscale\":[[0.0,\"#0d0887\"],[0.1111111111111111,\"#46039f\"],[0.2222222222222222,\"#7201a8\"],[0.3333333333333333,\"#9c179e\"],[0.4444444444444444,\"#bd3786\"],[0.5555555555555556,\"#d8576b\"],[0.6666666666666666,\"#ed7953\"],[0.7777777777777778,\"#fb9f3a\"],[0.8888888888888888,\"#fdca26\"],[1.0,\"#f0f921\"]]}],\"choropleth\":[{\"type\":\"choropleth\",\"colorbar\":{\"outlinewidth\":0,\"ticks\":\"\"}}],\"histogram2d\":[{\"type\":\"histogram2d\",\"colorbar\":{\"outlinewidth\":0,\"ticks\":\"\"},\"colorscale\":[[0.0,\"#0d0887\"],[0.1111111111111111,\"#46039f\"],[0.2222222222222222,\"#7201a8\"],[0.3333333333333333,\"#9c179e\"],[0.4444444444444444,\"#bd3786\"],[0.5555555555555556,\"#d8576b\"],[0.6666666666666666,\"#ed7953\"],[0.7777777777777778,\"#fb9f3a\"],[0.8888888888888888,\"#fdca26\"],[1.0,\"#f0f921\"]]}],\"heatmap\":[{\"type\":\"heatmap\",\"colorbar\":{\"outlinewidth\":0,\"ticks\":\"\"},\"colorscale\":[[0.0,\"#0d0887\"],[0.1111111111111111,\"#46039f\"],[0.2222222222222222,\"#7201a8\"],[0.3333333333333333,\"#9c179e\"],[0.4444444444444444,\"#bd3786\"],[0.5555555555555556,\"#d8576b\"],[0.6666666666666666,\"#ed7953\"],[0.7777777777777778,\"#fb9f3a\"],[0.8888888888888888,\"#fdca26\"],[1.0,\"#f0f921\"]]}],\"heatmapgl\":[{\"type\":\"heatmapgl\",\"colorbar\":{\"outlinewidth\":0,\"ticks\":\"\"},\"colorscale\":[[0.0,\"#0d0887\"],[0.1111111111111111,\"#46039f\"],[0.2222222222222222,\"#7201a8\"],[0.3333333333333333,\"#9c179e\"],[0.4444444444444444,\"#bd3786\"],[0.5555555555555556,\"#d8576b\"],[0.6666666666666666,\"#ed7953\"],[0.7777777777777778,\"#fb9f3a\"],[0.8888888888888888,\"#fdca26\"],[1.0,\"#f0f921\"]]}],\"contourcarpet\":[{\"type\":\"contourcarpet\",\"colorbar\":{\"outlinewidth\":0,\"ticks\":\"\"}}],\"contour\":[{\"type\":\"contour\",\"colorbar\":{\"outlinewidth\":0,\"ticks\":\"\"},\"colorscale\":[[0.0,\"#0d0887\"],[0.1111111111111111,\"#46039f\"],[0.2222222222222222,\"#7201a8\"],[0.3333333333333333,\"#9c179e\"],[0.4444444444444444,\"#bd3786\"],[0.5555555555555556,\"#d8576b\"],[0.6666666666666666,\"#ed7953\"],[0.7777777777777778,\"#fb9f3a\"],[0.8888888888888888,\"#fdca26\"],[1.0,\"#f0f921\"]]}],\"surface\":[{\"type\":\"surface\",\"colorbar\":{\"outlinewidth\":0,\"ticks\":\"\"},\"colorscale\":[[0.0,\"#0d0887\"],[0.1111111111111111,\"#46039f\"],[0.2222222222222222,\"#7201a8\"],[0.3333333333333333,\"#9c179e\"],[0.4444444444444444,\"#bd3786\"],[0.5555555555555556,\"#d8576b\"],[0.6666666666666666,\"#ed7953\"],[0.7777777777777778,\"#fb9f3a\"],[0.8888888888888888,\"#fdca26\"],[1.0,\"#f0f921\"]]}],\"mesh3d\":[{\"type\":\"mesh3d\",\"colorbar\":{\"outlinewidth\":0,\"ticks\":\"\"}}],\"scatter\":[{\"fillpattern\":{\"fillmode\":\"overlay\",\"size\":10,\"solidity\":0.2},\"type\":\"scatter\"}],\"parcoords\":[{\"type\":\"parcoords\",\"line\":{\"colorbar\":{\"outlinewidth\":0,\"ticks\":\"\"}}}],\"scatterpolargl\":[{\"type\":\"scatterpolargl\",\"marker\":{\"colorbar\":{\"outlinewidth\":0,\"ticks\":\"\"}}}],\"bar\":[{\"error_x\":{\"color\":\"#2a3f5f\"},\"error_y\":{\"color\":\"#2a3f5f\"},\"marker\":{\"line\":{\"color\":\"#E5ECF6\",\"width\":0.5},\"pattern\":{\"fillmode\":\"overlay\",\"size\":10,\"solidity\":0.2}},\"type\":\"bar\"}],\"scattergeo\":[{\"type\":\"scattergeo\",\"marker\":{\"colorbar\":{\"outlinewidth\":0,\"ticks\":\"\"}}}],\"scatterpolar\":[{\"type\":\"scatterpolar\",\"marker\":{\"colorbar\":{\"outlinewidth\":0,\"ticks\":\"\"}}}],\"histogram\":[{\"marker\":{\"pattern\":{\"fillmode\":\"overlay\",\"size\":10,\"solidity\":0.2}},\"type\":\"histogram\"}],\"scattergl\":[{\"type\":\"scattergl\",\"marker\":{\"colorbar\":{\"outlinewidth\":0,\"ticks\":\"\"}}}],\"scatter3d\":[{\"type\":\"scatter3d\",\"line\":{\"colorbar\":{\"outlinewidth\":0,\"ticks\":\"\"}},\"marker\":{\"colorbar\":{\"outlinewidth\":0,\"ticks\":\"\"}}}],\"scattermapbox\":[{\"type\":\"scattermapbox\",\"marker\":{\"colorbar\":{\"outlinewidth\":0,\"ticks\":\"\"}}}],\"scatterternary\":[{\"type\":\"scatterternary\",\"marker\":{\"colorbar\":{\"outlinewidth\":0,\"ticks\":\"\"}}}],\"scattercarpet\":[{\"type\":\"scattercarpet\",\"marker\":{\"colorbar\":{\"outlinewidth\":0,\"ticks\":\"\"}}}],\"carpet\":[{\"aaxis\":{\"endlinecolor\":\"#2a3f5f\",\"gridcolor\":\"white\",\"linecolor\":\"white\",\"minorgridcolor\":\"white\",\"startlinecolor\":\"#2a3f5f\"},\"baxis\":{\"endlinecolor\":\"#2a3f5f\",\"gridcolor\":\"white\",\"linecolor\":\"white\",\"minorgridcolor\":\"white\",\"startlinecolor\":\"#2a3f5f\"},\"type\":\"carpet\"}],\"table\":[{\"cells\":{\"fill\":{\"color\":\"#EBF0F8\"},\"line\":{\"color\":\"white\"}},\"header\":{\"fill\":{\"color\":\"#C8D4E3\"},\"line\":{\"color\":\"white\"}},\"type\":\"table\"}],\"barpolar\":[{\"marker\":{\"line\":{\"color\":\"#E5ECF6\",\"width\":0.5},\"pattern\":{\"fillmode\":\"overlay\",\"size\":10,\"solidity\":0.2}},\"type\":\"barpolar\"}],\"pie\":[{\"automargin\":true,\"type\":\"pie\"}]},\"layout\":{\"autotypenumbers\":\"strict\",\"colorway\":[\"#636efa\",\"#EF553B\",\"#00cc96\",\"#ab63fa\",\"#FFA15A\",\"#19d3f3\",\"#FF6692\",\"#B6E880\",\"#FF97FF\",\"#FECB52\"],\"font\":{\"color\":\"#2a3f5f\"},\"hovermode\":\"closest\",\"hoverlabel\":{\"align\":\"left\"},\"paper_bgcolor\":\"white\",\"plot_bgcolor\":\"#E5ECF6\",\"polar\":{\"bgcolor\":\"#E5ECF6\",\"angularaxis\":{\"gridcolor\":\"white\",\"linecolor\":\"white\",\"ticks\":\"\"},\"radialaxis\":{\"gridcolor\":\"white\",\"linecolor\":\"white\",\"ticks\":\"\"}},\"ternary\":{\"bgcolor\":\"#E5ECF6\",\"aaxis\":{\"gridcolor\":\"white\",\"linecolor\":\"white\",\"ticks\":\"\"},\"baxis\":{\"gridcolor\":\"white\",\"linecolor\":\"white\",\"ticks\":\"\"},\"caxis\":{\"gridcolor\":\"white\",\"linecolor\":\"white\",\"ticks\":\"\"}},\"coloraxis\":{\"colorbar\":{\"outlinewidth\":0,\"ticks\":\"\"}},\"colorscale\":{\"sequential\":[[0.0,\"#0d0887\"],[0.1111111111111111,\"#46039f\"],[0.2222222222222222,\"#7201a8\"],[0.3333333333333333,\"#9c179e\"],[0.4444444444444444,\"#bd3786\"],[0.5555555555555556,\"#d8576b\"],[0.6666666666666666,\"#ed7953\"],[0.7777777777777778,\"#fb9f3a\"],[0.8888888888888888,\"#fdca26\"],[1.0,\"#f0f921\"]],\"sequentialminus\":[[0.0,\"#0d0887\"],[0.1111111111111111,\"#46039f\"],[0.2222222222222222,\"#7201a8\"],[0.3333333333333333,\"#9c179e\"],[0.4444444444444444,\"#bd3786\"],[0.5555555555555556,\"#d8576b\"],[0.6666666666666666,\"#ed7953\"],[0.7777777777777778,\"#fb9f3a\"],[0.8888888888888888,\"#fdca26\"],[1.0,\"#f0f921\"]],\"diverging\":[[0,\"#8e0152\"],[0.1,\"#c51b7d\"],[0.2,\"#de77ae\"],[0.3,\"#f1b6da\"],[0.4,\"#fde0ef\"],[0.5,\"#f7f7f7\"],[0.6,\"#e6f5d0\"],[0.7,\"#b8e186\"],[0.8,\"#7fbc41\"],[0.9,\"#4d9221\"],[1,\"#276419\"]]},\"xaxis\":{\"gridcolor\":\"white\",\"linecolor\":\"white\",\"ticks\":\"\",\"title\":{\"standoff\":15},\"zerolinecolor\":\"white\",\"automargin\":true,\"zerolinewidth\":2},\"yaxis\":{\"gridcolor\":\"white\",\"linecolor\":\"white\",\"ticks\":\"\",\"title\":{\"standoff\":15},\"zerolinecolor\":\"white\",\"automargin\":true,\"zerolinewidth\":2},\"scene\":{\"xaxis\":{\"backgroundcolor\":\"#E5ECF6\",\"gridcolor\":\"white\",\"linecolor\":\"white\",\"showbackground\":true,\"ticks\":\"\",\"zerolinecolor\":\"white\",\"gridwidth\":2},\"yaxis\":{\"backgroundcolor\":\"#E5ECF6\",\"gridcolor\":\"white\",\"linecolor\":\"white\",\"showbackground\":true,\"ticks\":\"\",\"zerolinecolor\":\"white\",\"gridwidth\":2},\"zaxis\":{\"backgroundcolor\":\"#E5ECF6\",\"gridcolor\":\"white\",\"linecolor\":\"white\",\"showbackground\":true,\"ticks\":\"\",\"zerolinecolor\":\"white\",\"gridwidth\":2}},\"shapedefaults\":{\"line\":{\"color\":\"#2a3f5f\"}},\"annotationdefaults\":{\"arrowcolor\":\"#2a3f5f\",\"arrowhead\":0,\"arrowwidth\":1},\"geo\":{\"bgcolor\":\"white\",\"landcolor\":\"#E5ECF6\",\"subunitcolor\":\"white\",\"showland\":true,\"showlakes\":true,\"lakecolor\":\"white\"},\"title\":{\"x\":0.05},\"mapbox\":{\"style\":\"light\"}}},\"legend\":{\"tracegroupgap\":0},\"title\":{\"text\":\"Sunburst Primary Essential Functions\"}},                        {\"responsive\": true}                    ).then(function(){\n",
              "                            \n",
              "var gd = document.getElementById('2cc89117-4581-43e3-820f-5e58a8a1e973');\n",
              "var x = new MutationObserver(function (mutations, observer) {{\n",
              "        var display = window.getComputedStyle(gd).display;\n",
              "        if (!display || display === 'none') {{\n",
              "            console.log([gd, 'removed!']);\n",
              "            Plotly.purge(gd);\n",
              "            observer.disconnect();\n",
              "        }}\n",
              "}});\n",
              "\n",
              "// Listen for the removal of the full notebook cells\n",
              "var notebookContainer = gd.closest('#notebook-container');\n",
              "if (notebookContainer) {{\n",
              "    x.observe(notebookContainer, {childList: true});\n",
              "}}\n",
              "\n",
              "// Listen for the clearing of the current output cell\n",
              "var outputEl = gd.closest('.output');\n",
              "if (outputEl) {{\n",
              "    x.observe(outputEl, {childList: true});\n",
              "}}\n",
              "\n",
              "                        })                };                            </script>        </div>\n",
              "</body>\n",
              "</html>"
            ]
          },
          "metadata": {}
        }
      ]
    },
    {
      "cell_type": "markdown",
      "source": [
        "#**Essential Function Subcategories Distribution**\n",
        "\n",
        "* We can observe all the subcategories distribution.\n",
        "\n",
        "Content creation and digital learning are leading in this market."
      ],
      "metadata": {
        "id": "VZ7vaDQvy7JH"
      }
    },
    {
      "cell_type": "code",
      "source": [
        "fig = px.histogram(\n",
        "    DE,\n",
        "    x = \"counts\",\n",
        "    y = \"Essential_Function_sub\",\n",
        "    \n",
        "    title=\"Primary Essential Function Sub-Categories\",\n",
        ")\n",
        "fig.update_traces(marker = dict(\n",
        "            color='mediumpurple'\n",
        "            )),\n",
        "fig.show()"
      ],
      "metadata": {
        "colab": {
          "base_uri": "https://localhost:8080/",
          "height": 542
        },
        "id": "2J3osCeqxkU_",
        "outputId": "6324d157-02c8-4c3c-965d-1f11dca610f4"
      },
      "execution_count": 34,
      "outputs": [
        {
          "output_type": "display_data",
          "data": {
            "text/html": [
              "<html>\n",
              "<head><meta charset=\"utf-8\" /></head>\n",
              "<body>\n",
              "    <div>            <script src=\"https://cdnjs.cloudflare.com/ajax/libs/mathjax/2.7.5/MathJax.js?config=TeX-AMS-MML_SVG\"></script><script type=\"text/javascript\">if (window.MathJax && window.MathJax.Hub && window.MathJax.Hub.Config) {window.MathJax.Hub.Config({SVG: {font: \"STIX-Web\"}});}</script>                <script type=\"text/javascript\">window.PlotlyConfig = {MathJaxConfig: 'local'};</script>\n",
              "        <script src=\"https://cdn.plot.ly/plotly-2.18.2.min.js\"></script>                <div id=\"1d995e05-7fe4-4475-b79f-13015fcd68a1\" class=\"plotly-graph-div\" style=\"height:525px; width:100%;\"></div>            <script type=\"text/javascript\">                                    window.PLOTLYENV=window.PLOTLYENV || {};                                    if (document.getElementById(\"1d995e05-7fe4-4475-b79f-13015fcd68a1\")) {                    Plotly.newPlot(                        \"1d995e05-7fe4-4475-b79f-13015fcd68a1\",                        [{\"alignmentgroup\":\"True\",\"bingroup\":\"y\",\"histfunc\":\"sum\",\"hovertemplate\":\"sum of counts=%{x}<br>Essential_Function_sub=%{y}<extra></extra>\",\"legendgroup\":\"\",\"marker\":{\"color\":\"mediumpurple\",\"pattern\":{\"shape\":\"\"}},\"name\":\"\",\"offsetgroup\":\"\",\"orientation\":\"h\",\"showlegend\":false,\"x\":[74,47,36,25,18,18,16,15,11,9,7,6,6,5,5,5,4,4,4,4,4,3,3,3,3,3,2,2,2,2,2,1,1,1,1],\"xaxis\":\"x\",\"y\":[\"Digital Learning Platforms\",\"Sites, Resources & Reference\",\"Content Creation & Curation\",\"Study Tools\",\"Courseware & Textbooks\",\"Sites, Resources & Reference - Games & Simulations\",\"Other\",\"Sites, Resources & Reference - Digital Collection & Repository\",\"Classroom Engagement & Instruction - Classroom Management\",\"Sites, Resources & Reference - Streaming Services\",\"Virtual Classroom - Video Conferencing & Screen Sharing\",\"Data, Analytics & Reporting - Site Hosting & Data Warehousing\",\"Study Tools - Q&A\",\"Online Course Providers & Technical Skills Development\",\"Learning Management Systems (LMS)\",\"Classroom Engagement & Instruction - Communication & Messaging\",\"Human Resources\",\"Classroom Engagement & Instruction - Assessment & Classroom Response\",\"Sites, Resources & Reference - Thesaurus & Dictionary\",\"Sites, Resources & References - Learning Materials & Supplies\",\"Sites, Resources & Reference - Encyclopedia\",\"Study Tools - Test Prep & Study Skills\",\"Career Planning & Job Search\",\"Data, Analytics & Reporting\",\"Teacher Resources - Professional Learning\",\"Teacher Resources - Lesson Planning\",\"Data, Analytics & Reporting - Student Information Systems (SIS)\",\"Large-Scale & Standardized Testing\",\"Other\",\"School Management Software - Mobile Device Management\",\"School Management Software - SSO\",\"Study Tools - Tutoring\",\"Admissions, Enrollment & Rostering\",\"Environmental, Health & Safety (EHS) Compliance\",\"Teacher Resources - Grading & Attendance\"],\"yaxis\":\"y\",\"type\":\"histogram\"}],                        {\"template\":{\"data\":{\"histogram2dcontour\":[{\"type\":\"histogram2dcontour\",\"colorbar\":{\"outlinewidth\":0,\"ticks\":\"\"},\"colorscale\":[[0.0,\"#0d0887\"],[0.1111111111111111,\"#46039f\"],[0.2222222222222222,\"#7201a8\"],[0.3333333333333333,\"#9c179e\"],[0.4444444444444444,\"#bd3786\"],[0.5555555555555556,\"#d8576b\"],[0.6666666666666666,\"#ed7953\"],[0.7777777777777778,\"#fb9f3a\"],[0.8888888888888888,\"#fdca26\"],[1.0,\"#f0f921\"]]}],\"choropleth\":[{\"type\":\"choropleth\",\"colorbar\":{\"outlinewidth\":0,\"ticks\":\"\"}}],\"histogram2d\":[{\"type\":\"histogram2d\",\"colorbar\":{\"outlinewidth\":0,\"ticks\":\"\"},\"colorscale\":[[0.0,\"#0d0887\"],[0.1111111111111111,\"#46039f\"],[0.2222222222222222,\"#7201a8\"],[0.3333333333333333,\"#9c179e\"],[0.4444444444444444,\"#bd3786\"],[0.5555555555555556,\"#d8576b\"],[0.6666666666666666,\"#ed7953\"],[0.7777777777777778,\"#fb9f3a\"],[0.8888888888888888,\"#fdca26\"],[1.0,\"#f0f921\"]]}],\"heatmap\":[{\"type\":\"heatmap\",\"colorbar\":{\"outlinewidth\":0,\"ticks\":\"\"},\"colorscale\":[[0.0,\"#0d0887\"],[0.1111111111111111,\"#46039f\"],[0.2222222222222222,\"#7201a8\"],[0.3333333333333333,\"#9c179e\"],[0.4444444444444444,\"#bd3786\"],[0.5555555555555556,\"#d8576b\"],[0.6666666666666666,\"#ed7953\"],[0.7777777777777778,\"#fb9f3a\"],[0.8888888888888888,\"#fdca26\"],[1.0,\"#f0f921\"]]}],\"heatmapgl\":[{\"type\":\"heatmapgl\",\"colorbar\":{\"outlinewidth\":0,\"ticks\":\"\"},\"colorscale\":[[0.0,\"#0d0887\"],[0.1111111111111111,\"#46039f\"],[0.2222222222222222,\"#7201a8\"],[0.3333333333333333,\"#9c179e\"],[0.4444444444444444,\"#bd3786\"],[0.5555555555555556,\"#d8576b\"],[0.6666666666666666,\"#ed7953\"],[0.7777777777777778,\"#fb9f3a\"],[0.8888888888888888,\"#fdca26\"],[1.0,\"#f0f921\"]]}],\"contourcarpet\":[{\"type\":\"contourcarpet\",\"colorbar\":{\"outlinewidth\":0,\"ticks\":\"\"}}],\"contour\":[{\"type\":\"contour\",\"colorbar\":{\"outlinewidth\":0,\"ticks\":\"\"},\"colorscale\":[[0.0,\"#0d0887\"],[0.1111111111111111,\"#46039f\"],[0.2222222222222222,\"#7201a8\"],[0.3333333333333333,\"#9c179e\"],[0.4444444444444444,\"#bd3786\"],[0.5555555555555556,\"#d8576b\"],[0.6666666666666666,\"#ed7953\"],[0.7777777777777778,\"#fb9f3a\"],[0.8888888888888888,\"#fdca26\"],[1.0,\"#f0f921\"]]}],\"surface\":[{\"type\":\"surface\",\"colorbar\":{\"outlinewidth\":0,\"ticks\":\"\"},\"colorscale\":[[0.0,\"#0d0887\"],[0.1111111111111111,\"#46039f\"],[0.2222222222222222,\"#7201a8\"],[0.3333333333333333,\"#9c179e\"],[0.4444444444444444,\"#bd3786\"],[0.5555555555555556,\"#d8576b\"],[0.6666666666666666,\"#ed7953\"],[0.7777777777777778,\"#fb9f3a\"],[0.8888888888888888,\"#fdca26\"],[1.0,\"#f0f921\"]]}],\"mesh3d\":[{\"type\":\"mesh3d\",\"colorbar\":{\"outlinewidth\":0,\"ticks\":\"\"}}],\"scatter\":[{\"fillpattern\":{\"fillmode\":\"overlay\",\"size\":10,\"solidity\":0.2},\"type\":\"scatter\"}],\"parcoords\":[{\"type\":\"parcoords\",\"line\":{\"colorbar\":{\"outlinewidth\":0,\"ticks\":\"\"}}}],\"scatterpolargl\":[{\"type\":\"scatterpolargl\",\"marker\":{\"colorbar\":{\"outlinewidth\":0,\"ticks\":\"\"}}}],\"bar\":[{\"error_x\":{\"color\":\"#2a3f5f\"},\"error_y\":{\"color\":\"#2a3f5f\"},\"marker\":{\"line\":{\"color\":\"#E5ECF6\",\"width\":0.5},\"pattern\":{\"fillmode\":\"overlay\",\"size\":10,\"solidity\":0.2}},\"type\":\"bar\"}],\"scattergeo\":[{\"type\":\"scattergeo\",\"marker\":{\"colorbar\":{\"outlinewidth\":0,\"ticks\":\"\"}}}],\"scatterpolar\":[{\"type\":\"scatterpolar\",\"marker\":{\"colorbar\":{\"outlinewidth\":0,\"ticks\":\"\"}}}],\"histogram\":[{\"marker\":{\"pattern\":{\"fillmode\":\"overlay\",\"size\":10,\"solidity\":0.2}},\"type\":\"histogram\"}],\"scattergl\":[{\"type\":\"scattergl\",\"marker\":{\"colorbar\":{\"outlinewidth\":0,\"ticks\":\"\"}}}],\"scatter3d\":[{\"type\":\"scatter3d\",\"line\":{\"colorbar\":{\"outlinewidth\":0,\"ticks\":\"\"}},\"marker\":{\"colorbar\":{\"outlinewidth\":0,\"ticks\":\"\"}}}],\"scattermapbox\":[{\"type\":\"scattermapbox\",\"marker\":{\"colorbar\":{\"outlinewidth\":0,\"ticks\":\"\"}}}],\"scatterternary\":[{\"type\":\"scatterternary\",\"marker\":{\"colorbar\":{\"outlinewidth\":0,\"ticks\":\"\"}}}],\"scattercarpet\":[{\"type\":\"scattercarpet\",\"marker\":{\"colorbar\":{\"outlinewidth\":0,\"ticks\":\"\"}}}],\"carpet\":[{\"aaxis\":{\"endlinecolor\":\"#2a3f5f\",\"gridcolor\":\"white\",\"linecolor\":\"white\",\"minorgridcolor\":\"white\",\"startlinecolor\":\"#2a3f5f\"},\"baxis\":{\"endlinecolor\":\"#2a3f5f\",\"gridcolor\":\"white\",\"linecolor\":\"white\",\"minorgridcolor\":\"white\",\"startlinecolor\":\"#2a3f5f\"},\"type\":\"carpet\"}],\"table\":[{\"cells\":{\"fill\":{\"color\":\"#EBF0F8\"},\"line\":{\"color\":\"white\"}},\"header\":{\"fill\":{\"color\":\"#C8D4E3\"},\"line\":{\"color\":\"white\"}},\"type\":\"table\"}],\"barpolar\":[{\"marker\":{\"line\":{\"color\":\"#E5ECF6\",\"width\":0.5},\"pattern\":{\"fillmode\":\"overlay\",\"size\":10,\"solidity\":0.2}},\"type\":\"barpolar\"}],\"pie\":[{\"automargin\":true,\"type\":\"pie\"}]},\"layout\":{\"autotypenumbers\":\"strict\",\"colorway\":[\"#636efa\",\"#EF553B\",\"#00cc96\",\"#ab63fa\",\"#FFA15A\",\"#19d3f3\",\"#FF6692\",\"#B6E880\",\"#FF97FF\",\"#FECB52\"],\"font\":{\"color\":\"#2a3f5f\"},\"hovermode\":\"closest\",\"hoverlabel\":{\"align\":\"left\"},\"paper_bgcolor\":\"white\",\"plot_bgcolor\":\"#E5ECF6\",\"polar\":{\"bgcolor\":\"#E5ECF6\",\"angularaxis\":{\"gridcolor\":\"white\",\"linecolor\":\"white\",\"ticks\":\"\"},\"radialaxis\":{\"gridcolor\":\"white\",\"linecolor\":\"white\",\"ticks\":\"\"}},\"ternary\":{\"bgcolor\":\"#E5ECF6\",\"aaxis\":{\"gridcolor\":\"white\",\"linecolor\":\"white\",\"ticks\":\"\"},\"baxis\":{\"gridcolor\":\"white\",\"linecolor\":\"white\",\"ticks\":\"\"},\"caxis\":{\"gridcolor\":\"white\",\"linecolor\":\"white\",\"ticks\":\"\"}},\"coloraxis\":{\"colorbar\":{\"outlinewidth\":0,\"ticks\":\"\"}},\"colorscale\":{\"sequential\":[[0.0,\"#0d0887\"],[0.1111111111111111,\"#46039f\"],[0.2222222222222222,\"#7201a8\"],[0.3333333333333333,\"#9c179e\"],[0.4444444444444444,\"#bd3786\"],[0.5555555555555556,\"#d8576b\"],[0.6666666666666666,\"#ed7953\"],[0.7777777777777778,\"#fb9f3a\"],[0.8888888888888888,\"#fdca26\"],[1.0,\"#f0f921\"]],\"sequentialminus\":[[0.0,\"#0d0887\"],[0.1111111111111111,\"#46039f\"],[0.2222222222222222,\"#7201a8\"],[0.3333333333333333,\"#9c179e\"],[0.4444444444444444,\"#bd3786\"],[0.5555555555555556,\"#d8576b\"],[0.6666666666666666,\"#ed7953\"],[0.7777777777777778,\"#fb9f3a\"],[0.8888888888888888,\"#fdca26\"],[1.0,\"#f0f921\"]],\"diverging\":[[0,\"#8e0152\"],[0.1,\"#c51b7d\"],[0.2,\"#de77ae\"],[0.3,\"#f1b6da\"],[0.4,\"#fde0ef\"],[0.5,\"#f7f7f7\"],[0.6,\"#e6f5d0\"],[0.7,\"#b8e186\"],[0.8,\"#7fbc41\"],[0.9,\"#4d9221\"],[1,\"#276419\"]]},\"xaxis\":{\"gridcolor\":\"white\",\"linecolor\":\"white\",\"ticks\":\"\",\"title\":{\"standoff\":15},\"zerolinecolor\":\"white\",\"automargin\":true,\"zerolinewidth\":2},\"yaxis\":{\"gridcolor\":\"white\",\"linecolor\":\"white\",\"ticks\":\"\",\"title\":{\"standoff\":15},\"zerolinecolor\":\"white\",\"automargin\":true,\"zerolinewidth\":2},\"scene\":{\"xaxis\":{\"backgroundcolor\":\"#E5ECF6\",\"gridcolor\":\"white\",\"linecolor\":\"white\",\"showbackground\":true,\"ticks\":\"\",\"zerolinecolor\":\"white\",\"gridwidth\":2},\"yaxis\":{\"backgroundcolor\":\"#E5ECF6\",\"gridcolor\":\"white\",\"linecolor\":\"white\",\"showbackground\":true,\"ticks\":\"\",\"zerolinecolor\":\"white\",\"gridwidth\":2},\"zaxis\":{\"backgroundcolor\":\"#E5ECF6\",\"gridcolor\":\"white\",\"linecolor\":\"white\",\"showbackground\":true,\"ticks\":\"\",\"zerolinecolor\":\"white\",\"gridwidth\":2}},\"shapedefaults\":{\"line\":{\"color\":\"#2a3f5f\"}},\"annotationdefaults\":{\"arrowcolor\":\"#2a3f5f\",\"arrowhead\":0,\"arrowwidth\":1},\"geo\":{\"bgcolor\":\"white\",\"landcolor\":\"#E5ECF6\",\"subunitcolor\":\"white\",\"showland\":true,\"showlakes\":true,\"lakecolor\":\"white\"},\"title\":{\"x\":0.05},\"mapbox\":{\"style\":\"light\"}}},\"xaxis\":{\"anchor\":\"y\",\"domain\":[0.0,1.0],\"title\":{\"text\":\"sum of counts\"}},\"yaxis\":{\"anchor\":\"x\",\"domain\":[0.0,1.0],\"title\":{\"text\":\"Essential_Function_sub\"}},\"legend\":{\"tracegroupgap\":0},\"title\":{\"text\":\"Primary Essential Function Sub-Categories\"},\"barmode\":\"relative\"},                        {\"responsive\": true}                    ).then(function(){\n",
              "                            \n",
              "var gd = document.getElementById('1d995e05-7fe4-4475-b79f-13015fcd68a1');\n",
              "var x = new MutationObserver(function (mutations, observer) {{\n",
              "        var display = window.getComputedStyle(gd).display;\n",
              "        if (!display || display === 'none') {{\n",
              "            console.log([gd, 'removed!']);\n",
              "            Plotly.purge(gd);\n",
              "            observer.disconnect();\n",
              "        }}\n",
              "}});\n",
              "\n",
              "// Listen for the removal of the full notebook cells\n",
              "var notebookContainer = gd.closest('#notebook-container');\n",
              "if (notebookContainer) {{\n",
              "    x.observe(notebookContainer, {childList: true});\n",
              "}}\n",
              "\n",
              "// Listen for the clearing of the current output cell\n",
              "var outputEl = gd.closest('.output');\n",
              "if (outputEl) {{\n",
              "    x.observe(outputEl, {childList: true});\n",
              "}}\n",
              "\n",
              "                        })                };                            </script>        </div>\n",
              "</body>\n",
              "</html>"
            ]
          },
          "metadata": {}
        }
      ]
    },
    {
      "cell_type": "markdown",
      "source": [
        "#**Merging Three Datasets**\n",
        "\n",
        "* We will be merging all three datasets on LP ID and district id. As we can see the combined dataset has 18 columns that will later help us with both geographical and time series plots.\n"
      ],
      "metadata": {
        "id": "hJmaIuoI6YVA"
      }
    },
    {
      "cell_type": "code",
      "source": [
        "eng_data['time'] = pd.to_datetime(eng_data['time'])\n",
        "eng_data[\"district_id\"] = eng_data[\"district_id\"].astype(str).astype(int)"
      ],
      "metadata": {
        "id": "1Cc1pO0p6gIP"
      },
      "execution_count": null,
      "outputs": []
    },
    {
      "cell_type": "code",
      "source": [
        "complete_data = products_data.merge(\n",
        "                                   eng_data,\n",
        "                                   left_on='LP ID', \n",
        "                                   right_on='lp_id'\n",
        "                                   ).merge(\n",
        "                                    districts_data,\n",
        "                                    left_on='district_id',\n",
        "                                    right_on='district_id'   \n",
        "                                    )  # merging 3 datasets triggers memory warning    "
      ],
      "metadata": {
        "id": "2MYtGIOI6ix7"
      },
      "execution_count": null,
      "outputs": []
    },
    {
      "cell_type": "code",
      "source": [
        "complete_data.head()"
      ],
      "metadata": {
        "id": "Jv2mqtlm6uPZ"
      },
      "execution_count": null,
      "outputs": []
    },
    {
      "cell_type": "markdown",
      "source": [
        "#**Top Educational Products**\n",
        "\n",
        "* Google products are dominating with Wikipedia and Netflix as an exception. Netflix provides kids with educational seise and tutorials."
      ],
      "metadata": {
        "id": "4-y00H0n66_h"
      }
    },
    {
      "cell_type": "code",
      "source": [
        "complete_data['Product Name'].value_counts().head(20).to_frame()"
      ],
      "metadata": {
        "id": "bGTrf5HU7BZb"
      },
      "execution_count": null,
      "outputs": []
    },
    {
      "cell_type": "markdown",
      "source": [
        "#**Distribution of Race, Reduced Fee, Expenditures, and Internet connection per state**"
      ],
      "metadata": {
        "id": "C5hG4E9qznT0"
      }
    },
    {
      "cell_type": "markdown",
      "source": [
        "* We will be used the Pandas function to display a table showing the mean distribution of various features related to demography and expenditures."
      ],
      "metadata": {
        "id": "J48IqXHWzrXH"
      }
    },
    {
      "cell_type": "code",
      "source": [
        "def mean_state_data(df,col):    \n",
        "    return df[[col,'state']].\\\n",
        "    groupby(by='state').\\\n",
        "    mean().\\\n",
        "    reset_index().\\\n",
        "    sort_values(by= col, ascending = False).\\\n",
        "    style.background_gradient(cmap=\"Set2_r\", subset=[col])"
      ],
      "metadata": {
        "id": "TQ2VC8r-zoyA"
      },
      "execution_count": 37,
      "outputs": []
    },
    {
      "cell_type": "markdown",
      "source": [
        "#**Black and Hispanic**\n",
        "\n",
        "* I seems like Taxes have more Black/Hispanic students than another state followed by Florida, Michigan, and Minnesota."
      ],
      "metadata": {
        "id": "b0joH02xzx98"
      }
    },
    {
      "cell_type": "code",
      "source": [
        "mean_state_data(complete_data,'pct_black/hispanic')"
      ],
      "metadata": {
        "id": "3PJ5B9Rrz5Yr"
      },
      "execution_count": null,
      "outputs": []
    },
    {
      "cell_type": "markdown",
      "source": [
        "#**Reduced Fee or Free Education**\n",
        "\n",
        "* Minnesota provides 70 percent of free or reduced fee education, followed by Michigan and Indiana."
      ],
      "metadata": {
        "id": "2IvDUYrT7OxI"
      }
    },
    {
      "cell_type": "code",
      "source": [
        "mean_state_data(complete_data,'pct_free/reduced')"
      ],
      "metadata": {
        "id": "6WByNJXR7Udw"
      },
      "execution_count": null,
      "outputs": []
    },
    {
      "cell_type": "markdown",
      "source": [
        "#**Per-pupil total expenditure**\n",
        "\n",
        "* New York spend more on education than any other State in US. The runner-up States are New Jersey and Minnesota"
      ],
      "metadata": {
        "id": "zsWjpJ7x7Yrn"
      }
    },
    {
      "cell_type": "code",
      "source": [
        "mean_state_data(complete_data,'pp_total_raw')"
      ],
      "metadata": {
        "id": "kwEu6w1Q7Z9_"
      },
      "execution_count": null,
      "outputs": []
    },
    {
      "cell_type": "markdown",
      "source": [
        "#**Time Series Distribution of Educational Product Access Students**\n",
        "\n",
        "* We will be observing time-series distributions of Product Access Based on Locale and State."
      ],
      "metadata": {
        "id": "6do8qIZC7f75"
      }
    },
    {
      "cell_type": "markdown",
      "source": [
        "#**Based on Locale**\n",
        "\n",
        "* The cities were hit with Covid19 the hardest which affected the students the most as they have to study from home that is why we can see the dip in product access from April to July 2020 as compared to other locales. During Summer vacation students stopped using educational products. In suburbs, students have more access to the tools then other locale. overall, they all follow a common pattern."
      ],
      "metadata": {
        "id": "N3jpvlSn7kmL"
      }
    },
    {
      "cell_type": "code",
      "source": [
        "locale = complete_data[[\"locale\",\"pct_access\",\"time\"]].\\\n",
        "groupby(by=[\"time\",\"locale\"])\\\n",
        ".mean()\\\n",
        ".dropna()\\\n",
        ".reset_index()\n",
        "\n",
        "fig = px.line(locale, x=\"time\", y=\"pct_access\", facet_col='locale',facet_col_wrap=1,color = 'locale')\n",
        "fig.update_layout(\n",
        "                      title=(\"Educational product Access per Locale\").title(),\n",
        "                     )\n",
        "fig.show()"
      ],
      "metadata": {
        "id": "9tdKRYVO7jyj"
      },
      "execution_count": null,
      "outputs": []
    },
    {
      "cell_type": "markdown",
      "source": [
        "#**Based on Top Five States**\n",
        "\n",
        "New York was hit hardest with Covid19 and that didn't affect the online learning of students as you can see graph became more consistent after the lockdown\n",
        "\n",
        "* New York, Wisconsin, and Indian have higher students using these educational products overall."
      ],
      "metadata": {
        "id": "RdwYlfp-7xW1"
      }
    },
    {
      "cell_type": "code",
      "source": [
        "df = complete_data[[\"state\",\"pct_access\",\"time\"]].groupby(by=[\"time\",\"state\"]).mean()\n",
        "df.dropna(inplace =True)\n",
        "df.reset_index(inplace = True)\n",
        "\n",
        "top_5 = df.groupby(by='state')\\\n",
        "                  .mean()\\\n",
        "                  .sort_values(by='pct_access',ascending=False)\\\n",
        "                  .head(5)\\\n",
        "                  .reset_index()['state']\\\n",
        "                  .to_list()\n",
        "\n",
        "top_states = df[df.state.isin(top_5)]\n",
        "fig = px.line(top_states, x=\"time\", y=\"pct_access\", facet_col='state',facet_col_wrap=1,color = 'state')\n",
        "fig.update_layout(\n",
        "                      title=(\"Educational product Access on Top 5 States\").title(),\n",
        "                     )\n",
        "fig.show()"
      ],
      "metadata": {
        "id": "bnUANZMZ72xI"
      },
      "execution_count": null,
      "outputs": []
    },
    {
      "cell_type": "markdown",
      "source": [
        "#**Based on Bottom Five States**\n",
        "\n",
        "* This is odd as Michigan and North Carolina have almost zero product access from March till the end of August. The Texas have a similar pattern but they had a peak in June. Overall these bottom states became active after September 2020.\n",
        "\n",
        "* It is strange that some states have a very odd pattern, maybe due to a bad educational system or lack of awareness."
      ],
      "metadata": {
        "id": "prAwUFHl8A_6"
      }
    },
    {
      "cell_type": "code",
      "source": [
        "bottom_5 = df.groupby(by='state')\\\n",
        "                  .mean()\\\n",
        "                  .sort_values(by='pct_access',ascending=False)\\\n",
        "                  .tail(5)\\\n",
        "                  .reset_index()['state']\\\n",
        "                  .to_list()\n",
        "\n",
        "top_states = df[df.state.isin(bottom_5)]\n",
        "fig = px.line(top_states, x=\"time\", y=\"pct_access\", facet_col='state',facet_col_wrap=1,color = 'state')\n",
        "fig.update_layout(\n",
        "                      title=(\"Educational product Access on Bottom 5 States\").title(),\n",
        "                     )\n",
        "fig.show()"
      ],
      "metadata": {
        "id": "cOSJ0e5L8Ibm"
      },
      "execution_count": null,
      "outputs": []
    },
    {
      "cell_type": "markdown",
      "source": [
        "#**Geographical Analysis**\n",
        "\n",
        "* In this section will be looking at different states based on product access and engagement index.\n",
        "\n",
        "* We do not have access to all states data so you might see a lot of gray space on the map."
      ],
      "metadata": {
        "id": "VSxgBiS38LkR"
      }
    },
    {
      "cell_type": "code",
      "source": [
        "geo_pct = complete_data[[\"state\",\"pct_access\"]]\\\n",
        ".groupby(by=[\"state\"])\\\n",
        ".mean()\\\n",
        ".dropna()\\\n",
        ".reset_index()\n",
        "geo = pd.read_csv('combined_data.csv')\n",
        "\n",
        "geo_pct = pd.merge(geo_pct,geo,on = 'state', how = 'left')[['state','pct_access','code']]\n",
        "geo_pct.head()"
      ],
      "metadata": {
        "id": "_BnWdLc88XUG"
      },
      "execution_count": null,
      "outputs": []
    },
    {
      "cell_type": "markdown",
      "source": [
        "#**Education Products Access per State**\n",
        "\n",
        "New York has a higher product access score than any other state, then comes Orange States Wisconson, Illinois, and Indiana. There might be a link between the lower population of Black/Hispanics in these states. Let's explore that in the next part."
      ],
      "metadata": {
        "id": "_WpI1cpC8nhW"
      }
    },
    {
      "cell_type": "code",
      "source": [
        "fig = go.Figure(data=go.Choropleth(\n",
        "    locations=geo_pct['code'], # Spatial coordinates\n",
        "    z = geo_pct['pct_access'].astype(float), # Data to be color-coded\n",
        "    locationmode = 'USA-states', # set of locations match entries in `locations`\n",
        "    colorscale = 'plasma',\n",
        "    text = geo_pct['state'],\n",
        "    colorbar_title = \"product access\",\n",
        "))\n",
        "\n",
        "fig.update_layout(\n",
        "    title_text = 'Education Products access per state',\n",
        "    geo_scope='usa', # limite map scope to USA\n",
        ")\n",
        "\n",
        "fig.show()"
      ],
      "metadata": {
        "id": "AaXvCjvb8ZyQ"
      },
      "execution_count": null,
      "outputs": []
    },
    {
      "cell_type": "markdown",
      "source": [
        "**There is a relation between states with lower the population of Black/Hispanic but it is not the stronger. I can see Newyork and Wisconsin with a lower Black/Hispanic population and higher access rate but when it comes to other states with a lower percentage of people of color it's all over the place. The system is fairly balanced towards other races.**"
      ],
      "metadata": {
        "id": "v-yE7WBU8wmf"
      }
    },
    {
      "cell_type": "code",
      "source": [
        "Top_state = ['New York','Wisconson', 'Illinois','Indiana']\n",
        "Race_state = complete_data[['state','pct_access','pct_black/hispanic']]\\\n",
        ".groupby('state')\\\n",
        ".mean()\\\n",
        ".dropna()\\\n",
        ".reset_index()\\\n",
        ".sort_values(by=['pct_black/hispanic','pct_access'])\n",
        "Race_state"
      ],
      "metadata": {
        "id": "_N0Cv_sn81fL"
      },
      "execution_count": null,
      "outputs": []
    },
    {
      "cell_type": "markdown",
      "source": [
        "#**Engagement Index Per State**\n",
        "\n",
        "* The Engagement distribution per state is quite similar to product access. It's logical that if students have access to these products there is a chance of an increase in usage of these platforms."
      ],
      "metadata": {
        "id": "40v8k3jG84Sn"
      }
    },
    {
      "cell_type": "code",
      "source": [
        "geo_engag = complete_data[[\"state\",\"engagement_index\"]]\\\n",
        ".groupby(by=[\"state\"])\\\n",
        ".mean()\\\n",
        ".dropna()\\\n",
        ".reset_index()\n",
        "geo_engag = pd.merge(geo_engag,geo,on = 'state', how = 'left')[['state','engagement_index','code']]\n",
        "geo_engag.head()"
      ],
      "metadata": {
        "id": "kt4cywdh87xp"
      },
      "execution_count": null,
      "outputs": []
    },
    {
      "cell_type": "code",
      "source": [
        "fig = go.Figure(data=go.Choropleth(\n",
        "    locations=geo_engag['code'], # Spatial coordinates\n",
        "    z = geo_engag['engagement_index'].astype(float), # Data to be color-coded\n",
        "    locationmode = 'USA-states', # set of locations match entries in `locations`\n",
        "    colorscale = 'plasma',\n",
        "    text = geo_engag['state'],\n",
        "    colorbar_title = \"Engagement Index\",\n",
        "))\n",
        "\n",
        "fig.update_layout(\n",
        "    title_text = 'Education Products Engagement Index per state',\n",
        "    geo_scope='usa', # limite map scope to USA\n",
        ")\n",
        "\n",
        "fig.show()"
      ],
      "metadata": {
        "id": "xJrvlRb78_pn"
      },
      "execution_count": null,
      "outputs": []
    },
    {
      "cell_type": "markdown",
      "source": [
        "#**Focusing on People from Improvised Neighborhood**\n",
        "\n",
        "* In this section, we will be focusing on the Black/Hispanic community and free or reduced fees."
      ],
      "metadata": {
        "id": "YAP6VFXL9Ffa"
      }
    },
    {
      "cell_type": "markdown",
      "source": [
        "#**Correlation**\n",
        "\n",
        "* There is a high correlation between product access and engagement index, which means if the student has access to these products they might use them on daily basis. We can also see another high correlation between Black/Hispanic and Free/ Reduced education. This means the government is doing its job in helping improvised communities to get a proper education."
      ],
      "metadata": {
        "id": "39k3Ej0G9LSG"
      }
    },
    {
      "cell_type": "code",
      "source": [
        "sns.heatmap(complete_data.drop(['LP ID','lp_id','district_id'],axis=1).corr(), cmap=\"YlGnBu\", annot=True);"
      ],
      "metadata": {
        "id": "3S9qhkyX9Jix"
      },
      "execution_count": null,
      "outputs": []
    },
    {
      "cell_type": "markdown",
      "source": [
        "#**Black/Hispanic products access over the year**\n",
        "\n",
        "* The graph below shows that over time the communities with a lesser population of Blacks and Hispanics have a similar pattern to some of the Top states we have discussed earlier. Let's compare this graph with the mixed communities."
      ],
      "metadata": {
        "id": "ymE4YcE99Vfn"
      }
    },
    {
      "cell_type": "code",
      "source": [
        "Imp_neigh= complete_data[complete_data['pct_black/hispanic']<0.2][['time','pct_access','pct_black/hispanic']].groupby('time').mean().reset_index()\n",
        "fig = px.line(Imp_neigh, x=\"time\", y=\"pct_access\")\n",
        "fig.update_layout(\n",
        "                      title=(\"Black/Hispanic community access to Online Education\").title(),\n",
        "                     )\n",
        "fig.show()"
      ],
      "metadata": {
        "id": "TeKUq_nI9cJn"
      },
      "execution_count": null,
      "outputs": []
    },
    {
      "cell_type": "markdown",
      "source": [
        "**We can see some changes as the peak has fallen from 1.4 to 1.2. It is a disparity among the different racial groups but its marginal compares to other countries. We can say Black/Hispanic communities have lesser access to educational products.**"
      ],
      "metadata": {
        "id": "4vWDet-i9etv"
      }
    },
    {
      "cell_type": "code",
      "source": [
        "Imp_neigh= complete_data[complete_data['pct_black/hispanic']>=0.2][['time','pct_access','pct_black/hispanic']].groupby('time').mean().reset_index()\n",
        "fig = px.line(Imp_neigh, x=\"time\", y=\"pct_access\")\n",
        "fig.update_layout(\n",
        "                      title=(\"Black/Hispanic community access to Online Education\").title(),\n",
        "                     )\n",
        "fig.show()"
      ],
      "metadata": {
        "id": "oF5Dtq3r9hhr"
      },
      "execution_count": null,
      "outputs": []
    },
    {
      "cell_type": "markdown",
      "source": [
        "#**Conclusion**\n",
        "\n",
        "* The data is limited to fewer states and I didn't found any concrete evidence that Black or Hispanic communities get unfair treatment. Online education is fairly balanced towards all. I did see how some of the states perform worst in terms of product access rating, this might be due to bad policymaking and lack of awareness. We can see that Google is dominating the online education industry by providing a complete ecosystem. The majority of Pre-K students are using these platforms for digital learning. Suburbs have the highest students accessing these products and we can see a clear correlation between product access and engagement index. There is also a high correlation between Black/Hispanic and Free education/ Reduced Fee, which means the government is doing its best to help the poor community by providing free education."
      ],
      "metadata": {
        "id": "ophKWZbM9s4o"
      }
    }
  ]
}