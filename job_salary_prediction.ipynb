{
  "nbformat": 4,
  "nbformat_minor": 0,
  "metadata": {
    "colab": {
      "provenance": []
    },
    "kernelspec": {
      "name": "python3",
      "display_name": "Python 3"
    },
    "language_info": {
      "name": "python"
    }
  },
  "cells": [
    {
      "cell_type": "markdown",
      "source": [
        "#**Task**\n",
        " * Our goal is to develop a regression model that will predict the job's salary from the job ad's content. \n",
        "  "
      ],
      "metadata": {
        "id": "J9Pb5YCdq4fv"
      }
    },
    {
      "cell_type": "markdown",
      "source": [
        "#**Dataset Description**\n",
        "\n",
        "The main dataset consists of a large number of rows representing individual job ads, and a series of fields about each job ad.\n",
        "\n",
        " * **Id** - A unique identifier for each job ad.\n",
        " * **Title** - A freetext field supplied to us by the job advertiser as the Title of the job ad.  Normally this is a summary of the job title or role.\n",
        " * **FullDescription** - The full text of the job ad as provided by the job advertiser.  Where you see ***s, we have stripped values from the description in order to ensure that no salary information appears within the descriptions.  There may be some collateral damage here where we have also removed other numerics.\n",
        " * **LocationRaw** - The freetext location as provided by the job advertiser.\n",
        " * **LocationNormalized** - Adzuna's normalised location from within our own location tree, interpreted by us based on the raw location.  Our normaliser is not perfect!\n",
        " * **ContractType** - full_time or part_time, interpreted by Adzuna from description or a specific additional field we received from the advertiser.\n",
        " * **ContractTime** - permanent or contract, interpreted by Adzuna from description or a specific additional field we received from the advertiser.\n",
        " * **Company** - the name of the employer as supplied to us by the job advertiser.\n",
        " * **Category** - which of 30 standard job categories this ad fits into, inferred in a very messy way based on the source the ad came from.  We know there is a lot of noise and error in this field.\n",
        " * **SalaryRaw** - the freetext salary field we received in the job advert from the advertiser.\n",
        " * **SalaryNormalised(Target)** - the annualised salary interpreted by Adzuna from the raw salary.  Note that this is always a single value based on the midpoint of any range found in the raw salary.  This is the value we are trying to predict.\n",
        " * **SourceName** - the name of the website or advertiser from whom we received the job advert. \n",
        "\n"
      ],
      "metadata": {
        "id": "VOdHiE0dpFf3"
      }
    },
    {
      "cell_type": "markdown",
      "source": [
        "# **Importing the librarys**"
      ],
      "metadata": {
        "id": "QSoCEzEhBhv4"
      }
    },
    {
      "cell_type": "code",
      "source": [
        "#-----------------------Regular Imports-----------------------------------------------------------#\n",
        "# This Python 3 environment comes with many helpful analytics libraries installed\n",
        "# For example, here's several helpful packages to load\n",
        "import numpy as np                                     # To work with arrays to perform mathematical operations\n",
        "import pandas as pd                                    # TO work with Dataframes,data processing, CSV file I/O (e.g. pd.read_csv)\n",
        "import seaborn as sns                                  # An advanced visualization library built on top of matplotlib\n",
        "import matplotlib.pyplot as plt                        # Library used for visualization\n",
        "import csv                                             # import the csv for reading a csv file \n",
        "\n",
        "#---------------------Pre-Processing---------------------------------------------------------------#\n",
        "from sklearn.model_selection import train_test_split   # For splitting the dataset into train and test\n",
        "\n",
        "#---------------------Importing the models---------------------------------------------------------#\n",
        "from sklearn.ensemble import RandomForestRegressor     # Importing the Random Forest regressor\n",
        "\n",
        "#----------------------Model Selection-------------------------------------------------------------#\n",
        "from sklearn.model_selection import RandomizedSearchCV # Using the Randomized Search CV to find the best hyper-parameters\n",
        "\n",
        "#---------------------Evaluation Metric------------------------------------------------------------#\n",
        "from sklearn.metrics import mean_absolute_error        #  importing the evaluation metrics MAE\n"
      ],
      "metadata": {
        "id": "7ZVuzF8hJ0X6"
      },
      "execution_count": 147,
      "outputs": []
    },
    {
      "cell_type": "code",
      "source": [
        "#df2 = pd.read_csv(\"Train_rev1.csv\", delimiter=\"\\t\")\n",
        "#df2\n",
        "#df = pd.read_csv(\"Train_rev1.csv\", header = None, delimiter=\"\\t\", quoting=csv.QUOTE_NONE, encoding='utf-8')"
      ],
      "metadata": {
        "id": "n4uR8NXg3X9u"
      },
      "execution_count": 148,
      "outputs": []
    },
    {
      "cell_type": "markdown",
      "source": [
        "**Note:** when your importing the data using pandas dataframe u might fallen with error,so Use this code to fix any errors you might often encounter. This might be helpful.\n",
        "\n",
        "  * df2 = pd.read_csv(\"Train_rev1.csv\", delimiter=\"\\t\")\n",
        "\n",
        "  * df = pd.read_csv(\"Train_rev1.csv\", header = None, delimiter=\"\\t\", quoting=csv.QUOTE_NONE, encoding='utf-8')\n",
        "\n",
        "  * df = pd.read_csv(csvfile, \n",
        "                 delimiter=\"\\t\", \n",
        "                 engine=\"python\",\n",
        "                 error_bad_lines=False,  \n",
        "                 encoding='utf-8')\n",
        "\n",
        "  * pandas.read_csv(filepath, sep=',', delimiter=None, \n",
        "            header='infer', names=None, \n",
        "            index_col=None, usecols=None, squeeze=False, \n",
        "            ..., engine=None, ...)"
      ],
      "metadata": {
        "id": "vjhWJp4hAOkH"
      }
    },
    {
      "cell_type": "markdown",
      "source": [
        "# **Importing the data**"
      ],
      "metadata": {
        "id": "5iYYtlDpCNy2"
      }
    },
    {
      "cell_type": "code",
      "source": [
        "df3 = pd.read_csv(\"Train_rev1.csv\") # importing the dataset using pandas 242945 rows\n",
        "df3"
      ],
      "metadata": {
        "colab": {
          "base_uri": "https://localhost:8080/",
          "height": 956
        },
        "id": "cjkF3zvBIrnR",
        "outputId": "4a828f84-9cab-4b7a-b0f1-3b6a4bc1d2fc"
      },
      "execution_count": 149,
      "outputs": [
        {
          "output_type": "execute_result",
          "data": {
            "text/plain": [
              "              Id                                              Title  \\\n",
              "0       12612628                        Engineering Systems Analyst   \n",
              "1       12612830                            Stress Engineer Glasgow   \n",
              "2       12612844                   Modelling and simulation analyst   \n",
              "3       12613049  Engineering Systems Analyst / Mathematical Mod...   \n",
              "4       12613647         Pioneer, Miser Engineering Systems Analyst   \n",
              "...          ...                                                ...   \n",
              "244763  72705211                                 TEACHER OF SCIENCE   \n",
              "244764  72705212                TEACHER OF BUSINESS STUDIES AND ICT   \n",
              "244765  72705213                                    ENGLISH TEACHER   \n",
              "244766  72705216                                    SUPPLY TEACHERS   \n",
              "244767  72705235                                         Accountant   \n",
              "\n",
              "                                          FullDescription  \\\n",
              "0       Engineering Systems Analyst Dorking Surrey Sal...   \n",
              "1       Stress Engineer Glasgow Salary **** to **** We...   \n",
              "2       Mathematical Modeller / Simulation Analyst / O...   \n",
              "3       Engineering Systems Analyst / Mathematical Mod...   \n",
              "4       Pioneer, Miser  Engineering Systems Analyst Do...   \n",
              "...                                                   ...   \n",
              "244763  Position: Qualified Teacher Subject/Specialism...   \n",
              "244764  Position: Qualified Teacher or NQT Subject/Spe...   \n",
              "244765  Position: Qualified Teacher Subject/Specialism...   \n",
              "244766  Position: Qualified Teacher Subject/Specialism...   \n",
              "244767  This entrepreneurial and growing private equit...   \n",
              "\n",
              "                              LocationRaw LocationNormalized ContractType  \\\n",
              "0                 Dorking, Surrey, Surrey            Dorking          NaN   \n",
              "1             Glasgow, Scotland, Scotland            Glasgow          NaN   \n",
              "2       Hampshire, South East, South East          Hampshire          NaN   \n",
              "3          Surrey, South East, South East             Surrey          NaN   \n",
              "4          Surrey, South East, South East             Surrey          NaN   \n",
              "...                                   ...                ...          ...   \n",
              "244763                            Swindon            Swindon          NaN   \n",
              "244764                            Swindon            Swindon          NaN   \n",
              "244765                            Swindon            Swindon          NaN   \n",
              "244766                          Wiltshire          Wiltshire          NaN   \n",
              "244767                            Hitchin            Hitchin          NaN   \n",
              "\n",
              "       ContractTime                       Company          Category  \\\n",
              "0         permanent  Gregory Martin International  Engineering Jobs   \n",
              "1         permanent  Gregory Martin International  Engineering Jobs   \n",
              "2         permanent  Gregory Martin International  Engineering Jobs   \n",
              "3         permanent  Gregory Martin International  Engineering Jobs   \n",
              "4         permanent  Gregory Martin International  Engineering Jobs   \n",
              "...             ...                           ...               ...   \n",
              "244763     contract                           NaN     Teaching Jobs   \n",
              "244764     contract                           NaN     Teaching Jobs   \n",
              "244765     contract                           NaN     Teaching Jobs   \n",
              "244766     contract                           NaN     Teaching Jobs   \n",
              "244767    permanent                           NaN     Teaching Jobs   \n",
              "\n",
              "                                     SalaryRaw  SalaryNormalized  \\\n",
              "0                   20000 - 30000/annum 20-30K             25000   \n",
              "1                   25000 - 35000/annum 25-35K             30000   \n",
              "2                   20000 - 40000/annum 20-40K             30000   \n",
              "3       25000 - 30000/annum 25K-30K negotiable             27500   \n",
              "4                   20000 - 30000/annum 20-30K             25000   \n",
              "...                                        ...               ...   \n",
              "244763                      450 - 500 per week             22800   \n",
              "244764                      450 - 500 per week             22800   \n",
              "244765                      450 - 500 per week             22800   \n",
              "244766                     450 to 500 per week             22800   \n",
              "244767                               40-45,000             42500   \n",
              "\n",
              "              SourceName  \n",
              "0       cv-library.co.uk  \n",
              "1       cv-library.co.uk  \n",
              "2       cv-library.co.uk  \n",
              "3       cv-library.co.uk  \n",
              "4       cv-library.co.uk  \n",
              "...                  ...  \n",
              "244763        hays.co.uk  \n",
              "244764        hays.co.uk  \n",
              "244765        hays.co.uk  \n",
              "244766        hays.co.uk  \n",
              "244767        hays.co.uk  \n",
              "\n",
              "[244768 rows x 12 columns]"
            ],
            "text/html": [
              "\n",
              "  <div id=\"df-daa71e02-0548-4c1b-87af-40425aaf7d0a\">\n",
              "    <div class=\"colab-df-container\">\n",
              "      <div>\n",
              "<style scoped>\n",
              "    .dataframe tbody tr th:only-of-type {\n",
              "        vertical-align: middle;\n",
              "    }\n",
              "\n",
              "    .dataframe tbody tr th {\n",
              "        vertical-align: top;\n",
              "    }\n",
              "\n",
              "    .dataframe thead th {\n",
              "        text-align: right;\n",
              "    }\n",
              "</style>\n",
              "<table border=\"1\" class=\"dataframe\">\n",
              "  <thead>\n",
              "    <tr style=\"text-align: right;\">\n",
              "      <th></th>\n",
              "      <th>Id</th>\n",
              "      <th>Title</th>\n",
              "      <th>FullDescription</th>\n",
              "      <th>LocationRaw</th>\n",
              "      <th>LocationNormalized</th>\n",
              "      <th>ContractType</th>\n",
              "      <th>ContractTime</th>\n",
              "      <th>Company</th>\n",
              "      <th>Category</th>\n",
              "      <th>SalaryRaw</th>\n",
              "      <th>SalaryNormalized</th>\n",
              "      <th>SourceName</th>\n",
              "    </tr>\n",
              "  </thead>\n",
              "  <tbody>\n",
              "    <tr>\n",
              "      <th>0</th>\n",
              "      <td>12612628</td>\n",
              "      <td>Engineering Systems Analyst</td>\n",
              "      <td>Engineering Systems Analyst Dorking Surrey Sal...</td>\n",
              "      <td>Dorking, Surrey, Surrey</td>\n",
              "      <td>Dorking</td>\n",
              "      <td>NaN</td>\n",
              "      <td>permanent</td>\n",
              "      <td>Gregory Martin International</td>\n",
              "      <td>Engineering Jobs</td>\n",
              "      <td>20000 - 30000/annum 20-30K</td>\n",
              "      <td>25000</td>\n",
              "      <td>cv-library.co.uk</td>\n",
              "    </tr>\n",
              "    <tr>\n",
              "      <th>1</th>\n",
              "      <td>12612830</td>\n",
              "      <td>Stress Engineer Glasgow</td>\n",
              "      <td>Stress Engineer Glasgow Salary **** to **** We...</td>\n",
              "      <td>Glasgow, Scotland, Scotland</td>\n",
              "      <td>Glasgow</td>\n",
              "      <td>NaN</td>\n",
              "      <td>permanent</td>\n",
              "      <td>Gregory Martin International</td>\n",
              "      <td>Engineering Jobs</td>\n",
              "      <td>25000 - 35000/annum 25-35K</td>\n",
              "      <td>30000</td>\n",
              "      <td>cv-library.co.uk</td>\n",
              "    </tr>\n",
              "    <tr>\n",
              "      <th>2</th>\n",
              "      <td>12612844</td>\n",
              "      <td>Modelling and simulation analyst</td>\n",
              "      <td>Mathematical Modeller / Simulation Analyst / O...</td>\n",
              "      <td>Hampshire, South East, South East</td>\n",
              "      <td>Hampshire</td>\n",
              "      <td>NaN</td>\n",
              "      <td>permanent</td>\n",
              "      <td>Gregory Martin International</td>\n",
              "      <td>Engineering Jobs</td>\n",
              "      <td>20000 - 40000/annum 20-40K</td>\n",
              "      <td>30000</td>\n",
              "      <td>cv-library.co.uk</td>\n",
              "    </tr>\n",
              "    <tr>\n",
              "      <th>3</th>\n",
              "      <td>12613049</td>\n",
              "      <td>Engineering Systems Analyst / Mathematical Mod...</td>\n",
              "      <td>Engineering Systems Analyst / Mathematical Mod...</td>\n",
              "      <td>Surrey, South East, South East</td>\n",
              "      <td>Surrey</td>\n",
              "      <td>NaN</td>\n",
              "      <td>permanent</td>\n",
              "      <td>Gregory Martin International</td>\n",
              "      <td>Engineering Jobs</td>\n",
              "      <td>25000 - 30000/annum 25K-30K negotiable</td>\n",
              "      <td>27500</td>\n",
              "      <td>cv-library.co.uk</td>\n",
              "    </tr>\n",
              "    <tr>\n",
              "      <th>4</th>\n",
              "      <td>12613647</td>\n",
              "      <td>Pioneer, Miser Engineering Systems Analyst</td>\n",
              "      <td>Pioneer, Miser  Engineering Systems Analyst Do...</td>\n",
              "      <td>Surrey, South East, South East</td>\n",
              "      <td>Surrey</td>\n",
              "      <td>NaN</td>\n",
              "      <td>permanent</td>\n",
              "      <td>Gregory Martin International</td>\n",
              "      <td>Engineering Jobs</td>\n",
              "      <td>20000 - 30000/annum 20-30K</td>\n",
              "      <td>25000</td>\n",
              "      <td>cv-library.co.uk</td>\n",
              "    </tr>\n",
              "    <tr>\n",
              "      <th>...</th>\n",
              "      <td>...</td>\n",
              "      <td>...</td>\n",
              "      <td>...</td>\n",
              "      <td>...</td>\n",
              "      <td>...</td>\n",
              "      <td>...</td>\n",
              "      <td>...</td>\n",
              "      <td>...</td>\n",
              "      <td>...</td>\n",
              "      <td>...</td>\n",
              "      <td>...</td>\n",
              "      <td>...</td>\n",
              "    </tr>\n",
              "    <tr>\n",
              "      <th>244763</th>\n",
              "      <td>72705211</td>\n",
              "      <td>TEACHER OF SCIENCE</td>\n",
              "      <td>Position: Qualified Teacher Subject/Specialism...</td>\n",
              "      <td>Swindon</td>\n",
              "      <td>Swindon</td>\n",
              "      <td>NaN</td>\n",
              "      <td>contract</td>\n",
              "      <td>NaN</td>\n",
              "      <td>Teaching Jobs</td>\n",
              "      <td>450 - 500 per week</td>\n",
              "      <td>22800</td>\n",
              "      <td>hays.co.uk</td>\n",
              "    </tr>\n",
              "    <tr>\n",
              "      <th>244764</th>\n",
              "      <td>72705212</td>\n",
              "      <td>TEACHER OF BUSINESS STUDIES AND ICT</td>\n",
              "      <td>Position: Qualified Teacher or NQT Subject/Spe...</td>\n",
              "      <td>Swindon</td>\n",
              "      <td>Swindon</td>\n",
              "      <td>NaN</td>\n",
              "      <td>contract</td>\n",
              "      <td>NaN</td>\n",
              "      <td>Teaching Jobs</td>\n",
              "      <td>450 - 500 per week</td>\n",
              "      <td>22800</td>\n",
              "      <td>hays.co.uk</td>\n",
              "    </tr>\n",
              "    <tr>\n",
              "      <th>244765</th>\n",
              "      <td>72705213</td>\n",
              "      <td>ENGLISH TEACHER</td>\n",
              "      <td>Position: Qualified Teacher Subject/Specialism...</td>\n",
              "      <td>Swindon</td>\n",
              "      <td>Swindon</td>\n",
              "      <td>NaN</td>\n",
              "      <td>contract</td>\n",
              "      <td>NaN</td>\n",
              "      <td>Teaching Jobs</td>\n",
              "      <td>450 - 500 per week</td>\n",
              "      <td>22800</td>\n",
              "      <td>hays.co.uk</td>\n",
              "    </tr>\n",
              "    <tr>\n",
              "      <th>244766</th>\n",
              "      <td>72705216</td>\n",
              "      <td>SUPPLY TEACHERS</td>\n",
              "      <td>Position: Qualified Teacher Subject/Specialism...</td>\n",
              "      <td>Wiltshire</td>\n",
              "      <td>Wiltshire</td>\n",
              "      <td>NaN</td>\n",
              "      <td>contract</td>\n",
              "      <td>NaN</td>\n",
              "      <td>Teaching Jobs</td>\n",
              "      <td>450 to 500 per week</td>\n",
              "      <td>22800</td>\n",
              "      <td>hays.co.uk</td>\n",
              "    </tr>\n",
              "    <tr>\n",
              "      <th>244767</th>\n",
              "      <td>72705235</td>\n",
              "      <td>Accountant</td>\n",
              "      <td>This entrepreneurial and growing private equit...</td>\n",
              "      <td>Hitchin</td>\n",
              "      <td>Hitchin</td>\n",
              "      <td>NaN</td>\n",
              "      <td>permanent</td>\n",
              "      <td>NaN</td>\n",
              "      <td>Teaching Jobs</td>\n",
              "      <td>40-45,000</td>\n",
              "      <td>42500</td>\n",
              "      <td>hays.co.uk</td>\n",
              "    </tr>\n",
              "  </tbody>\n",
              "</table>\n",
              "<p>244768 rows × 12 columns</p>\n",
              "</div>\n",
              "      <button class=\"colab-df-convert\" onclick=\"convertToInteractive('df-daa71e02-0548-4c1b-87af-40425aaf7d0a')\"\n",
              "              title=\"Convert this dataframe to an interactive table.\"\n",
              "              style=\"display:none;\">\n",
              "        \n",
              "  <svg xmlns=\"http://www.w3.org/2000/svg\" height=\"24px\"viewBox=\"0 0 24 24\"\n",
              "       width=\"24px\">\n",
              "    <path d=\"M0 0h24v24H0V0z\" fill=\"none\"/>\n",
              "    <path d=\"M18.56 5.44l.94 2.06.94-2.06 2.06-.94-2.06-.94-.94-2.06-.94 2.06-2.06.94zm-11 1L8.5 8.5l.94-2.06 2.06-.94-2.06-.94L8.5 2.5l-.94 2.06-2.06.94zm10 10l.94 2.06.94-2.06 2.06-.94-2.06-.94-.94-2.06-.94 2.06-2.06.94z\"/><path d=\"M17.41 7.96l-1.37-1.37c-.4-.4-.92-.59-1.43-.59-.52 0-1.04.2-1.43.59L10.3 9.45l-7.72 7.72c-.78.78-.78 2.05 0 2.83L4 21.41c.39.39.9.59 1.41.59.51 0 1.02-.2 1.41-.59l7.78-7.78 2.81-2.81c.8-.78.8-2.07 0-2.86zM5.41 20L4 18.59l7.72-7.72 1.47 1.35L5.41 20z\"/>\n",
              "  </svg>\n",
              "      </button>\n",
              "      \n",
              "  <style>\n",
              "    .colab-df-container {\n",
              "      display:flex;\n",
              "      flex-wrap:wrap;\n",
              "      gap: 12px;\n",
              "    }\n",
              "\n",
              "    .colab-df-convert {\n",
              "      background-color: #E8F0FE;\n",
              "      border: none;\n",
              "      border-radius: 50%;\n",
              "      cursor: pointer;\n",
              "      display: none;\n",
              "      fill: #1967D2;\n",
              "      height: 32px;\n",
              "      padding: 0 0 0 0;\n",
              "      width: 32px;\n",
              "    }\n",
              "\n",
              "    .colab-df-convert:hover {\n",
              "      background-color: #E2EBFA;\n",
              "      box-shadow: 0px 1px 2px rgba(60, 64, 67, 0.3), 0px 1px 3px 1px rgba(60, 64, 67, 0.15);\n",
              "      fill: #174EA6;\n",
              "    }\n",
              "\n",
              "    [theme=dark] .colab-df-convert {\n",
              "      background-color: #3B4455;\n",
              "      fill: #D2E3FC;\n",
              "    }\n",
              "\n",
              "    [theme=dark] .colab-df-convert:hover {\n",
              "      background-color: #434B5C;\n",
              "      box-shadow: 0px 1px 3px 1px rgba(0, 0, 0, 0.15);\n",
              "      filter: drop-shadow(0px 1px 2px rgba(0, 0, 0, 0.3));\n",
              "      fill: #FFFFFF;\n",
              "    }\n",
              "  </style>\n",
              "\n",
              "      <script>\n",
              "        const buttonEl =\n",
              "          document.querySelector('#df-daa71e02-0548-4c1b-87af-40425aaf7d0a button.colab-df-convert');\n",
              "        buttonEl.style.display =\n",
              "          google.colab.kernel.accessAllowed ? 'block' : 'none';\n",
              "\n",
              "        async function convertToInteractive(key) {\n",
              "          const element = document.querySelector('#df-daa71e02-0548-4c1b-87af-40425aaf7d0a');\n",
              "          const dataTable =\n",
              "            await google.colab.kernel.invokeFunction('convertToInteractive',\n",
              "                                                     [key], {});\n",
              "          if (!dataTable) return;\n",
              "\n",
              "          const docLinkHtml = 'Like what you see? Visit the ' +\n",
              "            '<a target=\"_blank\" href=https://colab.research.google.com/notebooks/data_table.ipynb>data table notebook</a>'\n",
              "            + ' to learn more about interactive tables.';\n",
              "          element.innerHTML = '';\n",
              "          dataTable['output_type'] = 'display_data';\n",
              "          await google.colab.output.renderOutput(dataTable, element);\n",
              "          const docLink = document.createElement('div');\n",
              "          docLink.innerHTML = docLinkHtml;\n",
              "          element.appendChild(docLink);\n",
              "        }\n",
              "      </script>\n",
              "    </div>\n",
              "  </div>\n",
              "  "
            ]
          },
          "metadata": {},
          "execution_count": 149
        }
      ]
    },
    {
      "cell_type": "code",
      "source": [
        "df3.head() # checking the first five row"
      ],
      "metadata": {
        "colab": {
          "base_uri": "https://localhost:8080/",
          "height": 548
        },
        "id": "Y7U9Nq0ACk8Q",
        "outputId": "abdba6ab-828b-4a5a-e198-d8fb8535847f"
      },
      "execution_count": 150,
      "outputs": [
        {
          "output_type": "execute_result",
          "data": {
            "text/plain": [
              "         Id                                              Title  \\\n",
              "0  12612628                        Engineering Systems Analyst   \n",
              "1  12612830                            Stress Engineer Glasgow   \n",
              "2  12612844                   Modelling and simulation analyst   \n",
              "3  12613049  Engineering Systems Analyst / Mathematical Mod...   \n",
              "4  12613647         Pioneer, Miser Engineering Systems Analyst   \n",
              "\n",
              "                                     FullDescription  \\\n",
              "0  Engineering Systems Analyst Dorking Surrey Sal...   \n",
              "1  Stress Engineer Glasgow Salary **** to **** We...   \n",
              "2  Mathematical Modeller / Simulation Analyst / O...   \n",
              "3  Engineering Systems Analyst / Mathematical Mod...   \n",
              "4  Pioneer, Miser  Engineering Systems Analyst Do...   \n",
              "\n",
              "                         LocationRaw LocationNormalized ContractType  \\\n",
              "0            Dorking, Surrey, Surrey            Dorking          NaN   \n",
              "1        Glasgow, Scotland, Scotland            Glasgow          NaN   \n",
              "2  Hampshire, South East, South East          Hampshire          NaN   \n",
              "3     Surrey, South East, South East             Surrey          NaN   \n",
              "4     Surrey, South East, South East             Surrey          NaN   \n",
              "\n",
              "  ContractTime                       Company          Category  \\\n",
              "0    permanent  Gregory Martin International  Engineering Jobs   \n",
              "1    permanent  Gregory Martin International  Engineering Jobs   \n",
              "2    permanent  Gregory Martin International  Engineering Jobs   \n",
              "3    permanent  Gregory Martin International  Engineering Jobs   \n",
              "4    permanent  Gregory Martin International  Engineering Jobs   \n",
              "\n",
              "                                SalaryRaw  SalaryNormalized        SourceName  \n",
              "0              20000 - 30000/annum 20-30K             25000  cv-library.co.uk  \n",
              "1              25000 - 35000/annum 25-35K             30000  cv-library.co.uk  \n",
              "2              20000 - 40000/annum 20-40K             30000  cv-library.co.uk  \n",
              "3  25000 - 30000/annum 25K-30K negotiable             27500  cv-library.co.uk  \n",
              "4              20000 - 30000/annum 20-30K             25000  cv-library.co.uk  "
            ],
            "text/html": [
              "\n",
              "  <div id=\"df-0432ebd0-9cf9-4579-aef0-44330da8beb9\">\n",
              "    <div class=\"colab-df-container\">\n",
              "      <div>\n",
              "<style scoped>\n",
              "    .dataframe tbody tr th:only-of-type {\n",
              "        vertical-align: middle;\n",
              "    }\n",
              "\n",
              "    .dataframe tbody tr th {\n",
              "        vertical-align: top;\n",
              "    }\n",
              "\n",
              "    .dataframe thead th {\n",
              "        text-align: right;\n",
              "    }\n",
              "</style>\n",
              "<table border=\"1\" class=\"dataframe\">\n",
              "  <thead>\n",
              "    <tr style=\"text-align: right;\">\n",
              "      <th></th>\n",
              "      <th>Id</th>\n",
              "      <th>Title</th>\n",
              "      <th>FullDescription</th>\n",
              "      <th>LocationRaw</th>\n",
              "      <th>LocationNormalized</th>\n",
              "      <th>ContractType</th>\n",
              "      <th>ContractTime</th>\n",
              "      <th>Company</th>\n",
              "      <th>Category</th>\n",
              "      <th>SalaryRaw</th>\n",
              "      <th>SalaryNormalized</th>\n",
              "      <th>SourceName</th>\n",
              "    </tr>\n",
              "  </thead>\n",
              "  <tbody>\n",
              "    <tr>\n",
              "      <th>0</th>\n",
              "      <td>12612628</td>\n",
              "      <td>Engineering Systems Analyst</td>\n",
              "      <td>Engineering Systems Analyst Dorking Surrey Sal...</td>\n",
              "      <td>Dorking, Surrey, Surrey</td>\n",
              "      <td>Dorking</td>\n",
              "      <td>NaN</td>\n",
              "      <td>permanent</td>\n",
              "      <td>Gregory Martin International</td>\n",
              "      <td>Engineering Jobs</td>\n",
              "      <td>20000 - 30000/annum 20-30K</td>\n",
              "      <td>25000</td>\n",
              "      <td>cv-library.co.uk</td>\n",
              "    </tr>\n",
              "    <tr>\n",
              "      <th>1</th>\n",
              "      <td>12612830</td>\n",
              "      <td>Stress Engineer Glasgow</td>\n",
              "      <td>Stress Engineer Glasgow Salary **** to **** We...</td>\n",
              "      <td>Glasgow, Scotland, Scotland</td>\n",
              "      <td>Glasgow</td>\n",
              "      <td>NaN</td>\n",
              "      <td>permanent</td>\n",
              "      <td>Gregory Martin International</td>\n",
              "      <td>Engineering Jobs</td>\n",
              "      <td>25000 - 35000/annum 25-35K</td>\n",
              "      <td>30000</td>\n",
              "      <td>cv-library.co.uk</td>\n",
              "    </tr>\n",
              "    <tr>\n",
              "      <th>2</th>\n",
              "      <td>12612844</td>\n",
              "      <td>Modelling and simulation analyst</td>\n",
              "      <td>Mathematical Modeller / Simulation Analyst / O...</td>\n",
              "      <td>Hampshire, South East, South East</td>\n",
              "      <td>Hampshire</td>\n",
              "      <td>NaN</td>\n",
              "      <td>permanent</td>\n",
              "      <td>Gregory Martin International</td>\n",
              "      <td>Engineering Jobs</td>\n",
              "      <td>20000 - 40000/annum 20-40K</td>\n",
              "      <td>30000</td>\n",
              "      <td>cv-library.co.uk</td>\n",
              "    </tr>\n",
              "    <tr>\n",
              "      <th>3</th>\n",
              "      <td>12613049</td>\n",
              "      <td>Engineering Systems Analyst / Mathematical Mod...</td>\n",
              "      <td>Engineering Systems Analyst / Mathematical Mod...</td>\n",
              "      <td>Surrey, South East, South East</td>\n",
              "      <td>Surrey</td>\n",
              "      <td>NaN</td>\n",
              "      <td>permanent</td>\n",
              "      <td>Gregory Martin International</td>\n",
              "      <td>Engineering Jobs</td>\n",
              "      <td>25000 - 30000/annum 25K-30K negotiable</td>\n",
              "      <td>27500</td>\n",
              "      <td>cv-library.co.uk</td>\n",
              "    </tr>\n",
              "    <tr>\n",
              "      <th>4</th>\n",
              "      <td>12613647</td>\n",
              "      <td>Pioneer, Miser Engineering Systems Analyst</td>\n",
              "      <td>Pioneer, Miser  Engineering Systems Analyst Do...</td>\n",
              "      <td>Surrey, South East, South East</td>\n",
              "      <td>Surrey</td>\n",
              "      <td>NaN</td>\n",
              "      <td>permanent</td>\n",
              "      <td>Gregory Martin International</td>\n",
              "      <td>Engineering Jobs</td>\n",
              "      <td>20000 - 30000/annum 20-30K</td>\n",
              "      <td>25000</td>\n",
              "      <td>cv-library.co.uk</td>\n",
              "    </tr>\n",
              "  </tbody>\n",
              "</table>\n",
              "</div>\n",
              "      <button class=\"colab-df-convert\" onclick=\"convertToInteractive('df-0432ebd0-9cf9-4579-aef0-44330da8beb9')\"\n",
              "              title=\"Convert this dataframe to an interactive table.\"\n",
              "              style=\"display:none;\">\n",
              "        \n",
              "  <svg xmlns=\"http://www.w3.org/2000/svg\" height=\"24px\"viewBox=\"0 0 24 24\"\n",
              "       width=\"24px\">\n",
              "    <path d=\"M0 0h24v24H0V0z\" fill=\"none\"/>\n",
              "    <path d=\"M18.56 5.44l.94 2.06.94-2.06 2.06-.94-2.06-.94-.94-2.06-.94 2.06-2.06.94zm-11 1L8.5 8.5l.94-2.06 2.06-.94-2.06-.94L8.5 2.5l-.94 2.06-2.06.94zm10 10l.94 2.06.94-2.06 2.06-.94-2.06-.94-.94-2.06-.94 2.06-2.06.94z\"/><path d=\"M17.41 7.96l-1.37-1.37c-.4-.4-.92-.59-1.43-.59-.52 0-1.04.2-1.43.59L10.3 9.45l-7.72 7.72c-.78.78-.78 2.05 0 2.83L4 21.41c.39.39.9.59 1.41.59.51 0 1.02-.2 1.41-.59l7.78-7.78 2.81-2.81c.8-.78.8-2.07 0-2.86zM5.41 20L4 18.59l7.72-7.72 1.47 1.35L5.41 20z\"/>\n",
              "  </svg>\n",
              "      </button>\n",
              "      \n",
              "  <style>\n",
              "    .colab-df-container {\n",
              "      display:flex;\n",
              "      flex-wrap:wrap;\n",
              "      gap: 12px;\n",
              "    }\n",
              "\n",
              "    .colab-df-convert {\n",
              "      background-color: #E8F0FE;\n",
              "      border: none;\n",
              "      border-radius: 50%;\n",
              "      cursor: pointer;\n",
              "      display: none;\n",
              "      fill: #1967D2;\n",
              "      height: 32px;\n",
              "      padding: 0 0 0 0;\n",
              "      width: 32px;\n",
              "    }\n",
              "\n",
              "    .colab-df-convert:hover {\n",
              "      background-color: #E2EBFA;\n",
              "      box-shadow: 0px 1px 2px rgba(60, 64, 67, 0.3), 0px 1px 3px 1px rgba(60, 64, 67, 0.15);\n",
              "      fill: #174EA6;\n",
              "    }\n",
              "\n",
              "    [theme=dark] .colab-df-convert {\n",
              "      background-color: #3B4455;\n",
              "      fill: #D2E3FC;\n",
              "    }\n",
              "\n",
              "    [theme=dark] .colab-df-convert:hover {\n",
              "      background-color: #434B5C;\n",
              "      box-shadow: 0px 1px 3px 1px rgba(0, 0, 0, 0.15);\n",
              "      filter: drop-shadow(0px 1px 2px rgba(0, 0, 0, 0.3));\n",
              "      fill: #FFFFFF;\n",
              "    }\n",
              "  </style>\n",
              "\n",
              "      <script>\n",
              "        const buttonEl =\n",
              "          document.querySelector('#df-0432ebd0-9cf9-4579-aef0-44330da8beb9 button.colab-df-convert');\n",
              "        buttonEl.style.display =\n",
              "          google.colab.kernel.accessAllowed ? 'block' : 'none';\n",
              "\n",
              "        async function convertToInteractive(key) {\n",
              "          const element = document.querySelector('#df-0432ebd0-9cf9-4579-aef0-44330da8beb9');\n",
              "          const dataTable =\n",
              "            await google.colab.kernel.invokeFunction('convertToInteractive',\n",
              "                                                     [key], {});\n",
              "          if (!dataTable) return;\n",
              "\n",
              "          const docLinkHtml = 'Like what you see? Visit the ' +\n",
              "            '<a target=\"_blank\" href=https://colab.research.google.com/notebooks/data_table.ipynb>data table notebook</a>'\n",
              "            + ' to learn more about interactive tables.';\n",
              "          element.innerHTML = '';\n",
              "          dataTable['output_type'] = 'display_data';\n",
              "          await google.colab.output.renderOutput(dataTable, element);\n",
              "          const docLink = document.createElement('div');\n",
              "          docLink.innerHTML = docLinkHtml;\n",
              "          element.appendChild(docLink);\n",
              "        }\n",
              "      </script>\n",
              "    </div>\n",
              "  </div>\n",
              "  "
            ]
          },
          "metadata": {},
          "execution_count": 150
        }
      ]
    },
    {
      "cell_type": "code",
      "source": [
        "df3.tail() # checking the last five row"
      ],
      "metadata": {
        "colab": {
          "base_uri": "https://localhost:8080/",
          "height": 478
        },
        "id": "4r8EWRWBCt0J",
        "outputId": "a9b4c8b7-fb85-43ce-f553-a5021ed23d4a"
      },
      "execution_count": 151,
      "outputs": [
        {
          "output_type": "execute_result",
          "data": {
            "text/plain": [
              "              Id                                Title  \\\n",
              "244763  72705211                   TEACHER OF SCIENCE   \n",
              "244764  72705212  TEACHER OF BUSINESS STUDIES AND ICT   \n",
              "244765  72705213                      ENGLISH TEACHER   \n",
              "244766  72705216                      SUPPLY TEACHERS   \n",
              "244767  72705235                           Accountant   \n",
              "\n",
              "                                          FullDescription LocationRaw  \\\n",
              "244763  Position: Qualified Teacher Subject/Specialism...     Swindon   \n",
              "244764  Position: Qualified Teacher or NQT Subject/Spe...     Swindon   \n",
              "244765  Position: Qualified Teacher Subject/Specialism...     Swindon   \n",
              "244766  Position: Qualified Teacher Subject/Specialism...   Wiltshire   \n",
              "244767  This entrepreneurial and growing private equit...     Hitchin   \n",
              "\n",
              "       LocationNormalized ContractType ContractTime Company       Category  \\\n",
              "244763            Swindon          NaN     contract     NaN  Teaching Jobs   \n",
              "244764            Swindon          NaN     contract     NaN  Teaching Jobs   \n",
              "244765            Swindon          NaN     contract     NaN  Teaching Jobs   \n",
              "244766          Wiltshire          NaN     contract     NaN  Teaching Jobs   \n",
              "244767            Hitchin          NaN    permanent     NaN  Teaching Jobs   \n",
              "\n",
              "                  SalaryRaw  SalaryNormalized  SourceName  \n",
              "244763   450 - 500 per week             22800  hays.co.uk  \n",
              "244764   450 - 500 per week             22800  hays.co.uk  \n",
              "244765   450 - 500 per week             22800  hays.co.uk  \n",
              "244766  450 to 500 per week             22800  hays.co.uk  \n",
              "244767            40-45,000             42500  hays.co.uk  "
            ],
            "text/html": [
              "\n",
              "  <div id=\"df-8a2d96a3-d271-4b0f-8960-c45d25ffcc5e\">\n",
              "    <div class=\"colab-df-container\">\n",
              "      <div>\n",
              "<style scoped>\n",
              "    .dataframe tbody tr th:only-of-type {\n",
              "        vertical-align: middle;\n",
              "    }\n",
              "\n",
              "    .dataframe tbody tr th {\n",
              "        vertical-align: top;\n",
              "    }\n",
              "\n",
              "    .dataframe thead th {\n",
              "        text-align: right;\n",
              "    }\n",
              "</style>\n",
              "<table border=\"1\" class=\"dataframe\">\n",
              "  <thead>\n",
              "    <tr style=\"text-align: right;\">\n",
              "      <th></th>\n",
              "      <th>Id</th>\n",
              "      <th>Title</th>\n",
              "      <th>FullDescription</th>\n",
              "      <th>LocationRaw</th>\n",
              "      <th>LocationNormalized</th>\n",
              "      <th>ContractType</th>\n",
              "      <th>ContractTime</th>\n",
              "      <th>Company</th>\n",
              "      <th>Category</th>\n",
              "      <th>SalaryRaw</th>\n",
              "      <th>SalaryNormalized</th>\n",
              "      <th>SourceName</th>\n",
              "    </tr>\n",
              "  </thead>\n",
              "  <tbody>\n",
              "    <tr>\n",
              "      <th>244763</th>\n",
              "      <td>72705211</td>\n",
              "      <td>TEACHER OF SCIENCE</td>\n",
              "      <td>Position: Qualified Teacher Subject/Specialism...</td>\n",
              "      <td>Swindon</td>\n",
              "      <td>Swindon</td>\n",
              "      <td>NaN</td>\n",
              "      <td>contract</td>\n",
              "      <td>NaN</td>\n",
              "      <td>Teaching Jobs</td>\n",
              "      <td>450 - 500 per week</td>\n",
              "      <td>22800</td>\n",
              "      <td>hays.co.uk</td>\n",
              "    </tr>\n",
              "    <tr>\n",
              "      <th>244764</th>\n",
              "      <td>72705212</td>\n",
              "      <td>TEACHER OF BUSINESS STUDIES AND ICT</td>\n",
              "      <td>Position: Qualified Teacher or NQT Subject/Spe...</td>\n",
              "      <td>Swindon</td>\n",
              "      <td>Swindon</td>\n",
              "      <td>NaN</td>\n",
              "      <td>contract</td>\n",
              "      <td>NaN</td>\n",
              "      <td>Teaching Jobs</td>\n",
              "      <td>450 - 500 per week</td>\n",
              "      <td>22800</td>\n",
              "      <td>hays.co.uk</td>\n",
              "    </tr>\n",
              "    <tr>\n",
              "      <th>244765</th>\n",
              "      <td>72705213</td>\n",
              "      <td>ENGLISH TEACHER</td>\n",
              "      <td>Position: Qualified Teacher Subject/Specialism...</td>\n",
              "      <td>Swindon</td>\n",
              "      <td>Swindon</td>\n",
              "      <td>NaN</td>\n",
              "      <td>contract</td>\n",
              "      <td>NaN</td>\n",
              "      <td>Teaching Jobs</td>\n",
              "      <td>450 - 500 per week</td>\n",
              "      <td>22800</td>\n",
              "      <td>hays.co.uk</td>\n",
              "    </tr>\n",
              "    <tr>\n",
              "      <th>244766</th>\n",
              "      <td>72705216</td>\n",
              "      <td>SUPPLY TEACHERS</td>\n",
              "      <td>Position: Qualified Teacher Subject/Specialism...</td>\n",
              "      <td>Wiltshire</td>\n",
              "      <td>Wiltshire</td>\n",
              "      <td>NaN</td>\n",
              "      <td>contract</td>\n",
              "      <td>NaN</td>\n",
              "      <td>Teaching Jobs</td>\n",
              "      <td>450 to 500 per week</td>\n",
              "      <td>22800</td>\n",
              "      <td>hays.co.uk</td>\n",
              "    </tr>\n",
              "    <tr>\n",
              "      <th>244767</th>\n",
              "      <td>72705235</td>\n",
              "      <td>Accountant</td>\n",
              "      <td>This entrepreneurial and growing private equit...</td>\n",
              "      <td>Hitchin</td>\n",
              "      <td>Hitchin</td>\n",
              "      <td>NaN</td>\n",
              "      <td>permanent</td>\n",
              "      <td>NaN</td>\n",
              "      <td>Teaching Jobs</td>\n",
              "      <td>40-45,000</td>\n",
              "      <td>42500</td>\n",
              "      <td>hays.co.uk</td>\n",
              "    </tr>\n",
              "  </tbody>\n",
              "</table>\n",
              "</div>\n",
              "      <button class=\"colab-df-convert\" onclick=\"convertToInteractive('df-8a2d96a3-d271-4b0f-8960-c45d25ffcc5e')\"\n",
              "              title=\"Convert this dataframe to an interactive table.\"\n",
              "              style=\"display:none;\">\n",
              "        \n",
              "  <svg xmlns=\"http://www.w3.org/2000/svg\" height=\"24px\"viewBox=\"0 0 24 24\"\n",
              "       width=\"24px\">\n",
              "    <path d=\"M0 0h24v24H0V0z\" fill=\"none\"/>\n",
              "    <path d=\"M18.56 5.44l.94 2.06.94-2.06 2.06-.94-2.06-.94-.94-2.06-.94 2.06-2.06.94zm-11 1L8.5 8.5l.94-2.06 2.06-.94-2.06-.94L8.5 2.5l-.94 2.06-2.06.94zm10 10l.94 2.06.94-2.06 2.06-.94-2.06-.94-.94-2.06-.94 2.06-2.06.94z\"/><path d=\"M17.41 7.96l-1.37-1.37c-.4-.4-.92-.59-1.43-.59-.52 0-1.04.2-1.43.59L10.3 9.45l-7.72 7.72c-.78.78-.78 2.05 0 2.83L4 21.41c.39.39.9.59 1.41.59.51 0 1.02-.2 1.41-.59l7.78-7.78 2.81-2.81c.8-.78.8-2.07 0-2.86zM5.41 20L4 18.59l7.72-7.72 1.47 1.35L5.41 20z\"/>\n",
              "  </svg>\n",
              "      </button>\n",
              "      \n",
              "  <style>\n",
              "    .colab-df-container {\n",
              "      display:flex;\n",
              "      flex-wrap:wrap;\n",
              "      gap: 12px;\n",
              "    }\n",
              "\n",
              "    .colab-df-convert {\n",
              "      background-color: #E8F0FE;\n",
              "      border: none;\n",
              "      border-radius: 50%;\n",
              "      cursor: pointer;\n",
              "      display: none;\n",
              "      fill: #1967D2;\n",
              "      height: 32px;\n",
              "      padding: 0 0 0 0;\n",
              "      width: 32px;\n",
              "    }\n",
              "\n",
              "    .colab-df-convert:hover {\n",
              "      background-color: #E2EBFA;\n",
              "      box-shadow: 0px 1px 2px rgba(60, 64, 67, 0.3), 0px 1px 3px 1px rgba(60, 64, 67, 0.15);\n",
              "      fill: #174EA6;\n",
              "    }\n",
              "\n",
              "    [theme=dark] .colab-df-convert {\n",
              "      background-color: #3B4455;\n",
              "      fill: #D2E3FC;\n",
              "    }\n",
              "\n",
              "    [theme=dark] .colab-df-convert:hover {\n",
              "      background-color: #434B5C;\n",
              "      box-shadow: 0px 1px 3px 1px rgba(0, 0, 0, 0.15);\n",
              "      filter: drop-shadow(0px 1px 2px rgba(0, 0, 0, 0.3));\n",
              "      fill: #FFFFFF;\n",
              "    }\n",
              "  </style>\n",
              "\n",
              "      <script>\n",
              "        const buttonEl =\n",
              "          document.querySelector('#df-8a2d96a3-d271-4b0f-8960-c45d25ffcc5e button.colab-df-convert');\n",
              "        buttonEl.style.display =\n",
              "          google.colab.kernel.accessAllowed ? 'block' : 'none';\n",
              "\n",
              "        async function convertToInteractive(key) {\n",
              "          const element = document.querySelector('#df-8a2d96a3-d271-4b0f-8960-c45d25ffcc5e');\n",
              "          const dataTable =\n",
              "            await google.colab.kernel.invokeFunction('convertToInteractive',\n",
              "                                                     [key], {});\n",
              "          if (!dataTable) return;\n",
              "\n",
              "          const docLinkHtml = 'Like what you see? Visit the ' +\n",
              "            '<a target=\"_blank\" href=https://colab.research.google.com/notebooks/data_table.ipynb>data table notebook</a>'\n",
              "            + ' to learn more about interactive tables.';\n",
              "          element.innerHTML = '';\n",
              "          dataTable['output_type'] = 'display_data';\n",
              "          await google.colab.output.renderOutput(dataTable, element);\n",
              "          const docLink = document.createElement('div');\n",
              "          docLink.innerHTML = docLinkHtml;\n",
              "          element.appendChild(docLink);\n",
              "        }\n",
              "      </script>\n",
              "    </div>\n",
              "  </div>\n",
              "  "
            ]
          },
          "metadata": {},
          "execution_count": 151
        }
      ]
    },
    {
      "cell_type": "markdown",
      "source": [
        "# **Data understanding** "
      ],
      "metadata": {
        "id": "JnoNlRaJDela"
      }
    },
    {
      "cell_type": "code",
      "source": [
        "df3.shape # checking the shape of the data"
      ],
      "metadata": {
        "colab": {
          "base_uri": "https://localhost:8080/"
        },
        "id": "LbMqiCqFDuim",
        "outputId": "b5baab38-62ff-47b7-d94f-c516819f63ff"
      },
      "execution_count": 152,
      "outputs": [
        {
          "output_type": "execute_result",
          "data": {
            "text/plain": [
              "(244768, 12)"
            ]
          },
          "metadata": {},
          "execution_count": 152
        }
      ]
    },
    {
      "cell_type": "code",
      "source": [
        "df3.columns # checking the features"
      ],
      "metadata": {
        "colab": {
          "base_uri": "https://localhost:8080/"
        },
        "id": "T6EW39MqD0ZL",
        "outputId": "79f001ce-6cf8-466f-dec3-2ec38bd96019"
      },
      "execution_count": 153,
      "outputs": [
        {
          "output_type": "execute_result",
          "data": {
            "text/plain": [
              "Index(['Id', 'Title', 'FullDescription', 'LocationRaw', 'LocationNormalized',\n",
              "       'ContractType', 'ContractTime', 'Company', 'Category', 'SalaryRaw',\n",
              "       'SalaryNormalized', 'SourceName'],\n",
              "      dtype='object')"
            ]
          },
          "metadata": {},
          "execution_count": 153
        }
      ]
    },
    {
      "cell_type": "code",
      "source": [
        "df3.info() # obtain the summary of the data type"
      ],
      "metadata": {
        "colab": {
          "base_uri": "https://localhost:8080/"
        },
        "id": "CloAT4CZD6w9",
        "outputId": "6051d619-fbbf-463e-82be-82dec257107d"
      },
      "execution_count": 154,
      "outputs": [
        {
          "output_type": "stream",
          "name": "stdout",
          "text": [
            "<class 'pandas.core.frame.DataFrame'>\n",
            "RangeIndex: 244768 entries, 0 to 244767\n",
            "Data columns (total 12 columns):\n",
            " #   Column              Non-Null Count   Dtype \n",
            "---  ------              --------------   ----- \n",
            " 0   Id                  244768 non-null  int64 \n",
            " 1   Title               244767 non-null  object\n",
            " 2   FullDescription     244768 non-null  object\n",
            " 3   LocationRaw         244768 non-null  object\n",
            " 4   LocationNormalized  244768 non-null  object\n",
            " 5   ContractType        65442 non-null   object\n",
            " 6   ContractTime        180863 non-null  object\n",
            " 7   Company             212338 non-null  object\n",
            " 8   Category            244768 non-null  object\n",
            " 9   SalaryRaw           244768 non-null  object\n",
            " 10  SalaryNormalized    244768 non-null  int64 \n",
            " 11  SourceName          244767 non-null  object\n",
            "dtypes: int64(2), object(10)\n",
            "memory usage: 22.4+ MB\n"
          ]
        }
      ]
    },
    {
      "cell_type": "code",
      "source": [
        "df3.describe()"
      ],
      "metadata": {
        "colab": {
          "base_uri": "https://localhost:8080/",
          "height": 300
        },
        "id": "BpSHttr4JQi8",
        "outputId": "cc4b9155-ce99-4938-ffd1-a72bcae789b4"
      },
      "execution_count": 155,
      "outputs": [
        {
          "output_type": "execute_result",
          "data": {
            "text/plain": [
              "                 Id  SalaryNormalized\n",
              "count  2.447680e+05     244768.000000\n",
              "mean   6.970142e+07      34122.577576\n",
              "std    3.129813e+06      17640.543124\n",
              "min    1.261263e+07       5000.000000\n",
              "25%    6.869550e+07      21500.000000\n",
              "50%    6.993700e+07      30000.000000\n",
              "75%    7.162606e+07      42500.000000\n",
              "max    7.270524e+07     200000.000000"
            ],
            "text/html": [
              "\n",
              "  <div id=\"df-eb4eac57-cb3f-4895-ae29-8262917ca99b\">\n",
              "    <div class=\"colab-df-container\">\n",
              "      <div>\n",
              "<style scoped>\n",
              "    .dataframe tbody tr th:only-of-type {\n",
              "        vertical-align: middle;\n",
              "    }\n",
              "\n",
              "    .dataframe tbody tr th {\n",
              "        vertical-align: top;\n",
              "    }\n",
              "\n",
              "    .dataframe thead th {\n",
              "        text-align: right;\n",
              "    }\n",
              "</style>\n",
              "<table border=\"1\" class=\"dataframe\">\n",
              "  <thead>\n",
              "    <tr style=\"text-align: right;\">\n",
              "      <th></th>\n",
              "      <th>Id</th>\n",
              "      <th>SalaryNormalized</th>\n",
              "    </tr>\n",
              "  </thead>\n",
              "  <tbody>\n",
              "    <tr>\n",
              "      <th>count</th>\n",
              "      <td>2.447680e+05</td>\n",
              "      <td>244768.000000</td>\n",
              "    </tr>\n",
              "    <tr>\n",
              "      <th>mean</th>\n",
              "      <td>6.970142e+07</td>\n",
              "      <td>34122.577576</td>\n",
              "    </tr>\n",
              "    <tr>\n",
              "      <th>std</th>\n",
              "      <td>3.129813e+06</td>\n",
              "      <td>17640.543124</td>\n",
              "    </tr>\n",
              "    <tr>\n",
              "      <th>min</th>\n",
              "      <td>1.261263e+07</td>\n",
              "      <td>5000.000000</td>\n",
              "    </tr>\n",
              "    <tr>\n",
              "      <th>25%</th>\n",
              "      <td>6.869550e+07</td>\n",
              "      <td>21500.000000</td>\n",
              "    </tr>\n",
              "    <tr>\n",
              "      <th>50%</th>\n",
              "      <td>6.993700e+07</td>\n",
              "      <td>30000.000000</td>\n",
              "    </tr>\n",
              "    <tr>\n",
              "      <th>75%</th>\n",
              "      <td>7.162606e+07</td>\n",
              "      <td>42500.000000</td>\n",
              "    </tr>\n",
              "    <tr>\n",
              "      <th>max</th>\n",
              "      <td>7.270524e+07</td>\n",
              "      <td>200000.000000</td>\n",
              "    </tr>\n",
              "  </tbody>\n",
              "</table>\n",
              "</div>\n",
              "      <button class=\"colab-df-convert\" onclick=\"convertToInteractive('df-eb4eac57-cb3f-4895-ae29-8262917ca99b')\"\n",
              "              title=\"Convert this dataframe to an interactive table.\"\n",
              "              style=\"display:none;\">\n",
              "        \n",
              "  <svg xmlns=\"http://www.w3.org/2000/svg\" height=\"24px\"viewBox=\"0 0 24 24\"\n",
              "       width=\"24px\">\n",
              "    <path d=\"M0 0h24v24H0V0z\" fill=\"none\"/>\n",
              "    <path d=\"M18.56 5.44l.94 2.06.94-2.06 2.06-.94-2.06-.94-.94-2.06-.94 2.06-2.06.94zm-11 1L8.5 8.5l.94-2.06 2.06-.94-2.06-.94L8.5 2.5l-.94 2.06-2.06.94zm10 10l.94 2.06.94-2.06 2.06-.94-2.06-.94-.94-2.06-.94 2.06-2.06.94z\"/><path d=\"M17.41 7.96l-1.37-1.37c-.4-.4-.92-.59-1.43-.59-.52 0-1.04.2-1.43.59L10.3 9.45l-7.72 7.72c-.78.78-.78 2.05 0 2.83L4 21.41c.39.39.9.59 1.41.59.51 0 1.02-.2 1.41-.59l7.78-7.78 2.81-2.81c.8-.78.8-2.07 0-2.86zM5.41 20L4 18.59l7.72-7.72 1.47 1.35L5.41 20z\"/>\n",
              "  </svg>\n",
              "      </button>\n",
              "      \n",
              "  <style>\n",
              "    .colab-df-container {\n",
              "      display:flex;\n",
              "      flex-wrap:wrap;\n",
              "      gap: 12px;\n",
              "    }\n",
              "\n",
              "    .colab-df-convert {\n",
              "      background-color: #E8F0FE;\n",
              "      border: none;\n",
              "      border-radius: 50%;\n",
              "      cursor: pointer;\n",
              "      display: none;\n",
              "      fill: #1967D2;\n",
              "      height: 32px;\n",
              "      padding: 0 0 0 0;\n",
              "      width: 32px;\n",
              "    }\n",
              "\n",
              "    .colab-df-convert:hover {\n",
              "      background-color: #E2EBFA;\n",
              "      box-shadow: 0px 1px 2px rgba(60, 64, 67, 0.3), 0px 1px 3px 1px rgba(60, 64, 67, 0.15);\n",
              "      fill: #174EA6;\n",
              "    }\n",
              "\n",
              "    [theme=dark] .colab-df-convert {\n",
              "      background-color: #3B4455;\n",
              "      fill: #D2E3FC;\n",
              "    }\n",
              "\n",
              "    [theme=dark] .colab-df-convert:hover {\n",
              "      background-color: #434B5C;\n",
              "      box-shadow: 0px 1px 3px 1px rgba(0, 0, 0, 0.15);\n",
              "      filter: drop-shadow(0px 1px 2px rgba(0, 0, 0, 0.3));\n",
              "      fill: #FFFFFF;\n",
              "    }\n",
              "  </style>\n",
              "\n",
              "      <script>\n",
              "        const buttonEl =\n",
              "          document.querySelector('#df-eb4eac57-cb3f-4895-ae29-8262917ca99b button.colab-df-convert');\n",
              "        buttonEl.style.display =\n",
              "          google.colab.kernel.accessAllowed ? 'block' : 'none';\n",
              "\n",
              "        async function convertToInteractive(key) {\n",
              "          const element = document.querySelector('#df-eb4eac57-cb3f-4895-ae29-8262917ca99b');\n",
              "          const dataTable =\n",
              "            await google.colab.kernel.invokeFunction('convertToInteractive',\n",
              "                                                     [key], {});\n",
              "          if (!dataTable) return;\n",
              "\n",
              "          const docLinkHtml = 'Like what you see? Visit the ' +\n",
              "            '<a target=\"_blank\" href=https://colab.research.google.com/notebooks/data_table.ipynb>data table notebook</a>'\n",
              "            + ' to learn more about interactive tables.';\n",
              "          element.innerHTML = '';\n",
              "          dataTable['output_type'] = 'display_data';\n",
              "          await google.colab.output.renderOutput(dataTable, element);\n",
              "          const docLink = document.createElement('div');\n",
              "          docLink.innerHTML = docLinkHtml;\n",
              "          element.appendChild(docLink);\n",
              "        }\n",
              "      </script>\n",
              "    </div>\n",
              "  </div>\n",
              "  "
            ]
          },
          "metadata": {},
          "execution_count": 155
        }
      ]
    },
    {
      "cell_type": "markdown",
      "source": [
        "# **Exploratory data analysis**"
      ],
      "metadata": {
        "id": "2Ea2APjpbpUi"
      }
    },
    {
      "cell_type": "code",
      "source": [
        "len(df3[\"Title\"].unique()) # taking the unique job role in the advertisement"
      ],
      "metadata": {
        "colab": {
          "base_uri": "https://localhost:8080/"
        },
        "id": "3QWE8-68-r32",
        "outputId": "72b223ab-ac58-4c44-ba65-3a37dd41e463"
      },
      "execution_count": 156,
      "outputs": [
        {
          "output_type": "execute_result",
          "data": {
            "text/plain": [
              "135436"
            ]
          },
          "metadata": {},
          "execution_count": 156
        }
      ]
    },
    {
      "cell_type": "markdown",
      "source": [
        "* **There are 135436 different job role are advertise**."
      ],
      "metadata": {
        "id": "DUrHSuTP_gak"
      }
    },
    {
      "cell_type": "code",
      "source": [
        "df3[\"Title\"].value_counts()[:30] # 30 popular job role"
      ],
      "metadata": {
        "colab": {
          "base_uri": "https://localhost:8080/"
        },
        "id": "Ckgu3SkP_fwL",
        "outputId": "a238c604-2d9a-41d4-f79e-d3f6cd244ff6"
      },
      "execution_count": 157,
      "outputs": [
        {
          "output_type": "execute_result",
          "data": {
            "text/plain": [
              "Business Development Manager      921\n",
              "Project Manager                   749\n",
              "Management Accountant             661\n",
              "Sales Executive                   603\n",
              "Account Manager                   540\n",
              "Mechanical Design Engineer        459\n",
              "Finance Manager                   458\n",
              "Cleaner                           439\n",
              "Credit Controller                 439\n",
              "Accounts Assistant                435\n",
              "Administrator                     428\n",
              "Recruitment Consultant            423\n",
              "Assistant Manager                 398\n",
              "Financial Controller              387\n",
              "Sales Manager                     361\n",
              "Business Analyst                  354\n",
              "Quality Engineer                  311\n",
              "Marketing Manager                 288\n",
              "Quantity Surveyor                 280\n",
              "Project Engineer                  279\n",
              "Store Manager                     273\n",
              "Support Worker                    273\n",
              "Financial Accountant              269\n",
              "Assistant Accountant              264\n",
              "Design Engineer                   256\n",
              "Business Development Executive    244\n",
              "Marketing Executive               237\n",
              "HR Manager                        234\n",
              "Purchase Ledger Clerk             234\n",
              "Maintenance Engineer              233\n",
              "Name: Title, dtype: int64"
            ]
          },
          "metadata": {},
          "execution_count": 157
        }
      ]
    },
    {
      "cell_type": "code",
      "source": [
        "len(df3[\"LocationNormalized\"].unique()) # Unique location"
      ],
      "metadata": {
        "colab": {
          "base_uri": "https://localhost:8080/"
        },
        "id": "A-J8sO-rAJfK",
        "outputId": "55e0c47a-6fa0-4d77-aa43-43a027a802bb"
      },
      "execution_count": 158,
      "outputs": [
        {
          "output_type": "execute_result",
          "data": {
            "text/plain": [
              "2732"
            ]
          },
          "metadata": {},
          "execution_count": 158
        }
      ]
    },
    {
      "cell_type": "markdown",
      "source": [
        "* **In the data set, there are 2732 distinct locations.**"
      ],
      "metadata": {
        "id": "eP6zbzpRAJyb"
      }
    },
    {
      "cell_type": "code",
      "source": [
        "df3[\"LocationNormalized\"].value_counts()[:50] # 50 popular loaction"
      ],
      "metadata": {
        "colab": {
          "base_uri": "https://localhost:8080/"
        },
        "id": "_2jQPAXjA3GH",
        "outputId": "22fd4098-95ae-4f52-fab5-47a662519345"
      },
      "execution_count": 159,
      "outputs": [
        {
          "output_type": "execute_result",
          "data": {
            "text/plain": [
              "UK                     41093\n",
              "London                 30522\n",
              "South East London      11713\n",
              "The City                6678\n",
              "Manchester              3516\n",
              "Leeds                   3401\n",
              "Birmingham              3061\n",
              "Central London          2607\n",
              "West Midlands           2540\n",
              "Surrey                  2397\n",
              "Reading                 2187\n",
              "Bristol                 2085\n",
              "Nottingham              1873\n",
              "Sheffield               1766\n",
              "Aberdeen                1634\n",
              "Hampshire               1557\n",
              "Belfast                 1537\n",
              "East Sheen              1531\n",
              "Milton Keynes           1523\n",
              "Berkshire               1502\n",
              "Oxford                  1497\n",
              "Newcastle Upon Tyne     1390\n",
              "Liverpool               1341\n",
              "Kent                    1333\n",
              "Cambridge               1301\n",
              "Leicester               1219\n",
              "North West London       1104\n",
              "Guildford               1082\n",
              "West Yorkshire          1072\n",
              "Hertfordshire           1039\n",
              "Glasgow                 1037\n",
              "Oxfordshire             1035\n",
              "Northampton             1023\n",
              "Scotland                 984\n",
              "Essex                    939\n",
              "Lancashire               923\n",
              "Derby                    919\n",
              "East Midlands            916\n",
              "Cheshire                 871\n",
              "South West London        871\n",
              "York                     841\n",
              "Bradford                 827\n",
              "Buckinghamshire          827\n",
              "South East England       817\n",
              "Warwickshire             816\n",
              "Gloucestershire          814\n",
              "Basingstoke              812\n",
              "Slough                   798\n",
              "Coventry                 797\n",
              "Leicestershire           797\n",
              "Name: LocationNormalized, dtype: int64"
            ]
          },
          "metadata": {},
          "execution_count": 159
        }
      ]
    },
    {
      "cell_type": "code",
      "source": [
        "df3[\"ContractTime\"].value_counts() # job's type "
      ],
      "metadata": {
        "colab": {
          "base_uri": "https://localhost:8080/"
        },
        "id": "hRXEAf5XBCbb",
        "outputId": "c14fc45b-4ea8-489f-93c1-f70780a17d59"
      },
      "execution_count": 160,
      "outputs": [
        {
          "output_type": "execute_result",
          "data": {
            "text/plain": [
              "permanent    151521\n",
              "contract      29342\n",
              "Name: ContractTime, dtype: int64"
            ]
          },
          "metadata": {},
          "execution_count": 160
        }
      ]
    },
    {
      "cell_type": "code",
      "source": [
        "# Countplot for the feature 'diagnosis' \n",
        "\n",
        "plt.figure(figsize=(8,5))\n",
        "sns.set_style('whitegrid')\n",
        "sns.countplot(x='ContractTime', data=df3, palette='viridis')\n",
        "plt.ylabel('Count', fontsize = 18)\n",
        "plt.xlabel('jobs type', fontsize = 18);"
      ],
      "metadata": {
        "colab": {
          "base_uri": "https://localhost:8080/",
          "height": 342
        },
        "id": "XqF1RQN-dMJz",
        "outputId": "3830d49e-5581-4f13-e7ea-d1fb89729f5f"
      },
      "execution_count": 161,
      "outputs": [
        {
          "output_type": "display_data",
          "data": {
            "text/plain": [
              "<Figure size 576x360 with 1 Axes>"
            ],
            "image/png": "[encoded data removed]"
          },
          "metadata": {}
        }
      ]
    },
    {
      "cell_type": "markdown",
      "source": [
        "* **This US data shows that there are more \"permanent\" job advertising than \"contract\" job ads.**"
      ],
      "metadata": {
        "id": "xFH9guzIeyVW"
      }
    },
    {
      "cell_type": "code",
      "source": [
        "len(df3[\"Company\"].unique())"
      ],
      "metadata": {
        "colab": {
          "base_uri": "https://localhost:8080/"
        },
        "id": "ARQOhoeYBTei",
        "outputId": "609d2f04-5d77-4bfb-f17d-00278ab83a5f"
      },
      "execution_count": 163,
      "outputs": [
        {
          "output_type": "execute_result",
          "data": {
            "text/plain": [
              "20813"
            ]
          },
          "metadata": {},
          "execution_count": 163
        }
      ]
    },
    {
      "cell_type": "markdown",
      "source": [
        "* **There are 20813 comapny name are presented in this dataset.**"
      ],
      "metadata": {
        "id": "4YNxrbDjBcMd"
      }
    },
    {
      "cell_type": "code",
      "source": [
        "df3[\"Company\"].value_counts()[:30] # 30 popular comapny names"
      ],
      "metadata": {
        "colab": {
          "base_uri": "https://localhost:8080/"
        },
        "id": "ROB3hqpfB9MO",
        "outputId": "e6d67edd-25b7-4a4d-8abf-0457c8e138ac"
      },
      "execution_count": 164,
      "outputs": [
        {
          "output_type": "execute_result",
          "data": {
            "text/plain": [
              "UKStaffsearch                     4997\n",
              "CVbrowser                         2977\n",
              "London4Jobs                       2345\n",
              "Hays                              1784\n",
              "JAM Recruitment Ltd               1122\n",
              "Office Angels                      961\n",
              "Jobsite Jobs                       932\n",
              "Perfect Placement                  865\n",
              "ARRAY                              847\n",
              "JOBG8                              841\n",
              "Matchtech Group plc.               834\n",
              "Penguin Recruitment                752\n",
              "Randstad                           748\n",
              "Adecco                             701\n",
              "Michael Page Finance               634\n",
              "Adecco Group                       592\n",
              "BMS Sales Specialists LLP          559\n",
              "COREcruitment International        551\n",
              "Page Personnel Finance             536\n",
              "Capita Resourcing                  495\n",
              "Michael Page Sales                 486\n",
              "Matchtech                          474\n",
              "Rise Technical Recruitment Ltd     460\n",
              "Experis IT                         446\n",
              "ATA Recruitment                    438\n",
              "Huxley Associates                  431\n",
              "Interaction Recruitment            428\n",
              "Support Services Group             419\n",
              "Brookstreet UK                     417\n",
              "Michael Page Marketing             413\n",
              "Name: Company, dtype: int64"
            ]
          },
          "metadata": {},
          "execution_count": 164
        }
      ]
    },
    {
      "cell_type": "code",
      "source": [
        "print(len((df3['Category'].unique()))) # There are 29 different jobs are advertised"
      ],
      "metadata": {
        "colab": {
          "base_uri": "https://localhost:8080/"
        },
        "id": "ANERvDXkCmtc",
        "outputId": "aea41f1a-931e-4f31-9e91-ed2bc080b7a3"
      },
      "execution_count": 165,
      "outputs": [
        {
          "output_type": "stream",
          "name": "stdout",
          "text": [
            "29\n"
          ]
        }
      ]
    },
    {
      "cell_type": "code",
      "source": [
        "df3[\"Category\"].value_counts().plot(kind='bar') "
      ],
      "metadata": {
        "colab": {
          "base_uri": "https://localhost:8080/",
          "height": 438
        },
        "id": "X4duy-h8CLXP",
        "outputId": "46f37768-754a-45ed-e4b7-850572a37544"
      },
      "execution_count": 166,
      "outputs": [
        {
          "output_type": "execute_result",
          "data": {
            "text/plain": [
              "<Axes: >"
            ]
          },
          "metadata": {},
          "execution_count": 166
        },
        {
          "output_type": "display_data",
          "data": {
            "text/plain": [
              "<Figure size 432x288 with 1 Axes>"
            ],
            "image/png": "[encoded data removed]"
          },
          "metadata": {}
        }
      ]
    },
    {
      "cell_type": "markdown",
      "source": [
        "* **In this data, the majority of the job postings are for IT positions, engineering, accounting, healthcare, and sales-related employment. The number of graduate, property, and part-time jobs advertised is quite low.**"
      ],
      "metadata": {
        "id": "_g-EfMBlCwEq"
      }
    },
    {
      "cell_type": "code",
      "source": [
        "df3[\"SalaryNormalized\"].hist() # plotting the hist plot salarynormalized(target)"
      ],
      "metadata": {
        "colab": {
          "base_uri": "https://localhost:8080/",
          "height": 282
        },
        "id": "eysv7hSNbuTx",
        "outputId": "b4b68b77-ad06-4074-b0a4-57fd26012020"
      },
      "execution_count": 167,
      "outputs": [
        {
          "output_type": "execute_result",
          "data": {
            "text/plain": [
              "<Axes: >"
            ]
          },
          "metadata": {},
          "execution_count": 167
        },
        {
          "output_type": "display_data",
          "data": {
            "text/plain": [
              "<Figure size 432x288 with 1 Axes>"
            ],
            "image/png": "[encoded data removed]"
          },
          "metadata": {}
        }
      ]
    },
    {
      "cell_type": "markdown",
      "source": [
        "# **Data pre-procesing**"
      ],
      "metadata": {
        "id": "-UWpEGc0FwmD"
      }
    },
    {
      "cell_type": "markdown",
      "source": [
        "**(I) Checking the NULL values** \n"
      ],
      "metadata": {
        "id": "s2E8ujaqGRMx"
      }
    },
    {
      "cell_type": "code",
      "source": [
        "df3.isna().sum() # checking the null values"
      ],
      "metadata": {
        "colab": {
          "base_uri": "https://localhost:8080/"
        },
        "id": "2FI-PchfWOW8",
        "outputId": "89f0c658-ca8a-4a33-b44d-336e81f2ebd1"
      },
      "execution_count": 168,
      "outputs": [
        {
          "output_type": "execute_result",
          "data": {
            "text/plain": [
              "Id                         0\n",
              "Title                      1\n",
              "FullDescription            0\n",
              "LocationRaw                0\n",
              "LocationNormalized         0\n",
              "ContractType          179326\n",
              "ContractTime           63905\n",
              "Company                32430\n",
              "Category                   0\n",
              "SalaryRaw                  0\n",
              "SalaryNormalized           0\n",
              "SourceName                 1\n",
              "dtype: int64"
            ]
          },
          "metadata": {},
          "execution_count": 168
        }
      ]
    },
    {
      "cell_type": "markdown",
      "source": [
        "* The data sets include a significant number of **NULL values**. Hence, the futures will handle the NULL values."
      ],
      "metadata": {
        "id": "vYgFDyEBGglh"
      }
    },
    {
      "cell_type": "markdown",
      "source": [
        "  **(II) Check for string label**"
      ],
      "metadata": {
        "id": "wqmH0wfcILTs"
      }
    },
    {
      "cell_type": "markdown",
      "source": [
        "This code iterates over the columns of a pandas DataFrame called df_train, and for each column it checks if the column's data type is a string using the pd.api.types.is_string_dtype() function.\n",
        "\n",
        "If the column's data type is a string, the code prints the label of the column, which is the column name, to the console. This is useful for identifying which columns in the DataFrame contain string data."
      ],
      "metadata": {
        "id": "n9se2d6TMtbC"
      }
    },
    {
      "cell_type": "code",
      "source": [
        "# The **For** loop is first created, and if the data type is **string**, the labels are then printed.\n",
        "for label,content in df3.items():\n",
        "    if pd.api.types.is_string_dtype(content):\n",
        "        print(label)"
      ],
      "metadata": {
        "colab": {
          "base_uri": "https://localhost:8080/"
        },
        "id": "p_y0wj_sGesi",
        "outputId": "c3accefc-207a-4a64-d412-01d5a6cf9ca5"
      },
      "execution_count": 169,
      "outputs": [
        {
          "output_type": "stream",
          "name": "stdout",
          "text": [
            "Title\n",
            "FullDescription\n",
            "LocationRaw\n",
            "LocationNormalized\n",
            "ContractType\n",
            "ContractTime\n",
            "Company\n",
            "Category\n",
            "SalaryRaw\n",
            "SourceName\n"
          ]
        }
      ]
    },
    {
      "cell_type": "markdown",
      "source": [
        "* **There are 10 varibles are presented.**"
      ],
      "metadata": {
        "id": "HrvFt8MiJmyA"
      }
    },
    {
      "cell_type": "markdown",
      "source": [
        "**(III) checking the numerical varibles**"
      ],
      "metadata": {
        "id": "ZcMzg0ItLCVh"
      }
    },
    {
      "cell_type": "code",
      "source": [
        "# The **For** loop is first created, and if the data type is **numeric**, the labels are then printed.\n",
        "for label,content in df3.items():\n",
        "    if pd.api.types.is_numeric_dtype(content):\n",
        "        print(label)"
      ],
      "metadata": {
        "colab": {
          "base_uri": "https://localhost:8080/"
        },
        "id": "FKDiGEAWIeFa",
        "outputId": "69de01f4-4c40-4d2d-e3c6-f6d724e05475"
      },
      "execution_count": 170,
      "outputs": [
        {
          "output_type": "stream",
          "name": "stdout",
          "text": [
            "Id\n",
            "SalaryNormalized\n"
          ]
        }
      ]
    },
    {
      "cell_type": "markdown",
      "source": [
        "* **There are two numerical varibles are presented.**"
      ],
      "metadata": {
        "id": "UsHZLjgTLrLj"
      }
    },
    {
      "cell_type": "markdown",
      "source": [
        "**(IV) Now converting all of the string value into category values**"
      ],
      "metadata": {
        "id": "mayeHp9LM-sm"
      }
    },
    {
      "cell_type": "markdown",
      "source": [
        "This code iterates over the columns of a pandas DataFrame called df3, and for each column it checks if the column's data type is a string using the \"pd.api.types.is_string_dtype()\" function.\n",
        "\n",
        "If the column's data type is a string, the code converts the column to a pandas \"category\" data type using the \"astype()\" method, and then sets the category as ordered using the \"cat.as_ordered()\" method."
      ],
      "metadata": {
        "id": "aQO-MFtQOQOK"
      }
    },
    {
      "cell_type": "code",
      "source": [
        "for label, content in df3.items():\n",
        "    if pd.api.types.is_string_dtype(content):\n",
        "        df3[label] = content.astype(\"category\").cat.as_ordered()"
      ],
      "metadata": {
        "id": "b_A1K6tFLGS9"
      },
      "execution_count": 171,
      "outputs": []
    },
    {
      "cell_type": "code",
      "source": [
        "df3.info() # after converting category"
      ],
      "metadata": {
        "colab": {
          "base_uri": "https://localhost:8080/"
        },
        "id": "v58bWA8BNVsf",
        "outputId": "c0aaba88-6541-4148-c58a-544051e3c7b9"
      },
      "execution_count": 172,
      "outputs": [
        {
          "output_type": "stream",
          "name": "stdout",
          "text": [
            "<class 'pandas.core.frame.DataFrame'>\n",
            "RangeIndex: 244768 entries, 0 to 244767\n",
            "Data columns (total 12 columns):\n",
            " #   Column              Non-Null Count   Dtype   \n",
            "---  ------              --------------   -----   \n",
            " 0   Id                  244768 non-null  int64   \n",
            " 1   Title               244767 non-null  category\n",
            " 2   FullDescription     244768 non-null  category\n",
            " 3   LocationRaw         244768 non-null  category\n",
            " 4   LocationNormalized  244768 non-null  category\n",
            " 5   ContractType        65442 non-null   category\n",
            " 6   ContractTime        180863 non-null  category\n",
            " 7   Company             212338 non-null  category\n",
            " 8   Category            244768 non-null  category\n",
            " 9   SalaryRaw           244768 non-null  category\n",
            " 10  SalaryNormalized    244768 non-null  int64   \n",
            " 11  SourceName          244767 non-null  category\n",
            "dtypes: category(10), int64(2)\n",
            "memory usage: 28.3 MB\n"
          ]
        }
      ]
    },
    {
      "cell_type": "markdown",
      "source": [
        "**(V) Filling missing values**"
      ],
      "metadata": {
        "id": "V9GzR9LPPK6m"
      }
    },
    {
      "cell_type": "code",
      "source": [
        "for label,content in df3.items():\n",
        "    if not pd.api.types.is_numeric_dtype(content):\n",
        "        # Add binary column to indicate whether sample had missing value\n",
        "        df3[label+\"is_missing\"]=pd.isnull(content)\n",
        "        # Turn categories into numbers and add+1\n",
        "        df3[label] = pd.Categorical(content).codes+1 #It converts the categorical data in the column to numerical codes using the pd.Categorical(content).codes function.\n",
        "# This assigns a unique integer to each category in the column.It adds 1 to the numerical codes generated in step 4. \n",
        "#This is done to avoid assigning 0 to any category since 0 may be interpreted as a missing value or null value in some cases"
      ],
      "metadata": {
        "id": "ttwLV7B-NbNV"
      },
      "execution_count": 173,
      "outputs": []
    },
    {
      "cell_type": "code",
      "source": [
        "df3.isna().sum() # after filling the null values"
      ],
      "metadata": {
        "colab": {
          "base_uri": "https://localhost:8080/"
        },
        "id": "76sX1F_uQaV8",
        "outputId": "ecc69280-f940-4659-b648-a378f48556d9"
      },
      "execution_count": 174,
      "outputs": [
        {
          "output_type": "execute_result",
          "data": {
            "text/plain": [
              "Id                              0\n",
              "Title                           0\n",
              "FullDescription                 0\n",
              "LocationRaw                     0\n",
              "LocationNormalized              0\n",
              "ContractType                    0\n",
              "ContractTime                    0\n",
              "Company                         0\n",
              "Category                        0\n",
              "SalaryRaw                       0\n",
              "SalaryNormalized                0\n",
              "SourceName                      0\n",
              "Titleis_missing                 0\n",
              "FullDescriptionis_missing       0\n",
              "LocationRawis_missing           0\n",
              "LocationNormalizedis_missing    0\n",
              "ContractTypeis_missing          0\n",
              "ContractTimeis_missing          0\n",
              "Companyis_missing               0\n",
              "Categoryis_missing              0\n",
              "SalaryRawis_missing             0\n",
              "SourceNameis_missing            0\n",
              "dtype: int64"
            ]
          },
          "metadata": {},
          "execution_count": 174
        }
      ]
    },
    {
      "cell_type": "markdown",
      "source": [
        "**(VI) copy train datasets**"
      ],
      "metadata": {
        "id": "QqH4rpS7o-zU"
      }
    },
    {
      "cell_type": "code",
      "source": [
        "df_copy = df3.copy() # copying the train data"
      ],
      "metadata": {
        "id": "Y70J_V6YYTp_"
      },
      "execution_count": 175,
      "outputs": []
    },
    {
      "cell_type": "code",
      "source": [
        "df_copy.head() # once the categorical has been converted to numbers"
      ],
      "metadata": {
        "colab": {
          "base_uri": "https://localhost:8080/",
          "height": 299
        },
        "id": "XLehDj2lpUtj",
        "outputId": "56ee4815-e2c6-4752-b5c2-54288cdb0ee6"
      },
      "execution_count": 176,
      "outputs": [
        {
          "output_type": "execute_result",
          "data": {
            "text/plain": [
              "         Id   Title  FullDescription  LocationRaw  LocationNormalized  \\\n",
              "0  12612628   39227            68301         5178                 751   \n",
              "1  12612830  121388           196351         6881                 987   \n",
              "2  12612844   73486           117824         7630                1069   \n",
              "3  12613049   39228            68300        17183                2310   \n",
              "4  12613647   85435           157839        17183                2310   \n",
              "\n",
              "   ContractType  ContractTime  Company  Category  SalaryRaw  ...  \\\n",
              "0             0             2     7758         9      21344  ...   \n",
              "1             0             2     7758         9      32427  ...   \n",
              "2             0             2     7758         9      21539  ...   \n",
              "3             0             2     7758         9      31840  ...   \n",
              "4             0             2     7758         9      21344  ...   \n",
              "\n",
              "   Titleis_missing  FullDescriptionis_missing  LocationRawis_missing  \\\n",
              "0            False                      False                  False   \n",
              "1            False                      False                  False   \n",
              "2            False                      False                  False   \n",
              "3            False                      False                  False   \n",
              "4            False                      False                  False   \n",
              "\n",
              "   LocationNormalizedis_missing  ContractTypeis_missing  \\\n",
              "0                         False                    True   \n",
              "1                         False                    True   \n",
              "2                         False                    True   \n",
              "3                         False                    True   \n",
              "4                         False                    True   \n",
              "\n",
              "   ContractTimeis_missing  Companyis_missing  Categoryis_missing  \\\n",
              "0                   False              False               False   \n",
              "1                   False              False               False   \n",
              "2                   False              False               False   \n",
              "3                   False              False               False   \n",
              "4                   False              False               False   \n",
              "\n",
              "   SalaryRawis_missing  SourceNameis_missing  \n",
              "0                False                 False  \n",
              "1                False                 False  \n",
              "2                False                 False  \n",
              "3                False                 False  \n",
              "4                False                 False  \n",
              "\n",
              "[5 rows x 22 columns]"
            ],
            "text/html": [
              "\n",
              "  <div id=\"df-1071c313-0785-4568-999a-47ed9f9238dd\">\n",
              "    <div class=\"colab-df-container\">\n",
              "      <div>\n",
              "<style scoped>\n",
              "    .dataframe tbody tr th:only-of-type {\n",
              "        vertical-align: middle;\n",
              "    }\n",
              "\n",
              "    .dataframe tbody tr th {\n",
              "        vertical-align: top;\n",
              "    }\n",
              "\n",
              "    .dataframe thead th {\n",
              "        text-align: right;\n",
              "    }\n",
              "</style>\n",
              "<table border=\"1\" class=\"dataframe\">\n",
              "  <thead>\n",
              "    <tr style=\"text-align: right;\">\n",
              "      <th></th>\n",
              "      <th>Id</th>\n",
              "      <th>Title</th>\n",
              "      <th>FullDescription</th>\n",
              "      <th>LocationRaw</th>\n",
              "      <th>LocationNormalized</th>\n",
              "      <th>ContractType</th>\n",
              "      <th>ContractTime</th>\n",
              "      <th>Company</th>\n",
              "      <th>Category</th>\n",
              "      <th>SalaryRaw</th>\n",
              "      <th>...</th>\n",
              "      <th>Titleis_missing</th>\n",
              "      <th>FullDescriptionis_missing</th>\n",
              "      <th>LocationRawis_missing</th>\n",
              "      <th>LocationNormalizedis_missing</th>\n",
              "      <th>ContractTypeis_missing</th>\n",
              "      <th>ContractTimeis_missing</th>\n",
              "      <th>Companyis_missing</th>\n",
              "      <th>Categoryis_missing</th>\n",
              "      <th>SalaryRawis_missing</th>\n",
              "      <th>SourceNameis_missing</th>\n",
              "    </tr>\n",
              "  </thead>\n",
              "  <tbody>\n",
              "    <tr>\n",
              "      <th>0</th>\n",
              "      <td>12612628</td>\n",
              "      <td>39227</td>\n",
              "      <td>68301</td>\n",
              "      <td>5178</td>\n",
              "      <td>751</td>\n",
              "      <td>0</td>\n",
              "      <td>2</td>\n",
              "      <td>7758</td>\n",
              "      <td>9</td>\n",
              "      <td>21344</td>\n",
              "      <td>...</td>\n",
              "      <td>False</td>\n",
              "      <td>False</td>\n",
              "      <td>False</td>\n",
              "      <td>False</td>\n",
              "      <td>True</td>\n",
              "      <td>False</td>\n",
              "      <td>False</td>\n",
              "      <td>False</td>\n",
              "      <td>False</td>\n",
              "      <td>False</td>\n",
              "    </tr>\n",
              "    <tr>\n",
              "      <th>1</th>\n",
              "      <td>12612830</td>\n",
              "      <td>121388</td>\n",
              "      <td>196351</td>\n",
              "      <td>6881</td>\n",
              "      <td>987</td>\n",
              "      <td>0</td>\n",
              "      <td>2</td>\n",
              "      <td>7758</td>\n",
              "      <td>9</td>\n",
              "      <td>32427</td>\n",
              "      <td>...</td>\n",
              "      <td>False</td>\n",
              "      <td>False</td>\n",
              "      <td>False</td>\n",
              "      <td>False</td>\n",
              "      <td>True</td>\n",
              "      <td>False</td>\n",
              "      <td>False</td>\n",
              "      <td>False</td>\n",
              "      <td>False</td>\n",
              "      <td>False</td>\n",
              "    </tr>\n",
              "    <tr>\n",
              "      <th>2</th>\n",
              "      <td>12612844</td>\n",
              "      <td>73486</td>\n",
              "      <td>117824</td>\n",
              "      <td>7630</td>\n",
              "      <td>1069</td>\n",
              "      <td>0</td>\n",
              "      <td>2</td>\n",
              "      <td>7758</td>\n",
              "      <td>9</td>\n",
              "      <td>21539</td>\n",
              "      <td>...</td>\n",
              "      <td>False</td>\n",
              "      <td>False</td>\n",
              "      <td>False</td>\n",
              "      <td>False</td>\n",
              "      <td>True</td>\n",
              "      <td>False</td>\n",
              "      <td>False</td>\n",
              "      <td>False</td>\n",
              "      <td>False</td>\n",
              "      <td>False</td>\n",
              "    </tr>\n",
              "    <tr>\n",
              "      <th>3</th>\n",
              "      <td>12613049</td>\n",
              "      <td>39228</td>\n",
              "      <td>68300</td>\n",
              "      <td>17183</td>\n",
              "      <td>2310</td>\n",
              "      <td>0</td>\n",
              "      <td>2</td>\n",
              "      <td>7758</td>\n",
              "      <td>9</td>\n",
              "      <td>31840</td>\n",
              "      <td>...</td>\n",
              "      <td>False</td>\n",
              "      <td>False</td>\n",
              "      <td>False</td>\n",
              "      <td>False</td>\n",
              "      <td>True</td>\n",
              "      <td>False</td>\n",
              "      <td>False</td>\n",
              "      <td>False</td>\n",
              "      <td>False</td>\n",
              "      <td>False</td>\n",
              "    </tr>\n",
              "    <tr>\n",
              "      <th>4</th>\n",
              "      <td>12613647</td>\n",
              "      <td>85435</td>\n",
              "      <td>157839</td>\n",
              "      <td>17183</td>\n",
              "      <td>2310</td>\n",
              "      <td>0</td>\n",
              "      <td>2</td>\n",
              "      <td>7758</td>\n",
              "      <td>9</td>\n",
              "      <td>21344</td>\n",
              "      <td>...</td>\n",
              "      <td>False</td>\n",
              "      <td>False</td>\n",
              "      <td>False</td>\n",
              "      <td>False</td>\n",
              "      <td>True</td>\n",
              "      <td>False</td>\n",
              "      <td>False</td>\n",
              "      <td>False</td>\n",
              "      <td>False</td>\n",
              "      <td>False</td>\n",
              "    </tr>\n",
              "  </tbody>\n",
              "</table>\n",
              "<p>5 rows × 22 columns</p>\n",
              "</div>\n",
              "      <button class=\"colab-df-convert\" onclick=\"convertToInteractive('df-1071c313-0785-4568-999a-47ed9f9238dd')\"\n",
              "              title=\"Convert this dataframe to an interactive table.\"\n",
              "              style=\"display:none;\">\n",
              "        \n",
              "  <svg xmlns=\"http://www.w3.org/2000/svg\" height=\"24px\"viewBox=\"0 0 24 24\"\n",
              "       width=\"24px\">\n",
              "    <path d=\"M0 0h24v24H0V0z\" fill=\"none\"/>\n",
              "    <path d=\"M18.56 5.44l.94 2.06.94-2.06 2.06-.94-2.06-.94-.94-2.06-.94 2.06-2.06.94zm-11 1L8.5 8.5l.94-2.06 2.06-.94-2.06-.94L8.5 2.5l-.94 2.06-2.06.94zm10 10l.94 2.06.94-2.06 2.06-.94-2.06-.94-.94-2.06-.94 2.06-2.06.94z\"/><path d=\"M17.41 7.96l-1.37-1.37c-.4-.4-.92-.59-1.43-.59-.52 0-1.04.2-1.43.59L10.3 9.45l-7.72 7.72c-.78.78-.78 2.05 0 2.83L4 21.41c.39.39.9.59 1.41.59.51 0 1.02-.2 1.41-.59l7.78-7.78 2.81-2.81c.8-.78.8-2.07 0-2.86zM5.41 20L4 18.59l7.72-7.72 1.47 1.35L5.41 20z\"/>\n",
              "  </svg>\n",
              "      </button>\n",
              "      \n",
              "  <style>\n",
              "    .colab-df-container {\n",
              "      display:flex;\n",
              "      flex-wrap:wrap;\n",
              "      gap: 12px;\n",
              "    }\n",
              "\n",
              "    .colab-df-convert {\n",
              "      background-color: #E8F0FE;\n",
              "      border: none;\n",
              "      border-radius: 50%;\n",
              "      cursor: pointer;\n",
              "      display: none;\n",
              "      fill: #1967D2;\n",
              "      height: 32px;\n",
              "      padding: 0 0 0 0;\n",
              "      width: 32px;\n",
              "    }\n",
              "\n",
              "    .colab-df-convert:hover {\n",
              "      background-color: #E2EBFA;\n",
              "      box-shadow: 0px 1px 2px rgba(60, 64, 67, 0.3), 0px 1px 3px 1px rgba(60, 64, 67, 0.15);\n",
              "      fill: #174EA6;\n",
              "    }\n",
              "\n",
              "    [theme=dark] .colab-df-convert {\n",
              "      background-color: #3B4455;\n",
              "      fill: #D2E3FC;\n",
              "    }\n",
              "\n",
              "    [theme=dark] .colab-df-convert:hover {\n",
              "      background-color: #434B5C;\n",
              "      box-shadow: 0px 1px 3px 1px rgba(0, 0, 0, 0.15);\n",
              "      filter: drop-shadow(0px 1px 2px rgba(0, 0, 0, 0.3));\n",
              "      fill: #FFFFFF;\n",
              "    }\n",
              "  </style>\n",
              "\n",
              "      <script>\n",
              "        const buttonEl =\n",
              "          document.querySelector('#df-1071c313-0785-4568-999a-47ed9f9238dd button.colab-df-convert');\n",
              "        buttonEl.style.display =\n",
              "          google.colab.kernel.accessAllowed ? 'block' : 'none';\n",
              "\n",
              "        async function convertToInteractive(key) {\n",
              "          const element = document.querySelector('#df-1071c313-0785-4568-999a-47ed9f9238dd');\n",
              "          const dataTable =\n",
              "            await google.colab.kernel.invokeFunction('convertToInteractive',\n",
              "                                                     [key], {});\n",
              "          if (!dataTable) return;\n",
              "\n",
              "          const docLinkHtml = 'Like what you see? Visit the ' +\n",
              "            '<a target=\"_blank\" href=https://colab.research.google.com/notebooks/data_table.ipynb>data table notebook</a>'\n",
              "            + ' to learn more about interactive tables.';\n",
              "          element.innerHTML = '';\n",
              "          dataTable['output_type'] = 'display_data';\n",
              "          await google.colab.output.renderOutput(dataTable, element);\n",
              "          const docLink = document.createElement('div');\n",
              "          docLink.innerHTML = docLinkHtml;\n",
              "          element.appendChild(docLink);\n",
              "        }\n",
              "      </script>\n",
              "    </div>\n",
              "  </div>\n",
              "  "
            ]
          },
          "metadata": {},
          "execution_count": 176
        }
      ]
    },
    {
      "cell_type": "markdown",
      "source": [
        "# **Model Preparation**"
      ],
      "metadata": {
        "id": "a9yPEdynqeuo"
      }
    },
    {
      "cell_type": "markdown",
      "source": [
        "**(I) Split the data into X and Y**"
      ],
      "metadata": {
        "id": "to3LUPTGq1dt"
      }
    },
    {
      "cell_type": "code",
      "source": [
        "X = df_copy.drop(columns=[\"SalaryNormalized\"],axis=1) # We are dropping \"SalaryNormalized\" because this is the variable we are aiming for.\n",
        "y = df_copy[\"SalaryNormalized\"]                       # Our target varible"
      ],
      "metadata": {
        "id": "ojgdjhO-qdoT"
      },
      "execution_count": 177,
      "outputs": []
    },
    {
      "cell_type": "code",
      "source": [
        "X"
      ],
      "metadata": {
        "colab": {
          "base_uri": "https://localhost:8080/",
          "height": 488
        },
        "id": "JLvlweg8fUKN",
        "outputId": "390fb4af-32e0-410e-ba77-40746758b3fa"
      },
      "execution_count": 178,
      "outputs": [
        {
          "output_type": "execute_result",
          "data": {
            "text/plain": [
              "              Id   Title  FullDescription  LocationRaw  LocationNormalized  \\\n",
              "0       12612628   39227            68301         5178                 751   \n",
              "1       12612830  121388           196351         6881                 987   \n",
              "2       12612844   73486           117824         7630                1069   \n",
              "3       12613049   39228            68300        17183                2310   \n",
              "4       12613647   85435           157839        17183                2310   \n",
              "...          ...     ...              ...          ...                 ...   \n",
              "244763  72705211  123566           159877        17363                2329   \n",
              "244764  72705212  123556           159879        17363                2329   \n",
              "244765  72705213   36446           159864        17363                2329   \n",
              "244766  72705216  103002           159865        19775                2643   \n",
              "244767  72705235    3379           211800         8334                1175   \n",
              "\n",
              "        ContractType  ContractTime  Company  Category  SalaryRaw  ...  \\\n",
              "0                  0             2     7758         9      21344  ...   \n",
              "1                  0             2     7758         9      32427  ...   \n",
              "2                  0             2     7758         9      21539  ...   \n",
              "3                  0             2     7758         9      31840  ...   \n",
              "4                  0             2     7758         9      21344  ...   \n",
              "...              ...           ...      ...       ...        ...  ...   \n",
              "244763             0             1        0        27      59081  ...   \n",
              "244764             0             1        0        27      59081  ...   \n",
              "244765             0             1        0        27      59081  ...   \n",
              "244766             0             1        0        27      59104  ...   \n",
              "244767             0             2        0        27      54848  ...   \n",
              "\n",
              "        Titleis_missing  FullDescriptionis_missing  LocationRawis_missing  \\\n",
              "0                 False                      False                  False   \n",
              "1                 False                      False                  False   \n",
              "2                 False                      False                  False   \n",
              "3                 False                      False                  False   \n",
              "4                 False                      False                  False   \n",
              "...                 ...                        ...                    ...   \n",
              "244763            False                      False                  False   \n",
              "244764            False                      False                  False   \n",
              "244765            False                      False                  False   \n",
              "244766            False                      False                  False   \n",
              "244767            False                      False                  False   \n",
              "\n",
              "        LocationNormalizedis_missing  ContractTypeis_missing  \\\n",
              "0                              False                    True   \n",
              "1                              False                    True   \n",
              "2                              False                    True   \n",
              "3                              False                    True   \n",
              "4                              False                    True   \n",
              "...                              ...                     ...   \n",
              "244763                         False                    True   \n",
              "244764                         False                    True   \n",
              "244765                         False                    True   \n",
              "244766                         False                    True   \n",
              "244767                         False                    True   \n",
              "\n",
              "        ContractTimeis_missing  Companyis_missing  Categoryis_missing  \\\n",
              "0                        False              False               False   \n",
              "1                        False              False               False   \n",
              "2                        False              False               False   \n",
              "3                        False              False               False   \n",
              "4                        False              False               False   \n",
              "...                        ...                ...                 ...   \n",
              "244763                   False               True               False   \n",
              "244764                   False               True               False   \n",
              "244765                   False               True               False   \n",
              "244766                   False               True               False   \n",
              "244767                   False               True               False   \n",
              "\n",
              "        SalaryRawis_missing  SourceNameis_missing  \n",
              "0                     False                 False  \n",
              "1                     False                 False  \n",
              "2                     False                 False  \n",
              "3                     False                 False  \n",
              "4                     False                 False  \n",
              "...                     ...                   ...  \n",
              "244763                False                 False  \n",
              "244764                False                 False  \n",
              "244765                False                 False  \n",
              "244766                False                 False  \n",
              "244767                False                 False  \n",
              "\n",
              "[244768 rows x 21 columns]"
            ],
            "text/html": [
              "\n",
              "  <div id=\"df-e9d69b0b-e6b0-440c-bd96-ab99cb557554\">\n",
              "    <div class=\"colab-df-container\">\n",
              "      <div>\n",
              "<style scoped>\n",
              "    .dataframe tbody tr th:only-of-type {\n",
              "        vertical-align: middle;\n",
              "    }\n",
              "\n",
              "    .dataframe tbody tr th {\n",
              "        vertical-align: top;\n",
              "    }\n",
              "\n",
              "    .dataframe thead th {\n",
              "        text-align: right;\n",
              "    }\n",
              "</style>\n",
              "<table border=\"1\" class=\"dataframe\">\n",
              "  <thead>\n",
              "    <tr style=\"text-align: right;\">\n",
              "      <th></th>\n",
              "      <th>Id</th>\n",
              "      <th>Title</th>\n",
              "      <th>FullDescription</th>\n",
              "      <th>LocationRaw</th>\n",
              "      <th>LocationNormalized</th>\n",
              "      <th>ContractType</th>\n",
              "      <th>ContractTime</th>\n",
              "      <th>Company</th>\n",
              "      <th>Category</th>\n",
              "      <th>SalaryRaw</th>\n",
              "      <th>...</th>\n",
              "      <th>Titleis_missing</th>\n",
              "      <th>FullDescriptionis_missing</th>\n",
              "      <th>LocationRawis_missing</th>\n",
              "      <th>LocationNormalizedis_missing</th>\n",
              "      <th>ContractTypeis_missing</th>\n",
              "      <th>ContractTimeis_missing</th>\n",
              "      <th>Companyis_missing</th>\n",
              "      <th>Categoryis_missing</th>\n",
              "      <th>SalaryRawis_missing</th>\n",
              "      <th>SourceNameis_missing</th>\n",
              "    </tr>\n",
              "  </thead>\n",
              "  <tbody>\n",
              "    <tr>\n",
              "      <th>0</th>\n",
              "      <td>12612628</td>\n",
              "      <td>39227</td>\n",
              "      <td>68301</td>\n",
              "      <td>5178</td>\n",
              "      <td>751</td>\n",
              "      <td>0</td>\n",
              "      <td>2</td>\n",
              "      <td>7758</td>\n",
              "      <td>9</td>\n",
              "      <td>21344</td>\n",
              "      <td>...</td>\n",
              "      <td>False</td>\n",
              "      <td>False</td>\n",
              "      <td>False</td>\n",
              "      <td>False</td>\n",
              "      <td>True</td>\n",
              "      <td>False</td>\n",
              "      <td>False</td>\n",
              "      <td>False</td>\n",
              "      <td>False</td>\n",
              "      <td>False</td>\n",
              "    </tr>\n",
              "    <tr>\n",
              "      <th>1</th>\n",
              "      <td>12612830</td>\n",
              "      <td>121388</td>\n",
              "      <td>196351</td>\n",
              "      <td>6881</td>\n",
              "      <td>987</td>\n",
              "      <td>0</td>\n",
              "      <td>2</td>\n",
              "      <td>7758</td>\n",
              "      <td>9</td>\n",
              "      <td>32427</td>\n",
              "      <td>...</td>\n",
              "      <td>False</td>\n",
              "      <td>False</td>\n",
              "      <td>False</td>\n",
              "      <td>False</td>\n",
              "      <td>True</td>\n",
              "      <td>False</td>\n",
              "      <td>False</td>\n",
              "      <td>False</td>\n",
              "      <td>False</td>\n",
              "      <td>False</td>\n",
              "    </tr>\n",
              "    <tr>\n",
              "      <th>2</th>\n",
              "      <td>12612844</td>\n",
              "      <td>73486</td>\n",
              "      <td>117824</td>\n",
              "      <td>7630</td>\n",
              "      <td>1069</td>\n",
              "      <td>0</td>\n",
              "      <td>2</td>\n",
              "      <td>7758</td>\n",
              "      <td>9</td>\n",
              "      <td>21539</td>\n",
              "      <td>...</td>\n",
              "      <td>False</td>\n",
              "      <td>False</td>\n",
              "      <td>False</td>\n",
              "      <td>False</td>\n",
              "      <td>True</td>\n",
              "      <td>False</td>\n",
              "      <td>False</td>\n",
              "      <td>False</td>\n",
              "      <td>False</td>\n",
              "      <td>False</td>\n",
              "    </tr>\n",
              "    <tr>\n",
              "      <th>3</th>\n",
              "      <td>12613049</td>\n",
              "      <td>39228</td>\n",
              "      <td>68300</td>\n",
              "      <td>17183</td>\n",
              "      <td>2310</td>\n",
              "      <td>0</td>\n",
              "      <td>2</td>\n",
              "      <td>7758</td>\n",
              "      <td>9</td>\n",
              "      <td>31840</td>\n",
              "      <td>...</td>\n",
              "      <td>False</td>\n",
              "      <td>False</td>\n",
              "      <td>False</td>\n",
              "      <td>False</td>\n",
              "      <td>True</td>\n",
              "      <td>False</td>\n",
              "      <td>False</td>\n",
              "      <td>False</td>\n",
              "      <td>False</td>\n",
              "      <td>False</td>\n",
              "    </tr>\n",
              "    <tr>\n",
              "      <th>4</th>\n",
              "      <td>12613647</td>\n",
              "      <td>85435</td>\n",
              "      <td>157839</td>\n",
              "      <td>17183</td>\n",
              "      <td>2310</td>\n",
              "      <td>0</td>\n",
              "      <td>2</td>\n",
              "      <td>7758</td>\n",
              "      <td>9</td>\n",
              "      <td>21344</td>\n",
              "      <td>...</td>\n",
              "      <td>False</td>\n",
              "      <td>False</td>\n",
              "      <td>False</td>\n",
              "      <td>False</td>\n",
              "      <td>True</td>\n",
              "      <td>False</td>\n",
              "      <td>False</td>\n",
              "      <td>False</td>\n",
              "      <td>False</td>\n",
              "      <td>False</td>\n",
              "    </tr>\n",
              "    <tr>\n",
              "      <th>...</th>\n",
              "      <td>...</td>\n",
              "      <td>...</td>\n",
              "      <td>...</td>\n",
              "      <td>...</td>\n",
              "      <td>...</td>\n",
              "      <td>...</td>\n",
              "      <td>...</td>\n",
              "      <td>...</td>\n",
              "      <td>...</td>\n",
              "      <td>...</td>\n",
              "      <td>...</td>\n",
              "      <td>...</td>\n",
              "      <td>...</td>\n",
              "      <td>...</td>\n",
              "      <td>...</td>\n",
              "      <td>...</td>\n",
              "      <td>...</td>\n",
              "      <td>...</td>\n",
              "      <td>...</td>\n",
              "      <td>...</td>\n",
              "      <td>...</td>\n",
              "    </tr>\n",
              "    <tr>\n",
              "      <th>244763</th>\n",
              "      <td>72705211</td>\n",
              "      <td>123566</td>\n",
              "      <td>159877</td>\n",
              "      <td>17363</td>\n",
              "      <td>2329</td>\n",
              "      <td>0</td>\n",
              "      <td>1</td>\n",
              "      <td>0</td>\n",
              "      <td>27</td>\n",
              "      <td>59081</td>\n",
              "      <td>...</td>\n",
              "      <td>False</td>\n",
              "      <td>False</td>\n",
              "      <td>False</td>\n",
              "      <td>False</td>\n",
              "      <td>True</td>\n",
              "      <td>False</td>\n",
              "      <td>True</td>\n",
              "      <td>False</td>\n",
              "      <td>False</td>\n",
              "      <td>False</td>\n",
              "    </tr>\n",
              "    <tr>\n",
              "      <th>244764</th>\n",
              "      <td>72705212</td>\n",
              "      <td>123556</td>\n",
              "      <td>159879</td>\n",
              "      <td>17363</td>\n",
              "      <td>2329</td>\n",
              "      <td>0</td>\n",
              "      <td>1</td>\n",
              "      <td>0</td>\n",
              "      <td>27</td>\n",
              "      <td>59081</td>\n",
              "      <td>...</td>\n",
              "      <td>False</td>\n",
              "      <td>False</td>\n",
              "      <td>False</td>\n",
              "      <td>False</td>\n",
              "      <td>True</td>\n",
              "      <td>False</td>\n",
              "      <td>True</td>\n",
              "      <td>False</td>\n",
              "      <td>False</td>\n",
              "      <td>False</td>\n",
              "    </tr>\n",
              "    <tr>\n",
              "      <th>244765</th>\n",
              "      <td>72705213</td>\n",
              "      <td>36446</td>\n",
              "      <td>159864</td>\n",
              "      <td>17363</td>\n",
              "      <td>2329</td>\n",
              "      <td>0</td>\n",
              "      <td>1</td>\n",
              "      <td>0</td>\n",
              "      <td>27</td>\n",
              "      <td>59081</td>\n",
              "      <td>...</td>\n",
              "      <td>False</td>\n",
              "      <td>False</td>\n",
              "      <td>False</td>\n",
              "      <td>False</td>\n",
              "      <td>True</td>\n",
              "      <td>False</td>\n",
              "      <td>True</td>\n",
              "      <td>False</td>\n",
              "      <td>False</td>\n",
              "      <td>False</td>\n",
              "    </tr>\n",
              "    <tr>\n",
              "      <th>244766</th>\n",
              "      <td>72705216</td>\n",
              "      <td>103002</td>\n",
              "      <td>159865</td>\n",
              "      <td>19775</td>\n",
              "      <td>2643</td>\n",
              "      <td>0</td>\n",
              "      <td>1</td>\n",
              "      <td>0</td>\n",
              "      <td>27</td>\n",
              "      <td>59104</td>\n",
              "      <td>...</td>\n",
              "      <td>False</td>\n",
              "      <td>False</td>\n",
              "      <td>False</td>\n",
              "      <td>False</td>\n",
              "      <td>True</td>\n",
              "      <td>False</td>\n",
              "      <td>True</td>\n",
              "      <td>False</td>\n",
              "      <td>False</td>\n",
              "      <td>False</td>\n",
              "    </tr>\n",
              "    <tr>\n",
              "      <th>244767</th>\n",
              "      <td>72705235</td>\n",
              "      <td>3379</td>\n",
              "      <td>211800</td>\n",
              "      <td>8334</td>\n",
              "      <td>1175</td>\n",
              "      <td>0</td>\n",
              "      <td>2</td>\n",
              "      <td>0</td>\n",
              "      <td>27</td>\n",
              "      <td>54848</td>\n",
              "      <td>...</td>\n",
              "      <td>False</td>\n",
              "      <td>False</td>\n",
              "      <td>False</td>\n",
              "      <td>False</td>\n",
              "      <td>True</td>\n",
              "      <td>False</td>\n",
              "      <td>True</td>\n",
              "      <td>False</td>\n",
              "      <td>False</td>\n",
              "      <td>False</td>\n",
              "    </tr>\n",
              "  </tbody>\n",
              "</table>\n",
              "<p>244768 rows × 21 columns</p>\n",
              "</div>\n",
              "      <button class=\"colab-df-convert\" onclick=\"convertToInteractive('df-e9d69b0b-e6b0-440c-bd96-ab99cb557554')\"\n",
              "              title=\"Convert this dataframe to an interactive table.\"\n",
              "              style=\"display:none;\">\n",
              "        \n",
              "  <svg xmlns=\"http://www.w3.org/2000/svg\" height=\"24px\"viewBox=\"0 0 24 24\"\n",
              "       width=\"24px\">\n",
              "    <path d=\"M0 0h24v24H0V0z\" fill=\"none\"/>\n",
              "    <path d=\"M18.56 5.44l.94 2.06.94-2.06 2.06-.94-2.06-.94-.94-2.06-.94 2.06-2.06.94zm-11 1L8.5 8.5l.94-2.06 2.06-.94-2.06-.94L8.5 2.5l-.94 2.06-2.06.94zm10 10l.94 2.06.94-2.06 2.06-.94-2.06-.94-.94-2.06-.94 2.06-2.06.94z\"/><path d=\"M17.41 7.96l-1.37-1.37c-.4-.4-.92-.59-1.43-.59-.52 0-1.04.2-1.43.59L10.3 9.45l-7.72 7.72c-.78.78-.78 2.05 0 2.83L4 21.41c.39.39.9.59 1.41.59.51 0 1.02-.2 1.41-.59l7.78-7.78 2.81-2.81c.8-.78.8-2.07 0-2.86zM5.41 20L4 18.59l7.72-7.72 1.47 1.35L5.41 20z\"/>\n",
              "  </svg>\n",
              "      </button>\n",
              "      \n",
              "  <style>\n",
              "    .colab-df-container {\n",
              "      display:flex;\n",
              "      flex-wrap:wrap;\n",
              "      gap: 12px;\n",
              "    }\n",
              "\n",
              "    .colab-df-convert {\n",
              "      background-color: #E8F0FE;\n",
              "      border: none;\n",
              "      border-radius: 50%;\n",
              "      cursor: pointer;\n",
              "      display: none;\n",
              "      fill: #1967D2;\n",
              "      height: 32px;\n",
              "      padding: 0 0 0 0;\n",
              "      width: 32px;\n",
              "    }\n",
              "\n",
              "    .colab-df-convert:hover {\n",
              "      background-color: #E2EBFA;\n",
              "      box-shadow: 0px 1px 2px rgba(60, 64, 67, 0.3), 0px 1px 3px 1px rgba(60, 64, 67, 0.15);\n",
              "      fill: #174EA6;\n",
              "    }\n",
              "\n",
              "    [theme=dark] .colab-df-convert {\n",
              "      background-color: #3B4455;\n",
              "      fill: #D2E3FC;\n",
              "    }\n",
              "\n",
              "    [theme=dark] .colab-df-convert:hover {\n",
              "      background-color: #434B5C;\n",
              "      box-shadow: 0px 1px 3px 1px rgba(0, 0, 0, 0.15);\n",
              "      filter: drop-shadow(0px 1px 2px rgba(0, 0, 0, 0.3));\n",
              "      fill: #FFFFFF;\n",
              "    }\n",
              "  </style>\n",
              "\n",
              "      <script>\n",
              "        const buttonEl =\n",
              "          document.querySelector('#df-e9d69b0b-e6b0-440c-bd96-ab99cb557554 button.colab-df-convert');\n",
              "        buttonEl.style.display =\n",
              "          google.colab.kernel.accessAllowed ? 'block' : 'none';\n",
              "\n",
              "        async function convertToInteractive(key) {\n",
              "          const element = document.querySelector('#df-e9d69b0b-e6b0-440c-bd96-ab99cb557554');\n",
              "          const dataTable =\n",
              "            await google.colab.kernel.invokeFunction('convertToInteractive',\n",
              "                                                     [key], {});\n",
              "          if (!dataTable) return;\n",
              "\n",
              "          const docLinkHtml = 'Like what you see? Visit the ' +\n",
              "            '<a target=\"_blank\" href=https://colab.research.google.com/notebooks/data_table.ipynb>data table notebook</a>'\n",
              "            + ' to learn more about interactive tables.';\n",
              "          element.innerHTML = '';\n",
              "          dataTable['output_type'] = 'display_data';\n",
              "          await google.colab.output.renderOutput(dataTable, element);\n",
              "          const docLink = document.createElement('div');\n",
              "          docLink.innerHTML = docLinkHtml;\n",
              "          element.appendChild(docLink);\n",
              "        }\n",
              "      </script>\n",
              "    </div>\n",
              "  </div>\n",
              "  "
            ]
          },
          "metadata": {},
          "execution_count": 178
        }
      ]
    },
    {
      "cell_type": "markdown",
      "source": [
        "**(II) train and test split**"
      ],
      "metadata": {
        "id": "Gz9eat_urrQm"
      }
    },
    {
      "cell_type": "code",
      "source": [
        "X_train,X_test,y_train,y_test = train_test_split(X,y,test_size=0.25,random_state=0) # We are splittiing data the 75:25 ratio in this case."
      ],
      "metadata": {
        "id": "oCk5UpCSr--F"
      },
      "execution_count": 179,
      "outputs": []
    },
    {
      "cell_type": "markdown",
      "source": [
        "**(III) Building Random Forest Regression**"
      ],
      "metadata": {
        "id": "u1YyPYHfsmeS"
      }
    },
    {
      "cell_type": "code",
      "source": [
        "model = RandomForestRegressor(n_jobs=-1) # creating the instance"
      ],
      "metadata": {
        "id": "4tDf_FHbs5jS"
      },
      "execution_count": 180,
      "outputs": []
    },
    {
      "cell_type": "markdown",
      "source": [
        "**(IV) fitting the model**"
      ],
      "metadata": {
        "id": "Gpb_I9WrtDBI"
      }
    },
    {
      "cell_type": "code",
      "source": [
        "model.fit(X_train,y_train) # fitting the train data"
      ],
      "metadata": {
        "colab": {
          "base_uri": "https://localhost:8080/",
          "height": 75
        },
        "id": "wekl3SXhs-jL",
        "outputId": "446ae7a4-fe7a-44fc-eac0-d7d1654d5bd0"
      },
      "execution_count": 181,
      "outputs": [
        {
          "output_type": "execute_result",
          "data": {
            "text/plain": [
              "RandomForestRegressor(n_jobs=-1)"
            ],
            "text/html": [
              "<style>#sk-container-id-5 {color: black;background-color: white;}#sk-container-id-5 pre{padding: 0;}#sk-container-id-5 div.sk-toggleable {background-color: white;}#sk-container-id-5 label.sk-toggleable__label {cursor: pointer;display: block;width: 100%;margin-bottom: 0;padding: 0.3em;box-sizing: border-box;text-align: center;}#sk-container-id-5 label.sk-toggleable__label-arrow:before {content: \"▸\";float: left;margin-right: 0.25em;color: #696969;}#sk-container-id-5 label.sk-toggleable__label-arrow:hover:before {color: black;}#sk-container-id-5 div.sk-estimator:hover label.sk-toggleable__label-arrow:before {color: black;}#sk-container-id-5 div.sk-toggleable__content {max-height: 0;max-width: 0;overflow: hidden;text-align: left;background-color: #f0f8ff;}#sk-container-id-5 div.sk-toggleable__content pre {margin: 0.2em;color: black;border-radius: 0.25em;background-color: #f0f8ff;}#sk-container-id-5 input.sk-toggleable__control:checked~div.sk-toggleable__content {max-height: 200px;max-width: 100%;overflow: auto;}#sk-container-id-5 input.sk-toggleable__control:checked~label.sk-toggleable__label-arrow:before {content: \"▾\";}#sk-container-id-5 div.sk-estimator input.sk-toggleable__control:checked~label.sk-toggleable__label {background-color: #d4ebff;}#sk-container-id-5 div.sk-label input.sk-toggleable__control:checked~label.sk-toggleable__label {background-color: #d4ebff;}#sk-container-id-5 input.sk-hidden--visually {border: 0;clip: rect(1px 1px 1px 1px);clip: rect(1px, 1px, 1px, 1px);height: 1px;margin: -1px;overflow: hidden;padding: 0;position: absolute;width: 1px;}#sk-container-id-5 div.sk-estimator {font-family: monospace;background-color: #f0f8ff;border: 1px dotted black;border-radius: 0.25em;box-sizing: border-box;margin-bottom: 0.5em;}#sk-container-id-5 div.sk-estimator:hover {background-color: #d4ebff;}#sk-container-id-5 div.sk-parallel-item::after {content: \"\";width: 100%;border-bottom: 1px solid gray;flex-grow: 1;}#sk-container-id-5 div.sk-label:hover label.sk-toggleable__label {background-color: #d4ebff;}#sk-container-id-5 div.sk-serial::before {content: \"\";position: absolute;border-left: 1px solid gray;box-sizing: border-box;top: 0;bottom: 0;left: 50%;z-index: 0;}#sk-container-id-5 div.sk-serial {display: flex;flex-direction: column;align-items: center;background-color: white;padding-right: 0.2em;padding-left: 0.2em;position: relative;}#sk-container-id-5 div.sk-item {position: relative;z-index: 1;}#sk-container-id-5 div.sk-parallel {display: flex;align-items: stretch;justify-content: center;background-color: white;position: relative;}#sk-container-id-5 div.sk-item::before, #sk-container-id-5 div.sk-parallel-item::before {content: \"\";position: absolute;border-left: 1px solid gray;box-sizing: border-box;top: 0;bottom: 0;left: 50%;z-index: -1;}#sk-container-id-5 div.sk-parallel-item {display: flex;flex-direction: column;z-index: 1;position: relative;background-color: white;}#sk-container-id-5 div.sk-parallel-item:first-child::after {align-self: flex-end;width: 50%;}#sk-container-id-5 div.sk-parallel-item:last-child::after {align-self: flex-start;width: 50%;}#sk-container-id-5 div.sk-parallel-item:only-child::after {width: 0;}#sk-container-id-5 div.sk-dashed-wrapped {border: 1px dashed gray;margin: 0 0.4em 0.5em 0.4em;box-sizing: border-box;padding-bottom: 0.4em;background-color: white;}#sk-container-id-5 div.sk-label label {font-family: monospace;font-weight: bold;display: inline-block;line-height: 1.2em;}#sk-container-id-5 div.sk-label-container {text-align: center;}#sk-container-id-5 div.sk-container {/* jupyter's `normalize.less` sets `[hidden] { display: none; }` but bootstrap.min.css set `[hidden] { display: none !important; }` so we also need the `!important` here to be able to override the default hidden behavior on the sphinx rendered scikit-learn.org. See: https://github.com/scikit-learn/scikit-learn/issues/21755 */display: inline-block !important;position: relative;}#sk-container-id-5 div.sk-text-repr-fallback {display: none;}</style><div id=\"sk-container-id-5\" class=\"sk-top-container\"><div class=\"sk-text-repr-fallback\"><pre>RandomForestRegressor(n_jobs=-1)</pre><b>In a Jupyter environment, please rerun this cell to show the HTML representation or trust the notebook. <br />On GitHub, the HTML representation is unable to render, please try loading this page with nbviewer.org.</b></div><div class=\"sk-container\" hidden><div class=\"sk-item\"><div class=\"sk-estimator sk-toggleable\"><input class=\"sk-toggleable__control sk-hidden--visually\" id=\"sk-estimator-id-7\" type=\"checkbox\" checked><label for=\"sk-estimator-id-7\" class=\"sk-toggleable__label sk-toggleable__label-arrow\">RandomForestRegressor</label><div class=\"sk-toggleable__content\"><pre>RandomForestRegressor(n_jobs=-1)</pre></div></div></div></div></div>"
            ]
          },
          "metadata": {},
          "execution_count": 181
        }
      ]
    },
    {
      "cell_type": "markdown",
      "source": [
        "**(V) Evaluation of the model**\n",
        "* evaluating the model using **Mean Absolute Error**(Note: The evolution metrics were mentioned the competition itself)\n",
        "\n",
        "**Mean Absolute Error (MAE)**\n",
        "\n",
        "* The Mean Absolute Error (MAE) measures the average absolute magnitude between the actual values and the predicted values by regression modelc,\n",
        "\n",
        "                     MAE = (1/n) * Σ|yi — xi|\n",
        "* n = total numbers of observation\n",
        "* yi = actual value for the ith observation\n",
        "* xi = predicted value for the ith observation"
      ],
      "metadata": {
        "id": "aQzkVCmut_WE"
      }
    },
    {
      "cell_type": "code",
      "source": [
        "y_pred = model.predict(X_test)"
      ],
      "metadata": {
        "id": "EDe19Ib-ORTA"
      },
      "execution_count": 184,
      "outputs": []
    },
    {
      "cell_type": "code",
      "source": [
        "mae_rand_forest = mean_absolute_error(y_test,y_pred) # checking the model preformance"
      ],
      "metadata": {
        "id": "EfbxfoSgulsz"
      },
      "execution_count": 185,
      "outputs": []
    },
    {
      "cell_type": "code",
      "source": [
        "print(mae_rand_forest)"
      ],
      "metadata": {
        "colab": {
          "base_uri": "https://localhost:8080/"
        },
        "id": "xbTLNvbUuxuF",
        "outputId": "47e8a0a1-7665-4156-da83-f59471d22f03"
      },
      "execution_count": 186,
      "outputs": [
        {
          "output_type": "stream",
          "name": "stdout",
          "text": [
            "1777.5512464047588\n"
          ]
        }
      ]
    },
    {
      "cell_type": "markdown",
      "source": [
        "* **The model predicts more reliably in general the lower the MAE. This result was obtained before hyper parameter tuning: Mean Absolute Error = 1777.5512.**"
      ],
      "metadata": {
        "id": "_sN2Yf_e7yCX"
      }
    },
    {
      "cell_type": "markdown",
      "source": [
        "**(VI) Hyerparameter tuning with RandomizedSearchCV**"
      ],
      "metadata": {
        "id": "lDDLFz6nwNlg"
      }
    },
    {
      "cell_type": "code",
      "source": [
        "# selecting the best parameters with the randomizedsearchcv\n",
        "np.random.seed(42) \n",
        "grid = {\n",
        "    \"n_estimators\":np.arange(10,100,10),\n",
        "    \"max_depth\":[None,3,5,10],\n",
        "    \"min_samples_split\":np.arange(2,20,2),\n",
        "    \"min_samples_leaf\":np.arange(1,20,2),\n",
        "    \"max_features\": [0.5,1,\"sqrt\",\"auto\"],\n",
        "    \"max_samples\":[10000,12000,15000,20000]\n",
        "}"
      ],
      "metadata": {
        "id": "an5ZKlLZwUJ8"
      },
      "execution_count": 187,
      "outputs": []
    },
    {
      "cell_type": "code",
      "source": [
        "# creating the instance\n",
        "rs_model = RandomizedSearchCV(\n",
        "RandomForestRegressor(n_jobs=-1,\n",
        "                     random_state=42),\n",
        "                    param_distributions = grid,\n",
        "                     n_iter=5,\n",
        "                    cv=5,\n",
        "                    verbose=True)"
      ],
      "metadata": {
        "id": "Pv12l6sKwc0X"
      },
      "execution_count": 188,
      "outputs": []
    },
    {
      "cell_type": "markdown",
      "source": [
        "**(VII) Fit RandomizedSearchCV Model**"
      ],
      "metadata": {
        "id": "BQF_n4dtxWsl"
      }
    },
    {
      "cell_type": "code",
      "source": [
        "rs_model.fit(X_train,y_train) # fitting the model after specify the hyperparamerter"
      ],
      "metadata": {
        "colab": {
          "base_uri": "https://localhost:8080/",
          "height": 502
        },
        "id": "whc0HheaxTSG",
        "outputId": "cc1e3504-ce84-4f4a-b867-7ed092d09ae9"
      },
      "execution_count": 189,
      "outputs": [
        {
          "output_type": "stream",
          "name": "stdout",
          "text": [
            "Fitting 5 folds for each of 5 candidates, totalling 25 fits\n"
          ]
        },
        {
          "output_type": "stream",
          "name": "stderr",
          "text": [
            "/usr/local/lib/python3.9/dist-packages/sklearn/ensemble/_forest.py:413: FutureWarning: `max_features='auto'` has been deprecated in 1.1 and will be removed in 1.3. To keep the past behaviour, explicitly set `max_features=1.0` or remove this parameter as it is also the default value for RandomForestRegressors and ExtraTreesRegressors.\n",
            "  warn(\n",
            "/usr/local/lib/python3.9/dist-packages/sklearn/ensemble/_forest.py:413: FutureWarning: `max_features='auto'` has been deprecated in 1.1 and will be removed in 1.3. To keep the past behaviour, explicitly set `max_features=1.0` or remove this parameter as it is also the default value for RandomForestRegressors and ExtraTreesRegressors.\n",
            "  warn(\n",
            "/usr/local/lib/python3.9/dist-packages/sklearn/ensemble/_forest.py:413: FutureWarning: `max_features='auto'` has been deprecated in 1.1 and will be removed in 1.3. To keep the past behaviour, explicitly set `max_features=1.0` or remove this parameter as it is also the default value for RandomForestRegressors and ExtraTreesRegressors.\n",
            "  warn(\n",
            "/usr/local/lib/python3.9/dist-packages/sklearn/ensemble/_forest.py:413: FutureWarning: `max_features='auto'` has been deprecated in 1.1 and will be removed in 1.3. To keep the past behaviour, explicitly set `max_features=1.0` or remove this parameter as it is also the default value for RandomForestRegressors and ExtraTreesRegressors.\n",
            "  warn(\n",
            "/usr/local/lib/python3.9/dist-packages/sklearn/ensemble/_forest.py:413: FutureWarning: `max_features='auto'` has been deprecated in 1.1 and will be removed in 1.3. To keep the past behaviour, explicitly set `max_features=1.0` or remove this parameter as it is also the default value for RandomForestRegressors and ExtraTreesRegressors.\n",
            "  warn(\n",
            "/usr/local/lib/python3.9/dist-packages/sklearn/ensemble/_forest.py:413: FutureWarning: `max_features='auto'` has been deprecated in 1.1 and will be removed in 1.3. To keep the past behaviour, explicitly set `max_features=1.0` or remove this parameter as it is also the default value for RandomForestRegressors and ExtraTreesRegressors.\n",
            "  warn(\n",
            "/usr/local/lib/python3.9/dist-packages/sklearn/ensemble/_forest.py:413: FutureWarning: `max_features='auto'` has been deprecated in 1.1 and will be removed in 1.3. To keep the past behaviour, explicitly set `max_features=1.0` or remove this parameter as it is also the default value for RandomForestRegressors and ExtraTreesRegressors.\n",
            "  warn(\n",
            "/usr/local/lib/python3.9/dist-packages/sklearn/ensemble/_forest.py:413: FutureWarning: `max_features='auto'` has been deprecated in 1.1 and will be removed in 1.3. To keep the past behaviour, explicitly set `max_features=1.0` or remove this parameter as it is also the default value for RandomForestRegressors and ExtraTreesRegressors.\n",
            "  warn(\n",
            "/usr/local/lib/python3.9/dist-packages/sklearn/ensemble/_forest.py:413: FutureWarning: `max_features='auto'` has been deprecated in 1.1 and will be removed in 1.3. To keep the past behaviour, explicitly set `max_features=1.0` or remove this parameter as it is also the default value for RandomForestRegressors and ExtraTreesRegressors.\n",
            "  warn(\n",
            "/usr/local/lib/python3.9/dist-packages/sklearn/ensemble/_forest.py:413: FutureWarning: `max_features='auto'` has been deprecated in 1.1 and will be removed in 1.3. To keep the past behaviour, explicitly set `max_features=1.0` or remove this parameter as it is also the default value for RandomForestRegressors and ExtraTreesRegressors.\n",
            "  warn(\n"
          ]
        },
        {
          "output_type": "execute_result",
          "data": {
            "text/plain": [
              "RandomizedSearchCV(cv=5,\n",
              "                   estimator=RandomForestRegressor(n_jobs=-1, random_state=42),\n",
              "                   n_iter=5,\n",
              "                   param_distributions={'max_depth': [None, 3, 5, 10],\n",
              "                                        'max_features': [0.5, 1, 'sqrt',\n",
              "                                                         'auto'],\n",
              "                                        'max_samples': [10000, 12000, 15000,\n",
              "                                                        20000],\n",
              "                                        'min_samples_leaf': array([ 1,  3,  5,  7,  9, 11, 13, 15, 17, 19]),\n",
              "                                        'min_samples_split': array([ 2,  4,  6,  8, 10, 12, 14, 16, 18]),\n",
              "                                        'n_estimators': array([10, 20, 30, 40, 50, 60, 70, 80, 90])},\n",
              "                   verbose=True)"
            ],
            "text/html": [
              "<style>#sk-container-id-6 {color: black;background-color: white;}#sk-container-id-6 pre{padding: 0;}#sk-container-id-6 div.sk-toggleable {background-color: white;}#sk-container-id-6 label.sk-toggleable__label {cursor: pointer;display: block;width: 100%;margin-bottom: 0;padding: 0.3em;box-sizing: border-box;text-align: center;}#sk-container-id-6 label.sk-toggleable__label-arrow:before {content: \"▸\";float: left;margin-right: 0.25em;color: #696969;}#sk-container-id-6 label.sk-toggleable__label-arrow:hover:before {color: black;}#sk-container-id-6 div.sk-estimator:hover label.sk-toggleable__label-arrow:before {color: black;}#sk-container-id-6 div.sk-toggleable__content {max-height: 0;max-width: 0;overflow: hidden;text-align: left;background-color: #f0f8ff;}#sk-container-id-6 div.sk-toggleable__content pre {margin: 0.2em;color: black;border-radius: 0.25em;background-color: #f0f8ff;}#sk-container-id-6 input.sk-toggleable__control:checked~div.sk-toggleable__content {max-height: 200px;max-width: 100%;overflow: auto;}#sk-container-id-6 input.sk-toggleable__control:checked~label.sk-toggleable__label-arrow:before {content: \"▾\";}#sk-container-id-6 div.sk-estimator input.sk-toggleable__control:checked~label.sk-toggleable__label {background-color: #d4ebff;}#sk-container-id-6 div.sk-label input.sk-toggleable__control:checked~label.sk-toggleable__label {background-color: #d4ebff;}#sk-container-id-6 input.sk-hidden--visually {border: 0;clip: rect(1px 1px 1px 1px);clip: rect(1px, 1px, 1px, 1px);height: 1px;margin: -1px;overflow: hidden;padding: 0;position: absolute;width: 1px;}#sk-container-id-6 div.sk-estimator {font-family: monospace;background-color: #f0f8ff;border: 1px dotted black;border-radius: 0.25em;box-sizing: border-box;margin-bottom: 0.5em;}#sk-container-id-6 div.sk-estimator:hover {background-color: #d4ebff;}#sk-container-id-6 div.sk-parallel-item::after {content: \"\";width: 100%;border-bottom: 1px solid gray;flex-grow: 1;}#sk-container-id-6 div.sk-label:hover label.sk-toggleable__label {background-color: #d4ebff;}#sk-container-id-6 div.sk-serial::before {content: \"\";position: absolute;border-left: 1px solid gray;box-sizing: border-box;top: 0;bottom: 0;left: 50%;z-index: 0;}#sk-container-id-6 div.sk-serial {display: flex;flex-direction: column;align-items: center;background-color: white;padding-right: 0.2em;padding-left: 0.2em;position: relative;}#sk-container-id-6 div.sk-item {position: relative;z-index: 1;}#sk-container-id-6 div.sk-parallel {display: flex;align-items: stretch;justify-content: center;background-color: white;position: relative;}#sk-container-id-6 div.sk-item::before, #sk-container-id-6 div.sk-parallel-item::before {content: \"\";position: absolute;border-left: 1px solid gray;box-sizing: border-box;top: 0;bottom: 0;left: 50%;z-index: -1;}#sk-container-id-6 div.sk-parallel-item {display: flex;flex-direction: column;z-index: 1;position: relative;background-color: white;}#sk-container-id-6 div.sk-parallel-item:first-child::after {align-self: flex-end;width: 50%;}#sk-container-id-6 div.sk-parallel-item:last-child::after {align-self: flex-start;width: 50%;}#sk-container-id-6 div.sk-parallel-item:only-child::after {width: 0;}#sk-container-id-6 div.sk-dashed-wrapped {border: 1px dashed gray;margin: 0 0.4em 0.5em 0.4em;box-sizing: border-box;padding-bottom: 0.4em;background-color: white;}#sk-container-id-6 div.sk-label label {font-family: monospace;font-weight: bold;display: inline-block;line-height: 1.2em;}#sk-container-id-6 div.sk-label-container {text-align: center;}#sk-container-id-6 div.sk-container {/* jupyter's `normalize.less` sets `[hidden] { display: none; }` but bootstrap.min.css set `[hidden] { display: none !important; }` so we also need the `!important` here to be able to override the default hidden behavior on the sphinx rendered scikit-learn.org. See: https://github.com/scikit-learn/scikit-learn/issues/21755 */display: inline-block !important;position: relative;}#sk-container-id-6 div.sk-text-repr-fallback {display: none;}</style><div id=\"sk-container-id-6\" class=\"sk-top-container\"><div class=\"sk-text-repr-fallback\"><pre>RandomizedSearchCV(cv=5,\n",
              "                   estimator=RandomForestRegressor(n_jobs=-1, random_state=42),\n",
              "                   n_iter=5,\n",
              "                   param_distributions={&#x27;max_depth&#x27;: [None, 3, 5, 10],\n",
              "                                        &#x27;max_features&#x27;: [0.5, 1, &#x27;sqrt&#x27;,\n",
              "                                                         &#x27;auto&#x27;],\n",
              "                                        &#x27;max_samples&#x27;: [10000, 12000, 15000,\n",
              "                                                        20000],\n",
              "                                        &#x27;min_samples_leaf&#x27;: array([ 1,  3,  5,  7,  9, 11, 13, 15, 17, 19]),\n",
              "                                        &#x27;min_samples_split&#x27;: array([ 2,  4,  6,  8, 10, 12, 14, 16, 18]),\n",
              "                                        &#x27;n_estimators&#x27;: array([10, 20, 30, 40, 50, 60, 70, 80, 90])},\n",
              "                   verbose=True)</pre><b>In a Jupyter environment, please rerun this cell to show the HTML representation or trust the notebook. <br />On GitHub, the HTML representation is unable to render, please try loading this page with nbviewer.org.</b></div><div class=\"sk-container\" hidden><div class=\"sk-item sk-dashed-wrapped\"><div class=\"sk-label-container\"><div class=\"sk-label sk-toggleable\"><input class=\"sk-toggleable__control sk-hidden--visually\" id=\"sk-estimator-id-8\" type=\"checkbox\" ><label for=\"sk-estimator-id-8\" class=\"sk-toggleable__label sk-toggleable__label-arrow\">RandomizedSearchCV</label><div class=\"sk-toggleable__content\"><pre>RandomizedSearchCV(cv=5,\n",
              "                   estimator=RandomForestRegressor(n_jobs=-1, random_state=42),\n",
              "                   n_iter=5,\n",
              "                   param_distributions={&#x27;max_depth&#x27;: [None, 3, 5, 10],\n",
              "                                        &#x27;max_features&#x27;: [0.5, 1, &#x27;sqrt&#x27;,\n",
              "                                                         &#x27;auto&#x27;],\n",
              "                                        &#x27;max_samples&#x27;: [10000, 12000, 15000,\n",
              "                                                        20000],\n",
              "                                        &#x27;min_samples_leaf&#x27;: array([ 1,  3,  5,  7,  9, 11, 13, 15, 17, 19]),\n",
              "                                        &#x27;min_samples_split&#x27;: array([ 2,  4,  6,  8, 10, 12, 14, 16, 18]),\n",
              "                                        &#x27;n_estimators&#x27;: array([10, 20, 30, 40, 50, 60, 70, 80, 90])},\n",
              "                   verbose=True)</pre></div></div></div><div class=\"sk-parallel\"><div class=\"sk-parallel-item\"><div class=\"sk-item\"><div class=\"sk-label-container\"><div class=\"sk-label sk-toggleable\"><input class=\"sk-toggleable__control sk-hidden--visually\" id=\"sk-estimator-id-9\" type=\"checkbox\" ><label for=\"sk-estimator-id-9\" class=\"sk-toggleable__label sk-toggleable__label-arrow\">estimator: RandomForestRegressor</label><div class=\"sk-toggleable__content\"><pre>RandomForestRegressor(n_jobs=-1, random_state=42)</pre></div></div></div><div class=\"sk-serial\"><div class=\"sk-item\"><div class=\"sk-estimator sk-toggleable\"><input class=\"sk-toggleable__control sk-hidden--visually\" id=\"sk-estimator-id-10\" type=\"checkbox\" ><label for=\"sk-estimator-id-10\" class=\"sk-toggleable__label sk-toggleable__label-arrow\">RandomForestRegressor</label><div class=\"sk-toggleable__content\"><pre>RandomForestRegressor(n_jobs=-1, random_state=42)</pre></div></div></div></div></div></div></div></div></div></div>"
            ]
          },
          "metadata": {},
          "execution_count": 189
        }
      ]
    },
    {
      "cell_type": "code",
      "source": [
        "rs_model.best_params_ # best parameters for this data"
      ],
      "metadata": {
        "colab": {
          "base_uri": "https://localhost:8080/"
        },
        "id": "0OVGFVGhxd8F",
        "outputId": "56b9c6a4-fce4-406c-d7f3-93ec8a55f60f"
      },
      "execution_count": 190,
      "outputs": [
        {
          "output_type": "execute_result",
          "data": {
            "text/plain": [
              "{'n_estimators': 60,\n",
              " 'min_samples_split': 12,\n",
              " 'min_samples_leaf': 1,\n",
              " 'max_samples': 12000,\n",
              " 'max_features': 0.5,\n",
              " 'max_depth': None}"
            ]
          },
          "metadata": {},
          "execution_count": 190
        }
      ]
    },
    {
      "cell_type": "markdown",
      "source": [
        "**(VIII) Choose the best performance on the model**"
      ],
      "metadata": {
        "id": "Es5xomg7yVzM"
      }
    },
    {
      "cell_type": "code",
      "source": [
        "y_preds_rs = rs_model.predict(X_test) # predicting the x_test data"
      ],
      "metadata": {
        "id": "FX7riWFGx-vq"
      },
      "execution_count": 191,
      "outputs": []
    },
    {
      "cell_type": "markdown",
      "source": [
        "**(XI) Evaluation of this model**"
      ],
      "metadata": {
        "id": "rpnLtOgTygjX"
      }
    },
    {
      "cell_type": "code",
      "source": [
        "mae_hyp = mean_absolute_error(y_test,y_preds_rs) # calulating the MAE"
      ],
      "metadata": {
        "id": "UR3VJR8pyeUO"
      },
      "execution_count": 192,
      "outputs": []
    },
    {
      "cell_type": "code",
      "source": [
        "mae_hyp,mae_rand_forest # comparing model performance the before hyperparameter tuning and after hyper parameter tuning"
      ],
      "metadata": {
        "colab": {
          "base_uri": "https://localhost:8080/"
        },
        "id": "qeI-2rGMyxtW",
        "outputId": "1b0df30d-a98b-465d-bb36-4e99189cb82c"
      },
      "execution_count": 193,
      "outputs": [
        {
          "output_type": "execute_result",
          "data": {
            "text/plain": [
              "(4726.8647237056075, 1777.5512464047588)"
            ]
          },
          "metadata": {},
          "execution_count": 193
        }
      ]
    },
    {
      "cell_type": "markdown",
      "source": [
        "* **After comparing the model performance with and without hyperparameter tuning, it was found that the model without hyperparameter tuning had less error than the model with hyperparameter tuning. As a result, this model will be used to test the original test data.** "
      ],
      "metadata": {
        "id": "M0ejKPk2459m"
      }
    },
    {
      "cell_type": "markdown",
      "source": [
        "#**Make predictions using new test data**\n",
        "\n",
        "* Note: **No target variable is present in this data.**"
      ],
      "metadata": {
        "id": "m0RG0TU0GOYL"
      }
    },
    {
      "cell_type": "markdown",
      "source": [
        "**(I) Importing the test data**"
      ],
      "metadata": {
        "id": "T1rc3pocHeC2"
      }
    },
    {
      "cell_type": "code",
      "source": [
        "df_test = pd.read_csv(\"Test_rev1.csv\") # Importing the test data"
      ],
      "metadata": {
        "id": "t1xdMc0O7SEg"
      },
      "execution_count": 194,
      "outputs": []
    },
    {
      "cell_type": "code",
      "source": [
        "df_test.head()"
      ],
      "metadata": {
        "colab": {
          "base_uri": "https://localhost:8080/",
          "height": 441
        },
        "id": "gNbp2-O_G9VC",
        "outputId": "b447c87d-674e-403c-a5f1-e4f2f59f1f75"
      },
      "execution_count": 195,
      "outputs": [
        {
          "output_type": "execute_result",
          "data": {
            "text/plain": [
              "         Id                               Title  \\\n",
              "0  11888454        Business Development Manager   \n",
              "1  11988350            Internal Account Manager   \n",
              "2  12612558        Engineering Systems Analysts   \n",
              "3  12613014  CIS Systems Engineering Consultant   \n",
              "4  22454872       CNC Miller / Programmer Fanac   \n",
              "\n",
              "                                     FullDescription  \\\n",
              "0  The Company: Our client is a national training...   \n",
              "1  The Company: Founded in **** our client is a U...   \n",
              "2  Engineering Systems Analysts Surrey ****K Loca...   \n",
              "3  CIS Systems Engineering Consultant Bristol  So...   \n",
              "4  CNC Miller / Programmer Fanac Fleet, Hampshire...   \n",
              "\n",
              "                       LocationRaw   LocationNormalized ContractType  \\\n",
              "0            Tyne Wear, North East  Newcastle Upon Tyne          NaN   \n",
              "1        Tyne and Wear, North East  Newcastle Upon Tyne          NaN   \n",
              "2   Surrey, South East, South East               Surrey          NaN   \n",
              "3  Bristol, South West, South West              Bristol          NaN   \n",
              "4                 Fleet, Hampshire                Fleet          NaN   \n",
              "\n",
              "  ContractTime                       Company            Category  \\\n",
              "0    permanent            Asset Appointments       Teaching Jobs   \n",
              "1    permanent            Asset Appointments    Consultancy Jobs   \n",
              "2    permanent  Gregory Martin International    Engineering Jobs   \n",
              "3    permanent  Gregory Martin International    Engineering Jobs   \n",
              "4    permanent  Gregory Martin International  Manufacturing Jobs   \n",
              "\n",
              "         SourceName  \n",
              "0  cv-library.co.uk  \n",
              "1  cv-library.co.uk  \n",
              "2  cv-library.co.uk  \n",
              "3  cv-library.co.uk  \n",
              "4  cv-library.co.uk  "
            ],
            "text/html": [
              "\n",
              "  <div id=\"df-427136b7-ff27-4800-a9f9-06393c868928\">\n",
              "    <div class=\"colab-df-container\">\n",
              "      <div>\n",
              "<style scoped>\n",
              "    .dataframe tbody tr th:only-of-type {\n",
              "        vertical-align: middle;\n",
              "    }\n",
              "\n",
              "    .dataframe tbody tr th {\n",
              "        vertical-align: top;\n",
              "    }\n",
              "\n",
              "    .dataframe thead th {\n",
              "        text-align: right;\n",
              "    }\n",
              "</style>\n",
              "<table border=\"1\" class=\"dataframe\">\n",
              "  <thead>\n",
              "    <tr style=\"text-align: right;\">\n",
              "      <th></th>\n",
              "      <th>Id</th>\n",
              "      <th>Title</th>\n",
              "      <th>FullDescription</th>\n",
              "      <th>LocationRaw</th>\n",
              "      <th>LocationNormalized</th>\n",
              "      <th>ContractType</th>\n",
              "      <th>ContractTime</th>\n",
              "      <th>Company</th>\n",
              "      <th>Category</th>\n",
              "      <th>SourceName</th>\n",
              "    </tr>\n",
              "  </thead>\n",
              "  <tbody>\n",
              "    <tr>\n",
              "      <th>0</th>\n",
              "      <td>11888454</td>\n",
              "      <td>Business Development Manager</td>\n",
              "      <td>The Company: Our client is a national training...</td>\n",
              "      <td>Tyne Wear, North East</td>\n",
              "      <td>Newcastle Upon Tyne</td>\n",
              "      <td>NaN</td>\n",
              "      <td>permanent</td>\n",
              "      <td>Asset Appointments</td>\n",
              "      <td>Teaching Jobs</td>\n",
              "      <td>cv-library.co.uk</td>\n",
              "    </tr>\n",
              "    <tr>\n",
              "      <th>1</th>\n",
              "      <td>11988350</td>\n",
              "      <td>Internal Account Manager</td>\n",
              "      <td>The Company: Founded in **** our client is a U...</td>\n",
              "      <td>Tyne and Wear, North East</td>\n",
              "      <td>Newcastle Upon Tyne</td>\n",
              "      <td>NaN</td>\n",
              "      <td>permanent</td>\n",
              "      <td>Asset Appointments</td>\n",
              "      <td>Consultancy Jobs</td>\n",
              "      <td>cv-library.co.uk</td>\n",
              "    </tr>\n",
              "    <tr>\n",
              "      <th>2</th>\n",
              "      <td>12612558</td>\n",
              "      <td>Engineering Systems Analysts</td>\n",
              "      <td>Engineering Systems Analysts Surrey ****K Loca...</td>\n",
              "      <td>Surrey, South East, South East</td>\n",
              "      <td>Surrey</td>\n",
              "      <td>NaN</td>\n",
              "      <td>permanent</td>\n",
              "      <td>Gregory Martin International</td>\n",
              "      <td>Engineering Jobs</td>\n",
              "      <td>cv-library.co.uk</td>\n",
              "    </tr>\n",
              "    <tr>\n",
              "      <th>3</th>\n",
              "      <td>12613014</td>\n",
              "      <td>CIS Systems Engineering Consultant</td>\n",
              "      <td>CIS Systems Engineering Consultant Bristol  So...</td>\n",
              "      <td>Bristol, South West, South West</td>\n",
              "      <td>Bristol</td>\n",
              "      <td>NaN</td>\n",
              "      <td>permanent</td>\n",
              "      <td>Gregory Martin International</td>\n",
              "      <td>Engineering Jobs</td>\n",
              "      <td>cv-library.co.uk</td>\n",
              "    </tr>\n",
              "    <tr>\n",
              "      <th>4</th>\n",
              "      <td>22454872</td>\n",
              "      <td>CNC Miller / Programmer Fanac</td>\n",
              "      <td>CNC Miller / Programmer Fanac Fleet, Hampshire...</td>\n",
              "      <td>Fleet, Hampshire</td>\n",
              "      <td>Fleet</td>\n",
              "      <td>NaN</td>\n",
              "      <td>permanent</td>\n",
              "      <td>Gregory Martin International</td>\n",
              "      <td>Manufacturing Jobs</td>\n",
              "      <td>cv-library.co.uk</td>\n",
              "    </tr>\n",
              "  </tbody>\n",
              "</table>\n",
              "</div>\n",
              "      <button class=\"colab-df-convert\" onclick=\"convertToInteractive('df-427136b7-ff27-4800-a9f9-06393c868928')\"\n",
              "              title=\"Convert this dataframe to an interactive table.\"\n",
              "              style=\"display:none;\">\n",
              "        \n",
              "  <svg xmlns=\"http://www.w3.org/2000/svg\" height=\"24px\"viewBox=\"0 0 24 24\"\n",
              "       width=\"24px\">\n",
              "    <path d=\"M0 0h24v24H0V0z\" fill=\"none\"/>\n",
              "    <path d=\"M18.56 5.44l.94 2.06.94-2.06 2.06-.94-2.06-.94-.94-2.06-.94 2.06-2.06.94zm-11 1L8.5 8.5l.94-2.06 2.06-.94-2.06-.94L8.5 2.5l-.94 2.06-2.06.94zm10 10l.94 2.06.94-2.06 2.06-.94-2.06-.94-.94-2.06-.94 2.06-2.06.94z\"/><path d=\"M17.41 7.96l-1.37-1.37c-.4-.4-.92-.59-1.43-.59-.52 0-1.04.2-1.43.59L10.3 9.45l-7.72 7.72c-.78.78-.78 2.05 0 2.83L4 21.41c.39.39.9.59 1.41.59.51 0 1.02-.2 1.41-.59l7.78-7.78 2.81-2.81c.8-.78.8-2.07 0-2.86zM5.41 20L4 18.59l7.72-7.72 1.47 1.35L5.41 20z\"/>\n",
              "  </svg>\n",
              "      </button>\n",
              "      \n",
              "  <style>\n",
              "    .colab-df-container {\n",
              "      display:flex;\n",
              "      flex-wrap:wrap;\n",
              "      gap: 12px;\n",
              "    }\n",
              "\n",
              "    .colab-df-convert {\n",
              "      background-color: #E8F0FE;\n",
              "      border: none;\n",
              "      border-radius: 50%;\n",
              "      cursor: pointer;\n",
              "      display: none;\n",
              "      fill: #1967D2;\n",
              "      height: 32px;\n",
              "      padding: 0 0 0 0;\n",
              "      width: 32px;\n",
              "    }\n",
              "\n",
              "    .colab-df-convert:hover {\n",
              "      background-color: #E2EBFA;\n",
              "      box-shadow: 0px 1px 2px rgba(60, 64, 67, 0.3), 0px 1px 3px 1px rgba(60, 64, 67, 0.15);\n",
              "      fill: #174EA6;\n",
              "    }\n",
              "\n",
              "    [theme=dark] .colab-df-convert {\n",
              "      background-color: #3B4455;\n",
              "      fill: #D2E3FC;\n",
              "    }\n",
              "\n",
              "    [theme=dark] .colab-df-convert:hover {\n",
              "      background-color: #434B5C;\n",
              "      box-shadow: 0px 1px 3px 1px rgba(0, 0, 0, 0.15);\n",
              "      filter: drop-shadow(0px 1px 2px rgba(0, 0, 0, 0.3));\n",
              "      fill: #FFFFFF;\n",
              "    }\n",
              "  </style>\n",
              "\n",
              "      <script>\n",
              "        const buttonEl =\n",
              "          document.querySelector('#df-427136b7-ff27-4800-a9f9-06393c868928 button.colab-df-convert');\n",
              "        buttonEl.style.display =\n",
              "          google.colab.kernel.accessAllowed ? 'block' : 'none';\n",
              "\n",
              "        async function convertToInteractive(key) {\n",
              "          const element = document.querySelector('#df-427136b7-ff27-4800-a9f9-06393c868928');\n",
              "          const dataTable =\n",
              "            await google.colab.kernel.invokeFunction('convertToInteractive',\n",
              "                                                     [key], {});\n",
              "          if (!dataTable) return;\n",
              "\n",
              "          const docLinkHtml = 'Like what you see? Visit the ' +\n",
              "            '<a target=\"_blank\" href=https://colab.research.google.com/notebooks/data_table.ipynb>data table notebook</a>'\n",
              "            + ' to learn more about interactive tables.';\n",
              "          element.innerHTML = '';\n",
              "          dataTable['output_type'] = 'display_data';\n",
              "          await google.colab.output.renderOutput(dataTable, element);\n",
              "          const docLink = document.createElement('div');\n",
              "          docLink.innerHTML = docLinkHtml;\n",
              "          element.appendChild(docLink);\n",
              "        }\n",
              "      </script>\n",
              "    </div>\n",
              "  </div>\n",
              "  "
            ]
          },
          "metadata": {},
          "execution_count": 195
        }
      ]
    },
    {
      "cell_type": "markdown",
      "source": [
        "**(II) Checking for missing values on df_test dataset.**( We must undertake all pre - processing steps in the test data that we did in the train data.)"
      ],
      "metadata": {
        "id": "87e4Ta66HUnq"
      }
    },
    {
      "cell_type": "code",
      "source": [
        "df_test.isna().sum() # null value check"
      ],
      "metadata": {
        "colab": {
          "base_uri": "https://localhost:8080/"
        },
        "id": "isaMvdUQHFHC",
        "outputId": "55a28fa3-7386-4768-b365-2bd468691e62"
      },
      "execution_count": 196,
      "outputs": [
        {
          "output_type": "execute_result",
          "data": {
            "text/plain": [
              "Id                        0\n",
              "Title                     0\n",
              "FullDescription           0\n",
              "LocationRaw               0\n",
              "LocationNormalized        0\n",
              "ContractType          89450\n",
              "ContractTime          31761\n",
              "Company               16261\n",
              "Category                  0\n",
              "SourceName                0\n",
              "dtype: int64"
            ]
          },
          "metadata": {},
          "execution_count": 196
        }
      ]
    },
    {
      "cell_type": "markdown",
      "source": [
        "**(III) Check for string label**"
      ],
      "metadata": {
        "id": "v98zDiShH2Qe"
      }
    },
    {
      "cell_type": "code",
      "source": [
        "# The **For** loop is first created, and if the data type is **string**, the labels are then printed.\n",
        "for label,content in df_test.items():\n",
        "    if pd.api.types.is_string_dtype(content):\n",
        "        print(label)"
      ],
      "metadata": {
        "colab": {
          "base_uri": "https://localhost:8080/"
        },
        "id": "hw-3XRXgHR7p",
        "outputId": "7745e144-8ee3-4c22-f447-8c8ccb8cd679"
      },
      "execution_count": 197,
      "outputs": [
        {
          "output_type": "stream",
          "name": "stdout",
          "text": [
            "Title\n",
            "FullDescription\n",
            "LocationRaw\n",
            "LocationNormalized\n",
            "ContractType\n",
            "ContractTime\n",
            "Company\n",
            "Category\n",
            "SourceName\n"
          ]
        }
      ]
    },
    {
      "cell_type": "markdown",
      "source": [
        "* There are 9 varible are presented"
      ],
      "metadata": {
        "id": "IXB7ryB5IMaB"
      }
    },
    {
      "cell_type": "markdown",
      "source": [
        "**(IV) checking the numerical varibles**"
      ],
      "metadata": {
        "id": "iblx5-jHI0am"
      }
    },
    {
      "cell_type": "code",
      "source": [
        "# The **For** loop is first created, and if the data type is **numeric**, the labels are then printed.\n",
        "for label,content in df_test.items():\n",
        "    if pd.api.types.is_numeric_dtype(content):\n",
        "        print(label)"
      ],
      "metadata": {
        "colab": {
          "base_uri": "https://localhost:8080/"
        },
        "id": "TAQRp1YRIK6b",
        "outputId": "14c51b20-2f48-41db-eace-a02bed40751b"
      },
      "execution_count": 198,
      "outputs": [
        {
          "output_type": "stream",
          "name": "stdout",
          "text": [
            "Id\n"
          ]
        }
      ]
    },
    {
      "cell_type": "markdown",
      "source": [
        "**(V) Now converting all of the string value into category values**"
      ],
      "metadata": {
        "id": "dfOfHwLDJvEx"
      }
    },
    {
      "cell_type": "code",
      "source": [
        "for label, content in df_test.items():\n",
        "    if pd.api.types.is_string_dtype(content):\n",
        "        df_test[label] = content.astype(\"category\").cat.as_ordered()"
      ],
      "metadata": {
        "id": "CTvkRDZuI8dO"
      },
      "execution_count": 199,
      "outputs": []
    },
    {
      "cell_type": "markdown",
      "source": [
        "**(VI) Filling missing values**"
      ],
      "metadata": {
        "id": "VqCVhgk2KX0z"
      }
    },
    {
      "cell_type": "code",
      "source": [
        "for label,content in df_test.items():\n",
        "    if not pd.api.types.is_numeric_dtype(content):\n",
        "        # Add binary column to indicate whether sample had missing value\n",
        "        df_test[label+\"is_missing\"]=pd.isnull(content)\n",
        "        # Turn categories into numbers and add+1\n",
        "        df_test[label] = pd.Categorical(content).codes+1"
      ],
      "metadata": {
        "id": "CBOULzWWJrY2"
      },
      "execution_count": 200,
      "outputs": []
    },
    {
      "cell_type": "markdown",
      "source": [
        "**(VII) Now Reshape X_train & df_test**\n",
        "\n",
        "* Assuming that \"X_train\" and \"df_test\" are both Pandas dataframes, this code is taking the set of column names in \"X_train\" and subtracting the set of column names in df_test. In other words, it's finding the names of any columns in X_train that are not present in df_test.\n",
        "\n",
        "* The result of this operation is a set of column names that are present in \"X_train\" but not in \"df_test.\" This information could be useful for identifying any columns in the training data that are not present in the test data, which could be important for ensuring that any machine learning models built using the training data can be properly applied to new data."
      ],
      "metadata": {
        "id": "7vcb6iZZLSKt"
      }
    },
    {
      "cell_type": "code",
      "source": [
        "set(X_train.columns)-set(df_test.columns) # checking the columns that are not presented in test data, so we need add this columns beacuse we are train our data using this columns"
      ],
      "metadata": {
        "colab": {
          "base_uri": "https://localhost:8080/"
        },
        "id": "gWJ6vTjTKhGf",
        "outputId": "42edccad-0a4f-4100-af8f-009b89a162b8"
      },
      "execution_count": 201,
      "outputs": [
        {
          "output_type": "execute_result",
          "data": {
            "text/plain": [
              "{'SalaryRaw', 'SalaryRawis_missing'}"
            ]
          },
          "metadata": {},
          "execution_count": 201
        }
      ]
    },
    {
      "cell_type": "code",
      "source": [
        "# Adding the two colunms, beacuse this two columns that are not present in the new test data\n",
        "df_test[\"SalaryRaw\"] = False\n",
        "df_test[\"SalaryRawis_missing\"] = False"
      ],
      "metadata": {
        "id": "5A_VNqmvMpR4"
      },
      "execution_count": 202,
      "outputs": []
    },
    {
      "cell_type": "code",
      "source": [
        "X_train.shape,df_test.shape # checking the shape colums, here both x_train and df_test are same shape"
      ],
      "metadata": {
        "colab": {
          "base_uri": "https://localhost:8080/"
        },
        "id": "Ci7YC-Z9NkaH",
        "outputId": "90dbc85e-6e3a-4262-c465-8ba65e23c61c"
      },
      "execution_count": 203,
      "outputs": [
        {
          "output_type": "execute_result",
          "data": {
            "text/plain": [
              "((183576, 21), (122463, 21))"
            ]
          },
          "metadata": {},
          "execution_count": 203
        }
      ]
    },
    {
      "cell_type": "code",
      "source": [
        "# reorder the columns\n",
        "df_re_order = df_test.reindex(columns=[\"Id\",\"Title\",\"FullDescription\",\"LocationRaw\",\"LocationNormalized\",\"ContractType\",\"ContractTime\",\"Company\",\"Category\",\n",
        "                              \"SalaryRaw\",\"SourceName\",\"Titleis_missing\",\"FullDescriptionis_missing\",\n",
        "                              \"LocationRawis_missing\",\"LocationNormalizedis_missing\",\"ContractTypeis_missing\",\"ContractTimeis_missing\",\n",
        "                              \"Companyis_missing\",\"Categoryis_missing\",\"SalaryRawis_missing\",\"SourceNameis_missing\"])"
      ],
      "metadata": {
        "id": "7PViF235i5mP"
      },
      "execution_count": 204,
      "outputs": []
    },
    {
      "cell_type": "markdown",
      "source": [
        "**Note: we need to reorder the columns, because the order of the columns in the \"X_train\" data differ from the new \"df_test\" order. In this case \"SalaryRaw and \"SourceName\" order was changed. so we need the ensuring that any machine learning models built using the training data can be properly applied to new data.If you not,you might trap into the error.**\n",
        "\n",
        "           **ValueError:** The feature names should match those that were passed during fit.Feature names must be in the same order as they were in fit."
      ],
      "metadata": {
        "id": "Z1FDr_AK_uzt"
      }
    },
    {
      "cell_type": "markdown",
      "source": [
        "**(VIII) Make predictions**"
      ],
      "metadata": {
        "id": "D1akLYLUOKcT"
      }
    },
    {
      "cell_type": "code",
      "source": [
        "y_preds = model.predict(df_re_order) # predicting the new df_test data using our train model."
      ],
      "metadata": {
        "id": "tUi_xUMcNwiJ"
      },
      "execution_count": 205,
      "outputs": []
    },
    {
      "cell_type": "code",
      "source": [
        "df_preds = pd.DataFrame()  # craeting a data frame"
      ],
      "metadata": {
        "id": "QOyT2TnxoUFR"
      },
      "execution_count": 206,
      "outputs": []
    },
    {
      "cell_type": "code",
      "source": [
        "# craeting a columns name \n",
        "df_preds[\"Id\"] = df_re_order[\"Id\"]\n",
        "df_preds[\"SalaryNormalized\"] = y_preds"
      ],
      "metadata": {
        "id": "hblVxuylpcSd"
      },
      "execution_count": 207,
      "outputs": []
    },
    {
      "cell_type": "code",
      "source": [
        "df_preds.head() "
      ],
      "metadata": {
        "colab": {
          "base_uri": "https://localhost:8080/",
          "height": 206
        },
        "id": "wph0VAJWpe_9",
        "outputId": "f0d2d7e3-8859-4483-8315-adeaf138d575"
      },
      "execution_count": 208,
      "outputs": [
        {
          "output_type": "execute_result",
          "data": {
            "text/plain": [
              "         Id  SalaryNormalized\n",
              "0  11888454          33514.36\n",
              "1  11988350          30738.89\n",
              "2  12612558          28333.75\n",
              "3  12613014          30963.78\n",
              "4  22454872          26599.94"
            ],
            "text/html": [
              "\n",
              "  <div id=\"df-9c807def-7da9-45dd-b923-4640fd0cc3cd\">\n",
              "    <div class=\"colab-df-container\">\n",
              "      <div>\n",
              "<style scoped>\n",
              "    .dataframe tbody tr th:only-of-type {\n",
              "        vertical-align: middle;\n",
              "    }\n",
              "\n",
              "    .dataframe tbody tr th {\n",
              "        vertical-align: top;\n",
              "    }\n",
              "\n",
              "    .dataframe thead th {\n",
              "        text-align: right;\n",
              "    }\n",
              "</style>\n",
              "<table border=\"1\" class=\"dataframe\">\n",
              "  <thead>\n",
              "    <tr style=\"text-align: right;\">\n",
              "      <th></th>\n",
              "      <th>Id</th>\n",
              "      <th>SalaryNormalized</th>\n",
              "    </tr>\n",
              "  </thead>\n",
              "  <tbody>\n",
              "    <tr>\n",
              "      <th>0</th>\n",
              "      <td>11888454</td>\n",
              "      <td>33514.36</td>\n",
              "    </tr>\n",
              "    <tr>\n",
              "      <th>1</th>\n",
              "      <td>11988350</td>\n",
              "      <td>30738.89</td>\n",
              "    </tr>\n",
              "    <tr>\n",
              "      <th>2</th>\n",
              "      <td>12612558</td>\n",
              "      <td>28333.75</td>\n",
              "    </tr>\n",
              "    <tr>\n",
              "      <th>3</th>\n",
              "      <td>12613014</td>\n",
              "      <td>30963.78</td>\n",
              "    </tr>\n",
              "    <tr>\n",
              "      <th>4</th>\n",
              "      <td>22454872</td>\n",
              "      <td>26599.94</td>\n",
              "    </tr>\n",
              "  </tbody>\n",
              "</table>\n",
              "</div>\n",
              "      <button class=\"colab-df-convert\" onclick=\"convertToInteractive('df-9c807def-7da9-45dd-b923-4640fd0cc3cd')\"\n",
              "              title=\"Convert this dataframe to an interactive table.\"\n",
              "              style=\"display:none;\">\n",
              "        \n",
              "  <svg xmlns=\"http://www.w3.org/2000/svg\" height=\"24px\"viewBox=\"0 0 24 24\"\n",
              "       width=\"24px\">\n",
              "    <path d=\"M0 0h24v24H0V0z\" fill=\"none\"/>\n",
              "    <path d=\"M18.56 5.44l.94 2.06.94-2.06 2.06-.94-2.06-.94-.94-2.06-.94 2.06-2.06.94zm-11 1L8.5 8.5l.94-2.06 2.06-.94-2.06-.94L8.5 2.5l-.94 2.06-2.06.94zm10 10l.94 2.06.94-2.06 2.06-.94-2.06-.94-.94-2.06-.94 2.06-2.06.94z\"/><path d=\"M17.41 7.96l-1.37-1.37c-.4-.4-.92-.59-1.43-.59-.52 0-1.04.2-1.43.59L10.3 9.45l-7.72 7.72c-.78.78-.78 2.05 0 2.83L4 21.41c.39.39.9.59 1.41.59.51 0 1.02-.2 1.41-.59l7.78-7.78 2.81-2.81c.8-.78.8-2.07 0-2.86zM5.41 20L4 18.59l7.72-7.72 1.47 1.35L5.41 20z\"/>\n",
              "  </svg>\n",
              "      </button>\n",
              "      \n",
              "  <style>\n",
              "    .colab-df-container {\n",
              "      display:flex;\n",
              "      flex-wrap:wrap;\n",
              "      gap: 12px;\n",
              "    }\n",
              "\n",
              "    .colab-df-convert {\n",
              "      background-color: #E8F0FE;\n",
              "      border: none;\n",
              "      border-radius: 50%;\n",
              "      cursor: pointer;\n",
              "      display: none;\n",
              "      fill: #1967D2;\n",
              "      height: 32px;\n",
              "      padding: 0 0 0 0;\n",
              "      width: 32px;\n",
              "    }\n",
              "\n",
              "    .colab-df-convert:hover {\n",
              "      background-color: #E2EBFA;\n",
              "      box-shadow: 0px 1px 2px rgba(60, 64, 67, 0.3), 0px 1px 3px 1px rgba(60, 64, 67, 0.15);\n",
              "      fill: #174EA6;\n",
              "    }\n",
              "\n",
              "    [theme=dark] .colab-df-convert {\n",
              "      background-color: #3B4455;\n",
              "      fill: #D2E3FC;\n",
              "    }\n",
              "\n",
              "    [theme=dark] .colab-df-convert:hover {\n",
              "      background-color: #434B5C;\n",
              "      box-shadow: 0px 1px 3px 1px rgba(0, 0, 0, 0.15);\n",
              "      filter: drop-shadow(0px 1px 2px rgba(0, 0, 0, 0.3));\n",
              "      fill: #FFFFFF;\n",
              "    }\n",
              "  </style>\n",
              "\n",
              "      <script>\n",
              "        const buttonEl =\n",
              "          document.querySelector('#df-9c807def-7da9-45dd-b923-4640fd0cc3cd button.colab-df-convert');\n",
              "        buttonEl.style.display =\n",
              "          google.colab.kernel.accessAllowed ? 'block' : 'none';\n",
              "\n",
              "        async function convertToInteractive(key) {\n",
              "          const element = document.querySelector('#df-9c807def-7da9-45dd-b923-4640fd0cc3cd');\n",
              "          const dataTable =\n",
              "            await google.colab.kernel.invokeFunction('convertToInteractive',\n",
              "                                                     [key], {});\n",
              "          if (!dataTable) return;\n",
              "\n",
              "          const docLinkHtml = 'Like what you see? Visit the ' +\n",
              "            '<a target=\"_blank\" href=https://colab.research.google.com/notebooks/data_table.ipynb>data table notebook</a>'\n",
              "            + ' to learn more about interactive tables.';\n",
              "          element.innerHTML = '';\n",
              "          dataTable['output_type'] = 'display_data';\n",
              "          await google.colab.output.renderOutput(dataTable, element);\n",
              "          const docLink = document.createElement('div');\n",
              "          docLink.innerHTML = docLinkHtml;\n",
              "          element.appendChild(docLink);\n",
              "        }\n",
              "      </script>\n",
              "    </div>\n",
              "  </div>\n",
              "  "
            ]
          },
          "metadata": {},
          "execution_count": 208
        }
      ]
    },
    {
      "cell_type": "markdown",
      "source": [
        "**In the above table based on the \"job Advertis Id\" our model will predict the salary of the job Role. Now our model ready for the deployment**"
      ],
      "metadata": {
        "id": "qayPy0bNEtVn"
      }
    }
  ]
}