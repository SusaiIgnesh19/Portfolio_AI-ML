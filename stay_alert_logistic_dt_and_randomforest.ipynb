{
  "cells": [
    {
      "cell_type": "markdown",
      "id": "2f769326",
      "metadata": {
        "id": "2f769326",
        "papermill": {
          "duration": 0.027454,
          "end_time": "2022-08-06T17:59:42.050272",
          "exception": false,
          "start_time": "2022-08-06T17:59:42.022818",
          "status": "completed"
        },
        "tags": []
      },
      "source": [
        "# **Stay Alert! The Ford Challenge using Classification**\n",
        "\n",
        "The following topics are covered in this colab :\n",
        "\n",
        "- Downloading a real-world dataset\n",
        "- Preparing a dataset for training\n",
        "- Training and interpreting decision trees\n",
        "- Training and interpreting random forests\n",
        "- Overfitting, hyperparameter tuning & regularization\n",
        "- Making predictions on single inputs\n"
      ]
    },
    {
      "cell_type": "markdown",
      "id": "6a0e5381",
      "metadata": {
        "id": "6a0e5381",
        "papermill": {
          "duration": 0.025794,
          "end_time": "2022-08-06T17:59:42.101577",
          "exception": false,
          "start_time": "2022-08-06T17:59:42.075783",
          "status": "completed"
        },
        "tags": []
      },
      "source": [
        "# Problem Statement\n",
        "\n",
        "\n",
        "\n",
        "> **QUESTION**:Driving while distracted, fatigued or drowsy may lead to accidents. Activities that divert the driver's attention from the road ahead, such as engaging in a conversation with other passengers in the car, making or receiving phone calls, sending or receiving text messages, eating while driving or events outside the car may cause driver distraction. Fatigue and drowsiness can result from driving long hours or from lack of sleep.\n",
        "\n",
        ">The objective of this challenge is to design a detector/classifier that will detect whether the driver is alert or not alert, employing any combination of vehicular, environmental and driver physiological data that are acquired while driving."
      ]
    },
    {
      "cell_type": "markdown",
      "source": [
        "## Dataset Description\n",
        "\n",
        "> The data for this challenge shows the results of a number of \"trials\", each one representing about 2 minutes of sequential data that are recorded every 100 ms during a driving session on the road or in a driving simulator.  The trials are samples from some 100 drivers of both genders, and of different ages and ethnic backgrounds. The files are structured as follows:\n",
        "\n",
        "> The first column is the **Trial ID** - each period of around 2 minutes of sequential data has a unique trial ID. For instance, the first 1210 observations represent sequential observations every 100ms, and therefore all have the same trial ID.\n",
        "\n",
        "> The **second column** is the observation number - this is a sequentially increasing number within one trial ID.\n",
        "\n",
        "> The third column has a value X for each row where\n",
        "\n",
        "      X = 1     if the driver is alert\n",
        "      X = 0     if the driver is not alert\n",
        "\n",
        "> The next 8 columns with headers P1, P2 , …….., P8  represent physiological data;\n",
        "> The next 11 columns with headers E1, E2, …….., E11  represent environmental data;\n",
        "> The next 11 columns with headers V1, V2, …….., V11  represent vehicular  data;"
      ],
      "metadata": {
        "id": "B5QYzV6oyZ4p"
      },
      "id": "B5QYzV6oyZ4p"
    },
    {
      "cell_type": "markdown",
      "id": "bf43e517",
      "metadata": {
        "id": "bf43e517",
        "papermill": {
          "duration": 0.023971,
          "end_time": "2022-08-06T17:59:42.150570",
          "exception": false,
          "start_time": "2022-08-06T17:59:42.126599",
          "status": "completed"
        },
        "tags": []
      },
      "source": [
        "##Step 1 - Download and Explore the Data\n",
        "\n",
        "The dataset is available as a ZIP file at the following url:"
      ]
    },
    {
      "cell_type": "code",
      "execution_count": null,
      "id": "a1563c99",
      "metadata": {
        "execution": {
          "iopub.execute_input": "2022-08-06T17:59:42.200182Z",
          "iopub.status.busy": "2022-08-06T17:59:42.199665Z",
          "iopub.status.idle": "2022-08-06T17:59:42.218164Z",
          "shell.execute_reply": "2022-08-06T17:59:42.216634Z"
        },
        "id": "a1563c99",
        "outputId": "8c1c65dc-b620-4e11-931e-f5dea1785e63",
        "papermill": {
          "duration": 0.046062,
          "end_time": "2022-08-06T17:59:42.220833",
          "exception": false,
          "start_time": "2022-08-06T17:59:42.174771",
          "status": "completed"
        },
        "tags": []
      },
      "outputs": [
        {
          "data": {
            "text/plain": [
              "['fordTest.csv', 'fordTrain.csv', 'example_submission.csv', 'Solution.csv']"
            ]
          },
          "execution_count": 1,
          "metadata": {},
          "output_type": "execute_result"
        }
      ],
      "source": [
        "#This code is using the os module in Python to list the contents of a directory located at ../input/stayalert.\n",
        "import os\n",
        "data_dir='../input/stayalert'\n",
        "os.listdir(data_dir)"
      ]
    },
    {
      "cell_type": "code",
      "execution_count": null,
      "id": "b3dd1fb6",
      "metadata": {
        "execution": {
          "iopub.execute_input": "2022-08-06T17:59:42.271374Z",
          "iopub.status.busy": "2022-08-06T17:59:42.270941Z",
          "iopub.status.idle": "2022-08-06T17:59:42.277294Z",
          "shell.execute_reply": "2022-08-06T17:59:42.275916Z"
        },
        "id": "b3dd1fb6",
        "papermill": {
          "duration": 0.034943,
          "end_time": "2022-08-06T17:59:42.279832",
          "exception": false,
          "start_time": "2022-08-06T17:59:42.244889",
          "status": "completed"
        },
        "tags": []
      },
      "outputs": [],
      "source": [
        "import pandas as pd\n",
        "import numpy as np\n",
        "import matplotlib.pyplot as plt\n",
        "pd.set_option('display.max_columns', None)"
      ]
    },
    {
      "cell_type": "code",
      "execution_count": null,
      "id": "a5f3cfde",
      "metadata": {
        "execution": {
          "iopub.execute_input": "2022-08-06T17:59:42.330929Z",
          "iopub.status.busy": "2022-08-06T17:59:42.329964Z",
          "iopub.status.idle": "2022-08-06T17:59:42.335807Z",
          "shell.execute_reply": "2022-08-06T17:59:42.334885Z"
        },
        "id": "a5f3cfde",
        "papermill": {
          "duration": 0.034219,
          "end_time": "2022-08-06T17:59:42.338382",
          "exception": false,
          "start_time": "2022-08-06T17:59:42.304163",
          "status": "completed"
        },
        "tags": []
      },
      "outputs": [],
      "source": [
        "path= data_dir +\"/fordTrain.csv\""
      ]
    },
    {
      "cell_type": "markdown",
      "id": "df33f9c0",
      "metadata": {
        "id": "df33f9c0",
        "papermill": {
          "duration": 0.023746,
          "end_time": "2022-08-06T17:59:42.386065",
          "exception": false,
          "start_time": "2022-08-06T17:59:42.362319",
          "status": "completed"
        },
        "tags": []
      },
      "source": [
        "> **QUESTION 1**: Load the data from the file `train.csv` into a Pandas data frame."
      ]
    },
    {
      "cell_type": "code",
      "execution_count": null,
      "id": "bddc6156",
      "metadata": {
        "execution": {
          "iopub.execute_input": "2022-08-06T17:59:42.436996Z",
          "iopub.status.busy": "2022-08-06T17:59:42.436096Z",
          "iopub.status.idle": "2022-08-06T17:59:45.076758Z",
          "shell.execute_reply": "2022-08-06T17:59:45.075177Z"
        },
        "id": "bddc6156",
        "papermill": {
          "duration": 2.669707,
          "end_time": "2022-08-06T17:59:45.080102",
          "exception": false,
          "start_time": "2022-08-06T17:59:42.410395",
          "status": "completed"
        },
        "tags": []
      },
      "outputs": [],
      "source": [
        "ford=pd.read_csv(path)"
      ]
    },
    {
      "cell_type": "code",
      "execution_count": null,
      "id": "c9653ec0",
      "metadata": {
        "execution": {
          "iopub.execute_input": "2022-08-06T17:59:45.129476Z",
          "iopub.status.busy": "2022-08-06T17:59:45.129045Z",
          "iopub.status.idle": "2022-08-06T17:59:45.185350Z",
          "shell.execute_reply": "2022-08-06T17:59:45.183787Z"
        },
        "id": "c9653ec0",
        "outputId": "ddb9f353-f64c-4afc-e592-762c18fd3434",
        "papermill": {
          "duration": 0.084426,
          "end_time": "2022-08-06T17:59:45.188445",
          "exception": false,
          "start_time": "2022-08-06T17:59:45.104019",
          "status": "completed"
        },
        "tags": []
      },
      "outputs": [
        {
          "data": {
            "text/html": [
              "<div>\n",
              "<style scoped>\n",
              "    .dataframe tbody tr th:only-of-type {\n",
              "        vertical-align: middle;\n",
              "    }\n",
              "\n",
              "    .dataframe tbody tr th {\n",
              "        vertical-align: top;\n",
              "    }\n",
              "\n",
              "    .dataframe thead th {\n",
              "        text-align: right;\n",
              "    }\n",
              "</style>\n",
              "<table border=\"1\" class=\"dataframe\">\n",
              "  <thead>\n",
              "    <tr style=\"text-align: right;\">\n",
              "      <th></th>\n",
              "      <th>TrialID</th>\n",
              "      <th>ObsNum</th>\n",
              "      <th>IsAlert</th>\n",
              "      <th>P1</th>\n",
              "      <th>P2</th>\n",
              "      <th>P3</th>\n",
              "      <th>P4</th>\n",
              "      <th>P5</th>\n",
              "      <th>P6</th>\n",
              "      <th>P7</th>\n",
              "      <th>P8</th>\n",
              "      <th>E1</th>\n",
              "      <th>E2</th>\n",
              "      <th>E3</th>\n",
              "      <th>E4</th>\n",
              "      <th>E5</th>\n",
              "      <th>E6</th>\n",
              "      <th>E7</th>\n",
              "      <th>E8</th>\n",
              "      <th>E9</th>\n",
              "      <th>E10</th>\n",
              "      <th>E11</th>\n",
              "      <th>V1</th>\n",
              "      <th>V2</th>\n",
              "      <th>V3</th>\n",
              "      <th>V4</th>\n",
              "      <th>V5</th>\n",
              "      <th>V6</th>\n",
              "      <th>V7</th>\n",
              "      <th>V8</th>\n",
              "      <th>V9</th>\n",
              "      <th>V10</th>\n",
              "      <th>V11</th>\n",
              "    </tr>\n",
              "  </thead>\n",
              "  <tbody>\n",
              "    <tr>\n",
              "      <th>0</th>\n",
              "      <td>0</td>\n",
              "      <td>0</td>\n",
              "      <td>0</td>\n",
              "      <td>34.7406</td>\n",
              "      <td>9.84593</td>\n",
              "      <td>1400</td>\n",
              "      <td>42.8571</td>\n",
              "      <td>0.290601</td>\n",
              "      <td>572</td>\n",
              "      <td>104.8950</td>\n",
              "      <td>0</td>\n",
              "      <td>0.000</td>\n",
              "      <td>0.00</td>\n",
              "      <td>1</td>\n",
              "      <td>-20</td>\n",
              "      <td>0.015875</td>\n",
              "      <td>324</td>\n",
              "      <td>1</td>\n",
              "      <td>1</td>\n",
              "      <td>1</td>\n",
              "      <td>57</td>\n",
              "      <td>0.0</td>\n",
              "      <td>101.96</td>\n",
              "      <td>0.175</td>\n",
              "      <td>752</td>\n",
              "      <td>5.99375</td>\n",
              "      <td>0</td>\n",
              "      <td>2005</td>\n",
              "      <td>0</td>\n",
              "      <td>13.4</td>\n",
              "      <td>0</td>\n",
              "      <td>4</td>\n",
              "      <td>14.8004</td>\n",
              "    </tr>\n",
              "    <tr>\n",
              "      <th>1</th>\n",
              "      <td>0</td>\n",
              "      <td>1</td>\n",
              "      <td>0</td>\n",
              "      <td>34.4215</td>\n",
              "      <td>13.41120</td>\n",
              "      <td>1400</td>\n",
              "      <td>42.8571</td>\n",
              "      <td>0.290601</td>\n",
              "      <td>572</td>\n",
              "      <td>104.8950</td>\n",
              "      <td>0</td>\n",
              "      <td>0.000</td>\n",
              "      <td>0.00</td>\n",
              "      <td>1</td>\n",
              "      <td>-20</td>\n",
              "      <td>0.015875</td>\n",
              "      <td>324</td>\n",
              "      <td>1</td>\n",
              "      <td>1</td>\n",
              "      <td>1</td>\n",
              "      <td>57</td>\n",
              "      <td>0.0</td>\n",
              "      <td>101.98</td>\n",
              "      <td>0.455</td>\n",
              "      <td>752</td>\n",
              "      <td>5.99375</td>\n",
              "      <td>0</td>\n",
              "      <td>2007</td>\n",
              "      <td>0</td>\n",
              "      <td>13.4</td>\n",
              "      <td>0</td>\n",
              "      <td>4</td>\n",
              "      <td>14.7729</td>\n",
              "    </tr>\n",
              "    <tr>\n",
              "      <th>2</th>\n",
              "      <td>0</td>\n",
              "      <td>2</td>\n",
              "      <td>0</td>\n",
              "      <td>34.3447</td>\n",
              "      <td>15.18520</td>\n",
              "      <td>1400</td>\n",
              "      <td>42.8571</td>\n",
              "      <td>0.290601</td>\n",
              "      <td>576</td>\n",
              "      <td>104.1670</td>\n",
              "      <td>0</td>\n",
              "      <td>0.000</td>\n",
              "      <td>0.00</td>\n",
              "      <td>1</td>\n",
              "      <td>-20</td>\n",
              "      <td>0.015875</td>\n",
              "      <td>324</td>\n",
              "      <td>1</td>\n",
              "      <td>1</td>\n",
              "      <td>1</td>\n",
              "      <td>57</td>\n",
              "      <td>0.0</td>\n",
              "      <td>101.97</td>\n",
              "      <td>0.280</td>\n",
              "      <td>752</td>\n",
              "      <td>5.99375</td>\n",
              "      <td>0</td>\n",
              "      <td>2011</td>\n",
              "      <td>0</td>\n",
              "      <td>13.4</td>\n",
              "      <td>0</td>\n",
              "      <td>4</td>\n",
              "      <td>14.7736</td>\n",
              "    </tr>\n",
              "    <tr>\n",
              "      <th>3</th>\n",
              "      <td>0</td>\n",
              "      <td>3</td>\n",
              "      <td>0</td>\n",
              "      <td>34.3421</td>\n",
              "      <td>8.84696</td>\n",
              "      <td>1400</td>\n",
              "      <td>42.8571</td>\n",
              "      <td>0.290601</td>\n",
              "      <td>576</td>\n",
              "      <td>104.1670</td>\n",
              "      <td>0</td>\n",
              "      <td>0.000</td>\n",
              "      <td>0.00</td>\n",
              "      <td>1</td>\n",
              "      <td>-20</td>\n",
              "      <td>0.015875</td>\n",
              "      <td>324</td>\n",
              "      <td>1</td>\n",
              "      <td>1</td>\n",
              "      <td>1</td>\n",
              "      <td>57</td>\n",
              "      <td>0.0</td>\n",
              "      <td>101.99</td>\n",
              "      <td>0.070</td>\n",
              "      <td>752</td>\n",
              "      <td>5.99375</td>\n",
              "      <td>0</td>\n",
              "      <td>2015</td>\n",
              "      <td>0</td>\n",
              "      <td>13.4</td>\n",
              "      <td>0</td>\n",
              "      <td>4</td>\n",
              "      <td>14.7667</td>\n",
              "    </tr>\n",
              "    <tr>\n",
              "      <th>4</th>\n",
              "      <td>0</td>\n",
              "      <td>4</td>\n",
              "      <td>0</td>\n",
              "      <td>34.3322</td>\n",
              "      <td>14.69940</td>\n",
              "      <td>1400</td>\n",
              "      <td>42.8571</td>\n",
              "      <td>0.290601</td>\n",
              "      <td>576</td>\n",
              "      <td>104.1670</td>\n",
              "      <td>0</td>\n",
              "      <td>0.000</td>\n",
              "      <td>0.00</td>\n",
              "      <td>1</td>\n",
              "      <td>-20</td>\n",
              "      <td>0.015875</td>\n",
              "      <td>324</td>\n",
              "      <td>1</td>\n",
              "      <td>1</td>\n",
              "      <td>1</td>\n",
              "      <td>57</td>\n",
              "      <td>0.0</td>\n",
              "      <td>102.07</td>\n",
              "      <td>0.175</td>\n",
              "      <td>752</td>\n",
              "      <td>5.99375</td>\n",
              "      <td>0</td>\n",
              "      <td>2017</td>\n",
              "      <td>0</td>\n",
              "      <td>13.4</td>\n",
              "      <td>0</td>\n",
              "      <td>4</td>\n",
              "      <td>14.7757</td>\n",
              "    </tr>\n",
              "    <tr>\n",
              "      <th>...</th>\n",
              "      <td>...</td>\n",
              "      <td>...</td>\n",
              "      <td>...</td>\n",
              "      <td>...</td>\n",
              "      <td>...</td>\n",
              "      <td>...</td>\n",
              "      <td>...</td>\n",
              "      <td>...</td>\n",
              "      <td>...</td>\n",
              "      <td>...</td>\n",
              "      <td>...</td>\n",
              "      <td>...</td>\n",
              "      <td>...</td>\n",
              "      <td>...</td>\n",
              "      <td>...</td>\n",
              "      <td>...</td>\n",
              "      <td>...</td>\n",
              "      <td>...</td>\n",
              "      <td>...</td>\n",
              "      <td>...</td>\n",
              "      <td>...</td>\n",
              "      <td>...</td>\n",
              "      <td>...</td>\n",
              "      <td>...</td>\n",
              "      <td>...</td>\n",
              "      <td>...</td>\n",
              "      <td>...</td>\n",
              "      <td>...</td>\n",
              "      <td>...</td>\n",
              "      <td>...</td>\n",
              "      <td>...</td>\n",
              "      <td>...</td>\n",
              "      <td>...</td>\n",
              "    </tr>\n",
              "    <tr>\n",
              "      <th>604324</th>\n",
              "      <td>510</td>\n",
              "      <td>1194</td>\n",
              "      <td>1</td>\n",
              "      <td>32.0051</td>\n",
              "      <td>10.13240</td>\n",
              "      <td>800</td>\n",
              "      <td>75.0000</td>\n",
              "      <td>0.081731</td>\n",
              "      <td>680</td>\n",
              "      <td>88.2353</td>\n",
              "      <td>0</td>\n",
              "      <td>17.807</td>\n",
              "      <td>222.11</td>\n",
              "      <td>0</td>\n",
              "      <td>0</td>\n",
              "      <td>0.016379</td>\n",
              "      <td>322</td>\n",
              "      <td>2</td>\n",
              "      <td>2</td>\n",
              "      <td>1</td>\n",
              "      <td>64</td>\n",
              "      <td>0.0</td>\n",
              "      <td>91.51</td>\n",
              "      <td>0.280</td>\n",
              "      <td>240</td>\n",
              "      <td>3.01875</td>\n",
              "      <td>0</td>\n",
              "      <td>1801</td>\n",
              "      <td>0</td>\n",
              "      <td>30.4</td>\n",
              "      <td>0</td>\n",
              "      <td>4</td>\n",
              "      <td>15.8113</td>\n",
              "    </tr>\n",
              "    <tr>\n",
              "      <th>604325</th>\n",
              "      <td>510</td>\n",
              "      <td>1195</td>\n",
              "      <td>1</td>\n",
              "      <td>32.0393</td>\n",
              "      <td>12.45040</td>\n",
              "      <td>800</td>\n",
              "      <td>75.0000</td>\n",
              "      <td>0.081731</td>\n",
              "      <td>680</td>\n",
              "      <td>88.2353</td>\n",
              "      <td>0</td>\n",
              "      <td>17.807</td>\n",
              "      <td>222.11</td>\n",
              "      <td>0</td>\n",
              "      <td>0</td>\n",
              "      <td>0.016379</td>\n",
              "      <td>322</td>\n",
              "      <td>2</td>\n",
              "      <td>2</td>\n",
              "      <td>1</td>\n",
              "      <td>64</td>\n",
              "      <td>0.0</td>\n",
              "      <td>91.51</td>\n",
              "      <td>0.280</td>\n",
              "      <td>240</td>\n",
              "      <td>3.01875</td>\n",
              "      <td>0</td>\n",
              "      <td>1801</td>\n",
              "      <td>0</td>\n",
              "      <td>30.4</td>\n",
              "      <td>0</td>\n",
              "      <td>4</td>\n",
              "      <td>15.8018</td>\n",
              "    </tr>\n",
              "    <tr>\n",
              "      <th>604326</th>\n",
              "      <td>510</td>\n",
              "      <td>1196</td>\n",
              "      <td>1</td>\n",
              "      <td>32.0762</td>\n",
              "      <td>10.06180</td>\n",
              "      <td>800</td>\n",
              "      <td>75.0000</td>\n",
              "      <td>0.081731</td>\n",
              "      <td>680</td>\n",
              "      <td>88.2353</td>\n",
              "      <td>0</td>\n",
              "      <td>17.807</td>\n",
              "      <td>222.11</td>\n",
              "      <td>0</td>\n",
              "      <td>0</td>\n",
              "      <td>0.016379</td>\n",
              "      <td>322</td>\n",
              "      <td>2</td>\n",
              "      <td>2</td>\n",
              "      <td>1</td>\n",
              "      <td>64</td>\n",
              "      <td>0.0</td>\n",
              "      <td>91.56</td>\n",
              "      <td>0.175</td>\n",
              "      <td>240</td>\n",
              "      <td>3.01875</td>\n",
              "      <td>0</td>\n",
              "      <td>1800</td>\n",
              "      <td>0</td>\n",
              "      <td>31.3</td>\n",
              "      <td>0</td>\n",
              "      <td>4</td>\n",
              "      <td>15.8120</td>\n",
              "    </tr>\n",
              "    <tr>\n",
              "      <th>604327</th>\n",
              "      <td>510</td>\n",
              "      <td>1197</td>\n",
              "      <td>1</td>\n",
              "      <td>32.1154</td>\n",
              "      <td>17.84500</td>\n",
              "      <td>800</td>\n",
              "      <td>75.0000</td>\n",
              "      <td>0.081731</td>\n",
              "      <td>680</td>\n",
              "      <td>88.2353</td>\n",
              "      <td>0</td>\n",
              "      <td>17.807</td>\n",
              "      <td>222.11</td>\n",
              "      <td>0</td>\n",
              "      <td>0</td>\n",
              "      <td>0.016379</td>\n",
              "      <td>322</td>\n",
              "      <td>2</td>\n",
              "      <td>2</td>\n",
              "      <td>1</td>\n",
              "      <td>64</td>\n",
              "      <td>0.0</td>\n",
              "      <td>91.56</td>\n",
              "      <td>0.175</td>\n",
              "      <td>240</td>\n",
              "      <td>3.01875</td>\n",
              "      <td>0</td>\n",
              "      <td>1800</td>\n",
              "      <td>0</td>\n",
              "      <td>31.3</td>\n",
              "      <td>0</td>\n",
              "      <td>4</td>\n",
              "      <td>15.8270</td>\n",
              "    </tr>\n",
              "    <tr>\n",
              "      <th>604328</th>\n",
              "      <td>510</td>\n",
              "      <td>1198</td>\n",
              "      <td>1</td>\n",
              "      <td>32.1154</td>\n",
              "      <td>17.84500</td>\n",
              "      <td>800</td>\n",
              "      <td>75.0000</td>\n",
              "      <td>0.081731</td>\n",
              "      <td>680</td>\n",
              "      <td>88.2353</td>\n",
              "      <td>0</td>\n",
              "      <td>17.807</td>\n",
              "      <td>222.11</td>\n",
              "      <td>0</td>\n",
              "      <td>0</td>\n",
              "      <td>0.016379</td>\n",
              "      <td>322</td>\n",
              "      <td>2</td>\n",
              "      <td>2</td>\n",
              "      <td>1</td>\n",
              "      <td>64</td>\n",
              "      <td>0.0</td>\n",
              "      <td>91.56</td>\n",
              "      <td>0.175</td>\n",
              "      <td>240</td>\n",
              "      <td>3.01875</td>\n",
              "      <td>0</td>\n",
              "      <td>1800</td>\n",
              "      <td>0</td>\n",
              "      <td>31.3</td>\n",
              "      <td>0</td>\n",
              "      <td>4</td>\n",
              "      <td>15.8270</td>\n",
              "    </tr>\n",
              "  </tbody>\n",
              "</table>\n",
              "<p>604329 rows × 33 columns</p>\n",
              "</div>"
            ],
            "text/plain": [
              "        TrialID  ObsNum  IsAlert       P1        P2    P3       P4        P5  \\\n",
              "0             0       0        0  34.7406   9.84593  1400  42.8571  0.290601   \n",
              "1             0       1        0  34.4215  13.41120  1400  42.8571  0.290601   \n",
              "2             0       2        0  34.3447  15.18520  1400  42.8571  0.290601   \n",
              "3             0       3        0  34.3421   8.84696  1400  42.8571  0.290601   \n",
              "4             0       4        0  34.3322  14.69940  1400  42.8571  0.290601   \n",
              "...         ...     ...      ...      ...       ...   ...      ...       ...   \n",
              "604324      510    1194        1  32.0051  10.13240   800  75.0000  0.081731   \n",
              "604325      510    1195        1  32.0393  12.45040   800  75.0000  0.081731   \n",
              "604326      510    1196        1  32.0762  10.06180   800  75.0000  0.081731   \n",
              "604327      510    1197        1  32.1154  17.84500   800  75.0000  0.081731   \n",
              "604328      510    1198        1  32.1154  17.84500   800  75.0000  0.081731   \n",
              "\n",
              "         P6        P7  P8      E1      E2  E3  E4        E5   E6  E7  E8  E9  \\\n",
              "0       572  104.8950   0   0.000    0.00   1 -20  0.015875  324   1   1   1   \n",
              "1       572  104.8950   0   0.000    0.00   1 -20  0.015875  324   1   1   1   \n",
              "2       576  104.1670   0   0.000    0.00   1 -20  0.015875  324   1   1   1   \n",
              "3       576  104.1670   0   0.000    0.00   1 -20  0.015875  324   1   1   1   \n",
              "4       576  104.1670   0   0.000    0.00   1 -20  0.015875  324   1   1   1   \n",
              "...     ...       ...  ..     ...     ...  ..  ..       ...  ...  ..  ..  ..   \n",
              "604324  680   88.2353   0  17.807  222.11   0   0  0.016379  322   2   2   1   \n",
              "604325  680   88.2353   0  17.807  222.11   0   0  0.016379  322   2   2   1   \n",
              "604326  680   88.2353   0  17.807  222.11   0   0  0.016379  322   2   2   1   \n",
              "604327  680   88.2353   0  17.807  222.11   0   0  0.016379  322   2   2   1   \n",
              "604328  680   88.2353   0  17.807  222.11   0   0  0.016379  322   2   2   1   \n",
              "\n",
              "        E10  E11      V1     V2   V3       V4  V5    V6  V7    V8  V9  V10  \\\n",
              "0        57  0.0  101.96  0.175  752  5.99375   0  2005   0  13.4   0    4   \n",
              "1        57  0.0  101.98  0.455  752  5.99375   0  2007   0  13.4   0    4   \n",
              "2        57  0.0  101.97  0.280  752  5.99375   0  2011   0  13.4   0    4   \n",
              "3        57  0.0  101.99  0.070  752  5.99375   0  2015   0  13.4   0    4   \n",
              "4        57  0.0  102.07  0.175  752  5.99375   0  2017   0  13.4   0    4   \n",
              "...     ...  ...     ...    ...  ...      ...  ..   ...  ..   ...  ..  ...   \n",
              "604324   64  0.0   91.51  0.280  240  3.01875   0  1801   0  30.4   0    4   \n",
              "604325   64  0.0   91.51  0.280  240  3.01875   0  1801   0  30.4   0    4   \n",
              "604326   64  0.0   91.56  0.175  240  3.01875   0  1800   0  31.3   0    4   \n",
              "604327   64  0.0   91.56  0.175  240  3.01875   0  1800   0  31.3   0    4   \n",
              "604328   64  0.0   91.56  0.175  240  3.01875   0  1800   0  31.3   0    4   \n",
              "\n",
              "            V11  \n",
              "0       14.8004  \n",
              "1       14.7729  \n",
              "2       14.7736  \n",
              "3       14.7667  \n",
              "4       14.7757  \n",
              "...         ...  \n",
              "604324  15.8113  \n",
              "604325  15.8018  \n",
              "604326  15.8120  \n",
              "604327  15.8270  \n",
              "604328  15.8270  \n",
              "\n",
              "[604329 rows x 33 columns]"
            ]
          },
          "execution_count": 5,
          "metadata": {},
          "output_type": "execute_result"
        }
      ],
      "source": [
        "ford"
      ]
    },
    {
      "cell_type": "markdown",
      "id": "3feada17",
      "metadata": {
        "id": "3feada17",
        "papermill": {
          "duration": 0.023724,
          "end_time": "2022-08-06T17:59:45.236898",
          "exception": false,
          "start_time": "2022-08-06T17:59:45.213174",
          "status": "completed"
        },
        "tags": []
      },
      "source": [
        "The dataset contains 604329 rows and 33 columns. Each row of the dataset contains information about one customer. \n",
        "\n",
        "The objective of this challenge is to design a detector/classifier that will detect whether the driver is alert or not alert, employing any combination of vehicular, environmental and driver physiological data that are acquired while driving.\n",
        "\n",
        "Let's check the data type for each column."
      ]
    },
    {
      "cell_type": "code",
      "execution_count": null,
      "id": "0961195a",
      "metadata": {
        "execution": {
          "iopub.execute_input": "2022-08-06T17:59:45.287661Z",
          "iopub.status.busy": "2022-08-06T17:59:45.286721Z",
          "iopub.status.idle": "2022-08-06T17:59:45.368527Z",
          "shell.execute_reply": "2022-08-06T17:59:45.366816Z"
        },
        "id": "0961195a",
        "outputId": "0caa04b6-ca3a-4dc6-85b8-d971ee6f90c5",
        "papermill": {
          "duration": 0.112502,
          "end_time": "2022-08-06T17:59:45.373087",
          "exception": false,
          "start_time": "2022-08-06T17:59:45.260585",
          "status": "completed"
        },
        "tags": []
      },
      "outputs": [
        {
          "name": "stdout",
          "output_type": "stream",
          "text": [
            "<class 'pandas.core.frame.DataFrame'>\n",
            "RangeIndex: 604329 entries, 0 to 604328\n",
            "Data columns (total 33 columns):\n",
            " #   Column   Non-Null Count   Dtype  \n",
            "---  ------   --------------   -----  \n",
            " 0   TrialID  604329 non-null  int64  \n",
            " 1   ObsNum   604329 non-null  int64  \n",
            " 2   IsAlert  604329 non-null  int64  \n",
            " 3   P1       604329 non-null  float64\n",
            " 4   P2       604329 non-null  float64\n",
            " 5   P3       604329 non-null  int64  \n",
            " 6   P4       604329 non-null  float64\n",
            " 7   P5       604329 non-null  float64\n",
            " 8   P6       604329 non-null  int64  \n",
            " 9   P7       604329 non-null  float64\n",
            " 10  P8       604329 non-null  int64  \n",
            " 11  E1       604329 non-null  float64\n",
            " 12  E2       604329 non-null  float64\n",
            " 13  E3       604329 non-null  int64  \n",
            " 14  E4       604329 non-null  int64  \n",
            " 15  E5       604329 non-null  float64\n",
            " 16  E6       604329 non-null  int64  \n",
            " 17  E7       604329 non-null  int64  \n",
            " 18  E8       604329 non-null  int64  \n",
            " 19  E9       604329 non-null  int64  \n",
            " 20  E10      604329 non-null  int64  \n",
            " 21  E11      604329 non-null  float64\n",
            " 22  V1       604329 non-null  float64\n",
            " 23  V2       604329 non-null  float64\n",
            " 24  V3       604329 non-null  int64  \n",
            " 25  V4       604329 non-null  float64\n",
            " 26  V5       604329 non-null  int64  \n",
            " 27  V6       604329 non-null  int64  \n",
            " 28  V7       604329 non-null  int64  \n",
            " 29  V8       604329 non-null  float64\n",
            " 30  V9       604329 non-null  int64  \n",
            " 31  V10      604329 non-null  int64  \n",
            " 32  V11      604329 non-null  float64\n",
            "dtypes: float64(14), int64(19)\n",
            "memory usage: 152.2 MB\n"
          ]
        }
      ],
      "source": [
        "ford.info()"
      ]
    },
    {
      "cell_type": "markdown",
      "id": "bf81e0e6",
      "metadata": {
        "id": "bf81e0e6",
        "papermill": {
          "duration": 0.024596,
          "end_time": "2022-08-06T17:59:45.425928",
          "exception": false,
          "start_time": "2022-08-06T17:59:45.401332",
          "status": "completed"
        },
        "tags": []
      },
      "source": [
        "> **QUESTION 2**: How many rows and columns does the dataset contain? "
      ]
    },
    {
      "cell_type": "code",
      "execution_count": null,
      "id": "5e6bfb22",
      "metadata": {
        "execution": {
          "iopub.execute_input": "2022-08-06T17:59:45.479068Z",
          "iopub.status.busy": "2022-08-06T17:59:45.477459Z",
          "iopub.status.idle": "2022-08-06T17:59:45.484054Z",
          "shell.execute_reply": "2022-08-06T17:59:45.482628Z"
        },
        "id": "5e6bfb22",
        "papermill": {
          "duration": 0.036496,
          "end_time": "2022-08-06T17:59:45.487025",
          "exception": false,
          "start_time": "2022-08-06T17:59:45.450529",
          "status": "completed"
        },
        "tags": []
      },
      "outputs": [],
      "source": [
        "n_rows = ford.shape[0]"
      ]
    },
    {
      "cell_type": "code",
      "execution_count": null,
      "id": "3e41ec09",
      "metadata": {
        "execution": {
          "iopub.execute_input": "2022-08-06T17:59:45.539039Z",
          "iopub.status.busy": "2022-08-06T17:59:45.538548Z",
          "iopub.status.idle": "2022-08-06T17:59:45.544965Z",
          "shell.execute_reply": "2022-08-06T17:59:45.543349Z"
        },
        "id": "3e41ec09",
        "papermill": {
          "duration": 0.035617,
          "end_time": "2022-08-06T17:59:45.547562",
          "exception": false,
          "start_time": "2022-08-06T17:59:45.511945",
          "status": "completed"
        },
        "tags": []
      },
      "outputs": [],
      "source": [
        "n_cols = ford.shape[1]"
      ]
    },
    {
      "cell_type": "code",
      "execution_count": null,
      "id": "bc739b56",
      "metadata": {
        "execution": {
          "iopub.execute_input": "2022-08-06T17:59:45.600273Z",
          "iopub.status.busy": "2022-08-06T17:59:45.599248Z",
          "iopub.status.idle": "2022-08-06T17:59:45.607062Z",
          "shell.execute_reply": "2022-08-06T17:59:45.605544Z"
        },
        "id": "bc739b56",
        "outputId": "ee1b3667-5e94-4851-a5d4-57b2e6176dee",
        "papermill": {
          "duration": 0.037093,
          "end_time": "2022-08-06T17:59:45.609631",
          "exception": false,
          "start_time": "2022-08-06T17:59:45.572538",
          "status": "completed"
        },
        "tags": []
      },
      "outputs": [
        {
          "name": "stdout",
          "output_type": "stream",
          "text": [
            "The dataset contains 604329 rows and 33 columns.\n"
          ]
        }
      ],
      "source": [
        "print('The dataset contains {} rows and {} columns.'.format(n_rows, n_cols))"
      ]
    },
    {
      "cell_type": "markdown",
      "id": "fff89ef4",
      "metadata": {
        "id": "fff89ef4",
        "papermill": {
          "duration": 0.025174,
          "end_time": "2022-08-06T17:59:45.659486",
          "exception": false,
          "start_time": "2022-08-06T17:59:45.634312",
          "status": "completed"
        },
        "tags": []
      },
      "source": [
        "### Exploratory Analysis and Visualization\n",
        "\n",
        "Let's explore the data by visualizing the distribution of values in some columns of the dataset, and the relationships between \"charges\" and other columns.\n"
      ]
    },
    {
      "cell_type": "markdown",
      "id": "d398246a",
      "metadata": {
        "id": "d398246a",
        "papermill": {
          "duration": 0.023925,
          "end_time": "2022-08-06T17:59:45.707883",
          "exception": false,
          "start_time": "2022-08-06T17:59:45.683958",
          "status": "completed"
        },
        "tags": []
      },
      "source": [
        "* libraries that we are going to use in this collab "
      ]
    },
    {
      "cell_type": "code",
      "execution_count": null,
      "id": "1c933901",
      "metadata": {
        "execution": {
          "iopub.execute_input": "2022-08-06T17:59:45.758673Z",
          "iopub.status.busy": "2022-08-06T17:59:45.758232Z",
          "iopub.status.idle": "2022-08-06T17:59:47.970840Z",
          "shell.execute_reply": "2022-08-06T17:59:47.969193Z"
        },
        "id": "1c933901",
        "papermill": {
          "duration": 2.242146,
          "end_time": "2022-08-06T17:59:47.974269",
          "exception": false,
          "start_time": "2022-08-06T17:59:45.732123",
          "status": "completed"
        },
        "tags": []
      },
      "outputs": [],
      "source": [
        "import seaborn as sns\n",
        "import plotly.express as px\n",
        "import matplotlib\n",
        "import matplotlib.pyplot as plt\n",
        "import seaborn as sns\n",
        "%matplotlib inline\n",
        "#The following settings will improve the default style and font sizes for our charts\n",
        "sns.set_style('darkgrid')\n",
        "matplotlib.rcParams['font.size'] = 14\n",
        "matplotlib.rcParams['figure.figsize'] = (10, 6)\n",
        "matplotlib.rcParams['figure.facecolor'] = '#00000000'"
      ]
    },
    {
      "cell_type": "markdown",
      "id": "ba2e4b82",
      "metadata": {
        "id": "ba2e4b82",
        "papermill": {
          "duration": 0.028727,
          "end_time": "2022-08-06T17:59:48.028611",
          "exception": false,
          "start_time": "2022-08-06T17:59:47.999884",
          "status": "completed"
        },
        "tags": []
      },
      "source": [
        "> **QUESTION 3**: How many `missing values` does the dataset contain in percentage? "
      ]
    },
    {
      "cell_type": "code",
      "execution_count": null,
      "id": "add44913",
      "metadata": {
        "execution": {
          "iopub.execute_input": "2022-08-06T17:59:48.080139Z",
          "iopub.status.busy": "2022-08-06T17:59:48.079651Z",
          "iopub.status.idle": "2022-08-06T17:59:48.129656Z",
          "shell.execute_reply": "2022-08-06T17:59:48.128175Z"
        },
        "id": "add44913",
        "papermill": {
          "duration": 0.078917,
          "end_time": "2022-08-06T17:59:48.132837",
          "exception": false,
          "start_time": "2022-08-06T17:59:48.053920",
          "status": "completed"
        },
        "tags": []
      },
      "outputs": [],
      "source": [
        "# Here we will check the percentage of nan values present in each feature\n",
        "# 1 -step make the list of features which has missing values\n",
        "feature_with_na=[feature for feature in ford.columns if ford[feature].isnull().sum()>1]\n",
        "# 2- step print the feature name and the percentage of missing values\n",
        "for feature in feature_with_na:\n",
        "  print(feature, np.round(ford[feature].isnull().mean(), 4)*100,  \" % missing values\")"
      ]
    },
    {
      "cell_type": "markdown",
      "id": "1156e092",
      "metadata": {
        "id": "1156e092",
        "papermill": {
          "duration": 0.023916,
          "end_time": "2022-08-06T17:59:48.181139",
          "exception": false,
          "start_time": "2022-08-06T17:59:48.157223",
          "status": "completed"
        },
        "tags": []
      },
      "source": [
        "there is `no null` value in the dataset that reduce our preprocessing time"
      ]
    },
    {
      "cell_type": "code",
      "execution_count": null,
      "id": "d8f0c85c",
      "metadata": {
        "execution": {
          "iopub.execute_input": "2022-08-06T17:59:48.232282Z",
          "iopub.status.busy": "2022-08-06T17:59:48.231808Z",
          "iopub.status.idle": "2022-08-06T18:00:11.108680Z",
          "shell.execute_reply": "2022-08-06T18:00:11.107200Z"
        },
        "id": "d8f0c85c",
        "outputId": "921be309-9c53-4431-c827-c654cd8e9c7a",
        "papermill": {
          "duration": 22.909795,
          "end_time": "2022-08-06T18:00:11.115487",
          "exception": false,
          "start_time": "2022-08-06T17:59:48.205692",
          "status": "completed"
        },
        "tags": []
      },
      "outputs": [
        {
          "data": {
            "image/png": "[encoded data removed]",
            "text/plain": [
              "<Figure size 1800x2520 with 33 Axes>"
            ]
          },
          "metadata": {
            "needs_background": "light"
          },
          "output_type": "display_data"
        }
      ],
      "source": [
        "# 0 represent the driver is not aler\n",
        "# 1 represent the driver is alert\n",
        "numerical = [feature for feature in ford.columns if ford[feature].dtype in ['int64', 'float64']]\n",
        "df = ford[numerical]\n",
        "\n",
        "fig = plt.figure(figsize = (25, 35))\n",
        "\n",
        "i=1\n",
        "for n in df.columns:\n",
        "    plt.subplot(7, 5, i)\n",
        "    ax = sns.histplot(x = ford[n],hue = ford['IsAlert'], palette = ['#676FA3', '#FF5959'], bins = 40)\n",
        "    ax.set(xlabel = None, ylabel = None)\n",
        "    plt.title(str(n), loc = 'center')\n",
        "    plt.xticks(rotation = 20, fontsize = 10)\n",
        "    i += 1"
      ]
    },
    {
      "cell_type": "markdown",
      "id": "b1a2a892",
      "metadata": {
        "id": "b1a2a892",
        "papermill": {
          "duration": 0.030536,
          "end_time": "2022-08-06T18:00:11.176411",
          "exception": false,
          "start_time": "2022-08-06T18:00:11.145875",
          "status": "completed"
        },
        "tags": []
      },
      "source": [
        " the above graph represents that the data is `skewed`."
      ]
    },
    {
      "cell_type": "markdown",
      "id": "7f3a5901",
      "metadata": {
        "id": "7f3a5901",
        "papermill": {
          "duration": 0.030141,
          "end_time": "2022-08-06T18:00:11.236784",
          "exception": false,
          "start_time": "2022-08-06T18:00:11.206643",
          "status": "completed"
        },
        "tags": []
      },
      "source": [
        "## Step 2 - Prepare the Dataset for Training\n",
        "\n",
        "\n",
        "Before we can train the model, we need to prepare the dataset. Here are the steps we'll follow:\n",
        "\n",
        "1. Identify the input and target column(s) for training the model.\n",
        "2. Identify numeric and categorical input columns.\n",
        "3. [Impute](https://scikit-learn.org/stable/modules/impute.html) (fill) missing values in numeric columns\n",
        "4. [Scale](https://scikit-learn.org/stable/modules/preprocessing.html#scaling-features-to-a-range) values in numeric columns to a $(0,1)$ range.\n",
        "5. [Encode](https://scikit-learn.org/stable/modules/preprocessing.html#encoding-categorical-features) categorical data into one-hot vectors.\n",
        "6. Split the dataset into training and validation sets.\n"
      ]
    },
    {
      "cell_type": "markdown",
      "id": "8530bd33",
      "metadata": {
        "id": "8530bd33",
        "papermill": {
          "duration": 0.029668,
          "end_time": "2022-08-06T18:00:11.297119",
          "exception": false,
          "start_time": "2022-08-06T18:00:11.267451",
          "status": "completed"
        },
        "tags": []
      },
      "source": [
        "### Identify Inputs and Targets\n",
        "\n",
        "While the dataset contains `33` columns, not all of them are useful for modeling. Note the following:\n",
        "\n",
        "- The first column and second column- `Trial ID`and `ObsNum` is a unique ID and observation number and isn't useful for training the model.\n",
        "- The third column `IsAlert` contains the value we need to predict i.e. it's the target column.\n",
        "- Data from all the other columns (except the first,second and the third column) can be used as inputs to the model.\n",
        " "
      ]
    },
    {
      "cell_type": "markdown",
      "id": "0464b663",
      "metadata": {
        "id": "0464b663",
        "papermill": {
          "duration": 0.030014,
          "end_time": "2022-08-06T18:00:11.357919",
          "exception": false,
          "start_time": "2022-08-06T18:00:11.327905",
          "status": "completed"
        },
        "tags": []
      },
      "source": [
        "> **QUESTION 4**: Create a list `input_cols` of column names containing data that can be used as input to train the model, and identify the target column as the variable `target_col`."
      ]
    },
    {
      "cell_type": "code",
      "execution_count": null,
      "id": "ddf1a714",
      "metadata": {
        "execution": {
          "iopub.execute_input": "2022-08-06T18:00:11.421465Z",
          "iopub.status.busy": "2022-08-06T18:00:11.420995Z",
          "iopub.status.idle": "2022-08-06T18:00:11.426383Z",
          "shell.execute_reply": "2022-08-06T18:00:11.425103Z"
        },
        "id": "ddf1a714",
        "papermill": {
          "duration": 0.040716,
          "end_time": "2022-08-06T18:00:11.428930",
          "exception": false,
          "start_time": "2022-08-06T18:00:11.388214",
          "status": "completed"
        },
        "tags": []
      },
      "outputs": [],
      "source": [
        "# Identify the input columns (a list of column names)\n",
        "input_cols = list(ford.columns)[3:]"
      ]
    },
    {
      "cell_type": "code",
      "execution_count": null,
      "id": "289a3ddb",
      "metadata": {
        "execution": {
          "iopub.execute_input": "2022-08-06T18:00:11.490480Z",
          "iopub.status.busy": "2022-08-06T18:00:11.490041Z",
          "iopub.status.idle": "2022-08-06T18:00:11.497924Z",
          "shell.execute_reply": "2022-08-06T18:00:11.496031Z"
        },
        "id": "289a3ddb",
        "outputId": "f9b63fe0-c82f-4c7e-dc43-442e2997f354",
        "papermill": {
          "duration": 0.043167,
          "end_time": "2022-08-06T18:00:11.501520",
          "exception": false,
          "start_time": "2022-08-06T18:00:11.458353",
          "status": "completed"
        },
        "tags": []
      },
      "outputs": [
        {
          "name": "stdout",
          "output_type": "stream",
          "text": [
            "['P1', 'P2', 'P3', 'P4', 'P5', 'P6', 'P7', 'P8', 'E1', 'E2', 'E3', 'E4', 'E5', 'E6', 'E7', 'E8', 'E9', 'E10', 'E11', 'V1', 'V2', 'V3', 'V4', 'V5', 'V6', 'V7', 'V8', 'V9', 'V10', 'V11']\n"
          ]
        }
      ],
      "source": [
        "print(input_cols)"
      ]
    },
    {
      "cell_type": "code",
      "execution_count": null,
      "id": "a62cc4ea",
      "metadata": {
        "execution": {
          "iopub.execute_input": "2022-08-06T18:00:11.566197Z",
          "iopub.status.busy": "2022-08-06T18:00:11.565710Z",
          "iopub.status.idle": "2022-08-06T18:00:11.571517Z",
          "shell.execute_reply": "2022-08-06T18:00:11.570042Z"
        },
        "id": "a62cc4ea",
        "papermill": {
          "duration": 0.041023,
          "end_time": "2022-08-06T18:00:11.574255",
          "exception": false,
          "start_time": "2022-08-06T18:00:11.533232",
          "status": "completed"
        },
        "tags": []
      },
      "outputs": [],
      "source": [
        "# Identify the name of the target column (a single string, not a list)\n",
        "target_col =list(ford.columns)[2]"
      ]
    },
    {
      "cell_type": "code",
      "execution_count": null,
      "id": "9dfd867c",
      "metadata": {
        "execution": {
          "iopub.execute_input": "2022-08-06T18:00:11.637581Z",
          "iopub.status.busy": "2022-08-06T18:00:11.637128Z",
          "iopub.status.idle": "2022-08-06T18:00:11.644308Z",
          "shell.execute_reply": "2022-08-06T18:00:11.642716Z"
        },
        "id": "9dfd867c",
        "outputId": "18bf2214-55f8-4bdf-fc81-f5544208bcb6",
        "papermill": {
          "duration": 0.04357,
          "end_time": "2022-08-06T18:00:11.647981",
          "exception": false,
          "start_time": "2022-08-06T18:00:11.604411",
          "status": "completed"
        },
        "tags": []
      },
      "outputs": [
        {
          "name": "stdout",
          "output_type": "stream",
          "text": [
            "IsAlert\n"
          ]
        }
      ],
      "source": [
        "print(target_col)"
      ]
    },
    {
      "cell_type": "markdown",
      "id": "38a16e9c",
      "metadata": {
        "id": "38a16e9c",
        "papermill": {
          "duration": 0.029608,
          "end_time": "2022-08-06T18:00:11.708796",
          "exception": false,
          "start_time": "2022-08-06T18:00:11.679188",
          "status": "completed"
        },
        "tags": []
      },
      "source": [
        "Make sure that the `Id` and `SalePrice` columns are not included in `input_cols`.\n",
        "\n",
        "Now that we've identified the input and target columns, we can separate input & target data."
      ]
    },
    {
      "cell_type": "code",
      "execution_count": null,
      "id": "59a06080",
      "metadata": {
        "execution": {
          "iopub.execute_input": "2022-08-06T18:00:11.771144Z",
          "iopub.status.busy": "2022-08-06T18:00:11.770634Z",
          "iopub.status.idle": "2022-08-06T18:00:11.852383Z",
          "shell.execute_reply": "2022-08-06T18:00:11.850965Z"
        },
        "id": "59a06080",
        "papermill": {
          "duration": 0.116647,
          "end_time": "2022-08-06T18:00:11.855103",
          "exception": false,
          "start_time": "2022-08-06T18:00:11.738456",
          "status": "completed"
        },
        "tags": []
      },
      "outputs": [],
      "source": [
        "inputs_df = ford[input_cols]\n",
        "targets = ford[target_col]"
      ]
    },
    {
      "cell_type": "code",
      "execution_count": null,
      "id": "fb292d1f",
      "metadata": {
        "execution": {
          "iopub.execute_input": "2022-08-06T18:00:11.916469Z",
          "iopub.status.busy": "2022-08-06T18:00:11.916003Z",
          "iopub.status.idle": "2022-08-06T18:00:11.962217Z",
          "shell.execute_reply": "2022-08-06T18:00:11.961005Z"
        },
        "id": "fb292d1f",
        "outputId": "ee7d9350-3910-42c3-9fd0-956563664428",
        "papermill": {
          "duration": 0.08039,
          "end_time": "2022-08-06T18:00:11.964895",
          "exception": false,
          "start_time": "2022-08-06T18:00:11.884505",
          "status": "completed"
        },
        "tags": []
      },
      "outputs": [
        {
          "data": {
            "text/html": [
              "<div>\n",
              "<style scoped>\n",
              "    .dataframe tbody tr th:only-of-type {\n",
              "        vertical-align: middle;\n",
              "    }\n",
              "\n",
              "    .dataframe tbody tr th {\n",
              "        vertical-align: top;\n",
              "    }\n",
              "\n",
              "    .dataframe thead th {\n",
              "        text-align: right;\n",
              "    }\n",
              "</style>\n",
              "<table border=\"1\" class=\"dataframe\">\n",
              "  <thead>\n",
              "    <tr style=\"text-align: right;\">\n",
              "      <th></th>\n",
              "      <th>P1</th>\n",
              "      <th>P2</th>\n",
              "      <th>P3</th>\n",
              "      <th>P4</th>\n",
              "      <th>P5</th>\n",
              "      <th>P6</th>\n",
              "      <th>P7</th>\n",
              "      <th>P8</th>\n",
              "      <th>E1</th>\n",
              "      <th>E2</th>\n",
              "      <th>E3</th>\n",
              "      <th>E4</th>\n",
              "      <th>E5</th>\n",
              "      <th>E6</th>\n",
              "      <th>E7</th>\n",
              "      <th>E8</th>\n",
              "      <th>E9</th>\n",
              "      <th>E10</th>\n",
              "      <th>E11</th>\n",
              "      <th>V1</th>\n",
              "      <th>V2</th>\n",
              "      <th>V3</th>\n",
              "      <th>V4</th>\n",
              "      <th>V5</th>\n",
              "      <th>V6</th>\n",
              "      <th>V7</th>\n",
              "      <th>V8</th>\n",
              "      <th>V9</th>\n",
              "      <th>V10</th>\n",
              "      <th>V11</th>\n",
              "    </tr>\n",
              "  </thead>\n",
              "  <tbody>\n",
              "    <tr>\n",
              "      <th>0</th>\n",
              "      <td>34.7406</td>\n",
              "      <td>9.84593</td>\n",
              "      <td>1400</td>\n",
              "      <td>42.8571</td>\n",
              "      <td>0.290601</td>\n",
              "      <td>572</td>\n",
              "      <td>104.8950</td>\n",
              "      <td>0</td>\n",
              "      <td>0.000</td>\n",
              "      <td>0.00</td>\n",
              "      <td>1</td>\n",
              "      <td>-20</td>\n",
              "      <td>0.015875</td>\n",
              "      <td>324</td>\n",
              "      <td>1</td>\n",
              "      <td>1</td>\n",
              "      <td>1</td>\n",
              "      <td>57</td>\n",
              "      <td>0.0</td>\n",
              "      <td>101.96</td>\n",
              "      <td>0.175</td>\n",
              "      <td>752</td>\n",
              "      <td>5.99375</td>\n",
              "      <td>0</td>\n",
              "      <td>2005</td>\n",
              "      <td>0</td>\n",
              "      <td>13.4</td>\n",
              "      <td>0</td>\n",
              "      <td>4</td>\n",
              "      <td>14.8004</td>\n",
              "    </tr>\n",
              "    <tr>\n",
              "      <th>1</th>\n",
              "      <td>34.4215</td>\n",
              "      <td>13.41120</td>\n",
              "      <td>1400</td>\n",
              "      <td>42.8571</td>\n",
              "      <td>0.290601</td>\n",
              "      <td>572</td>\n",
              "      <td>104.8950</td>\n",
              "      <td>0</td>\n",
              "      <td>0.000</td>\n",
              "      <td>0.00</td>\n",
              "      <td>1</td>\n",
              "      <td>-20</td>\n",
              "      <td>0.015875</td>\n",
              "      <td>324</td>\n",
              "      <td>1</td>\n",
              "      <td>1</td>\n",
              "      <td>1</td>\n",
              "      <td>57</td>\n",
              "      <td>0.0</td>\n",
              "      <td>101.98</td>\n",
              "      <td>0.455</td>\n",
              "      <td>752</td>\n",
              "      <td>5.99375</td>\n",
              "      <td>0</td>\n",
              "      <td>2007</td>\n",
              "      <td>0</td>\n",
              "      <td>13.4</td>\n",
              "      <td>0</td>\n",
              "      <td>4</td>\n",
              "      <td>14.7729</td>\n",
              "    </tr>\n",
              "    <tr>\n",
              "      <th>2</th>\n",
              "      <td>34.3447</td>\n",
              "      <td>15.18520</td>\n",
              "      <td>1400</td>\n",
              "      <td>42.8571</td>\n",
              "      <td>0.290601</td>\n",
              "      <td>576</td>\n",
              "      <td>104.1670</td>\n",
              "      <td>0</td>\n",
              "      <td>0.000</td>\n",
              "      <td>0.00</td>\n",
              "      <td>1</td>\n",
              "      <td>-20</td>\n",
              "      <td>0.015875</td>\n",
              "      <td>324</td>\n",
              "      <td>1</td>\n",
              "      <td>1</td>\n",
              "      <td>1</td>\n",
              "      <td>57</td>\n",
              "      <td>0.0</td>\n",
              "      <td>101.97</td>\n",
              "      <td>0.280</td>\n",
              "      <td>752</td>\n",
              "      <td>5.99375</td>\n",
              "      <td>0</td>\n",
              "      <td>2011</td>\n",
              "      <td>0</td>\n",
              "      <td>13.4</td>\n",
              "      <td>0</td>\n",
              "      <td>4</td>\n",
              "      <td>14.7736</td>\n",
              "    </tr>\n",
              "    <tr>\n",
              "      <th>3</th>\n",
              "      <td>34.3421</td>\n",
              "      <td>8.84696</td>\n",
              "      <td>1400</td>\n",
              "      <td>42.8571</td>\n",
              "      <td>0.290601</td>\n",
              "      <td>576</td>\n",
              "      <td>104.1670</td>\n",
              "      <td>0</td>\n",
              "      <td>0.000</td>\n",
              "      <td>0.00</td>\n",
              "      <td>1</td>\n",
              "      <td>-20</td>\n",
              "      <td>0.015875</td>\n",
              "      <td>324</td>\n",
              "      <td>1</td>\n",
              "      <td>1</td>\n",
              "      <td>1</td>\n",
              "      <td>57</td>\n",
              "      <td>0.0</td>\n",
              "      <td>101.99</td>\n",
              "      <td>0.070</td>\n",
              "      <td>752</td>\n",
              "      <td>5.99375</td>\n",
              "      <td>0</td>\n",
              "      <td>2015</td>\n",
              "      <td>0</td>\n",
              "      <td>13.4</td>\n",
              "      <td>0</td>\n",
              "      <td>4</td>\n",
              "      <td>14.7667</td>\n",
              "    </tr>\n",
              "    <tr>\n",
              "      <th>4</th>\n",
              "      <td>34.3322</td>\n",
              "      <td>14.69940</td>\n",
              "      <td>1400</td>\n",
              "      <td>42.8571</td>\n",
              "      <td>0.290601</td>\n",
              "      <td>576</td>\n",
              "      <td>104.1670</td>\n",
              "      <td>0</td>\n",
              "      <td>0.000</td>\n",
              "      <td>0.00</td>\n",
              "      <td>1</td>\n",
              "      <td>-20</td>\n",
              "      <td>0.015875</td>\n",
              "      <td>324</td>\n",
              "      <td>1</td>\n",
              "      <td>1</td>\n",
              "      <td>1</td>\n",
              "      <td>57</td>\n",
              "      <td>0.0</td>\n",
              "      <td>102.07</td>\n",
              "      <td>0.175</td>\n",
              "      <td>752</td>\n",
              "      <td>5.99375</td>\n",
              "      <td>0</td>\n",
              "      <td>2017</td>\n",
              "      <td>0</td>\n",
              "      <td>13.4</td>\n",
              "      <td>0</td>\n",
              "      <td>4</td>\n",
              "      <td>14.7757</td>\n",
              "    </tr>\n",
              "    <tr>\n",
              "      <th>...</th>\n",
              "      <td>...</td>\n",
              "      <td>...</td>\n",
              "      <td>...</td>\n",
              "      <td>...</td>\n",
              "      <td>...</td>\n",
              "      <td>...</td>\n",
              "      <td>...</td>\n",
              "      <td>...</td>\n",
              "      <td>...</td>\n",
              "      <td>...</td>\n",
              "      <td>...</td>\n",
              "      <td>...</td>\n",
              "      <td>...</td>\n",
              "      <td>...</td>\n",
              "      <td>...</td>\n",
              "      <td>...</td>\n",
              "      <td>...</td>\n",
              "      <td>...</td>\n",
              "      <td>...</td>\n",
              "      <td>...</td>\n",
              "      <td>...</td>\n",
              "      <td>...</td>\n",
              "      <td>...</td>\n",
              "      <td>...</td>\n",
              "      <td>...</td>\n",
              "      <td>...</td>\n",
              "      <td>...</td>\n",
              "      <td>...</td>\n",
              "      <td>...</td>\n",
              "      <td>...</td>\n",
              "    </tr>\n",
              "    <tr>\n",
              "      <th>604324</th>\n",
              "      <td>32.0051</td>\n",
              "      <td>10.13240</td>\n",
              "      <td>800</td>\n",
              "      <td>75.0000</td>\n",
              "      <td>0.081731</td>\n",
              "      <td>680</td>\n",
              "      <td>88.2353</td>\n",
              "      <td>0</td>\n",
              "      <td>17.807</td>\n",
              "      <td>222.11</td>\n",
              "      <td>0</td>\n",
              "      <td>0</td>\n",
              "      <td>0.016379</td>\n",
              "      <td>322</td>\n",
              "      <td>2</td>\n",
              "      <td>2</td>\n",
              "      <td>1</td>\n",
              "      <td>64</td>\n",
              "      <td>0.0</td>\n",
              "      <td>91.51</td>\n",
              "      <td>0.280</td>\n",
              "      <td>240</td>\n",
              "      <td>3.01875</td>\n",
              "      <td>0</td>\n",
              "      <td>1801</td>\n",
              "      <td>0</td>\n",
              "      <td>30.4</td>\n",
              "      <td>0</td>\n",
              "      <td>4</td>\n",
              "      <td>15.8113</td>\n",
              "    </tr>\n",
              "    <tr>\n",
              "      <th>604325</th>\n",
              "      <td>32.0393</td>\n",
              "      <td>12.45040</td>\n",
              "      <td>800</td>\n",
              "      <td>75.0000</td>\n",
              "      <td>0.081731</td>\n",
              "      <td>680</td>\n",
              "      <td>88.2353</td>\n",
              "      <td>0</td>\n",
              "      <td>17.807</td>\n",
              "      <td>222.11</td>\n",
              "      <td>0</td>\n",
              "      <td>0</td>\n",
              "      <td>0.016379</td>\n",
              "      <td>322</td>\n",
              "      <td>2</td>\n",
              "      <td>2</td>\n",
              "      <td>1</td>\n",
              "      <td>64</td>\n",
              "      <td>0.0</td>\n",
              "      <td>91.51</td>\n",
              "      <td>0.280</td>\n",
              "      <td>240</td>\n",
              "      <td>3.01875</td>\n",
              "      <td>0</td>\n",
              "      <td>1801</td>\n",
              "      <td>0</td>\n",
              "      <td>30.4</td>\n",
              "      <td>0</td>\n",
              "      <td>4</td>\n",
              "      <td>15.8018</td>\n",
              "    </tr>\n",
              "    <tr>\n",
              "      <th>604326</th>\n",
              "      <td>32.0762</td>\n",
              "      <td>10.06180</td>\n",
              "      <td>800</td>\n",
              "      <td>75.0000</td>\n",
              "      <td>0.081731</td>\n",
              "      <td>680</td>\n",
              "      <td>88.2353</td>\n",
              "      <td>0</td>\n",
              "      <td>17.807</td>\n",
              "      <td>222.11</td>\n",
              "      <td>0</td>\n",
              "      <td>0</td>\n",
              "      <td>0.016379</td>\n",
              "      <td>322</td>\n",
              "      <td>2</td>\n",
              "      <td>2</td>\n",
              "      <td>1</td>\n",
              "      <td>64</td>\n",
              "      <td>0.0</td>\n",
              "      <td>91.56</td>\n",
              "      <td>0.175</td>\n",
              "      <td>240</td>\n",
              "      <td>3.01875</td>\n",
              "      <td>0</td>\n",
              "      <td>1800</td>\n",
              "      <td>0</td>\n",
              "      <td>31.3</td>\n",
              "      <td>0</td>\n",
              "      <td>4</td>\n",
              "      <td>15.8120</td>\n",
              "    </tr>\n",
              "    <tr>\n",
              "      <th>604327</th>\n",
              "      <td>32.1154</td>\n",
              "      <td>17.84500</td>\n",
              "      <td>800</td>\n",
              "      <td>75.0000</td>\n",
              "      <td>0.081731</td>\n",
              "      <td>680</td>\n",
              "      <td>88.2353</td>\n",
              "      <td>0</td>\n",
              "      <td>17.807</td>\n",
              "      <td>222.11</td>\n",
              "      <td>0</td>\n",
              "      <td>0</td>\n",
              "      <td>0.016379</td>\n",
              "      <td>322</td>\n",
              "      <td>2</td>\n",
              "      <td>2</td>\n",
              "      <td>1</td>\n",
              "      <td>64</td>\n",
              "      <td>0.0</td>\n",
              "      <td>91.56</td>\n",
              "      <td>0.175</td>\n",
              "      <td>240</td>\n",
              "      <td>3.01875</td>\n",
              "      <td>0</td>\n",
              "      <td>1800</td>\n",
              "      <td>0</td>\n",
              "      <td>31.3</td>\n",
              "      <td>0</td>\n",
              "      <td>4</td>\n",
              "      <td>15.8270</td>\n",
              "    </tr>\n",
              "    <tr>\n",
              "      <th>604328</th>\n",
              "      <td>32.1154</td>\n",
              "      <td>17.84500</td>\n",
              "      <td>800</td>\n",
              "      <td>75.0000</td>\n",
              "      <td>0.081731</td>\n",
              "      <td>680</td>\n",
              "      <td>88.2353</td>\n",
              "      <td>0</td>\n",
              "      <td>17.807</td>\n",
              "      <td>222.11</td>\n",
              "      <td>0</td>\n",
              "      <td>0</td>\n",
              "      <td>0.016379</td>\n",
              "      <td>322</td>\n",
              "      <td>2</td>\n",
              "      <td>2</td>\n",
              "      <td>1</td>\n",
              "      <td>64</td>\n",
              "      <td>0.0</td>\n",
              "      <td>91.56</td>\n",
              "      <td>0.175</td>\n",
              "      <td>240</td>\n",
              "      <td>3.01875</td>\n",
              "      <td>0</td>\n",
              "      <td>1800</td>\n",
              "      <td>0</td>\n",
              "      <td>31.3</td>\n",
              "      <td>0</td>\n",
              "      <td>4</td>\n",
              "      <td>15.8270</td>\n",
              "    </tr>\n",
              "  </tbody>\n",
              "</table>\n",
              "<p>604329 rows × 30 columns</p>\n",
              "</div>"
            ],
            "text/plain": [
              "             P1        P2    P3       P4        P5   P6        P7  P8      E1  \\\n",
              "0       34.7406   9.84593  1400  42.8571  0.290601  572  104.8950   0   0.000   \n",
              "1       34.4215  13.41120  1400  42.8571  0.290601  572  104.8950   0   0.000   \n",
              "2       34.3447  15.18520  1400  42.8571  0.290601  576  104.1670   0   0.000   \n",
              "3       34.3421   8.84696  1400  42.8571  0.290601  576  104.1670   0   0.000   \n",
              "4       34.3322  14.69940  1400  42.8571  0.290601  576  104.1670   0   0.000   \n",
              "...         ...       ...   ...      ...       ...  ...       ...  ..     ...   \n",
              "604324  32.0051  10.13240   800  75.0000  0.081731  680   88.2353   0  17.807   \n",
              "604325  32.0393  12.45040   800  75.0000  0.081731  680   88.2353   0  17.807   \n",
              "604326  32.0762  10.06180   800  75.0000  0.081731  680   88.2353   0  17.807   \n",
              "604327  32.1154  17.84500   800  75.0000  0.081731  680   88.2353   0  17.807   \n",
              "604328  32.1154  17.84500   800  75.0000  0.081731  680   88.2353   0  17.807   \n",
              "\n",
              "            E2  E3  E4        E5   E6  E7  E8  E9  E10  E11      V1     V2  \\\n",
              "0         0.00   1 -20  0.015875  324   1   1   1   57  0.0  101.96  0.175   \n",
              "1         0.00   1 -20  0.015875  324   1   1   1   57  0.0  101.98  0.455   \n",
              "2         0.00   1 -20  0.015875  324   1   1   1   57  0.0  101.97  0.280   \n",
              "3         0.00   1 -20  0.015875  324   1   1   1   57  0.0  101.99  0.070   \n",
              "4         0.00   1 -20  0.015875  324   1   1   1   57  0.0  102.07  0.175   \n",
              "...        ...  ..  ..       ...  ...  ..  ..  ..  ...  ...     ...    ...   \n",
              "604324  222.11   0   0  0.016379  322   2   2   1   64  0.0   91.51  0.280   \n",
              "604325  222.11   0   0  0.016379  322   2   2   1   64  0.0   91.51  0.280   \n",
              "604326  222.11   0   0  0.016379  322   2   2   1   64  0.0   91.56  0.175   \n",
              "604327  222.11   0   0  0.016379  322   2   2   1   64  0.0   91.56  0.175   \n",
              "604328  222.11   0   0  0.016379  322   2   2   1   64  0.0   91.56  0.175   \n",
              "\n",
              "         V3       V4  V5    V6  V7    V8  V9  V10      V11  \n",
              "0       752  5.99375   0  2005   0  13.4   0    4  14.8004  \n",
              "1       752  5.99375   0  2007   0  13.4   0    4  14.7729  \n",
              "2       752  5.99375   0  2011   0  13.4   0    4  14.7736  \n",
              "3       752  5.99375   0  2015   0  13.4   0    4  14.7667  \n",
              "4       752  5.99375   0  2017   0  13.4   0    4  14.7757  \n",
              "...     ...      ...  ..   ...  ..   ...  ..  ...      ...  \n",
              "604324  240  3.01875   0  1801   0  30.4   0    4  15.8113  \n",
              "604325  240  3.01875   0  1801   0  30.4   0    4  15.8018  \n",
              "604326  240  3.01875   0  1800   0  31.3   0    4  15.8120  \n",
              "604327  240  3.01875   0  1800   0  31.3   0    4  15.8270  \n",
              "604328  240  3.01875   0  1800   0  31.3   0    4  15.8270  \n",
              "\n",
              "[604329 rows x 30 columns]"
            ]
          },
          "execution_count": 18,
          "metadata": {},
          "output_type": "execute_result"
        }
      ],
      "source": [
        "inputs_df"
      ]
    },
    {
      "cell_type": "code",
      "execution_count": null,
      "id": "0a949616",
      "metadata": {
        "execution": {
          "iopub.execute_input": "2022-08-06T18:00:12.031360Z",
          "iopub.status.busy": "2022-08-06T18:00:12.030538Z",
          "iopub.status.idle": "2022-08-06T18:00:12.039090Z",
          "shell.execute_reply": "2022-08-06T18:00:12.037787Z"
        },
        "id": "0a949616",
        "outputId": "e54e21cf-0c14-4d20-cd96-36e3b78ddac3",
        "papermill": {
          "duration": 0.046003,
          "end_time": "2022-08-06T18:00:12.041528",
          "exception": false,
          "start_time": "2022-08-06T18:00:11.995525",
          "status": "completed"
        },
        "tags": []
      },
      "outputs": [
        {
          "data": {
            "text/plain": [
              "0         0\n",
              "1         0\n",
              "2         0\n",
              "3         0\n",
              "4         0\n",
              "         ..\n",
              "604324    1\n",
              "604325    1\n",
              "604326    1\n",
              "604327    1\n",
              "604328    1\n",
              "Name: IsAlert, Length: 604329, dtype: int64"
            ]
          },
          "execution_count": 19,
          "metadata": {},
          "output_type": "execute_result"
        }
      ],
      "source": [
        "targets"
      ]
    },
    {
      "cell_type": "markdown",
      "id": "5e51dfbc",
      "metadata": {
        "id": "5e51dfbc",
        "papermill": {
          "duration": 0.03118,
          "end_time": "2022-08-06T18:00:12.104370",
          "exception": false,
          "start_time": "2022-08-06T18:00:12.073190",
          "status": "completed"
        },
        "tags": []
      },
      "source": [
        "###Identify Numeric and Categorical Data\n",
        "The next step in data preparation is to identify numeric and categorical columns. We can do this by looking at the data type of each column."
      ]
    },
    {
      "cell_type": "markdown",
      "id": "05a7aa76",
      "metadata": {
        "id": "05a7aa76",
        "papermill": {
          "duration": 0.031572,
          "end_time": "2022-08-06T18:00:12.167109",
          "exception": false,
          "start_time": "2022-08-06T18:00:12.135537",
          "status": "completed"
        },
        "tags": []
      },
      "source": [
        "> **QUESTION 5**: Crate two lists `numeric_cols` and `categorical_cols` containing names of numeric and categorical input columns within the dataframe respectively. Numeric columns have data types `int64` and `float64`, whereas categorical columns have the data type `object`.\n",
        ">\n",
        "> *Hint*: See this [StackOverflow question](https://stackoverflow.com/questions/25039626/how-do-i-find-numeric-columns-in-pandas). "
      ]
    },
    {
      "cell_type": "code",
      "execution_count": null,
      "id": "318e9627",
      "metadata": {
        "execution": {
          "iopub.execute_input": "2022-08-06T18:00:12.232000Z",
          "iopub.status.busy": "2022-08-06T18:00:12.231550Z",
          "iopub.status.idle": "2022-08-06T18:00:12.320296Z",
          "shell.execute_reply": "2022-08-06T18:00:12.319260Z"
        },
        "id": "318e9627",
        "papermill": {
          "duration": 0.124654,
          "end_time": "2022-08-06T18:00:12.323132",
          "exception": false,
          "start_time": "2022-08-06T18:00:12.198478",
          "status": "completed"
        },
        "tags": []
      },
      "outputs": [],
      "source": [
        "#numerical=medical.select_dtypes(include=np.number).columns.tolist()\n",
        "numeric_cols = inputs_df.select_dtypes(include=['int64', 'float64']).columns.tolist()\n",
        "categorical_cols = inputs_df.select_dtypes(include=[object]).columns.tolist()"
      ]
    },
    {
      "cell_type": "code",
      "execution_count": null,
      "id": "55da816c",
      "metadata": {
        "execution": {
          "iopub.execute_input": "2022-08-06T18:00:12.389056Z",
          "iopub.status.busy": "2022-08-06T18:00:12.388191Z",
          "iopub.status.idle": "2022-08-06T18:00:12.395538Z",
          "shell.execute_reply": "2022-08-06T18:00:12.394285Z"
        },
        "id": "55da816c",
        "outputId": "a43168e5-c553-491d-b0f6-e4388037a7fe",
        "papermill": {
          "duration": 0.042844,
          "end_time": "2022-08-06T18:00:12.397997",
          "exception": false,
          "start_time": "2022-08-06T18:00:12.355153",
          "status": "completed"
        },
        "tags": []
      },
      "outputs": [
        {
          "data": {
            "text/plain": [
              "['P1',\n",
              " 'P2',\n",
              " 'P3',\n",
              " 'P4',\n",
              " 'P5',\n",
              " 'P6',\n",
              " 'P7',\n",
              " 'P8',\n",
              " 'E1',\n",
              " 'E2',\n",
              " 'E3',\n",
              " 'E4',\n",
              " 'E5',\n",
              " 'E6',\n",
              " 'E7',\n",
              " 'E8',\n",
              " 'E9',\n",
              " 'E10',\n",
              " 'E11',\n",
              " 'V1',\n",
              " 'V2',\n",
              " 'V3',\n",
              " 'V4',\n",
              " 'V5',\n",
              " 'V6',\n",
              " 'V7',\n",
              " 'V8',\n",
              " 'V9',\n",
              " 'V10',\n",
              " 'V11']"
            ]
          },
          "execution_count": 21,
          "metadata": {},
          "output_type": "execute_result"
        }
      ],
      "source": [
        "numeric_cols"
      ]
    },
    {
      "cell_type": "code",
      "execution_count": null,
      "id": "ae9ac79f",
      "metadata": {
        "execution": {
          "iopub.execute_input": "2022-08-06T18:00:12.463965Z",
          "iopub.status.busy": "2022-08-06T18:00:12.463152Z",
          "iopub.status.idle": "2022-08-06T18:00:12.470066Z",
          "shell.execute_reply": "2022-08-06T18:00:12.468978Z"
        },
        "id": "ae9ac79f",
        "outputId": "8152bc3b-47b0-4763-b2b3-0f81dd206f80",
        "papermill": {
          "duration": 0.04292,
          "end_time": "2022-08-06T18:00:12.472555",
          "exception": false,
          "start_time": "2022-08-06T18:00:12.429635",
          "status": "completed"
        },
        "tags": []
      },
      "outputs": [
        {
          "data": {
            "text/plain": [
              "[]"
            ]
          },
          "execution_count": 22,
          "metadata": {},
          "output_type": "execute_result"
        }
      ],
      "source": [
        "categorical_cols"
      ]
    },
    {
      "cell_type": "markdown",
      "id": "12f9022f",
      "metadata": {
        "id": "12f9022f",
        "papermill": {
          "duration": 0.031263,
          "end_time": "2022-08-06T18:00:12.535100",
          "exception": false,
          "start_time": "2022-08-06T18:00:12.503837",
          "status": "completed"
        },
        "tags": []
      },
      "source": [
        "###Scale Numerical Values\n",
        "The numeric columns in our dataset have varying ranges."
      ]
    },
    {
      "cell_type": "code",
      "execution_count": null,
      "id": "1d22c17a",
      "metadata": {
        "execution": {
          "iopub.execute_input": "2022-08-06T18:00:12.601055Z",
          "iopub.status.busy": "2022-08-06T18:00:12.600296Z",
          "iopub.status.idle": "2022-08-06T18:00:13.356448Z",
          "shell.execute_reply": "2022-08-06T18:00:13.355427Z"
        },
        "id": "1d22c17a",
        "outputId": "6656f875-ea2f-4782-f258-83a12cd64f29",
        "papermill": {
          "duration": 0.791968,
          "end_time": "2022-08-06T18:00:13.358997",
          "exception": false,
          "start_time": "2022-08-06T18:00:12.567029",
          "status": "completed"
        },
        "tags": []
      },
      "outputs": [
        {
          "data": {
            "text/html": [
              "<div>\n",
              "<style scoped>\n",
              "    .dataframe tbody tr th:only-of-type {\n",
              "        vertical-align: middle;\n",
              "    }\n",
              "\n",
              "    .dataframe tbody tr th {\n",
              "        vertical-align: top;\n",
              "    }\n",
              "\n",
              "    .dataframe thead th {\n",
              "        text-align: right;\n",
              "    }\n",
              "</style>\n",
              "<table border=\"1\" class=\"dataframe\">\n",
              "  <thead>\n",
              "    <tr style=\"text-align: right;\">\n",
              "      <th></th>\n",
              "      <th>P1</th>\n",
              "      <th>P2</th>\n",
              "      <th>P3</th>\n",
              "      <th>P4</th>\n",
              "      <th>P5</th>\n",
              "      <th>P6</th>\n",
              "      <th>P7</th>\n",
              "      <th>P8</th>\n",
              "      <th>E1</th>\n",
              "      <th>E2</th>\n",
              "      <th>E3</th>\n",
              "      <th>E4</th>\n",
              "      <th>E5</th>\n",
              "      <th>E6</th>\n",
              "      <th>E7</th>\n",
              "      <th>E8</th>\n",
              "      <th>E9</th>\n",
              "      <th>E10</th>\n",
              "      <th>E11</th>\n",
              "      <th>V1</th>\n",
              "      <th>V2</th>\n",
              "      <th>V3</th>\n",
              "      <th>V4</th>\n",
              "      <th>V5</th>\n",
              "      <th>V6</th>\n",
              "      <th>V7</th>\n",
              "      <th>V8</th>\n",
              "      <th>V9</th>\n",
              "      <th>V10</th>\n",
              "      <th>V11</th>\n",
              "    </tr>\n",
              "  </thead>\n",
              "  <tbody>\n",
              "    <tr>\n",
              "      <th>min</th>\n",
              "      <td>-22.4812</td>\n",
              "      <td>-45.6292</td>\n",
              "      <td>504.0</td>\n",
              "      <td>23.8853</td>\n",
              "      <td>0.03892</td>\n",
              "      <td>128.0</td>\n",
              "      <td>0.262224</td>\n",
              "      <td>0.0</td>\n",
              "      <td>0.000</td>\n",
              "      <td>0.000</td>\n",
              "      <td>0.0</td>\n",
              "      <td>-250.0</td>\n",
              "      <td>0.008000</td>\n",
              "      <td>260.0</td>\n",
              "      <td>0.0</td>\n",
              "      <td>0.0</td>\n",
              "      <td>0.0</td>\n",
              "      <td>0.0</td>\n",
              "      <td>0.0</td>\n",
              "      <td>0.0</td>\n",
              "      <td>-4.795</td>\n",
              "      <td>240.0</td>\n",
              "      <td>0.000</td>\n",
              "      <td>0.0</td>\n",
              "      <td>0.0</td>\n",
              "      <td>0.0</td>\n",
              "      <td>0.0</td>\n",
              "      <td>0.0</td>\n",
              "      <td>1.0</td>\n",
              "      <td>1.67673</td>\n",
              "    </tr>\n",
              "    <tr>\n",
              "      <th>max</th>\n",
              "      <td>101.3510</td>\n",
              "      <td>71.1737</td>\n",
              "      <td>2512.0</td>\n",
              "      <td>119.0480</td>\n",
              "      <td>27.20220</td>\n",
              "      <td>228812.0</td>\n",
              "      <td>468.750000</td>\n",
              "      <td>0.0</td>\n",
              "      <td>243.991</td>\n",
              "      <td>359.995</td>\n",
              "      <td>4.0</td>\n",
              "      <td>260.0</td>\n",
              "      <td>0.023939</td>\n",
              "      <td>513.0</td>\n",
              "      <td>25.0</td>\n",
              "      <td>9.0</td>\n",
              "      <td>1.0</td>\n",
              "      <td>127.0</td>\n",
              "      <td>52.4</td>\n",
              "      <td>129.7</td>\n",
              "      <td>3.990</td>\n",
              "      <td>1023.0</td>\n",
              "      <td>484.488</td>\n",
              "      <td>1.0</td>\n",
              "      <td>4892.0</td>\n",
              "      <td>0.0</td>\n",
              "      <td>82.1</td>\n",
              "      <td>0.0</td>\n",
              "      <td>7.0</td>\n",
              "      <td>262.53400</td>\n",
              "    </tr>\n",
              "  </tbody>\n",
              "</table>\n",
              "</div>"
            ],
            "text/plain": [
              "           P1       P2      P3        P4        P5        P6          P7   P8  \\\n",
              "min  -22.4812 -45.6292   504.0   23.8853   0.03892     128.0    0.262224  0.0   \n",
              "max  101.3510  71.1737  2512.0  119.0480  27.20220  228812.0  468.750000  0.0   \n",
              "\n",
              "          E1       E2   E3     E4        E5     E6    E7   E8   E9    E10  \\\n",
              "min    0.000    0.000  0.0 -250.0  0.008000  260.0   0.0  0.0  0.0    0.0   \n",
              "max  243.991  359.995  4.0  260.0  0.023939  513.0  25.0  9.0  1.0  127.0   \n",
              "\n",
              "      E11     V1     V2      V3       V4   V5      V6   V7    V8   V9  V10  \\\n",
              "min   0.0    0.0 -4.795   240.0    0.000  0.0     0.0  0.0   0.0  0.0  1.0   \n",
              "max  52.4  129.7  3.990  1023.0  484.488  1.0  4892.0  0.0  82.1  0.0  7.0   \n",
              "\n",
              "           V11  \n",
              "min    1.67673  \n",
              "max  262.53400  "
            ]
          },
          "execution_count": 23,
          "metadata": {},
          "output_type": "execute_result"
        }
      ],
      "source": [
        "inputs_df[numeric_cols].describe().loc[['min', 'max']]"
      ]
    },
    {
      "cell_type": "markdown",
      "id": "31fbdebd",
      "metadata": {
        "id": "31fbdebd",
        "papermill": {
          "duration": 0.032924,
          "end_time": "2022-08-06T18:00:13.424130",
          "exception": false,
          "start_time": "2022-08-06T18:00:13.391206",
          "status": "completed"
        },
        "tags": []
      },
      "source": [
        "A good practice is to [scale numeric features](https://scikit-learn.org/stable/modules/preprocessing.html#scaling-features-to-a-range) to a small range of values e.g. $(0,1)$. Scaling numeric features ensures that no particular feature has a disproportionate impact on the model's loss. Optimization algorithms also work better in practice with smaller numbers.\n"
      ]
    },
    {
      "cell_type": "markdown",
      "id": "7bd3333e",
      "metadata": {
        "id": "7bd3333e",
        "papermill": {
          "duration": 0.031392,
          "end_time": "2022-08-06T18:00:13.488380",
          "exception": false,
          "start_time": "2022-08-06T18:00:13.456988",
          "status": "completed"
        },
        "tags": []
      },
      "source": [
        "> **QUESTION 6**: Scale numeric values to the $(0, 1)$ range using `MinMaxScaler` from `sklearn.preprocessing`."
      ]
    },
    {
      "cell_type": "code",
      "execution_count": null,
      "id": "39ca9377",
      "metadata": {
        "execution": {
          "iopub.execute_input": "2022-08-06T18:00:13.554062Z",
          "iopub.status.busy": "2022-08-06T18:00:13.553335Z",
          "iopub.status.idle": "2022-08-06T18:00:14.487415Z",
          "shell.execute_reply": "2022-08-06T18:00:14.485809Z"
        },
        "id": "39ca9377",
        "outputId": "be042c31-7515-4e8e-e88a-080fd7748c96",
        "papermill": {
          "duration": 0.970621,
          "end_time": "2022-08-06T18:00:14.490428",
          "exception": false,
          "start_time": "2022-08-06T18:00:13.519807",
          "status": "completed"
        },
        "tags": []
      },
      "outputs": [
        {
          "name": "stderr",
          "output_type": "stream",
          "text": [
            "/opt/conda/lib/python3.7/site-packages/pandas/core/frame.py:3678: SettingWithCopyWarning: \n",
            "A value is trying to be set on a copy of a slice from a DataFrame.\n",
            "Try using .loc[row_indexer,col_indexer] = value instead\n",
            "\n",
            "See the caveats in the documentation: https://pandas.pydata.org/pandas-docs/stable/user_guide/indexing.html#returning-a-view-versus-a-copy\n",
            "  self[col] = igetitem(value, i)\n"
          ]
        }
      ],
      "source": [
        "from sklearn.preprocessing import MinMaxScaler\n",
        "\n",
        "# Create the scaler\n",
        "scaler = MinMaxScaler()\n",
        "\n",
        "# Fit the scaler to the numeric columns\n",
        "scaler.fit(inputs_df[numeric_cols])\n",
        "\n",
        "# Transform and replace the numeric columns\n",
        "inputs_df[numeric_cols] = scaler.transform(inputs_df[numeric_cols])"
      ]
    },
    {
      "cell_type": "markdown",
      "id": "4ead14b9",
      "metadata": {
        "id": "4ead14b9",
        "papermill": {
          "duration": 0.031731,
          "end_time": "2022-08-06T18:00:14.554953",
          "exception": false,
          "start_time": "2022-08-06T18:00:14.523222",
          "status": "completed"
        },
        "tags": []
      },
      "source": [
        "After scaling, the ranges of all numeric columns should be (0, 1)."
      ]
    },
    {
      "cell_type": "code",
      "execution_count": null,
      "id": "9a0f15da",
      "metadata": {
        "execution": {
          "iopub.execute_input": "2022-08-06T18:00:14.625120Z",
          "iopub.status.busy": "2022-08-06T18:00:14.624617Z",
          "iopub.status.idle": "2022-08-06T18:00:15.614620Z",
          "shell.execute_reply": "2022-08-06T18:00:15.613184Z"
        },
        "id": "9a0f15da",
        "outputId": "abb2e0eb-2075-4de9-8dfc-fa84570f5d67",
        "papermill": {
          "duration": 1.027831,
          "end_time": "2022-08-06T18:00:15.617354",
          "exception": false,
          "start_time": "2022-08-06T18:00:14.589523",
          "status": "completed"
        },
        "tags": []
      },
      "outputs": [
        {
          "data": {
            "text/html": [
              "<div>\n",
              "<style scoped>\n",
              "    .dataframe tbody tr th:only-of-type {\n",
              "        vertical-align: middle;\n",
              "    }\n",
              "\n",
              "    .dataframe tbody tr th {\n",
              "        vertical-align: top;\n",
              "    }\n",
              "\n",
              "    .dataframe thead th {\n",
              "        text-align: right;\n",
              "    }\n",
              "</style>\n",
              "<table border=\"1\" class=\"dataframe\">\n",
              "  <thead>\n",
              "    <tr style=\"text-align: right;\">\n",
              "      <th></th>\n",
              "      <th>P1</th>\n",
              "      <th>P2</th>\n",
              "      <th>P3</th>\n",
              "      <th>P4</th>\n",
              "      <th>P5</th>\n",
              "      <th>P6</th>\n",
              "      <th>P7</th>\n",
              "      <th>P8</th>\n",
              "      <th>E1</th>\n",
              "      <th>E2</th>\n",
              "      <th>E3</th>\n",
              "      <th>E4</th>\n",
              "      <th>E5</th>\n",
              "      <th>E6</th>\n",
              "      <th>E7</th>\n",
              "      <th>E8</th>\n",
              "      <th>E9</th>\n",
              "      <th>E10</th>\n",
              "      <th>E11</th>\n",
              "      <th>V1</th>\n",
              "      <th>V2</th>\n",
              "      <th>V3</th>\n",
              "      <th>V4</th>\n",
              "      <th>V5</th>\n",
              "      <th>V6</th>\n",
              "      <th>V7</th>\n",
              "      <th>V8</th>\n",
              "      <th>V9</th>\n",
              "      <th>V10</th>\n",
              "      <th>V11</th>\n",
              "    </tr>\n",
              "  </thead>\n",
              "  <tbody>\n",
              "    <tr>\n",
              "      <th>min</th>\n",
              "      <td>0.0</td>\n",
              "      <td>0.0</td>\n",
              "      <td>0.0</td>\n",
              "      <td>0.0</td>\n",
              "      <td>0.0</td>\n",
              "      <td>0.0</td>\n",
              "      <td>0.0</td>\n",
              "      <td>0.0</td>\n",
              "      <td>0.0</td>\n",
              "      <td>0.0</td>\n",
              "      <td>0.0</td>\n",
              "      <td>0.0</td>\n",
              "      <td>0.0</td>\n",
              "      <td>0.0</td>\n",
              "      <td>0.0</td>\n",
              "      <td>0.0</td>\n",
              "      <td>0.0</td>\n",
              "      <td>0.0</td>\n",
              "      <td>0.0</td>\n",
              "      <td>0.0</td>\n",
              "      <td>0.0</td>\n",
              "      <td>0.0</td>\n",
              "      <td>0.0</td>\n",
              "      <td>0.0</td>\n",
              "      <td>0.0</td>\n",
              "      <td>0.0</td>\n",
              "      <td>0.0</td>\n",
              "      <td>0.0</td>\n",
              "      <td>0.0</td>\n",
              "      <td>0.0</td>\n",
              "    </tr>\n",
              "    <tr>\n",
              "      <th>max</th>\n",
              "      <td>1.0</td>\n",
              "      <td>1.0</td>\n",
              "      <td>1.0</td>\n",
              "      <td>1.0</td>\n",
              "      <td>1.0</td>\n",
              "      <td>1.0</td>\n",
              "      <td>1.0</td>\n",
              "      <td>0.0</td>\n",
              "      <td>1.0</td>\n",
              "      <td>1.0</td>\n",
              "      <td>1.0</td>\n",
              "      <td>1.0</td>\n",
              "      <td>1.0</td>\n",
              "      <td>1.0</td>\n",
              "      <td>1.0</td>\n",
              "      <td>1.0</td>\n",
              "      <td>1.0</td>\n",
              "      <td>1.0</td>\n",
              "      <td>1.0</td>\n",
              "      <td>1.0</td>\n",
              "      <td>1.0</td>\n",
              "      <td>1.0</td>\n",
              "      <td>1.0</td>\n",
              "      <td>1.0</td>\n",
              "      <td>1.0</td>\n",
              "      <td>0.0</td>\n",
              "      <td>1.0</td>\n",
              "      <td>0.0</td>\n",
              "      <td>1.0</td>\n",
              "      <td>1.0</td>\n",
              "    </tr>\n",
              "  </tbody>\n",
              "</table>\n",
              "</div>"
            ],
            "text/plain": [
              "      P1   P2   P3   P4   P5   P6   P7   P8   E1   E2   E3   E4   E5   E6  \\\n",
              "min  0.0  0.0  0.0  0.0  0.0  0.0  0.0  0.0  0.0  0.0  0.0  0.0  0.0  0.0   \n",
              "max  1.0  1.0  1.0  1.0  1.0  1.0  1.0  0.0  1.0  1.0  1.0  1.0  1.0  1.0   \n",
              "\n",
              "      E7   E8   E9  E10  E11   V1   V2   V3   V4   V5   V6   V7   V8   V9  \\\n",
              "min  0.0  0.0  0.0  0.0  0.0  0.0  0.0  0.0  0.0  0.0  0.0  0.0  0.0  0.0   \n",
              "max  1.0  1.0  1.0  1.0  1.0  1.0  1.0  1.0  1.0  1.0  1.0  0.0  1.0  0.0   \n",
              "\n",
              "     V10  V11  \n",
              "min  0.0  0.0  \n",
              "max  1.0  1.0  "
            ]
          },
          "execution_count": 25,
          "metadata": {},
          "output_type": "execute_result"
        }
      ],
      "source": [
        "inputs_df[numeric_cols].describe().loc[['min', 'max']]"
      ]
    },
    {
      "cell_type": "markdown",
      "id": "1b523c0d",
      "metadata": {
        "id": "1b523c0d",
        "papermill": {
          "duration": 0.032702,
          "end_time": "2022-08-06T18:00:15.682274",
          "exception": false,
          "start_time": "2022-08-06T18:00:15.649572",
          "status": "completed"
        },
        "tags": []
      },
      "source": [
        "###Training and Validation Set\n",
        "Finally, let's split the dataset into a training and validation set. We'll use a randomly select 25% subset of the data for validation. Also, we'll use just the numeric and encoded columns, since the inputs to our model must be numbers."
      ]
    },
    {
      "cell_type": "code",
      "execution_count": null,
      "id": "ac99069e",
      "metadata": {
        "execution": {
          "iopub.execute_input": "2022-08-06T18:00:15.751145Z",
          "iopub.status.busy": "2022-08-06T18:00:15.750634Z",
          "iopub.status.idle": "2022-08-06T18:00:16.186326Z",
          "shell.execute_reply": "2022-08-06T18:00:16.184788Z"
        },
        "id": "ac99069e",
        "papermill": {
          "duration": 0.474835,
          "end_time": "2022-08-06T18:00:16.189631",
          "exception": false,
          "start_time": "2022-08-06T18:00:15.714796",
          "status": "completed"
        },
        "tags": []
      },
      "outputs": [],
      "source": [
        "from sklearn.model_selection import train_test_split\n",
        "train_inputs, val_inputs, train_targets, val_targets = train_test_split(inputs_df[numeric_cols], \n",
        "                                                                        targets, \n",
        "                                                                        test_size=0.25, \n",
        "                                                                        random_state=42)\n"
      ]
    },
    {
      "cell_type": "code",
      "execution_count": null,
      "id": "037a738b",
      "metadata": {
        "execution": {
          "iopub.execute_input": "2022-08-06T18:00:16.259708Z",
          "iopub.status.busy": "2022-08-06T18:00:16.259255Z",
          "iopub.status.idle": "2022-08-06T18:00:16.305663Z",
          "shell.execute_reply": "2022-08-06T18:00:16.304665Z"
        },
        "id": "037a738b",
        "outputId": "0d8c7e77-7039-495f-8b0d-026f60ab1736",
        "papermill": {
          "duration": 0.084012,
          "end_time": "2022-08-06T18:00:16.308137",
          "exception": false,
          "start_time": "2022-08-06T18:00:16.224125",
          "status": "completed"
        },
        "tags": []
      },
      "outputs": [
        {
          "data": {
            "text/html": [
              "<div>\n",
              "<style scoped>\n",
              "    .dataframe tbody tr th:only-of-type {\n",
              "        vertical-align: middle;\n",
              "    }\n",
              "\n",
              "    .dataframe tbody tr th {\n",
              "        vertical-align: top;\n",
              "    }\n",
              "\n",
              "    .dataframe thead th {\n",
              "        text-align: right;\n",
              "    }\n",
              "</style>\n",
              "<table border=\"1\" class=\"dataframe\">\n",
              "  <thead>\n",
              "    <tr style=\"text-align: right;\">\n",
              "      <th></th>\n",
              "      <th>P1</th>\n",
              "      <th>P2</th>\n",
              "      <th>P3</th>\n",
              "      <th>P4</th>\n",
              "      <th>P5</th>\n",
              "      <th>P6</th>\n",
              "      <th>P7</th>\n",
              "      <th>P8</th>\n",
              "      <th>E1</th>\n",
              "      <th>E2</th>\n",
              "      <th>E3</th>\n",
              "      <th>E4</th>\n",
              "      <th>E5</th>\n",
              "      <th>E6</th>\n",
              "      <th>E7</th>\n",
              "      <th>E8</th>\n",
              "      <th>E9</th>\n",
              "      <th>E10</th>\n",
              "      <th>E11</th>\n",
              "      <th>V1</th>\n",
              "      <th>V2</th>\n",
              "      <th>V3</th>\n",
              "      <th>V4</th>\n",
              "      <th>V5</th>\n",
              "      <th>V6</th>\n",
              "      <th>V7</th>\n",
              "      <th>V8</th>\n",
              "      <th>V9</th>\n",
              "      <th>V10</th>\n",
              "      <th>V11</th>\n",
              "    </tr>\n",
              "  </thead>\n",
              "  <tbody>\n",
              "    <tr>\n",
              "      <th>504122</th>\n",
              "      <td>0.480232</td>\n",
              "      <td>0.489311</td>\n",
              "      <td>0.201195</td>\n",
              "      <td>0.443388</td>\n",
              "      <td>0.003582</td>\n",
              "      <td>0.002606</td>\n",
              "      <td>0.176335</td>\n",
              "      <td>0.0</td>\n",
              "      <td>0.105451</td>\n",
              "      <td>0.193589</td>\n",
              "      <td>0.0</td>\n",
              "      <td>0.505882</td>\n",
              "      <td>0.691700</td>\n",
              "      <td>0.162055</td>\n",
              "      <td>0.00</td>\n",
              "      <td>0.000000</td>\n",
              "      <td>1.0</td>\n",
              "      <td>0.543307</td>\n",
              "      <td>0.000000</td>\n",
              "      <td>0.824827</td>\n",
              "      <td>0.545817</td>\n",
              "      <td>0.000000</td>\n",
              "      <td>0.006231</td>\n",
              "      <td>0.0</td>\n",
              "      <td>0.427433</td>\n",
              "      <td>0.0</td>\n",
              "      <td>0.433618</td>\n",
              "      <td>0.0</td>\n",
              "      <td>0.500000</td>\n",
              "      <td>0.058125</td>\n",
              "    </tr>\n",
              "    <tr>\n",
              "      <th>507742</th>\n",
              "      <td>0.446919</td>\n",
              "      <td>0.473354</td>\n",
              "      <td>0.292829</td>\n",
              "      <td>0.326386</td>\n",
              "      <td>0.002388</td>\n",
              "      <td>0.002659</td>\n",
              "      <td>0.173451</td>\n",
              "      <td>0.0</td>\n",
              "      <td>0.108738</td>\n",
              "      <td>0.289385</td>\n",
              "      <td>0.0</td>\n",
              "      <td>0.533333</td>\n",
              "      <td>0.632411</td>\n",
              "      <td>0.213439</td>\n",
              "      <td>0.04</td>\n",
              "      <td>0.333333</td>\n",
              "      <td>0.0</td>\n",
              "      <td>0.787402</td>\n",
              "      <td>0.000000</td>\n",
              "      <td>0.785582</td>\n",
              "      <td>0.537849</td>\n",
              "      <td>1.000000</td>\n",
              "      <td>0.006231</td>\n",
              "      <td>0.0</td>\n",
              "      <td>0.403720</td>\n",
              "      <td>0.0</td>\n",
              "      <td>0.000000</td>\n",
              "      <td>0.0</td>\n",
              "      <td>0.500000</td>\n",
              "      <td>0.055619</td>\n",
              "    </tr>\n",
              "    <tr>\n",
              "      <th>224912</th>\n",
              "      <td>0.392706</td>\n",
              "      <td>0.513197</td>\n",
              "      <td>0.545817</td>\n",
              "      <td>0.143068</td>\n",
              "      <td>0.008836</td>\n",
              "      <td>0.004180</td>\n",
              "      <td>0.117588</td>\n",
              "      <td>0.0</td>\n",
              "      <td>0.000000</td>\n",
              "      <td>0.000000</td>\n",
              "      <td>0.0</td>\n",
              "      <td>0.000000</td>\n",
              "      <td>0.328063</td>\n",
              "      <td>0.011858</td>\n",
              "      <td>0.08</td>\n",
              "      <td>0.000000</td>\n",
              "      <td>0.0</td>\n",
              "      <td>0.976378</td>\n",
              "      <td>0.000000</td>\n",
              "      <td>0.000000</td>\n",
              "      <td>0.482072</td>\n",
              "      <td>0.653895</td>\n",
              "      <td>0.037114</td>\n",
              "      <td>0.0</td>\n",
              "      <td>0.143091</td>\n",
              "      <td>0.0</td>\n",
              "      <td>0.000000</td>\n",
              "      <td>0.0</td>\n",
              "      <td>0.000000</td>\n",
              "      <td>0.045833</td>\n",
              "    </tr>\n",
              "    <tr>\n",
              "      <th>561816</th>\n",
              "      <td>0.628045</td>\n",
              "      <td>0.564273</td>\n",
              "      <td>0.117530</td>\n",
              "      <td>0.601032</td>\n",
              "      <td>0.003057</td>\n",
              "      <td>0.003113</td>\n",
              "      <td>0.151907</td>\n",
              "      <td>0.0</td>\n",
              "      <td>0.059596</td>\n",
              "      <td>0.419811</td>\n",
              "      <td>0.0</td>\n",
              "      <td>0.498039</td>\n",
              "      <td>0.106719</td>\n",
              "      <td>0.328063</td>\n",
              "      <td>0.00</td>\n",
              "      <td>0.000000</td>\n",
              "      <td>1.0</td>\n",
              "      <td>0.393701</td>\n",
              "      <td>0.366412</td>\n",
              "      <td>0.015806</td>\n",
              "      <td>0.537849</td>\n",
              "      <td>0.980843</td>\n",
              "      <td>0.030974</td>\n",
              "      <td>0.0</td>\n",
              "      <td>0.164146</td>\n",
              "      <td>0.0</td>\n",
              "      <td>0.000000</td>\n",
              "      <td>0.0</td>\n",
              "      <td>0.000000</td>\n",
              "      <td>0.041056</td>\n",
              "    </tr>\n",
              "    <tr>\n",
              "      <th>470792</th>\n",
              "      <td>0.481435</td>\n",
              "      <td>0.530888</td>\n",
              "      <td>0.147410</td>\n",
              "      <td>0.537130</td>\n",
              "      <td>0.008692</td>\n",
              "      <td>0.002046</td>\n",
              "      <td>0.214325</td>\n",
              "      <td>0.0</td>\n",
              "      <td>0.000000</td>\n",
              "      <td>0.000000</td>\n",
              "      <td>0.0</td>\n",
              "      <td>0.603922</td>\n",
              "      <td>0.490119</td>\n",
              "      <td>0.339921</td>\n",
              "      <td>0.04</td>\n",
              "      <td>0.333333</td>\n",
              "      <td>1.0</td>\n",
              "      <td>0.606299</td>\n",
              "      <td>0.000000</td>\n",
              "      <td>0.782729</td>\n",
              "      <td>0.513944</td>\n",
              "      <td>0.673052</td>\n",
              "      <td>0.003070</td>\n",
              "      <td>0.0</td>\n",
              "      <td>0.409444</td>\n",
              "      <td>0.0</td>\n",
              "      <td>0.232643</td>\n",
              "      <td>0.0</td>\n",
              "      <td>0.500000</td>\n",
              "      <td>0.053410</td>\n",
              "    </tr>\n",
              "    <tr>\n",
              "      <th>...</th>\n",
              "      <td>...</td>\n",
              "      <td>...</td>\n",
              "      <td>...</td>\n",
              "      <td>...</td>\n",
              "      <td>...</td>\n",
              "      <td>...</td>\n",
              "      <td>...</td>\n",
              "      <td>...</td>\n",
              "      <td>...</td>\n",
              "      <td>...</td>\n",
              "      <td>...</td>\n",
              "      <td>...</td>\n",
              "      <td>...</td>\n",
              "      <td>...</td>\n",
              "      <td>...</td>\n",
              "      <td>...</td>\n",
              "      <td>...</td>\n",
              "      <td>...</td>\n",
              "      <td>...</td>\n",
              "      <td>...</td>\n",
              "      <td>...</td>\n",
              "      <td>...</td>\n",
              "      <td>...</td>\n",
              "      <td>...</td>\n",
              "      <td>...</td>\n",
              "      <td>...</td>\n",
              "      <td>...</td>\n",
              "      <td>...</td>\n",
              "      <td>...</td>\n",
              "      <td>...</td>\n",
              "    </tr>\n",
              "    <tr>\n",
              "      <th>110268</th>\n",
              "      <td>0.438132</td>\n",
              "      <td>0.519740</td>\n",
              "      <td>0.105578</td>\n",
              "      <td>0.629591</td>\n",
              "      <td>0.002579</td>\n",
              "      <td>0.003341</td>\n",
              "      <td>0.143018</td>\n",
              "      <td>0.0</td>\n",
              "      <td>0.025575</td>\n",
              "      <td>0.534007</td>\n",
              "      <td>0.0</td>\n",
              "      <td>0.431373</td>\n",
              "      <td>0.509881</td>\n",
              "      <td>0.608696</td>\n",
              "      <td>0.32</td>\n",
              "      <td>0.333333</td>\n",
              "      <td>0.0</td>\n",
              "      <td>0.787402</td>\n",
              "      <td>0.000000</td>\n",
              "      <td>0.365382</td>\n",
              "      <td>0.565737</td>\n",
              "      <td>0.653895</td>\n",
              "      <td>0.012371</td>\n",
              "      <td>0.0</td>\n",
              "      <td>0.177228</td>\n",
              "      <td>0.0</td>\n",
              "      <td>0.000000</td>\n",
              "      <td>0.0</td>\n",
              "      <td>0.500000</td>\n",
              "      <td>0.021407</td>\n",
              "    </tr>\n",
              "    <tr>\n",
              "      <th>259178</th>\n",
              "      <td>0.448405</td>\n",
              "      <td>0.470714</td>\n",
              "      <td>0.254980</td>\n",
              "      <td>0.369575</td>\n",
              "      <td>0.008597</td>\n",
              "      <td>0.003498</td>\n",
              "      <td>0.137449</td>\n",
              "      <td>0.0</td>\n",
              "      <td>0.137997</td>\n",
              "      <td>0.905185</td>\n",
              "      <td>0.0</td>\n",
              "      <td>0.466667</td>\n",
              "      <td>0.501976</td>\n",
              "      <td>0.367589</td>\n",
              "      <td>0.08</td>\n",
              "      <td>0.111111</td>\n",
              "      <td>1.0</td>\n",
              "      <td>0.535433</td>\n",
              "      <td>0.000000</td>\n",
              "      <td>0.893832</td>\n",
              "      <td>0.577689</td>\n",
              "      <td>0.980843</td>\n",
              "      <td>0.012371</td>\n",
              "      <td>0.0</td>\n",
              "      <td>0.460957</td>\n",
              "      <td>0.0</td>\n",
              "      <td>0.000000</td>\n",
              "      <td>0.0</td>\n",
              "      <td>0.500000</td>\n",
              "      <td>0.052122</td>\n",
              "    </tr>\n",
              "    <tr>\n",
              "      <th>365838</th>\n",
              "      <td>0.396639</td>\n",
              "      <td>0.484526</td>\n",
              "      <td>0.205179</td>\n",
              "      <td>0.437324</td>\n",
              "      <td>0.001958</td>\n",
              "      <td>0.004093</td>\n",
              "      <td>0.119808</td>\n",
              "      <td>0.0</td>\n",
              "      <td>0.120476</td>\n",
              "      <td>0.016009</td>\n",
              "      <td>0.0</td>\n",
              "      <td>0.454902</td>\n",
              "      <td>0.517787</td>\n",
              "      <td>0.418972</td>\n",
              "      <td>0.08</td>\n",
              "      <td>0.000000</td>\n",
              "      <td>1.0</td>\n",
              "      <td>0.338583</td>\n",
              "      <td>0.000000</td>\n",
              "      <td>0.749576</td>\n",
              "      <td>0.553785</td>\n",
              "      <td>0.000000</td>\n",
              "      <td>0.000000</td>\n",
              "      <td>0.0</td>\n",
              "      <td>0.389002</td>\n",
              "      <td>0.0</td>\n",
              "      <td>0.269184</td>\n",
              "      <td>0.0</td>\n",
              "      <td>0.500000</td>\n",
              "      <td>0.022225</td>\n",
              "    </tr>\n",
              "    <tr>\n",
              "      <th>131932</th>\n",
              "      <td>0.511248</td>\n",
              "      <td>0.477379</td>\n",
              "      <td>0.211155</td>\n",
              "      <td>0.428423</td>\n",
              "      <td>0.002006</td>\n",
              "      <td>0.002851</td>\n",
              "      <td>0.163635</td>\n",
              "      <td>0.0</td>\n",
              "      <td>0.120066</td>\n",
              "      <td>0.576941</td>\n",
              "      <td>0.0</td>\n",
              "      <td>0.482353</td>\n",
              "      <td>0.486166</td>\n",
              "      <td>0.359684</td>\n",
              "      <td>0.04</td>\n",
              "      <td>0.111111</td>\n",
              "      <td>1.0</td>\n",
              "      <td>0.574803</td>\n",
              "      <td>0.000000</td>\n",
              "      <td>0.779106</td>\n",
              "      <td>0.545817</td>\n",
              "      <td>0.653895</td>\n",
              "      <td>0.012371</td>\n",
              "      <td>0.0</td>\n",
              "      <td>0.403720</td>\n",
              "      <td>0.0</td>\n",
              "      <td>0.232643</td>\n",
              "      <td>0.0</td>\n",
              "      <td>0.500000</td>\n",
              "      <td>0.026665</td>\n",
              "    </tr>\n",
              "    <tr>\n",
              "      <th>121958</th>\n",
              "      <td>0.497736</td>\n",
              "      <td>0.486567</td>\n",
              "      <td>0.247012</td>\n",
              "      <td>0.379505</td>\n",
              "      <td>0.008501</td>\n",
              "      <td>0.002046</td>\n",
              "      <td>0.214325</td>\n",
              "      <td>0.0</td>\n",
              "      <td>0.000000</td>\n",
              "      <td>0.000000</td>\n",
              "      <td>1.0</td>\n",
              "      <td>0.490196</td>\n",
              "      <td>0.079051</td>\n",
              "      <td>0.422925</td>\n",
              "      <td>0.00</td>\n",
              "      <td>0.000000</td>\n",
              "      <td>1.0</td>\n",
              "      <td>0.244094</td>\n",
              "      <td>0.000000</td>\n",
              "      <td>0.360678</td>\n",
              "      <td>0.553785</td>\n",
              "      <td>0.980843</td>\n",
              "      <td>0.030974</td>\n",
              "      <td>0.0</td>\n",
              "      <td>0.393500</td>\n",
              "      <td>0.0</td>\n",
              "      <td>0.194884</td>\n",
              "      <td>0.0</td>\n",
              "      <td>0.333333</td>\n",
              "      <td>0.053949</td>\n",
              "    </tr>\n",
              "  </tbody>\n",
              "</table>\n",
              "<p>453246 rows × 30 columns</p>\n",
              "</div>"
            ],
            "text/plain": [
              "              P1        P2        P3        P4        P5        P6        P7  \\\n",
              "504122  0.480232  0.489311  0.201195  0.443388  0.003582  0.002606  0.176335   \n",
              "507742  0.446919  0.473354  0.292829  0.326386  0.002388  0.002659  0.173451   \n",
              "224912  0.392706  0.513197  0.545817  0.143068  0.008836  0.004180  0.117588   \n",
              "561816  0.628045  0.564273  0.117530  0.601032  0.003057  0.003113  0.151907   \n",
              "470792  0.481435  0.530888  0.147410  0.537130  0.008692  0.002046  0.214325   \n",
              "...          ...       ...       ...       ...       ...       ...       ...   \n",
              "110268  0.438132  0.519740  0.105578  0.629591  0.002579  0.003341  0.143018   \n",
              "259178  0.448405  0.470714  0.254980  0.369575  0.008597  0.003498  0.137449   \n",
              "365838  0.396639  0.484526  0.205179  0.437324  0.001958  0.004093  0.119808   \n",
              "131932  0.511248  0.477379  0.211155  0.428423  0.002006  0.002851  0.163635   \n",
              "121958  0.497736  0.486567  0.247012  0.379505  0.008501  0.002046  0.214325   \n",
              "\n",
              "         P8        E1        E2   E3        E4        E5        E6    E7  \\\n",
              "504122  0.0  0.105451  0.193589  0.0  0.505882  0.691700  0.162055  0.00   \n",
              "507742  0.0  0.108738  0.289385  0.0  0.533333  0.632411  0.213439  0.04   \n",
              "224912  0.0  0.000000  0.000000  0.0  0.000000  0.328063  0.011858  0.08   \n",
              "561816  0.0  0.059596  0.419811  0.0  0.498039  0.106719  0.328063  0.00   \n",
              "470792  0.0  0.000000  0.000000  0.0  0.603922  0.490119  0.339921  0.04   \n",
              "...     ...       ...       ...  ...       ...       ...       ...   ...   \n",
              "110268  0.0  0.025575  0.534007  0.0  0.431373  0.509881  0.608696  0.32   \n",
              "259178  0.0  0.137997  0.905185  0.0  0.466667  0.501976  0.367589  0.08   \n",
              "365838  0.0  0.120476  0.016009  0.0  0.454902  0.517787  0.418972  0.08   \n",
              "131932  0.0  0.120066  0.576941  0.0  0.482353  0.486166  0.359684  0.04   \n",
              "121958  0.0  0.000000  0.000000  1.0  0.490196  0.079051  0.422925  0.00   \n",
              "\n",
              "              E8   E9       E10       E11        V1        V2        V3  \\\n",
              "504122  0.000000  1.0  0.543307  0.000000  0.824827  0.545817  0.000000   \n",
              "507742  0.333333  0.0  0.787402  0.000000  0.785582  0.537849  1.000000   \n",
              "224912  0.000000  0.0  0.976378  0.000000  0.000000  0.482072  0.653895   \n",
              "561816  0.000000  1.0  0.393701  0.366412  0.015806  0.537849  0.980843   \n",
              "470792  0.333333  1.0  0.606299  0.000000  0.782729  0.513944  0.673052   \n",
              "...          ...  ...       ...       ...       ...       ...       ...   \n",
              "110268  0.333333  0.0  0.787402  0.000000  0.365382  0.565737  0.653895   \n",
              "259178  0.111111  1.0  0.535433  0.000000  0.893832  0.577689  0.980843   \n",
              "365838  0.000000  1.0  0.338583  0.000000  0.749576  0.553785  0.000000   \n",
              "131932  0.111111  1.0  0.574803  0.000000  0.779106  0.545817  0.653895   \n",
              "121958  0.000000  1.0  0.244094  0.000000  0.360678  0.553785  0.980843   \n",
              "\n",
              "              V4   V5        V6   V7        V8   V9       V10       V11  \n",
              "504122  0.006231  0.0  0.427433  0.0  0.433618  0.0  0.500000  0.058125  \n",
              "507742  0.006231  0.0  0.403720  0.0  0.000000  0.0  0.500000  0.055619  \n",
              "224912  0.037114  0.0  0.143091  0.0  0.000000  0.0  0.000000  0.045833  \n",
              "561816  0.030974  0.0  0.164146  0.0  0.000000  0.0  0.000000  0.041056  \n",
              "470792  0.003070  0.0  0.409444  0.0  0.232643  0.0  0.500000  0.053410  \n",
              "...          ...  ...       ...  ...       ...  ...       ...       ...  \n",
              "110268  0.012371  0.0  0.177228  0.0  0.000000  0.0  0.500000  0.021407  \n",
              "259178  0.012371  0.0  0.460957  0.0  0.000000  0.0  0.500000  0.052122  \n",
              "365838  0.000000  0.0  0.389002  0.0  0.269184  0.0  0.500000  0.022225  \n",
              "131932  0.012371  0.0  0.403720  0.0  0.232643  0.0  0.500000  0.026665  \n",
              "121958  0.030974  0.0  0.393500  0.0  0.194884  0.0  0.333333  0.053949  \n",
              "\n",
              "[453246 rows x 30 columns]"
            ]
          },
          "execution_count": 27,
          "metadata": {},
          "output_type": "execute_result"
        }
      ],
      "source": [
        "train_inputs"
      ]
    },
    {
      "cell_type": "code",
      "execution_count": null,
      "id": "93698dbd",
      "metadata": {
        "execution": {
          "iopub.execute_input": "2022-08-06T18:00:16.377127Z",
          "iopub.status.busy": "2022-08-06T18:00:16.376449Z",
          "iopub.status.idle": "2022-08-06T18:00:16.384538Z",
          "shell.execute_reply": "2022-08-06T18:00:16.383448Z"
        },
        "id": "93698dbd",
        "outputId": "18d04c32-d76d-45af-f1bf-569ec9f4d75d",
        "papermill": {
          "duration": 0.045722,
          "end_time": "2022-08-06T18:00:16.387431",
          "exception": false,
          "start_time": "2022-08-06T18:00:16.341709",
          "status": "completed"
        },
        "tags": []
      },
      "outputs": [
        {
          "data": {
            "text/plain": [
              "504122    1\n",
              "507742    0\n",
              "224912    1\n",
              "561816    0\n",
              "470792    1\n",
              "         ..\n",
              "110268    0\n",
              "259178    1\n",
              "365838    0\n",
              "131932    0\n",
              "121958    1\n",
              "Name: IsAlert, Length: 453246, dtype: int64"
            ]
          },
          "execution_count": 28,
          "metadata": {},
          "output_type": "execute_result"
        }
      ],
      "source": [
        "train_targets"
      ]
    },
    {
      "cell_type": "code",
      "execution_count": null,
      "id": "a5ced781",
      "metadata": {
        "execution": {
          "iopub.execute_input": "2022-08-06T18:00:16.458508Z",
          "iopub.status.busy": "2022-08-06T18:00:16.457835Z",
          "iopub.status.idle": "2022-08-06T18:00:16.503716Z",
          "shell.execute_reply": "2022-08-06T18:00:16.502706Z"
        },
        "id": "a5ced781",
        "outputId": "a8a13912-4979-467d-a061-67b2cdd6880c",
        "papermill": {
          "duration": 0.0853,
          "end_time": "2022-08-06T18:00:16.506523",
          "exception": false,
          "start_time": "2022-08-06T18:00:16.421223",
          "status": "completed"
        },
        "tags": []
      },
      "outputs": [
        {
          "data": {
            "text/html": [
              "<div>\n",
              "<style scoped>\n",
              "    .dataframe tbody tr th:only-of-type {\n",
              "        vertical-align: middle;\n",
              "    }\n",
              "\n",
              "    .dataframe tbody tr th {\n",
              "        vertical-align: top;\n",
              "    }\n",
              "\n",
              "    .dataframe thead th {\n",
              "        text-align: right;\n",
              "    }\n",
              "</style>\n",
              "<table border=\"1\" class=\"dataframe\">\n",
              "  <thead>\n",
              "    <tr style=\"text-align: right;\">\n",
              "      <th></th>\n",
              "      <th>P1</th>\n",
              "      <th>P2</th>\n",
              "      <th>P3</th>\n",
              "      <th>P4</th>\n",
              "      <th>P5</th>\n",
              "      <th>P6</th>\n",
              "      <th>P7</th>\n",
              "      <th>P8</th>\n",
              "      <th>E1</th>\n",
              "      <th>E2</th>\n",
              "      <th>E3</th>\n",
              "      <th>E4</th>\n",
              "      <th>E5</th>\n",
              "      <th>E6</th>\n",
              "      <th>E7</th>\n",
              "      <th>E8</th>\n",
              "      <th>E9</th>\n",
              "      <th>E10</th>\n",
              "      <th>E11</th>\n",
              "      <th>V1</th>\n",
              "      <th>V2</th>\n",
              "      <th>V3</th>\n",
              "      <th>V4</th>\n",
              "      <th>V5</th>\n",
              "      <th>V6</th>\n",
              "      <th>V7</th>\n",
              "      <th>V8</th>\n",
              "      <th>V9</th>\n",
              "      <th>V10</th>\n",
              "      <th>V11</th>\n",
              "    </tr>\n",
              "  </thead>\n",
              "  <tbody>\n",
              "    <tr>\n",
              "      <th>551187</th>\n",
              "      <td>0.438778</td>\n",
              "      <td>0.456423</td>\n",
              "      <td>0.300797</td>\n",
              "      <td>0.318048</td>\n",
              "      <td>0.002054</td>\n",
              "      <td>0.003218</td>\n",
              "      <td>0.147671</td>\n",
              "      <td>0.0</td>\n",
              "      <td>0.132419</td>\n",
              "      <td>0.479396</td>\n",
              "      <td>0.0</td>\n",
              "      <td>0.505882</td>\n",
              "      <td>0.517787</td>\n",
              "      <td>0.521739</td>\n",
              "      <td>0.12</td>\n",
              "      <td>0.222222</td>\n",
              "      <td>1.0</td>\n",
              "      <td>0.519685</td>\n",
              "      <td>0.0</td>\n",
              "      <td>0.834541</td>\n",
              "      <td>0.537849</td>\n",
              "      <td>0.019157</td>\n",
              "      <td>0.003070</td>\n",
              "      <td>0.0</td>\n",
              "      <td>0.439902</td>\n",
              "      <td>0.0</td>\n",
              "      <td>0.271620</td>\n",
              "      <td>0.0</td>\n",
              "      <td>0.500000</td>\n",
              "      <td>0.035890</td>\n",
              "    </tr>\n",
              "    <tr>\n",
              "      <th>155822</th>\n",
              "      <td>0.609066</td>\n",
              "      <td>0.495684</td>\n",
              "      <td>0.197211</td>\n",
              "      <td>0.449561</td>\n",
              "      <td>0.001719</td>\n",
              "      <td>0.003743</td>\n",
              "      <td>0.129594</td>\n",
              "      <td>0.0</td>\n",
              "      <td>0.000357</td>\n",
              "      <td>0.054698</td>\n",
              "      <td>0.0</td>\n",
              "      <td>0.490196</td>\n",
              "      <td>0.644269</td>\n",
              "      <td>0.418972</td>\n",
              "      <td>0.00</td>\n",
              "      <td>0.222222</td>\n",
              "      <td>1.0</td>\n",
              "      <td>0.401575</td>\n",
              "      <td>0.0</td>\n",
              "      <td>0.000000</td>\n",
              "      <td>0.513944</td>\n",
              "      <td>0.000000</td>\n",
              "      <td>0.021672</td>\n",
              "      <td>0.0</td>\n",
              "      <td>0.135119</td>\n",
              "      <td>0.0</td>\n",
              "      <td>0.000000</td>\n",
              "      <td>0.0</td>\n",
              "      <td>0.000000</td>\n",
              "      <td>0.030687</td>\n",
              "    </tr>\n",
              "    <tr>\n",
              "      <th>186872</th>\n",
              "      <td>0.435046</td>\n",
              "      <td>0.437501</td>\n",
              "      <td>0.213147</td>\n",
              "      <td>0.425507</td>\n",
              "      <td>0.001003</td>\n",
              "      <td>0.003498</td>\n",
              "      <td>0.137449</td>\n",
              "      <td>0.0</td>\n",
              "      <td>0.117021</td>\n",
              "      <td>0.616256</td>\n",
              "      <td>0.0</td>\n",
              "      <td>0.443137</td>\n",
              "      <td>0.482213</td>\n",
              "      <td>0.383399</td>\n",
              "      <td>0.04</td>\n",
              "      <td>0.111111</td>\n",
              "      <td>1.0</td>\n",
              "      <td>0.543307</td>\n",
              "      <td>0.0</td>\n",
              "      <td>0.767772</td>\n",
              "      <td>0.513944</td>\n",
              "      <td>0.673052</td>\n",
              "      <td>0.006231</td>\n",
              "      <td>0.0</td>\n",
              "      <td>0.406787</td>\n",
              "      <td>0.0</td>\n",
              "      <td>0.052375</td>\n",
              "      <td>0.0</td>\n",
              "      <td>0.500000</td>\n",
              "      <td>0.032760</td>\n",
              "    </tr>\n",
              "    <tr>\n",
              "      <th>66220</th>\n",
              "      <td>0.448261</td>\n",
              "      <td>0.580381</td>\n",
              "      <td>0.284861</td>\n",
              "      <td>0.334972</td>\n",
              "      <td>0.001385</td>\n",
              "      <td>0.002624</td>\n",
              "      <td>0.175363</td>\n",
              "      <td>0.0</td>\n",
              "      <td>0.131656</td>\n",
              "      <td>0.471562</td>\n",
              "      <td>0.0</td>\n",
              "      <td>0.498039</td>\n",
              "      <td>0.509881</td>\n",
              "      <td>0.304348</td>\n",
              "      <td>0.04</td>\n",
              "      <td>0.111111</td>\n",
              "      <td>1.0</td>\n",
              "      <td>0.496063</td>\n",
              "      <td>0.0</td>\n",
              "      <td>0.857363</td>\n",
              "      <td>0.553785</td>\n",
              "      <td>0.326948</td>\n",
              "      <td>0.006231</td>\n",
              "      <td>0.0</td>\n",
              "      <td>0.442764</td>\n",
              "      <td>0.0</td>\n",
              "      <td>0.097442</td>\n",
              "      <td>0.0</td>\n",
              "      <td>0.500000</td>\n",
              "      <td>0.029233</td>\n",
              "    </tr>\n",
              "    <tr>\n",
              "      <th>541241</th>\n",
              "      <td>0.443919</td>\n",
              "      <td>0.484716</td>\n",
              "      <td>0.392430</td>\n",
              "      <td>0.237008</td>\n",
              "      <td>0.002101</td>\n",
              "      <td>0.002991</td>\n",
              "      <td>0.157164</td>\n",
              "      <td>0.0</td>\n",
              "      <td>0.000000</td>\n",
              "      <td>0.000000</td>\n",
              "      <td>0.0</td>\n",
              "      <td>0.490196</td>\n",
              "      <td>0.462451</td>\n",
              "      <td>0.596838</td>\n",
              "      <td>0.00</td>\n",
              "      <td>0.000000</td>\n",
              "      <td>1.0</td>\n",
              "      <td>0.535433</td>\n",
              "      <td>0.0</td>\n",
              "      <td>0.832691</td>\n",
              "      <td>0.525896</td>\n",
              "      <td>1.000000</td>\n",
              "      <td>0.000000</td>\n",
              "      <td>0.0</td>\n",
              "      <td>0.431930</td>\n",
              "      <td>0.0</td>\n",
              "      <td>0.235079</td>\n",
              "      <td>0.0</td>\n",
              "      <td>0.500000</td>\n",
              "      <td>0.035173</td>\n",
              "    </tr>\n",
              "    <tr>\n",
              "      <th>...</th>\n",
              "      <td>...</td>\n",
              "      <td>...</td>\n",
              "      <td>...</td>\n",
              "      <td>...</td>\n",
              "      <td>...</td>\n",
              "      <td>...</td>\n",
              "      <td>...</td>\n",
              "      <td>...</td>\n",
              "      <td>...</td>\n",
              "      <td>...</td>\n",
              "      <td>...</td>\n",
              "      <td>...</td>\n",
              "      <td>...</td>\n",
              "      <td>...</td>\n",
              "      <td>...</td>\n",
              "      <td>...</td>\n",
              "      <td>...</td>\n",
              "      <td>...</td>\n",
              "      <td>...</td>\n",
              "      <td>...</td>\n",
              "      <td>...</td>\n",
              "      <td>...</td>\n",
              "      <td>...</td>\n",
              "      <td>...</td>\n",
              "      <td>...</td>\n",
              "      <td>...</td>\n",
              "      <td>...</td>\n",
              "      <td>...</td>\n",
              "      <td>...</td>\n",
              "      <td>...</td>\n",
              "    </tr>\n",
              "    <tr>\n",
              "      <th>312742</th>\n",
              "      <td>0.497851</td>\n",
              "      <td>0.465575</td>\n",
              "      <td>0.406375</td>\n",
              "      <td>0.226656</td>\n",
              "      <td>0.002340</td>\n",
              "      <td>0.002256</td>\n",
              "      <td>0.198309</td>\n",
              "      <td>0.0</td>\n",
              "      <td>0.000000</td>\n",
              "      <td>0.000000</td>\n",
              "      <td>0.0</td>\n",
              "      <td>0.474510</td>\n",
              "      <td>0.486166</td>\n",
              "      <td>0.600791</td>\n",
              "      <td>0.08</td>\n",
              "      <td>0.222222</td>\n",
              "      <td>1.0</td>\n",
              "      <td>0.472441</td>\n",
              "      <td>0.0</td>\n",
              "      <td>0.000000</td>\n",
              "      <td>0.537849</td>\n",
              "      <td>0.000000</td>\n",
              "      <td>0.024743</td>\n",
              "      <td>0.0</td>\n",
              "      <td>0.131235</td>\n",
              "      <td>0.0</td>\n",
              "      <td>0.000000</td>\n",
              "      <td>0.0</td>\n",
              "      <td>0.000000</td>\n",
              "      <td>0.035118</td>\n",
              "    </tr>\n",
              "    <tr>\n",
              "      <th>308358</th>\n",
              "      <td>0.421163</td>\n",
              "      <td>0.509069</td>\n",
              "      <td>0.438247</td>\n",
              "      <td>0.204569</td>\n",
              "      <td>0.002818</td>\n",
              "      <td>0.002449</td>\n",
              "      <td>0.185591</td>\n",
              "      <td>0.0</td>\n",
              "      <td>0.130542</td>\n",
              "      <td>0.900568</td>\n",
              "      <td>0.0</td>\n",
              "      <td>0.447059</td>\n",
              "      <td>0.450593</td>\n",
              "      <td>0.486166</td>\n",
              "      <td>0.36</td>\n",
              "      <td>0.888889</td>\n",
              "      <td>0.0</td>\n",
              "      <td>0.787402</td>\n",
              "      <td>0.0</td>\n",
              "      <td>0.907325</td>\n",
              "      <td>0.545817</td>\n",
              "      <td>0.653895</td>\n",
              "      <td>0.012371</td>\n",
              "      <td>0.0</td>\n",
              "      <td>0.468520</td>\n",
              "      <td>0.0</td>\n",
              "      <td>0.354446</td>\n",
              "      <td>0.0</td>\n",
              "      <td>0.500000</td>\n",
              "      <td>0.030086</td>\n",
              "    </tr>\n",
              "    <tr>\n",
              "      <th>313995</th>\n",
              "      <td>0.411353</td>\n",
              "      <td>0.499645</td>\n",
              "      <td>0.017928</td>\n",
              "      <td>0.916595</td>\n",
              "      <td>0.001719</td>\n",
              "      <td>0.002991</td>\n",
              "      <td>0.157164</td>\n",
              "      <td>0.0</td>\n",
              "      <td>0.000012</td>\n",
              "      <td>0.549947</td>\n",
              "      <td>0.0</td>\n",
              "      <td>0.474510</td>\n",
              "      <td>0.889328</td>\n",
              "      <td>0.296443</td>\n",
              "      <td>0.08</td>\n",
              "      <td>0.333333</td>\n",
              "      <td>1.0</td>\n",
              "      <td>0.496063</td>\n",
              "      <td>0.0</td>\n",
              "      <td>0.000000</td>\n",
              "      <td>0.537849</td>\n",
              "      <td>0.000000</td>\n",
              "      <td>0.024743</td>\n",
              "      <td>0.0</td>\n",
              "      <td>0.130213</td>\n",
              "      <td>0.0</td>\n",
              "      <td>0.000000</td>\n",
              "      <td>0.0</td>\n",
              "      <td>0.000000</td>\n",
              "      <td>0.034919</td>\n",
              "    </tr>\n",
              "    <tr>\n",
              "      <th>369701</th>\n",
              "      <td>0.594728</td>\n",
              "      <td>0.478928</td>\n",
              "      <td>0.213147</td>\n",
              "      <td>0.425507</td>\n",
              "      <td>0.002531</td>\n",
              "      <td>0.004320</td>\n",
              "      <td>0.114200</td>\n",
              "      <td>0.0</td>\n",
              "      <td>0.090729</td>\n",
              "      <td>0.992200</td>\n",
              "      <td>0.0</td>\n",
              "      <td>0.650980</td>\n",
              "      <td>0.581028</td>\n",
              "      <td>0.422925</td>\n",
              "      <td>0.08</td>\n",
              "      <td>0.000000</td>\n",
              "      <td>1.0</td>\n",
              "      <td>0.314961</td>\n",
              "      <td>0.0</td>\n",
              "      <td>0.584580</td>\n",
              "      <td>0.621514</td>\n",
              "      <td>0.980843</td>\n",
              "      <td>0.012371</td>\n",
              "      <td>0.0</td>\n",
              "      <td>0.528823</td>\n",
              "      <td>0.0</td>\n",
              "      <td>0.595615</td>\n",
              "      <td>0.0</td>\n",
              "      <td>0.500000</td>\n",
              "      <td>0.023408</td>\n",
              "    </tr>\n",
              "    <tr>\n",
              "      <th>483217</th>\n",
              "      <td>0.440804</td>\n",
              "      <td>0.537665</td>\n",
              "      <td>0.093625</td>\n",
              "      <td>0.660132</td>\n",
              "      <td>0.000860</td>\n",
              "      <td>0.002134</td>\n",
              "      <td>0.207349</td>\n",
              "      <td>0.0</td>\n",
              "      <td>0.069330</td>\n",
              "      <td>0.878523</td>\n",
              "      <td>0.0</td>\n",
              "      <td>0.494118</td>\n",
              "      <td>0.533597</td>\n",
              "      <td>0.162055</td>\n",
              "      <td>0.12</td>\n",
              "      <td>0.222222</td>\n",
              "      <td>1.0</td>\n",
              "      <td>0.622047</td>\n",
              "      <td>0.0</td>\n",
              "      <td>0.499923</td>\n",
              "      <td>0.545817</td>\n",
              "      <td>0.346105</td>\n",
              "      <td>0.003070</td>\n",
              "      <td>1.0</td>\n",
              "      <td>0.551308</td>\n",
              "      <td>0.0</td>\n",
              "      <td>0.341048</td>\n",
              "      <td>0.0</td>\n",
              "      <td>0.333333</td>\n",
              "      <td>0.041440</td>\n",
              "    </tr>\n",
              "  </tbody>\n",
              "</table>\n",
              "<p>151083 rows × 30 columns</p>\n",
              "</div>"
            ],
            "text/plain": [
              "              P1        P2        P3        P4        P5        P6        P7  \\\n",
              "551187  0.438778  0.456423  0.300797  0.318048  0.002054  0.003218  0.147671   \n",
              "155822  0.609066  0.495684  0.197211  0.449561  0.001719  0.003743  0.129594   \n",
              "186872  0.435046  0.437501  0.213147  0.425507  0.001003  0.003498  0.137449   \n",
              "66220   0.448261  0.580381  0.284861  0.334972  0.001385  0.002624  0.175363   \n",
              "541241  0.443919  0.484716  0.392430  0.237008  0.002101  0.002991  0.157164   \n",
              "...          ...       ...       ...       ...       ...       ...       ...   \n",
              "312742  0.497851  0.465575  0.406375  0.226656  0.002340  0.002256  0.198309   \n",
              "308358  0.421163  0.509069  0.438247  0.204569  0.002818  0.002449  0.185591   \n",
              "313995  0.411353  0.499645  0.017928  0.916595  0.001719  0.002991  0.157164   \n",
              "369701  0.594728  0.478928  0.213147  0.425507  0.002531  0.004320  0.114200   \n",
              "483217  0.440804  0.537665  0.093625  0.660132  0.000860  0.002134  0.207349   \n",
              "\n",
              "         P8        E1        E2   E3        E4        E5        E6    E7  \\\n",
              "551187  0.0  0.132419  0.479396  0.0  0.505882  0.517787  0.521739  0.12   \n",
              "155822  0.0  0.000357  0.054698  0.0  0.490196  0.644269  0.418972  0.00   \n",
              "186872  0.0  0.117021  0.616256  0.0  0.443137  0.482213  0.383399  0.04   \n",
              "66220   0.0  0.131656  0.471562  0.0  0.498039  0.509881  0.304348  0.04   \n",
              "541241  0.0  0.000000  0.000000  0.0  0.490196  0.462451  0.596838  0.00   \n",
              "...     ...       ...       ...  ...       ...       ...       ...   ...   \n",
              "312742  0.0  0.000000  0.000000  0.0  0.474510  0.486166  0.600791  0.08   \n",
              "308358  0.0  0.130542  0.900568  0.0  0.447059  0.450593  0.486166  0.36   \n",
              "313995  0.0  0.000012  0.549947  0.0  0.474510  0.889328  0.296443  0.08   \n",
              "369701  0.0  0.090729  0.992200  0.0  0.650980  0.581028  0.422925  0.08   \n",
              "483217  0.0  0.069330  0.878523  0.0  0.494118  0.533597  0.162055  0.12   \n",
              "\n",
              "              E8   E9       E10  E11        V1        V2        V3        V4  \\\n",
              "551187  0.222222  1.0  0.519685  0.0  0.834541  0.537849  0.019157  0.003070   \n",
              "155822  0.222222  1.0  0.401575  0.0  0.000000  0.513944  0.000000  0.021672   \n",
              "186872  0.111111  1.0  0.543307  0.0  0.767772  0.513944  0.673052  0.006231   \n",
              "66220   0.111111  1.0  0.496063  0.0  0.857363  0.553785  0.326948  0.006231   \n",
              "541241  0.000000  1.0  0.535433  0.0  0.832691  0.525896  1.000000  0.000000   \n",
              "...          ...  ...       ...  ...       ...       ...       ...       ...   \n",
              "312742  0.222222  1.0  0.472441  0.0  0.000000  0.537849  0.000000  0.024743   \n",
              "308358  0.888889  0.0  0.787402  0.0  0.907325  0.545817  0.653895  0.012371   \n",
              "313995  0.333333  1.0  0.496063  0.0  0.000000  0.537849  0.000000  0.024743   \n",
              "369701  0.000000  1.0  0.314961  0.0  0.584580  0.621514  0.980843  0.012371   \n",
              "483217  0.222222  1.0  0.622047  0.0  0.499923  0.545817  0.346105  0.003070   \n",
              "\n",
              "         V5        V6   V7        V8   V9       V10       V11  \n",
              "551187  0.0  0.439902  0.0  0.271620  0.0  0.500000  0.035890  \n",
              "155822  0.0  0.135119  0.0  0.000000  0.0  0.000000  0.030687  \n",
              "186872  0.0  0.406787  0.0  0.052375  0.0  0.500000  0.032760  \n",
              "66220   0.0  0.442764  0.0  0.097442  0.0  0.500000  0.029233  \n",
              "541241  0.0  0.431930  0.0  0.235079  0.0  0.500000  0.035173  \n",
              "...     ...       ...  ...       ...  ...       ...       ...  \n",
              "312742  0.0  0.131235  0.0  0.000000  0.0  0.000000  0.035118  \n",
              "308358  0.0  0.468520  0.0  0.354446  0.0  0.500000  0.030086  \n",
              "313995  0.0  0.130213  0.0  0.000000  0.0  0.000000  0.034919  \n",
              "369701  0.0  0.528823  0.0  0.595615  0.0  0.500000  0.023408  \n",
              "483217  1.0  0.551308  0.0  0.341048  0.0  0.333333  0.041440  \n",
              "\n",
              "[151083 rows x 30 columns]"
            ]
          },
          "execution_count": 29,
          "metadata": {},
          "output_type": "execute_result"
        }
      ],
      "source": [
        "val_inputs"
      ]
    },
    {
      "cell_type": "code",
      "execution_count": null,
      "id": "38dd038d",
      "metadata": {
        "execution": {
          "iopub.execute_input": "2022-08-06T18:00:16.576960Z",
          "iopub.status.busy": "2022-08-06T18:00:16.576280Z",
          "iopub.status.idle": "2022-08-06T18:00:16.584740Z",
          "shell.execute_reply": "2022-08-06T18:00:16.583770Z"
        },
        "id": "38dd038d",
        "outputId": "71fbc4ca-5eb6-4528-bd3a-7045e17b162d",
        "papermill": {
          "duration": 0.046537,
          "end_time": "2022-08-06T18:00:16.587177",
          "exception": false,
          "start_time": "2022-08-06T18:00:16.540640",
          "status": "completed"
        },
        "tags": []
      },
      "outputs": [
        {
          "data": {
            "text/plain": [
              "551187    0\n",
              "155822    1\n",
              "186872    1\n",
              "66220     1\n",
              "541241    0\n",
              "         ..\n",
              "312742    0\n",
              "308358    0\n",
              "313995    0\n",
              "369701    0\n",
              "483217    0\n",
              "Name: IsAlert, Length: 151083, dtype: int64"
            ]
          },
          "execution_count": 30,
          "metadata": {},
          "output_type": "execute_result"
        }
      ],
      "source": [
        "val_targets"
      ]
    },
    {
      "cell_type": "markdown",
      "id": "cf4e0568",
      "metadata": {
        "id": "cf4e0568",
        "papermill": {
          "duration": 0.033793,
          "end_time": "2022-08-06T18:00:16.654654",
          "exception": false,
          "start_time": "2022-08-06T18:00:16.620861",
          "status": "completed"
        },
        "tags": []
      },
      "source": [
        "# Model 1 - Training a Logistic Regression Model\n",
        "\n",
        " Training a Logistic Regression Model\n",
        "\n",
        "Logistic regression is a commonly used technique for solving binary classification problems. In a logistic regression model: \n",
        "\n",
        "- we take linear combination (or weighted sum of the input features) \n",
        "- we apply the sigmoid function to the result to obtain a number between 0 and 1\n",
        "- this number represents the probability of the input being classified as \"Yes\"\n",
        "- instead of RMSE, the cross entropy loss function is used to evaluate the results\n",
        "\n",
        "\n",
        "Here's a visual summary of how a logistic regression model is structured ([source](http://datahacker.rs/005-pytorch-logistic-regression-in-pytorch/)):\n",
        "\n",
        "\n",
        "<img src=\"https://i.imgur.com/YMaMo5D.png\" width=\"480\">\n",
        "\n",
        "The sigmoid function applied to the linear combination of inputs has the following formula:\n",
        "\n",
        "<img src=\"https://i.imgur.com/sAVwvZP.png\" width=\"400\">\n",
        "\n",
        "To train a logistic regression model, we can use the `LogisticRegression` class from Scikit-learn."
      ]
    },
    {
      "cell_type": "markdown",
      "id": "871dc2d5",
      "metadata": {
        "id": "871dc2d5",
        "papermill": {
          "duration": 0.034147,
          "end_time": "2022-08-06T18:00:16.725081",
          "exception": false,
          "start_time": "2022-08-06T18:00:16.690934",
          "status": "completed"
        },
        "tags": []
      },
      "source": [
        "> **QUESTION 7**: Create and train a Logistic regression  from `sklearn.linear_model`."
      ]
    },
    {
      "cell_type": "code",
      "execution_count": null,
      "id": "1291cad3",
      "metadata": {
        "execution": {
          "iopub.execute_input": "2022-08-06T18:00:16.796814Z",
          "iopub.status.busy": "2022-08-06T18:00:16.796036Z",
          "iopub.status.idle": "2022-08-06T18:00:37.453782Z",
          "shell.execute_reply": "2022-08-06T18:00:37.452646Z"
        },
        "id": "1291cad3",
        "outputId": "c4ce6290-0d34-448b-bd5b-72bb2896a662",
        "papermill": {
          "duration": 20.69623,
          "end_time": "2022-08-06T18:00:37.456275",
          "exception": false,
          "start_time": "2022-08-06T18:00:16.760045",
          "status": "completed"
        },
        "tags": []
      },
      "outputs": [
        {
          "data": {
            "text/plain": [
              "LogisticRegression(solver='liblinear')"
            ]
          },
          "execution_count": 31,
          "metadata": {},
          "output_type": "execute_result"
        }
      ],
      "source": [
        "from sklearn.linear_model import LogisticRegression\n",
        "\n",
        "# Create the model\n",
        "model = LogisticRegression(solver='liblinear')\n",
        "\n",
        "# Fit the model using inputs and targets\n",
        "model.fit(train_inputs,train_targets)"
      ]
    },
    {
      "cell_type": "markdown",
      "id": "3fb0e7fb",
      "metadata": {
        "id": "3fb0e7fb",
        "papermill": {
          "duration": 0.036185,
          "end_time": "2022-08-06T18:00:37.526194",
          "exception": false,
          "start_time": "2022-08-06T18:00:37.490009",
          "status": "completed"
        },
        "tags": []
      },
      "source": [
        "`model.fit` uses the following strategy for training the model (source):\n",
        "\n",
        "1. We initialize a model with random parameters (weights & biases).\n",
        "2. We pass some inputs into the model to obtain predictions.\n",
        "3. We compare the model's predictions with the actual targets using the loss function.\n",
        "4. We use an optimization technique (like least squares, gradient descent etc.) to reduce the loss by adjusting the weights & biases of the model\n",
        "5. We repeat steps 1 to 4 till the predictions from the model are good enough.\n",
        "\n",
        "<img src=\"https://www.deepnetts.com/blog/wp-content/uploads/2019/02/SupervisedLearning.png\" width=\"480\">"
      ]
    },
    {
      "cell_type": "markdown",
      "id": "19ee81e3",
      "metadata": {
        "id": "19ee81e3",
        "papermill": {
          "duration": 0.03422,
          "end_time": "2022-08-06T18:00:37.601568",
          "exception": false,
          "start_time": "2022-08-06T18:00:37.567348",
          "status": "completed"
        },
        "tags": []
      },
      "source": [
        "## Make Predictions and Evaluate Your Model\n",
        "\n",
        "The model is now trained, and we can use it to generate predictions for the training and validation inputs. We can evaluate the model's performance using the RMSE (root mean squared error) loss function."
      ]
    },
    {
      "cell_type": "markdown",
      "id": "b8404170",
      "metadata": {
        "id": "b8404170",
        "papermill": {
          "duration": 0.03386,
          "end_time": "2022-08-06T18:00:37.668840",
          "exception": false,
          "start_time": "2022-08-06T18:00:37.634980",
          "status": "completed"
        },
        "tags": []
      },
      "source": [
        "> **QUESTION 8**: Generate predictions and compute the RMSE loss for the training and validation sets. \n",
        "> \n",
        "> *Hint*: Use the `mean_squared_error` with the argument `squared=False` to compute RMSE loss."
      ]
    },
    {
      "cell_type": "code",
      "execution_count": null,
      "id": "6bf57bd9",
      "metadata": {
        "execution": {
          "iopub.execute_input": "2022-08-06T18:00:37.738669Z",
          "iopub.status.busy": "2022-08-06T18:00:37.737913Z",
          "iopub.status.idle": "2022-08-06T18:00:37.778998Z",
          "shell.execute_reply": "2022-08-06T18:00:37.776848Z"
        },
        "id": "6bf57bd9",
        "papermill": {
          "duration": 0.082082,
          "end_time": "2022-08-06T18:00:37.784515",
          "exception": false,
          "start_time": "2022-08-06T18:00:37.702433",
          "status": "completed"
        },
        "tags": []
      },
      "outputs": [],
      "source": [
        "train_preds =model.predict(train_inputs)"
      ]
    },
    {
      "cell_type": "code",
      "execution_count": null,
      "id": "7c3d21c8",
      "metadata": {
        "execution": {
          "iopub.execute_input": "2022-08-06T18:00:37.929451Z",
          "iopub.status.busy": "2022-08-06T18:00:37.929020Z",
          "iopub.status.idle": "2022-08-06T18:00:37.937555Z",
          "shell.execute_reply": "2022-08-06T18:00:37.935958Z"
        },
        "id": "7c3d21c8",
        "outputId": "10269271-94e1-4406-d3d9-534bcd90bbce",
        "papermill": {
          "duration": 0.046601,
          "end_time": "2022-08-06T18:00:37.940562",
          "exception": false,
          "start_time": "2022-08-06T18:00:37.893961",
          "status": "completed"
        },
        "tags": []
      },
      "outputs": [
        {
          "data": {
            "text/plain": [
              "array([1, 0, 1, ..., 0, 1, 1])"
            ]
          },
          "execution_count": 33,
          "metadata": {},
          "output_type": "execute_result"
        }
      ],
      "source": [
        "train_preds"
      ]
    },
    {
      "cell_type": "code",
      "execution_count": null,
      "id": "dacc6111",
      "metadata": {
        "execution": {
          "iopub.execute_input": "2022-08-06T18:00:38.010639Z",
          "iopub.status.busy": "2022-08-06T18:00:38.010166Z",
          "iopub.status.idle": "2022-08-06T18:00:38.027784Z",
          "shell.execute_reply": "2022-08-06T18:00:38.026120Z"
        },
        "id": "dacc6111",
        "outputId": "d9f58195-2f33-4669-d923-e2dd2df04567",
        "papermill": {
          "duration": 0.056931,
          "end_time": "2022-08-06T18:00:38.030695",
          "exception": false,
          "start_time": "2022-08-06T18:00:37.973764",
          "status": "completed"
        },
        "tags": []
      },
      "outputs": [
        {
          "name": "stdout",
          "output_type": "stream",
          "text": [
            "The RMSE loss for the training set is 0.4568503766309443.\n",
            "The r2_score for the training set is 14.39221366869814 %\n"
          ]
        }
      ],
      "source": [
        "from sklearn.metrics import mean_squared_error,r2_score\n",
        "# Root mean square error\n",
        "train_rmse=mean_squared_error(train_targets,train_preds,squared=False)\n",
        "print('The RMSE loss for the training set is {}.'.format(train_rmse))\n",
        "# r2_score\n",
        "train_r2=r2_score(train_targets,train_preds)*100\n",
        "print('The r2_score for the training set is {} %'.format(train_r2))"
      ]
    },
    {
      "cell_type": "code",
      "execution_count": null,
      "id": "b2c36fd2",
      "metadata": {
        "execution": {
          "iopub.execute_input": "2022-08-06T18:00:38.100273Z",
          "iopub.status.busy": "2022-08-06T18:00:38.099800Z",
          "iopub.status.idle": "2022-08-06T18:00:38.125181Z",
          "shell.execute_reply": "2022-08-06T18:00:38.122944Z"
        },
        "id": "b2c36fd2",
        "papermill": {
          "duration": 0.066476,
          "end_time": "2022-08-06T18:00:38.130634",
          "exception": false,
          "start_time": "2022-08-06T18:00:38.064158",
          "status": "completed"
        },
        "tags": []
      },
      "outputs": [],
      "source": [
        "val_preds = model.predict(val_inputs)"
      ]
    },
    {
      "cell_type": "code",
      "execution_count": null,
      "id": "45295ea6",
      "metadata": {
        "execution": {
          "iopub.execute_input": "2022-08-06T18:00:38.278926Z",
          "iopub.status.busy": "2022-08-06T18:00:38.278418Z",
          "iopub.status.idle": "2022-08-06T18:00:38.287467Z",
          "shell.execute_reply": "2022-08-06T18:00:38.286423Z"
        },
        "id": "45295ea6",
        "outputId": "d98ae22b-42ca-41e9-d91d-d8bd49e8db5a",
        "papermill": {
          "duration": 0.047405,
          "end_time": "2022-08-06T18:00:38.289802",
          "exception": false,
          "start_time": "2022-08-06T18:00:38.242397",
          "status": "completed"
        },
        "tags": []
      },
      "outputs": [
        {
          "data": {
            "text/plain": [
              "array([0, 1, 1, ..., 1, 0, 1])"
            ]
          },
          "execution_count": 36,
          "metadata": {},
          "output_type": "execute_result"
        }
      ],
      "source": [
        "val_preds"
      ]
    },
    {
      "cell_type": "code",
      "execution_count": null,
      "id": "4eed7654",
      "metadata": {
        "execution": {
          "iopub.execute_input": "2022-08-06T18:00:38.360124Z",
          "iopub.status.busy": "2022-08-06T18:00:38.358879Z",
          "iopub.status.idle": "2022-08-06T18:00:38.371675Z",
          "shell.execute_reply": "2022-08-06T18:00:38.369807Z"
        },
        "id": "4eed7654",
        "outputId": "e1ada089-83ad-4187-d564-94ca9261a449",
        "papermill": {
          "duration": 0.051477,
          "end_time": "2022-08-06T18:00:38.374850",
          "exception": false,
          "start_time": "2022-08-06T18:00:38.323373",
          "status": "completed"
        },
        "tags": []
      },
      "outputs": [
        {
          "name": "stdout",
          "output_type": "stream",
          "text": [
            "The RMSE loss for the validation set is 0.4570468260423317.\n",
            "The r2_score for the validation set is 0.14304719867318205 %.\n"
          ]
        }
      ],
      "source": [
        "val_rmse =mean_squared_error(val_targets,val_preds,squared=False)\n",
        "print('The RMSE loss for the validation set is {}.'.format(val_rmse))\n",
        "train_r2=r2_score(val_targets,val_preds)\n",
        "print('The r2_score for the validation set is {} %.'.format(train_r2))"
      ]
    },
    {
      "cell_type": "markdown",
      "id": "cbb9d646",
      "metadata": {
        "id": "cbb9d646",
        "papermill": {
          "duration": 0.033937,
          "end_time": "2022-08-06T18:00:38.442227",
          "exception": false,
          "start_time": "2022-08-06T18:00:38.408290",
          "status": "completed"
        },
        "tags": []
      },
      "source": [
        "# Model 2 -Training and Visualizing Decision Trees\n",
        "\n",
        "A decision tree in general parlance represents a hierarchical series of binary decisions:\n",
        "\n",
        "<img src=\"https://i.imgur.com/qSH4lqz.png\" width=\"480\">\n",
        "\n",
        "A decision tree in machine learning works in exactly the same way, and except that we let the computer figure out the optimal structure & hierarchy of decisions, instead of coming up with criteria manually."
      ]
    },
    {
      "cell_type": "markdown",
      "id": "6e13b57e",
      "metadata": {
        "id": "6e13b57e",
        "papermill": {
          "duration": 0.033229,
          "end_time": "2022-08-06T18:00:38.509372",
          "exception": false,
          "start_time": "2022-08-06T18:00:38.476143",
          "status": "completed"
        },
        "tags": []
      },
      "source": [
        "## Training\n",
        "\n",
        "We can use `DecisionTreeClassifier` from `sklearn.tree` to train a decision tree."
      ]
    },
    {
      "cell_type": "code",
      "execution_count": null,
      "id": "948e30ab",
      "metadata": {
        "execution": {
          "iopub.execute_input": "2022-08-06T18:00:38.580266Z",
          "iopub.status.busy": "2022-08-06T18:00:38.579493Z",
          "iopub.status.idle": "2022-08-06T18:00:56.983414Z",
          "shell.execute_reply": "2022-08-06T18:00:56.981813Z"
        },
        "id": "948e30ab",
        "outputId": "970165c3-6f9f-44b7-8f6d-e709c651be90",
        "papermill": {
          "duration": 18.443178,
          "end_time": "2022-08-06T18:00:56.986381",
          "exception": false,
          "start_time": "2022-08-06T18:00:38.543203",
          "status": "completed"
        },
        "tags": []
      },
      "outputs": [
        {
          "data": {
            "text/plain": [
              "DecisionTreeClassifier(random_state=42)"
            ]
          },
          "execution_count": 38,
          "metadata": {},
          "output_type": "execute_result"
        }
      ],
      "source": [
        "from sklearn.tree import DecisionTreeClassifier\n",
        "\n",
        "# Create the model\n",
        "model = DecisionTreeClassifier(random_state=42)\n",
        "\n",
        "# Fit the model\n",
        "model.fit(train_inputs, train_targets)"
      ]
    },
    {
      "cell_type": "markdown",
      "id": "208f4cc9",
      "metadata": {
        "id": "208f4cc9",
        "papermill": {
          "duration": 0.034023,
          "end_time": "2022-08-06T18:00:57.055106",
          "exception": false,
          "start_time": "2022-08-06T18:00:57.021083",
          "status": "completed"
        },
        "tags": []
      },
      "source": [
        "An optimal decision tree has now been created using the training data."
      ]
    },
    {
      "cell_type": "markdown",
      "id": "68eb7c1f",
      "metadata": {
        "id": "68eb7c1f",
        "papermill": {
          "duration": 0.034638,
          "end_time": "2022-08-06T18:00:57.125240",
          "exception": false,
          "start_time": "2022-08-06T18:00:57.090602",
          "status": "completed"
        },
        "tags": []
      },
      "source": [
        "##Evaluation\n",
        "\n",
        "Let's evaluate the decision tree using the accuracy score."
      ]
    },
    {
      "cell_type": "code",
      "execution_count": null,
      "id": "c5d239b2",
      "metadata": {
        "execution": {
          "iopub.execute_input": "2022-08-06T18:00:57.197829Z",
          "iopub.status.busy": "2022-08-06T18:00:57.197345Z",
          "iopub.status.idle": "2022-08-06T18:00:57.386065Z",
          "shell.execute_reply": "2022-08-06T18:00:57.384031Z"
        },
        "id": "c5d239b2",
        "papermill": {
          "duration": 0.22948,
          "end_time": "2022-08-06T18:00:57.389606",
          "exception": false,
          "start_time": "2022-08-06T18:00:57.160126",
          "status": "completed"
        },
        "tags": []
      },
      "outputs": [],
      "source": [
        "train_preds = model.predict(train_inputs)"
      ]
    },
    {
      "cell_type": "code",
      "execution_count": null,
      "id": "3b65573c",
      "metadata": {
        "execution": {
          "iopub.execute_input": "2022-08-06T18:00:57.462257Z",
          "iopub.status.busy": "2022-08-06T18:00:57.461820Z",
          "iopub.status.idle": "2022-08-06T18:00:57.469486Z",
          "shell.execute_reply": "2022-08-06T18:00:57.468229Z"
        },
        "id": "3b65573c",
        "outputId": "d7aa7720-a9cd-4576-e037-5efe60795ad0",
        "papermill": {
          "duration": 0.047443,
          "end_time": "2022-08-06T18:00:57.472353",
          "exception": false,
          "start_time": "2022-08-06T18:00:57.424910",
          "status": "completed"
        },
        "tags": []
      },
      "outputs": [
        {
          "data": {
            "text/plain": [
              "array([1, 0, 1, ..., 0, 0, 1])"
            ]
          },
          "execution_count": 40,
          "metadata": {},
          "output_type": "execute_result"
        }
      ],
      "source": [
        "train_preds"
      ]
    },
    {
      "cell_type": "markdown",
      "id": "7110fd02",
      "metadata": {
        "id": "7110fd02",
        "papermill": {
          "duration": 0.035455,
          "end_time": "2022-08-06T18:00:57.541589",
          "exception": false,
          "start_time": "2022-08-06T18:00:57.506134",
          "status": "completed"
        },
        "tags": []
      },
      "source": [
        "The decision tree also returns probabilities for each prediction."
      ]
    },
    {
      "cell_type": "code",
      "execution_count": null,
      "id": "7c1e8f57",
      "metadata": {
        "execution": {
          "iopub.execute_input": "2022-08-06T18:00:57.612843Z",
          "iopub.status.busy": "2022-08-06T18:00:57.612375Z",
          "iopub.status.idle": "2022-08-06T18:00:57.811428Z",
          "shell.execute_reply": "2022-08-06T18:00:57.810046Z"
        },
        "id": "7c1e8f57",
        "outputId": "958b6b78-498a-4251-f399-b3f7d1b6d10d",
        "papermill": {
          "duration": 0.238516,
          "end_time": "2022-08-06T18:00:57.814382",
          "exception": false,
          "start_time": "2022-08-06T18:00:57.575866",
          "status": "completed"
        },
        "tags": []
      },
      "outputs": [
        {
          "data": {
            "text/plain": [
              "array([[0., 1.],\n",
              "       [1., 0.],\n",
              "       [0., 1.],\n",
              "       ...,\n",
              "       [1., 0.],\n",
              "       [1., 0.],\n",
              "       [0., 1.]])"
            ]
          },
          "execution_count": 41,
          "metadata": {},
          "output_type": "execute_result"
        }
      ],
      "source": [
        "train_probs = model.predict_proba(train_inputs)\n",
        "train_probs"
      ]
    },
    {
      "cell_type": "markdown",
      "id": "94edad9f",
      "metadata": {
        "id": "94edad9f",
        "papermill": {
          "duration": 0.034701,
          "end_time": "2022-08-06T18:00:57.883252",
          "exception": false,
          "start_time": "2022-08-06T18:00:57.848551",
          "status": "completed"
        },
        "tags": []
      },
      "source": [
        "Seems like the decision tree is quite confident about its predictions.\n",
        "\n",
        "Let's check the accuracy of its predictions."
      ]
    },
    {
      "cell_type": "code",
      "execution_count": null,
      "id": "90eceb39",
      "metadata": {
        "execution": {
          "iopub.execute_input": "2022-08-06T18:00:57.955079Z",
          "iopub.status.busy": "2022-08-06T18:00:57.954471Z",
          "iopub.status.idle": "2022-08-06T18:00:58.004441Z",
          "shell.execute_reply": "2022-08-06T18:00:58.002903Z"
        },
        "id": "90eceb39",
        "outputId": "efd6e09d-2154-4ff0-c259-fcbb76ad883e",
        "papermill": {
          "duration": 0.089717,
          "end_time": "2022-08-06T18:00:58.007372",
          "exception": false,
          "start_time": "2022-08-06T18:00:57.917655",
          "status": "completed"
        },
        "tags": []
      },
      "outputs": [
        {
          "data": {
            "text/plain": [
              "1.0"
            ]
          },
          "execution_count": 42,
          "metadata": {},
          "output_type": "execute_result"
        }
      ],
      "source": [
        "from sklearn.metrics import accuracy_score, confusion_matrix\n",
        "\n",
        "accuracy_score(train_targets, train_preds)"
      ]
    },
    {
      "cell_type": "markdown",
      "id": "44626216",
      "metadata": {
        "id": "44626216",
        "papermill": {
          "duration": 0.035105,
          "end_time": "2022-08-06T18:00:58.077357",
          "exception": false,
          "start_time": "2022-08-06T18:00:58.042252",
          "status": "completed"
        },
        "tags": []
      },
      "source": [
        "The training set accuracy is close to 100%! But we can't rely solely on the training set accuracy, we must evaluate the model on the validation set too. \n",
        "\n",
        "We can make predictions and compute accuracy in one step using `model.score`"
      ]
    },
    {
      "cell_type": "code",
      "execution_count": null,
      "id": "9fa6b557",
      "metadata": {
        "execution": {
          "iopub.execute_input": "2022-08-06T18:00:58.149182Z",
          "iopub.status.busy": "2022-08-06T18:00:58.148761Z",
          "iopub.status.idle": "2022-08-06T18:00:58.227930Z",
          "shell.execute_reply": "2022-08-06T18:00:58.226542Z"
        },
        "id": "9fa6b557",
        "outputId": "8ad52a4a-f8f2-4999-c090-3e2bcc0af388",
        "papermill": {
          "duration": 0.118708,
          "end_time": "2022-08-06T18:00:58.230810",
          "exception": false,
          "start_time": "2022-08-06T18:00:58.112102",
          "status": "completed"
        },
        "tags": []
      },
      "outputs": [
        {
          "data": {
            "text/plain": [
              "0.9871527570937829"
            ]
          },
          "execution_count": 43,
          "metadata": {},
          "output_type": "execute_result"
        }
      ],
      "source": [
        "model.score(val_inputs, val_targets)"
      ]
    },
    {
      "cell_type": "markdown",
      "id": "ecd8d316",
      "metadata": {
        "id": "ecd8d316",
        "papermill": {
          "duration": 0.034971,
          "end_time": "2022-08-06T18:00:58.300538",
          "exception": false,
          "start_time": "2022-08-06T18:00:58.265567",
          "status": "completed"
        },
        "tags": []
      },
      "source": [
        "Although the training accuracy is 100%, the accuracy on the validation set is  about 98%, which is the best result.\n",
        " "
      ]
    },
    {
      "cell_type": "markdown",
      "id": "840d19c3",
      "metadata": {
        "id": "840d19c3",
        "papermill": {
          "duration": 0.035776,
          "end_time": "2022-08-06T18:00:58.371407",
          "exception": false,
          "start_time": "2022-08-06T18:00:58.335631",
          "status": "completed"
        },
        "tags": []
      },
      "source": [
        "## Visualization\n",
        "\n",
        "We can visualize the decision tree _learned_ from the training data."
      ]
    },
    {
      "cell_type": "code",
      "execution_count": null,
      "id": "1f53e138",
      "metadata": {
        "execution": {
          "iopub.execute_input": "2022-08-06T18:00:58.444108Z",
          "iopub.status.busy": "2022-08-06T18:00:58.443623Z",
          "iopub.status.idle": "2022-08-06T18:00:59.966429Z",
          "shell.execute_reply": "2022-08-06T18:00:59.964866Z"
        },
        "id": "1f53e138",
        "outputId": "87d0749e-fbea-43a0-c369-e023a9854285",
        "papermill": {
          "duration": 1.5622,
          "end_time": "2022-08-06T18:00:59.969551",
          "exception": false,
          "start_time": "2022-08-06T18:00:58.407351",
          "status": "completed"
        },
        "tags": []
      },
      "outputs": [
        {
          "data": {
            "image/png": "[encoded data removed]",
            "text/plain": [
              "<Figure size 5760x1440 with 1 Axes>"
            ]
          },
          "metadata": {
            "needs_background": "light"
          },
          "output_type": "display_data"
        }
      ],
      "source": [
        "from sklearn.tree import plot_tree, export_text\n",
        "plt.figure(figsize=(80,20))\n",
        "plot_tree(model, feature_names=train_inputs.columns, max_depth=2, filled=True);"
      ]
    },
    {
      "cell_type": "markdown",
      "id": "297cb511",
      "metadata": {
        "id": "297cb511",
        "papermill": {
          "duration": 0.04037,
          "end_time": "2022-08-06T18:01:00.050319",
          "exception": false,
          "start_time": "2022-08-06T18:01:00.009949",
          "status": "completed"
        },
        "tags": []
      },
      "source": [
        "Can you see how the model classifies a given input as a series of decisions? The tree is truncated here, but following any path from the root node down to a leaf will result in \"Yes\" or \"No\". Do you see how a decision tree differs from a logistic regression model?\n",
        "\n",
        "\n",
        "**How a Decision Tree is Created**\n",
        "\n",
        "Note the `gini` value in each box. This is the loss function used by the decision tree to decide which column should be used for splitting the data, and at what point the column should be split. A lower Gini index indicates a better split. A perfect split (only one class on each side) has a Gini index of 0. \n",
        "\n",
        "\n",
        "\n",
        "<img src=\"https://i.imgur.com/CSC0gAo.png\" width=\"240\">\n",
        "\n",
        "Conceptually speaking, while training the models evaluates all possible splits across all possible columns and picks the best one. Then, it recursively performs an optimal split for the two portions. In practice, however, it's very inefficient to check all possible splits, so the model uses a heuristic (predefined strategy) combined with some randomization.\n",
        "\n",
        "The iterative approach of the machine learning workflow in the case of a decision tree involves growing the tree layer-by-layer:\n",
        "\n",
        "<img src=\"https://www.deepnetts.com/blog/wp-content/uploads/2019/02/SupervisedLearning.png\" width=\"480\">\n",
        "\n",
        "\n",
        "Let's check the depth of the tree that was created."
      ]
    },
    {
      "cell_type": "code",
      "execution_count": null,
      "id": "be4515da",
      "metadata": {
        "execution": {
          "iopub.execute_input": "2022-08-06T18:01:00.135943Z",
          "iopub.status.busy": "2022-08-06T18:01:00.135440Z",
          "iopub.status.idle": "2022-08-06T18:01:00.143654Z",
          "shell.execute_reply": "2022-08-06T18:01:00.142319Z"
        },
        "id": "be4515da",
        "outputId": "9cf2e2dc-4294-4ddd-cc6a-25e1b5c235d7",
        "papermill": {
          "duration": 0.054056,
          "end_time": "2022-08-06T18:01:00.146018",
          "exception": false,
          "start_time": "2022-08-06T18:01:00.091962",
          "status": "completed"
        },
        "tags": []
      },
      "outputs": [
        {
          "data": {
            "text/plain": [
              "43"
            ]
          },
          "execution_count": 45,
          "metadata": {},
          "output_type": "execute_result"
        }
      ],
      "source": [
        "model.tree_.max_depth"
      ]
    },
    {
      "cell_type": "markdown",
      "id": "cabdeb73",
      "metadata": {
        "id": "cabdeb73",
        "papermill": {
          "duration": 0.039721,
          "end_time": "2022-08-06T18:01:00.225931",
          "exception": false,
          "start_time": "2022-08-06T18:01:00.186210",
          "status": "completed"
        },
        "tags": []
      },
      "source": [
        "We can also display the tree as text, which can be easier to follow for deeper trees."
      ]
    },
    {
      "cell_type": "code",
      "execution_count": null,
      "id": "9d56ec9a",
      "metadata": {
        "execution": {
          "iopub.execute_input": "2022-08-06T18:01:00.309089Z",
          "iopub.status.busy": "2022-08-06T18:01:00.308580Z",
          "iopub.status.idle": "2022-08-06T18:01:00.375920Z",
          "shell.execute_reply": "2022-08-06T18:01:00.374317Z"
        },
        "id": "9d56ec9a",
        "outputId": "da40bc62-c3db-4a3e-aa62-992e4c4446ab",
        "papermill": {
          "duration": 0.113236,
          "end_time": "2022-08-06T18:01:00.379844",
          "exception": false,
          "start_time": "2022-08-06T18:01:00.266608",
          "status": "completed"
        },
        "tags": []
      },
      "outputs": [
        {
          "name": "stdout",
          "output_type": "stream",
          "text": [
            "|--- E9 <= 0.50\n",
            "|   |--- E7 <= 0.02\n",
            "|   |   |--- E10 <= 0.05\n",
            "|   |   |   |--- V2 <= 0.50\n",
            "|   |   |   |   |--- E5 <= 0.52\n",
            "|   |   |   |   |   |--- P1 <= 0.43\n",
            "|   |   |   |   |   |   |--- P4 <= 0.25\n",
            "|   |   |   |   |   |   |   |--- V11 <= 0.05\n",
            "|   |   |   |   |   |   |   |   |--- class: 1\n",
            "|   |   |   |   |   |   |   |--- V11 >  0.05\n",
            "|   |   |   |   |   |   |   |   |--- V6 <= 0.14\n",
            "|   |   |   |   |   |   |   |   |   |--- class: 1\n",
            "|   |   |   |   |   |   |   |   |--- V6 >  0.14\n",
            "|   |   |   |   |   |   |   |   |   |--- class: 0\n",
            "|   |   |   |   |   |   |--- P4 >  0.25\n",
            "|   |   |   |   |   |   |   |--- V6 <= 0.13\n",
            "|   |   |   |   |   |   |   |   |--- class: 1\n",
            "|   |   |   |   |   |   |   |--- V6 >  0.13\n",
            "|   |   |   |   |   |   |   |   |--- E5 <= 0.47\n",
            "|   |   |   |   |   |   |   |   |   |--- E4 <= 0.10\n",
            "|   |   |   |   |   |   |   |   |   |   |--- class: 1\n",
            "|   |   |   |   |   |   |   |   |   |--- E4 >  0.10\n",
            "|   |   |   |   |   |   |   |   |   |   |--- P1 <= 0.40\n",
            "|   |   |   |   |   |   |   |   |   |   |   |--- class: 1\n",
            "|   |   |   |   |   |   |   |   |   |   |--- P1 >  0.40\n",
            "|   |   |   |   |   |   |   |   |   |   |   |--- truncated branch of depth 3\n",
            "|   |   |   |   |   |   |   |   |--- E5 >  0.47\n",
            "|   |   |   |   |   |   |   |   |   |--- P1 <= 0.42\n",
            "|   |   |   |   |   |   |   |   |   |   |--- class: 1\n",
            "|   |   |   |   |   |   |   |   |   |--- P1 >  0.42\n",
            "|   |   |   |   |   |   |   |   |   |   |--- class: 0\n",
            "|   |   |   |   |   |--- P1 >  0.43\n",
            "|   |   |   |   |   |   |--- V4 <= 0.00\n",
            "|   |   |   |   |   |   |   |--- class: 0\n",
            "|   |   |   |   |   |   |--- V4 >  0.00\n",
            "|   |   |   |   |   |   |   |--- P1 <= 0.53\n",
            "|   |   |   |   |   |   |   |   |--- P1 <= 0.51\n",
            "|   |   |   |   |   |   |   |   |   |--- class: 1\n",
            "|   |   |   |   |   |   |   |   |--- P1 >  0.51\n",
            "|   |   |   |   |   |   |   |   |   |--- P7 <= 0.14\n",
            "|   |   |   |   |   |   |   |   |   |   |--- class: 1\n",
            "|   |   |   |   |   |   |   |   |   |--- P7 >  0.14\n",
            "|   |   |   |   |   |   |   |   |   |   |--- P7 <= 0.18\n",
            "|   |   |   |   |   |   |   |   |   |   |   |--- class: 0\n",
            "|   |   |   |   |   |   |   |   |   |   |--- P7 >  0.18\n",
            "|   |   |   |   |   |   |   |   |   |   |   |--- class: 1\n",
            "|   |   |   |   |   |   |   |--- P1 >  0.53\n",
            "|   |   |   |   |   |   |   |   |--- V4 <= 0.04\n",
            "|   |   |   |   |   |   |   |   |   |--- P5 <= 0.01\n",
            "|   |   |   |   |   |   |   |   |   |   |--- class: 1\n",
            "|   |   |   |   |   |   |   |   |   |--- P5 >  0.01\n",
            "|   |   |   |   |   |   |   |   |   |   |--- V4 <= 0.02\n",
            "|   |   |   |   |   |   |   |   |   |   |   |--- class: 1\n",
            "|   |   |   |   |   |   |   |   |   |   |--- V4 >  0.02\n",
            "|   |   |   |   |   |   |   |   |   |   |   |--- class: 0\n",
            "|   |   |   |   |   |   |   |   |--- V4 >  0.04\n",
            "|   |   |   |   |   |   |   |   |   |--- class: 1\n",
            "|   |   |   |   |--- E5 >  0.52\n",
            "|   |   |   |   |   |--- V6 <= 0.13\n",
            "|   |   |   |   |   |   |--- class: 0\n",
            "|   |   |   |   |   |--- V6 >  0.13\n",
            "|   |   |   |   |   |   |--- P5 <= 0.01\n",
            "|   |   |   |   |   |   |   |--- class: 0\n",
            "|   |   |   |   |   |   |--- P5 >  0.01\n",
            "|   |   |   |   |   |   |   |--- class: 1\n",
            "|   |   |   |--- V2 >  0.50\n",
            "|   |   |   |   |--- E1 <= 0.13\n",
            "|   |   |   |   |   |--- E10 <= 0.01\n",
            "|   |   |   |   |   |   |--- V8 <= 0.76\n",
            "|   |   |   |   |   |   |   |--- E5 <= 0.56\n",
            "|   |   |   |   |   |   |   |   |--- E6 <= 0.51\n",
            "|   |   |   |   |   |   |   |   |   |--- P6 <= 0.00\n",
            "|   |   |   |   |   |   |   |   |   |   |--- V1 <= 0.85\n",
            "|   |   |   |   |   |   |   |   |   |   |   |--- truncated branch of depth 3\n",
            "|   |   |   |   |   |   |   |   |   |   |--- V1 >  0.85\n",
            "|   |   |   |   |   |   |   |   |   |   |   |--- class: 0\n",
            "|   |   |   |   |   |   |   |   |   |--- P6 >  0.00\n",
            "|   |   |   |   |   |   |   |   |   |   |--- class: 1\n",
            "|   |   |   |   |   |   |   |   |--- E6 >  0.51\n",
            "|   |   |   |   |   |   |   |   |   |--- V6 <= 0.46\n",
            "|   |   |   |   |   |   |   |   |   |   |--- class: 1\n",
            "|   |   |   |   |   |   |   |   |   |--- V6 >  0.46\n",
            "|   |   |   |   |   |   |   |   |   |   |--- class: 0\n",
            "|   |   |   |   |   |   |   |--- E5 >  0.56\n",
            "|   |   |   |   |   |   |   |   |--- E5 <= 0.69\n",
            "|   |   |   |   |   |   |   |   |   |--- E5 <= 0.67\n",
            "|   |   |   |   |   |   |   |   |   |   |--- V1 <= 0.83\n",
            "|   |   |   |   |   |   |   |   |   |   |   |--- truncated branch of depth 3\n",
            "|   |   |   |   |   |   |   |   |   |   |--- V1 >  0.83\n",
            "|   |   |   |   |   |   |   |   |   |   |   |--- class: 0\n",
            "|   |   |   |   |   |   |   |   |   |--- E5 >  0.67\n",
            "|   |   |   |   |   |   |   |   |   |   |--- class: 0\n",
            "|   |   |   |   |   |   |   |   |--- E5 >  0.69\n",
            "|   |   |   |   |   |   |   |   |   |--- class: 1\n",
            "|   |   |   |   |   |   |--- V8 >  0.76\n",
            "|   |   |   |   |   |   |   |--- class: 0\n",
            "|   |   |   |   |   |--- E10 >  0.01\n",
            "|   |   |   |   |   |   |--- V1 <= 0.45\n",
            "|   |   |   |   |   |   |   |--- E10 <= 0.02\n",
            "|   |   |   |   |   |   |   |   |--- class: 0\n",
            "|   |   |   |   |   |   |   |--- E10 >  0.02\n",
            "|   |   |   |   |   |   |   |   |--- V6 <= 0.34\n",
            "|   |   |   |   |   |   |   |   |   |--- P3 <= 0.58\n",
            "|   |   |   |   |   |   |   |   |   |   |--- P5 <= 0.00\n",
            "|   |   |   |   |   |   |   \n"
          ]
        }
      ],
      "source": [
        "tree_text = export_text(model, max_depth=10, feature_names=list(train_inputs.columns))\n",
        "print(tree_text[:5000])"
      ]
    },
    {
      "cell_type": "markdown",
      "id": "948c4581",
      "metadata": {
        "id": "948c4581",
        "papermill": {
          "duration": 0.040669,
          "end_time": "2022-08-06T18:01:00.460178",
          "exception": false,
          "start_time": "2022-08-06T18:01:00.419509",
          "status": "completed"
        },
        "tags": []
      },
      "source": [
        "## Feature Importance\n",
        "\n",
        "Based on the gini index computations, a decision tree assigns an \"importance\" value to each feature. These values can be used to interpret the results given by a decision tree."
      ]
    },
    {
      "cell_type": "code",
      "execution_count": null,
      "id": "f5b5f09e",
      "metadata": {
        "execution": {
          "iopub.execute_input": "2022-08-06T18:01:00.544394Z",
          "iopub.status.busy": "2022-08-06T18:01:00.542574Z",
          "iopub.status.idle": "2022-08-06T18:01:00.553480Z",
          "shell.execute_reply": "2022-08-06T18:01:00.552334Z"
        },
        "id": "f5b5f09e",
        "outputId": "8bd636d2-0828-415c-9650-073892aa5739",
        "papermill": {
          "duration": 0.054838,
          "end_time": "2022-08-06T18:01:00.555873",
          "exception": false,
          "start_time": "2022-08-06T18:01:00.501035",
          "status": "completed"
        },
        "tags": []
      },
      "outputs": [
        {
          "data": {
            "text/plain": [
              "array([0.03708964, 0.0016285 , 0.00550167, 0.005179  , 0.05294908,\n",
              "       0.04949705, 0.03401812, 0.        , 0.0117966 , 0.0261705 ,\n",
              "       0.00039131, 0.01516902, 0.02959932, 0.03759833, 0.02346042,\n",
              "       0.03905362, 0.14476896, 0.05838598, 0.00233194, 0.0937022 ,\n",
              "       0.01003476, 0.00208227, 0.01477708, 0.00511667, 0.02855192,\n",
              "       0.        , 0.01098812, 0.        , 0.00140868, 0.25874926])"
            ]
          },
          "execution_count": 47,
          "metadata": {},
          "output_type": "execute_result"
        }
      ],
      "source": [
        "model.feature_importances_"
      ]
    },
    {
      "cell_type": "markdown",
      "id": "d03aa457",
      "metadata": {
        "id": "d03aa457",
        "papermill": {
          "duration": 0.041736,
          "end_time": "2022-08-06T18:01:00.637432",
          "exception": false,
          "start_time": "2022-08-06T18:01:00.595696",
          "status": "completed"
        },
        "tags": []
      },
      "source": [
        "Let's turn this into a dataframe and visualize the most important features."
      ]
    },
    {
      "cell_type": "code",
      "execution_count": null,
      "id": "24c73c65",
      "metadata": {
        "execution": {
          "iopub.execute_input": "2022-08-06T18:01:00.722864Z",
          "iopub.status.busy": "2022-08-06T18:01:00.722379Z",
          "iopub.status.idle": "2022-08-06T18:01:00.731782Z",
          "shell.execute_reply": "2022-08-06T18:01:00.730225Z"
        },
        "id": "24c73c65",
        "papermill": {
          "duration": 0.056086,
          "end_time": "2022-08-06T18:01:00.734522",
          "exception": false,
          "start_time": "2022-08-06T18:01:00.678436",
          "status": "completed"
        },
        "tags": []
      },
      "outputs": [],
      "source": [
        "# craeting the data frame \n",
        "importance_df = pd.DataFrame({\n",
        "    'feature': train_inputs.columns,\n",
        "    'importance': model.feature_importances_\n",
        "}).sort_values('importance', ascending=False)"
      ]
    },
    {
      "cell_type": "code",
      "execution_count": null,
      "id": "cf5d51fb",
      "metadata": {
        "execution": {
          "iopub.execute_input": "2022-08-06T18:01:00.819100Z",
          "iopub.status.busy": "2022-08-06T18:01:00.818424Z",
          "iopub.status.idle": "2022-08-06T18:01:00.833623Z",
          "shell.execute_reply": "2022-08-06T18:01:00.832087Z"
        },
        "id": "cf5d51fb",
        "outputId": "b8e9710d-7cf6-428f-a2ec-143be45d6ec0",
        "papermill": {
          "duration": 0.062084,
          "end_time": "2022-08-06T18:01:00.836597",
          "exception": false,
          "start_time": "2022-08-06T18:01:00.774513",
          "status": "completed"
        },
        "tags": []
      },
      "outputs": [
        {
          "data": {
            "text/html": [
              "<div>\n",
              "<style scoped>\n",
              "    .dataframe tbody tr th:only-of-type {\n",
              "        vertical-align: middle;\n",
              "    }\n",
              "\n",
              "    .dataframe tbody tr th {\n",
              "        vertical-align: top;\n",
              "    }\n",
              "\n",
              "    .dataframe thead th {\n",
              "        text-align: right;\n",
              "    }\n",
              "</style>\n",
              "<table border=\"1\" class=\"dataframe\">\n",
              "  <thead>\n",
              "    <tr style=\"text-align: right;\">\n",
              "      <th></th>\n",
              "      <th>feature</th>\n",
              "      <th>importance</th>\n",
              "    </tr>\n",
              "  </thead>\n",
              "  <tbody>\n",
              "    <tr>\n",
              "      <th>29</th>\n",
              "      <td>V11</td>\n",
              "      <td>0.258749</td>\n",
              "    </tr>\n",
              "    <tr>\n",
              "      <th>16</th>\n",
              "      <td>E9</td>\n",
              "      <td>0.144769</td>\n",
              "    </tr>\n",
              "    <tr>\n",
              "      <th>19</th>\n",
              "      <td>V1</td>\n",
              "      <td>0.093702</td>\n",
              "    </tr>\n",
              "    <tr>\n",
              "      <th>17</th>\n",
              "      <td>E10</td>\n",
              "      <td>0.058386</td>\n",
              "    </tr>\n",
              "    <tr>\n",
              "      <th>4</th>\n",
              "      <td>P5</td>\n",
              "      <td>0.052949</td>\n",
              "    </tr>\n",
              "    <tr>\n",
              "      <th>5</th>\n",
              "      <td>P6</td>\n",
              "      <td>0.049497</td>\n",
              "    </tr>\n",
              "    <tr>\n",
              "      <th>15</th>\n",
              "      <td>E8</td>\n",
              "      <td>0.039054</td>\n",
              "    </tr>\n",
              "    <tr>\n",
              "      <th>13</th>\n",
              "      <td>E6</td>\n",
              "      <td>0.037598</td>\n",
              "    </tr>\n",
              "    <tr>\n",
              "      <th>0</th>\n",
              "      <td>P1</td>\n",
              "      <td>0.037090</td>\n",
              "    </tr>\n",
              "    <tr>\n",
              "      <th>6</th>\n",
              "      <td>P7</td>\n",
              "      <td>0.034018</td>\n",
              "    </tr>\n",
              "  </tbody>\n",
              "</table>\n",
              "</div>"
            ],
            "text/plain": [
              "   feature  importance\n",
              "29     V11    0.258749\n",
              "16      E9    0.144769\n",
              "19      V1    0.093702\n",
              "17     E10    0.058386\n",
              "4       P5    0.052949\n",
              "5       P6    0.049497\n",
              "15      E8    0.039054\n",
              "13      E6    0.037598\n",
              "0       P1    0.037090\n",
              "6       P7    0.034018"
            ]
          },
          "execution_count": 49,
          "metadata": {},
          "output_type": "execute_result"
        }
      ],
      "source": [
        "importance_df.head(10)"
      ]
    },
    {
      "cell_type": "code",
      "execution_count": null,
      "id": "f9be962f",
      "metadata": {
        "execution": {
          "iopub.execute_input": "2022-08-06T18:01:00.921370Z",
          "iopub.status.busy": "2022-08-06T18:01:00.920678Z",
          "iopub.status.idle": "2022-08-06T18:01:01.217659Z",
          "shell.execute_reply": "2022-08-06T18:01:01.216242Z"
        },
        "id": "f9be962f",
        "outputId": "d1565456-215f-4a45-ed22-b37857fef612",
        "papermill": {
          "duration": 0.343476,
          "end_time": "2022-08-06T18:01:01.220379",
          "exception": false,
          "start_time": "2022-08-06T18:01:00.876903",
          "status": "completed"
        },
        "tags": []
      },
      "outputs": [
        {
          "data": {
            "image/png": "[encoded data removed]",
            "text/plain": [
              "<Figure size 720x432 with 1 Axes>"
            ]
          },
          "metadata": {
            "needs_background": "light"
          },
          "output_type": "display_data"
        }
      ],
      "source": [
        "plt.title('Feature Importance')\n",
        "sns.barplot(data=importance_df.head(10), x='importance', y='feature');"
      ]
    },
    {
      "cell_type": "markdown",
      "id": "df735aaf",
      "metadata": {
        "id": "df735aaf",
        "papermill": {
          "duration": 0.042097,
          "end_time": "2022-08-06T18:01:01.302358",
          "exception": false,
          "start_time": "2022-08-06T18:01:01.260261",
          "status": "completed"
        },
        "tags": []
      },
      "source": [
        "# Model 3-Training a Random Forest\n",
        "\n",
        "While tuning the hyperparameters of a single decision tree may lead to some improvements, a much more effective strategy is to combine the results of several decision trees trained with slightly different parameters. This is called a random forest model. \n",
        "\n",
        "The key idea here is that each decision tree in the forest will make different kinds of errors, and upon averaging, many of their errors will cancel out. This idea is also commonly known as the \"wisdom of the crowd\":\n",
        "\n"
      ]
    },
    {
      "cell_type": "code",
      "execution_count": null,
      "id": "ab265a6f",
      "metadata": {
        "execution": {
          "iopub.execute_input": "2022-08-06T18:01:01.387924Z",
          "iopub.status.busy": "2022-08-06T18:01:01.387429Z",
          "iopub.status.idle": "2022-08-06T18:02:30.734453Z",
          "shell.execute_reply": "2022-08-06T18:02:30.733175Z"
        },
        "id": "ab265a6f",
        "outputId": "b2eb1f93-49fa-4e16-c17b-112660706b97",
        "papermill": {
          "duration": 89.432203,
          "end_time": "2022-08-06T18:02:30.776077",
          "exception": false,
          "start_time": "2022-08-06T18:01:01.343874",
          "status": "completed"
        },
        "tags": []
      },
      "outputs": [
        {
          "data": {
            "text/plain": [
              "RandomForestClassifier(n_jobs=-1, random_state=42)"
            ]
          },
          "execution_count": 51,
          "metadata": {},
          "output_type": "execute_result"
        }
      ],
      "source": [
        "from sklearn.ensemble import RandomForestClassifier\n",
        "\n",
        "model = RandomForestClassifier(n_jobs=-1, random_state=42)\n",
        "\n",
        "model.fit(train_inputs, train_targets)"
      ]
    },
    {
      "cell_type": "markdown",
      "id": "0d93dee6",
      "metadata": {
        "id": "0d93dee6",
        "papermill": {
          "duration": 0.039692,
          "end_time": "2022-08-06T18:02:30.855342",
          "exception": false,
          "start_time": "2022-08-06T18:02:30.815650",
          "status": "completed"
        },
        "tags": []
      },
      "source": [
        "`n_jobs` allows the random forest to use mutiple parallel workers to train decision trees, and `random_state=42` ensures that the we get the same results for each execution."
      ]
    },
    {
      "cell_type": "code",
      "execution_count": null,
      "id": "dee38b22",
      "metadata": {
        "execution": {
          "iopub.execute_input": "2022-08-06T18:02:30.936963Z",
          "iopub.status.busy": "2022-08-06T18:02:30.936454Z",
          "iopub.status.idle": "2022-08-06T18:02:35.855053Z",
          "shell.execute_reply": "2022-08-06T18:02:35.853582Z"
        },
        "id": "dee38b22",
        "outputId": "f1e8ae17-3981-4f6c-d1eb-08f4e095cc04",
        "papermill": {
          "duration": 4.963,
          "end_time": "2022-08-06T18:02:35.857774",
          "exception": false,
          "start_time": "2022-08-06T18:02:30.894774",
          "status": "completed"
        },
        "tags": []
      },
      "outputs": [
        {
          "data": {
            "text/plain": [
              "1.0"
            ]
          },
          "execution_count": 52,
          "metadata": {},
          "output_type": "execute_result"
        }
      ],
      "source": [
        "model.score(train_inputs, train_targets)"
      ]
    },
    {
      "cell_type": "code",
      "execution_count": null,
      "id": "067a3fb9",
      "metadata": {
        "execution": {
          "iopub.execute_input": "2022-08-06T18:02:35.945145Z",
          "iopub.status.busy": "2022-08-06T18:02:35.944372Z",
          "iopub.status.idle": "2022-08-06T18:02:37.688083Z",
          "shell.execute_reply": "2022-08-06T18:02:37.686715Z"
        },
        "id": "067a3fb9",
        "outputId": "5a7dd903-7d75-4616-997d-e49ed10afe74",
        "papermill": {
          "duration": 1.792667,
          "end_time": "2022-08-06T18:02:37.690551",
          "exception": false,
          "start_time": "2022-08-06T18:02:35.897884",
          "status": "completed"
        },
        "tags": []
      },
      "outputs": [
        {
          "data": {
            "text/plain": [
              "0.9937385410668308"
            ]
          },
          "execution_count": 53,
          "metadata": {},
          "output_type": "execute_result"
        }
      ],
      "source": [
        "model.score(val_inputs, val_targets)"
      ]
    },
    {
      "cell_type": "markdown",
      "id": "c6f7c13e",
      "metadata": {
        "id": "c6f7c13e",
        "papermill": {
          "duration": 0.040415,
          "end_time": "2022-08-06T18:02:37.772639",
          "exception": false,
          "start_time": "2022-08-06T18:02:37.732224",
          "status": "completed"
        },
        "tags": []
      },
      "source": [
        "Once again, the training accuracy is almost 100%, but this time the validation accuracy is much better. In fact, it is better than the best single decision tree we had trained so far. Do you see the power of random forests?\n",
        "\n",
        "This general technique of combining the results of many models is called \"ensembling\", it works because most errors of individual models cancel out on averaging. Here's what it looks like visually:\n",
        "\n",
        "<img src=\"https://i.imgur.com/qJo8D8b.png\" width=\"640\">\n",
        "\n",
        "\n",
        "We can also look at the probabilities for the predictions. The probability of a class is simply the fraction of trees which that predicted the given class."
      ]
    },
    {
      "cell_type": "code",
      "execution_count": null,
      "id": "34776720",
      "metadata": {
        "execution": {
          "iopub.execute_input": "2022-08-06T18:02:37.856503Z",
          "iopub.status.busy": "2022-08-06T18:02:37.855055Z",
          "iopub.status.idle": "2022-08-06T18:02:43.032347Z",
          "shell.execute_reply": "2022-08-06T18:02:43.031145Z"
        },
        "id": "34776720",
        "outputId": "f072969a-4664-48f8-a6e0-8798eaeebdad",
        "papermill": {
          "duration": 5.222061,
          "end_time": "2022-08-06T18:02:43.035051",
          "exception": false,
          "start_time": "2022-08-06T18:02:37.812990",
          "status": "completed"
        },
        "tags": []
      },
      "outputs": [
        {
          "data": {
            "text/plain": [
              "array([[0.  , 1.  ],\n",
              "       [1.  , 0.  ],\n",
              "       [0.  , 1.  ],\n",
              "       ...,\n",
              "       [1.  , 0.  ],\n",
              "       [0.93, 0.07],\n",
              "       [0.  , 1.  ]])"
            ]
          },
          "execution_count": 54,
          "metadata": {},
          "output_type": "execute_result"
        }
      ],
      "source": [
        "train_probs = model.predict_proba(train_inputs)\n",
        "train_probs"
      ]
    },
    {
      "cell_type": "markdown",
      "id": "cda19de9",
      "metadata": {
        "id": "cda19de9",
        "papermill": {
          "duration": 0.040163,
          "end_time": "2022-08-06T18:02:43.116316",
          "exception": false,
          "start_time": "2022-08-06T18:02:43.076153",
          "status": "completed"
        },
        "tags": []
      },
      "source": [
        "## Feature Importance"
      ]
    },
    {
      "cell_type": "markdown",
      "id": "5c0ffa24",
      "metadata": {
        "id": "5c0ffa24",
        "papermill": {
          "duration": 0.040547,
          "end_time": "2022-08-06T18:02:43.197570",
          "exception": false,
          "start_time": "2022-08-06T18:02:43.157023",
          "status": "completed"
        },
        "tags": []
      },
      "source": [
        "Just like decision tree, random forests also assign an \"importance\" to each feature, by combining the importance values from individual trees."
      ]
    },
    {
      "cell_type": "code",
      "execution_count": null,
      "id": "a3001b2b",
      "metadata": {
        "execution": {
          "iopub.execute_input": "2022-08-06T18:02:43.281179Z",
          "iopub.status.busy": "2022-08-06T18:02:43.280272Z",
          "iopub.status.idle": "2022-08-06T18:02:43.391576Z",
          "shell.execute_reply": "2022-08-06T18:02:43.390409Z"
        },
        "id": "a3001b2b",
        "papermill": {
          "duration": 0.157402,
          "end_time": "2022-08-06T18:02:43.394964",
          "exception": false,
          "start_time": "2022-08-06T18:02:43.237562",
          "status": "completed"
        },
        "tags": []
      },
      "outputs": [],
      "source": [
        "importance_df = pd.DataFrame({\n",
        "    'feature': train_inputs.columns,\n",
        "    'importance': model.feature_importances_\n",
        "}).sort_values('importance', ascending=False)"
      ]
    },
    {
      "cell_type": "code",
      "execution_count": null,
      "id": "1adaf72f",
      "metadata": {
        "execution": {
          "iopub.execute_input": "2022-08-06T18:02:43.478289Z",
          "iopub.status.busy": "2022-08-06T18:02:43.477519Z",
          "iopub.status.idle": "2022-08-06T18:02:43.846179Z",
          "shell.execute_reply": "2022-08-06T18:02:43.844803Z"
        },
        "id": "1adaf72f",
        "outputId": "55e8007b-ef60-481e-fa91-534b895f0765",
        "papermill": {
          "duration": 0.413388,
          "end_time": "2022-08-06T18:02:43.848786",
          "exception": false,
          "start_time": "2022-08-06T18:02:43.435398",
          "status": "completed"
        },
        "tags": []
      },
      "outputs": [
        {
          "data": {
            "image/png": "[encoded data removed]",
            "text/plain": [
              "<Figure size 720x432 with 1 Axes>"
            ]
          },
          "metadata": {
            "needs_background": "light"
          },
          "output_type": "display_data"
        }
      ],
      "source": [
        "plt.title('Feature Importance')\n",
        "sns.barplot(data=importance_df.head(10), x='importance', y='feature');"
      ]
    },
    {
      "cell_type": "markdown",
      "id": "3c47484e",
      "metadata": {
        "id": "3c47484e",
        "papermill": {
          "duration": 0.040281,
          "end_time": "2022-08-06T18:02:43.929862",
          "exception": false,
          "start_time": "2022-08-06T18:02:43.889581",
          "status": "completed"
        },
        "tags": []
      },
      "source": [
        "\n",
        "Notice that the distribution is a lot less skewed than that for a single decision tree."
      ]
    },
    {
      "cell_type": "markdown",
      "id": "a1a34523",
      "metadata": {
        "id": "a1a34523",
        "papermill": {
          "duration": 0.03965,
          "end_time": "2022-08-06T18:02:44.009969",
          "exception": false,
          "start_time": "2022-08-06T18:02:43.970319",
          "status": "completed"
        },
        "tags": []
      },
      "source": [
        "Finally, let's also compute the accuracy of our model on the test set."
      ]
    },
    {
      "cell_type": "markdown",
      "id": "25b56038",
      "metadata": {
        "id": "25b56038",
        "papermill": {
          "duration": 0.040413,
          "end_time": "2022-08-06T18:02:44.090736",
          "exception": false,
          "start_time": "2022-08-06T18:02:44.050323",
          "status": "completed"
        },
        "tags": []
      },
      "source": [
        "## Making Predictions on the Test Set\n",
        "\n",
        "Let's make predictions on the test set provided with the data."
      ]
    },
    {
      "cell_type": "code",
      "execution_count": null,
      "id": "c5298064",
      "metadata": {
        "execution": {
          "iopub.execute_input": "2022-08-06T18:02:44.173610Z",
          "iopub.status.busy": "2022-08-06T18:02:44.173119Z",
          "iopub.status.idle": "2022-08-06T18:02:44.647232Z",
          "shell.execute_reply": "2022-08-06T18:02:44.646093Z"
        },
        "id": "c5298064",
        "papermill": {
          "duration": 0.519783,
          "end_time": "2022-08-06T18:02:44.650562",
          "exception": false,
          "start_time": "2022-08-06T18:02:44.130779",
          "status": "completed"
        },
        "tags": []
      },
      "outputs": [],
      "source": [
        "test_df = pd.read_csv('stayalert_fordTest.csv')"
      ]
    },
    {
      "cell_type": "code",
      "execution_count": null,
      "id": "89608b52",
      "metadata": {
        "execution": {
          "iopub.execute_input": "2022-08-06T18:02:44.737310Z",
          "iopub.status.busy": "2022-08-06T18:02:44.736809Z",
          "iopub.status.idle": "2022-08-06T18:02:44.786200Z",
          "shell.execute_reply": "2022-08-06T18:02:44.784893Z"
        },
        "id": "89608b52",
        "outputId": "6dc13d1f-dfce-499f-8a19-eeaa203ec6d9",
        "papermill": {
          "duration": 0.09652,
          "end_time": "2022-08-06T18:02:44.788769",
          "exception": false,
          "start_time": "2022-08-06T18:02:44.692249",
          "status": "completed"
        },
        "tags": []
      },
      "outputs": [
        {
          "data": {
            "text/html": [
              "<div>\n",
              "<style scoped>\n",
              "    .dataframe tbody tr th:only-of-type {\n",
              "        vertical-align: middle;\n",
              "    }\n",
              "\n",
              "    .dataframe tbody tr th {\n",
              "        vertical-align: top;\n",
              "    }\n",
              "\n",
              "    .dataframe thead th {\n",
              "        text-align: right;\n",
              "    }\n",
              "</style>\n",
              "<table border=\"1\" class=\"dataframe\">\n",
              "  <thead>\n",
              "    <tr style=\"text-align: right;\">\n",
              "      <th></th>\n",
              "      <th>TrialID</th>\n",
              "      <th>ObsNum</th>\n",
              "      <th>IsAlert</th>\n",
              "      <th>P1</th>\n",
              "      <th>P2</th>\n",
              "      <th>P3</th>\n",
              "      <th>P4</th>\n",
              "      <th>P5</th>\n",
              "      <th>P6</th>\n",
              "      <th>P7</th>\n",
              "      <th>P8</th>\n",
              "      <th>E1</th>\n",
              "      <th>E2</th>\n",
              "      <th>E3</th>\n",
              "      <th>E4</th>\n",
              "      <th>E5</th>\n",
              "      <th>E6</th>\n",
              "      <th>E7</th>\n",
              "      <th>E8</th>\n",
              "      <th>E9</th>\n",
              "      <th>E10</th>\n",
              "      <th>E11</th>\n",
              "      <th>V1</th>\n",
              "      <th>V2</th>\n",
              "      <th>V3</th>\n",
              "      <th>V4</th>\n",
              "      <th>V5</th>\n",
              "      <th>V6</th>\n",
              "      <th>V7</th>\n",
              "      <th>V8</th>\n",
              "      <th>V9</th>\n",
              "      <th>V10</th>\n",
              "      <th>V11</th>\n",
              "    </tr>\n",
              "  </thead>\n",
              "  <tbody>\n",
              "    <tr>\n",
              "      <th>0</th>\n",
              "      <td>0</td>\n",
              "      <td>0</td>\n",
              "      <td>?</td>\n",
              "      <td>38.4294</td>\n",
              "      <td>10.94350</td>\n",
              "      <td>1000</td>\n",
              "      <td>60.0000</td>\n",
              "      <td>0.302277</td>\n",
              "      <td>508</td>\n",
              "      <td>118.1100</td>\n",
              "      <td>0</td>\n",
              "      <td>0.000</td>\n",
              "      <td>0.000</td>\n",
              "      <td>4</td>\n",
              "      <td>4</td>\n",
              "      <td>0.015434</td>\n",
              "      <td>328</td>\n",
              "      <td>1</td>\n",
              "      <td>1</td>\n",
              "      <td>1</td>\n",
              "      <td>64</td>\n",
              "      <td>0.0</td>\n",
              "      <td>108.57</td>\n",
              "      <td>0.00</td>\n",
              "      <td>255</td>\n",
              "      <td>4.50625</td>\n",
              "      <td>0</td>\n",
              "      <td>2127</td>\n",
              "      <td>0</td>\n",
              "      <td>17.6</td>\n",
              "      <td>0</td>\n",
              "      <td>4</td>\n",
              "      <td>16.1937</td>\n",
              "    </tr>\n",
              "    <tr>\n",
              "      <th>1</th>\n",
              "      <td>0</td>\n",
              "      <td>1</td>\n",
              "      <td>?</td>\n",
              "      <td>38.3609</td>\n",
              "      <td>15.32120</td>\n",
              "      <td>1000</td>\n",
              "      <td>60.0000</td>\n",
              "      <td>0.302277</td>\n",
              "      <td>508</td>\n",
              "      <td>118.1100</td>\n",
              "      <td>0</td>\n",
              "      <td>0.000</td>\n",
              "      <td>0.000</td>\n",
              "      <td>4</td>\n",
              "      <td>4</td>\n",
              "      <td>0.015434</td>\n",
              "      <td>328</td>\n",
              "      <td>1</td>\n",
              "      <td>1</td>\n",
              "      <td>1</td>\n",
              "      <td>64</td>\n",
              "      <td>0.0</td>\n",
              "      <td>108.57</td>\n",
              "      <td>0.00</td>\n",
              "      <td>255</td>\n",
              "      <td>4.50625</td>\n",
              "      <td>0</td>\n",
              "      <td>2127</td>\n",
              "      <td>0</td>\n",
              "      <td>17.6</td>\n",
              "      <td>0</td>\n",
              "      <td>4</td>\n",
              "      <td>16.1744</td>\n",
              "    </tr>\n",
              "    <tr>\n",
              "      <th>2</th>\n",
              "      <td>0</td>\n",
              "      <td>2</td>\n",
              "      <td>?</td>\n",
              "      <td>38.2342</td>\n",
              "      <td>11.51400</td>\n",
              "      <td>1000</td>\n",
              "      <td>60.0000</td>\n",
              "      <td>0.302277</td>\n",
              "      <td>508</td>\n",
              "      <td>118.1100</td>\n",
              "      <td>0</td>\n",
              "      <td>0.000</td>\n",
              "      <td>0.000</td>\n",
              "      <td>4</td>\n",
              "      <td>8</td>\n",
              "      <td>0.015938</td>\n",
              "      <td>328</td>\n",
              "      <td>1</td>\n",
              "      <td>1</td>\n",
              "      <td>1</td>\n",
              "      <td>65</td>\n",
              "      <td>0.0</td>\n",
              "      <td>108.65</td>\n",
              "      <td>0.07</td>\n",
              "      <td>255</td>\n",
              "      <td>4.50625</td>\n",
              "      <td>0</td>\n",
              "      <td>2131</td>\n",
              "      <td>0</td>\n",
              "      <td>17.6</td>\n",
              "      <td>0</td>\n",
              "      <td>4</td>\n",
              "      <td>16.1602</td>\n",
              "    </tr>\n",
              "    <tr>\n",
              "      <th>3</th>\n",
              "      <td>0</td>\n",
              "      <td>3</td>\n",
              "      <td>?</td>\n",
              "      <td>37.9304</td>\n",
              "      <td>12.26150</td>\n",
              "      <td>1000</td>\n",
              "      <td>60.0000</td>\n",
              "      <td>0.302277</td>\n",
              "      <td>508</td>\n",
              "      <td>118.1100</td>\n",
              "      <td>0</td>\n",
              "      <td>0.000</td>\n",
              "      <td>0.000</td>\n",
              "      <td>4</td>\n",
              "      <td>8</td>\n",
              "      <td>0.015938</td>\n",
              "      <td>328</td>\n",
              "      <td>1</td>\n",
              "      <td>1</td>\n",
              "      <td>1</td>\n",
              "      <td>65</td>\n",
              "      <td>0.0</td>\n",
              "      <td>108.65</td>\n",
              "      <td>0.07</td>\n",
              "      <td>255</td>\n",
              "      <td>4.50625</td>\n",
              "      <td>0</td>\n",
              "      <td>2131</td>\n",
              "      <td>0</td>\n",
              "      <td>17.6</td>\n",
              "      <td>0</td>\n",
              "      <td>4</td>\n",
              "      <td>16.1725</td>\n",
              "    </tr>\n",
              "    <tr>\n",
              "      <th>4</th>\n",
              "      <td>0</td>\n",
              "      <td>4</td>\n",
              "      <td>?</td>\n",
              "      <td>37.8085</td>\n",
              "      <td>12.36660</td>\n",
              "      <td>1000</td>\n",
              "      <td>60.0000</td>\n",
              "      <td>0.302277</td>\n",
              "      <td>504</td>\n",
              "      <td>119.0480</td>\n",
              "      <td>0</td>\n",
              "      <td>0.000</td>\n",
              "      <td>0.000</td>\n",
              "      <td>4</td>\n",
              "      <td>8</td>\n",
              "      <td>0.015938</td>\n",
              "      <td>328</td>\n",
              "      <td>1</td>\n",
              "      <td>1</td>\n",
              "      <td>1</td>\n",
              "      <td>65</td>\n",
              "      <td>0.0</td>\n",
              "      <td>108.57</td>\n",
              "      <td>0.00</td>\n",
              "      <td>255</td>\n",
              "      <td>4.50625</td>\n",
              "      <td>0</td>\n",
              "      <td>2136</td>\n",
              "      <td>0</td>\n",
              "      <td>17.6</td>\n",
              "      <td>0</td>\n",
              "      <td>4</td>\n",
              "      <td>16.1459</td>\n",
              "    </tr>\n",
              "    <tr>\n",
              "      <th>...</th>\n",
              "      <td>...</td>\n",
              "      <td>...</td>\n",
              "      <td>...</td>\n",
              "      <td>...</td>\n",
              "      <td>...</td>\n",
              "      <td>...</td>\n",
              "      <td>...</td>\n",
              "      <td>...</td>\n",
              "      <td>...</td>\n",
              "      <td>...</td>\n",
              "      <td>...</td>\n",
              "      <td>...</td>\n",
              "      <td>...</td>\n",
              "      <td>...</td>\n",
              "      <td>...</td>\n",
              "      <td>...</td>\n",
              "      <td>...</td>\n",
              "      <td>...</td>\n",
              "      <td>...</td>\n",
              "      <td>...</td>\n",
              "      <td>...</td>\n",
              "      <td>...</td>\n",
              "      <td>...</td>\n",
              "      <td>...</td>\n",
              "      <td>...</td>\n",
              "      <td>...</td>\n",
              "      <td>...</td>\n",
              "      <td>...</td>\n",
              "      <td>...</td>\n",
              "      <td>...</td>\n",
              "      <td>...</td>\n",
              "      <td>...</td>\n",
              "      <td>...</td>\n",
              "    </tr>\n",
              "    <tr>\n",
              "      <th>120835</th>\n",
              "      <td>99</td>\n",
              "      <td>1206</td>\n",
              "      <td>?</td>\n",
              "      <td>37.3798</td>\n",
              "      <td>17.40260</td>\n",
              "      <td>892</td>\n",
              "      <td>67.2646</td>\n",
              "      <td>0.131030</td>\n",
              "      <td>752</td>\n",
              "      <td>79.7872</td>\n",
              "      <td>0</td>\n",
              "      <td>0.068</td>\n",
              "      <td>214.033</td>\n",
              "      <td>0</td>\n",
              "      <td>0</td>\n",
              "      <td>0.015875</td>\n",
              "      <td>366</td>\n",
              "      <td>0</td>\n",
              "      <td>0</td>\n",
              "      <td>1</td>\n",
              "      <td>71</td>\n",
              "      <td>0.0</td>\n",
              "      <td>0.00</td>\n",
              "      <td>-0.07</td>\n",
              "      <td>255</td>\n",
              "      <td>0.00000</td>\n",
              "      <td>0</td>\n",
              "      <td>658</td>\n",
              "      <td>0</td>\n",
              "      <td>0.0</td>\n",
              "      <td>0</td>\n",
              "      <td>1</td>\n",
              "      <td>16.6850</td>\n",
              "    </tr>\n",
              "    <tr>\n",
              "      <th>120836</th>\n",
              "      <td>99</td>\n",
              "      <td>1207</td>\n",
              "      <td>?</td>\n",
              "      <td>37.1653</td>\n",
              "      <td>5.37419</td>\n",
              "      <td>892</td>\n",
              "      <td>67.2646</td>\n",
              "      <td>0.131030</td>\n",
              "      <td>752</td>\n",
              "      <td>79.7872</td>\n",
              "      <td>0</td>\n",
              "      <td>0.068</td>\n",
              "      <td>214.033</td>\n",
              "      <td>0</td>\n",
              "      <td>0</td>\n",
              "      <td>0.015875</td>\n",
              "      <td>366</td>\n",
              "      <td>0</td>\n",
              "      <td>0</td>\n",
              "      <td>1</td>\n",
              "      <td>71</td>\n",
              "      <td>0.0</td>\n",
              "      <td>0.00</td>\n",
              "      <td>-0.07</td>\n",
              "      <td>255</td>\n",
              "      <td>0.00000</td>\n",
              "      <td>0</td>\n",
              "      <td>657</td>\n",
              "      <td>0</td>\n",
              "      <td>0.0</td>\n",
              "      <td>0</td>\n",
              "      <td>1</td>\n",
              "      <td>16.6840</td>\n",
              "    </tr>\n",
              "    <tr>\n",
              "      <th>120837</th>\n",
              "      <td>99</td>\n",
              "      <td>1208</td>\n",
              "      <td>?</td>\n",
              "      <td>36.9131</td>\n",
              "      <td>9.26657</td>\n",
              "      <td>892</td>\n",
              "      <td>67.2646</td>\n",
              "      <td>0.131030</td>\n",
              "      <td>752</td>\n",
              "      <td>79.7872</td>\n",
              "      <td>0</td>\n",
              "      <td>0.068</td>\n",
              "      <td>214.033</td>\n",
              "      <td>0</td>\n",
              "      <td>0</td>\n",
              "      <td>0.015875</td>\n",
              "      <td>366</td>\n",
              "      <td>0</td>\n",
              "      <td>0</td>\n",
              "      <td>1</td>\n",
              "      <td>71</td>\n",
              "      <td>0.0</td>\n",
              "      <td>0.00</td>\n",
              "      <td>-0.07</td>\n",
              "      <td>255</td>\n",
              "      <td>0.00000</td>\n",
              "      <td>0</td>\n",
              "      <td>655</td>\n",
              "      <td>0</td>\n",
              "      <td>0.0</td>\n",
              "      <td>0</td>\n",
              "      <td>1</td>\n",
              "      <td>16.6487</td>\n",
              "    </tr>\n",
              "    <tr>\n",
              "      <th>120838</th>\n",
              "      <td>99</td>\n",
              "      <td>1209</td>\n",
              "      <td>?</td>\n",
              "      <td>36.6297</td>\n",
              "      <td>10.41710</td>\n",
              "      <td>892</td>\n",
              "      <td>67.2646</td>\n",
              "      <td>0.131030</td>\n",
              "      <td>752</td>\n",
              "      <td>79.7872</td>\n",
              "      <td>0</td>\n",
              "      <td>0.068</td>\n",
              "      <td>214.033</td>\n",
              "      <td>0</td>\n",
              "      <td>0</td>\n",
              "      <td>0.015875</td>\n",
              "      <td>366</td>\n",
              "      <td>0</td>\n",
              "      <td>0</td>\n",
              "      <td>1</td>\n",
              "      <td>71</td>\n",
              "      <td>0.0</td>\n",
              "      <td>0.00</td>\n",
              "      <td>-0.07</td>\n",
              "      <td>240</td>\n",
              "      <td>0.00000</td>\n",
              "      <td>0</td>\n",
              "      <td>657</td>\n",
              "      <td>0</td>\n",
              "      <td>0.0</td>\n",
              "      <td>0</td>\n",
              "      <td>1</td>\n",
              "      <td>16.6314</td>\n",
              "    </tr>\n",
              "    <tr>\n",
              "      <th>120839</th>\n",
              "      <td>99</td>\n",
              "      <td>1210</td>\n",
              "      <td>?</td>\n",
              "      <td>36.6297</td>\n",
              "      <td>10.41710</td>\n",
              "      <td>892</td>\n",
              "      <td>67.2646</td>\n",
              "      <td>0.131030</td>\n",
              "      <td>752</td>\n",
              "      <td>79.7872</td>\n",
              "      <td>0</td>\n",
              "      <td>0.068</td>\n",
              "      <td>214.033</td>\n",
              "      <td>0</td>\n",
              "      <td>0</td>\n",
              "      <td>0.015875</td>\n",
              "      <td>366</td>\n",
              "      <td>0</td>\n",
              "      <td>0</td>\n",
              "      <td>1</td>\n",
              "      <td>71</td>\n",
              "      <td>0.0</td>\n",
              "      <td>0.00</td>\n",
              "      <td>-0.07</td>\n",
              "      <td>240</td>\n",
              "      <td>0.00000</td>\n",
              "      <td>0</td>\n",
              "      <td>657</td>\n",
              "      <td>0</td>\n",
              "      <td>0.0</td>\n",
              "      <td>0</td>\n",
              "      <td>1</td>\n",
              "      <td>16.6314</td>\n",
              "    </tr>\n",
              "  </tbody>\n",
              "</table>\n",
              "<p>120840 rows × 33 columns</p>\n",
              "</div>"
            ],
            "text/plain": [
              "        TrialID  ObsNum IsAlert       P1        P2    P3       P4        P5  \\\n",
              "0             0       0       ?  38.4294  10.94350  1000  60.0000  0.302277   \n",
              "1             0       1       ?  38.3609  15.32120  1000  60.0000  0.302277   \n",
              "2             0       2       ?  38.2342  11.51400  1000  60.0000  0.302277   \n",
              "3             0       3       ?  37.9304  12.26150  1000  60.0000  0.302277   \n",
              "4             0       4       ?  37.8085  12.36660  1000  60.0000  0.302277   \n",
              "...         ...     ...     ...      ...       ...   ...      ...       ...   \n",
              "120835       99    1206       ?  37.3798  17.40260   892  67.2646  0.131030   \n",
              "120836       99    1207       ?  37.1653   5.37419   892  67.2646  0.131030   \n",
              "120837       99    1208       ?  36.9131   9.26657   892  67.2646  0.131030   \n",
              "120838       99    1209       ?  36.6297  10.41710   892  67.2646  0.131030   \n",
              "120839       99    1210       ?  36.6297  10.41710   892  67.2646  0.131030   \n",
              "\n",
              "         P6        P7  P8     E1       E2  E3  E4        E5   E6  E7  E8  E9  \\\n",
              "0       508  118.1100   0  0.000    0.000   4   4  0.015434  328   1   1   1   \n",
              "1       508  118.1100   0  0.000    0.000   4   4  0.015434  328   1   1   1   \n",
              "2       508  118.1100   0  0.000    0.000   4   8  0.015938  328   1   1   1   \n",
              "3       508  118.1100   0  0.000    0.000   4   8  0.015938  328   1   1   1   \n",
              "4       504  119.0480   0  0.000    0.000   4   8  0.015938  328   1   1   1   \n",
              "...     ...       ...  ..    ...      ...  ..  ..       ...  ...  ..  ..  ..   \n",
              "120835  752   79.7872   0  0.068  214.033   0   0  0.015875  366   0   0   1   \n",
              "120836  752   79.7872   0  0.068  214.033   0   0  0.015875  366   0   0   1   \n",
              "120837  752   79.7872   0  0.068  214.033   0   0  0.015875  366   0   0   1   \n",
              "120838  752   79.7872   0  0.068  214.033   0   0  0.015875  366   0   0   1   \n",
              "120839  752   79.7872   0  0.068  214.033   0   0  0.015875  366   0   0   1   \n",
              "\n",
              "        E10  E11      V1    V2   V3       V4  V5    V6  V7    V8  V9  V10  \\\n",
              "0        64  0.0  108.57  0.00  255  4.50625   0  2127   0  17.6   0    4   \n",
              "1        64  0.0  108.57  0.00  255  4.50625   0  2127   0  17.6   0    4   \n",
              "2        65  0.0  108.65  0.07  255  4.50625   0  2131   0  17.6   0    4   \n",
              "3        65  0.0  108.65  0.07  255  4.50625   0  2131   0  17.6   0    4   \n",
              "4        65  0.0  108.57  0.00  255  4.50625   0  2136   0  17.6   0    4   \n",
              "...     ...  ...     ...   ...  ...      ...  ..   ...  ..   ...  ..  ...   \n",
              "120835   71  0.0    0.00 -0.07  255  0.00000   0   658   0   0.0   0    1   \n",
              "120836   71  0.0    0.00 -0.07  255  0.00000   0   657   0   0.0   0    1   \n",
              "120837   71  0.0    0.00 -0.07  255  0.00000   0   655   0   0.0   0    1   \n",
              "120838   71  0.0    0.00 -0.07  240  0.00000   0   657   0   0.0   0    1   \n",
              "120839   71  0.0    0.00 -0.07  240  0.00000   0   657   0   0.0   0    1   \n",
              "\n",
              "            V11  \n",
              "0       16.1937  \n",
              "1       16.1744  \n",
              "2       16.1602  \n",
              "3       16.1725  \n",
              "4       16.1459  \n",
              "...         ...  \n",
              "120835  16.6850  \n",
              "120836  16.6840  \n",
              "120837  16.6487  \n",
              "120838  16.6314  \n",
              "120839  16.6314  \n",
              "\n",
              "[120840 rows x 33 columns]"
            ]
          },
          "execution_count": 58,
          "metadata": {},
          "output_type": "execute_result"
        }
      ],
      "source": [
        "test_df"
      ]
    },
    {
      "cell_type": "markdown",
      "id": "5d540a56",
      "metadata": {
        "id": "5d540a56",
        "papermill": {
          "duration": 0.043297,
          "end_time": "2022-08-06T18:02:44.873232",
          "exception": false,
          "start_time": "2022-08-06T18:02:44.829935",
          "status": "completed"
        },
        "tags": []
      },
      "source": [
        "First, we need to reapply all the preprocessing steps."
      ]
    },
    {
      "cell_type": "code",
      "execution_count": null,
      "id": "4bb003f8",
      "metadata": {
        "execution": {
          "iopub.execute_input": "2022-08-06T18:02:44.959346Z",
          "iopub.status.busy": "2022-08-06T18:02:44.958905Z",
          "iopub.status.idle": "2022-08-06T18:02:45.071327Z",
          "shell.execute_reply": "2022-08-06T18:02:45.069832Z"
        },
        "id": "4bb003f8",
        "papermill": {
          "duration": 0.159094,
          "end_time": "2022-08-06T18:02:45.074617",
          "exception": false,
          "start_time": "2022-08-06T18:02:44.915523",
          "status": "completed"
        },
        "tags": []
      },
      "outputs": [],
      "source": [
        "test_df[numeric_cols] = scaler.transform(test_df[numeric_cols])"
      ]
    },
    {
      "cell_type": "code",
      "execution_count": null,
      "id": "533768bb",
      "metadata": {
        "execution": {
          "iopub.execute_input": "2022-08-06T18:02:45.160048Z",
          "iopub.status.busy": "2022-08-06T18:02:45.159225Z",
          "iopub.status.idle": "2022-08-06T18:02:45.916149Z",
          "shell.execute_reply": "2022-08-06T18:02:45.914917Z"
        },
        "id": "533768bb",
        "papermill": {
          "duration": 0.803678,
          "end_time": "2022-08-06T18:02:45.919460",
          "exception": false,
          "start_time": "2022-08-06T18:02:45.115782",
          "status": "completed"
        },
        "tags": []
      },
      "outputs": [],
      "source": [
        "test_preds = model.predict(test_df[numeric_cols])"
      ]
    },
    {
      "cell_type": "code",
      "execution_count": null,
      "id": "54b64ed9",
      "metadata": {
        "execution": {
          "iopub.execute_input": "2022-08-06T18:02:46.004139Z",
          "iopub.status.busy": "2022-08-06T18:02:46.003647Z",
          "iopub.status.idle": "2022-08-06T18:02:46.041547Z",
          "shell.execute_reply": "2022-08-06T18:02:46.040228Z"
        },
        "id": "54b64ed9",
        "papermill": {
          "duration": 0.08398,
          "end_time": "2022-08-06T18:02:46.044649",
          "exception": false,
          "start_time": "2022-08-06T18:02:45.960669",
          "status": "completed"
        },
        "tags": []
      },
      "outputs": [],
      "source": [
        "submission_df = pd.read_csv('example_submission.csv')"
      ]
    },
    {
      "cell_type": "code",
      "execution_count": null,
      "id": "29c0ed3d",
      "metadata": {
        "execution": {
          "iopub.execute_input": "2022-08-06T18:02:46.129618Z",
          "iopub.status.busy": "2022-08-06T18:02:46.129187Z",
          "iopub.status.idle": "2022-08-06T18:02:46.143241Z",
          "shell.execute_reply": "2022-08-06T18:02:46.141862Z"
        },
        "id": "29c0ed3d",
        "outputId": "82f3a77b-7526-48f2-a8a3-e7967e4ea14e",
        "papermill": {
          "duration": 0.060115,
          "end_time": "2022-08-06T18:02:46.146528",
          "exception": false,
          "start_time": "2022-08-06T18:02:46.086413",
          "status": "completed"
        },
        "tags": []
      },
      "outputs": [
        {
          "data": {
            "text/html": [
              "<div>\n",
              "<style scoped>\n",
              "    .dataframe tbody tr th:only-of-type {\n",
              "        vertical-align: middle;\n",
              "    }\n",
              "\n",
              "    .dataframe tbody tr th {\n",
              "        vertical-align: top;\n",
              "    }\n",
              "\n",
              "    .dataframe thead th {\n",
              "        text-align: right;\n",
              "    }\n",
              "</style>\n",
              "<table border=\"1\" class=\"dataframe\">\n",
              "  <thead>\n",
              "    <tr style=\"text-align: right;\">\n",
              "      <th></th>\n",
              "      <th>TrialID</th>\n",
              "      <th>ObsNum</th>\n",
              "      <th>Prediction</th>\n",
              "    </tr>\n",
              "  </thead>\n",
              "  <tbody>\n",
              "    <tr>\n",
              "      <th>0</th>\n",
              "      <td>0</td>\n",
              "      <td>0</td>\n",
              "      <td>0</td>\n",
              "    </tr>\n",
              "    <tr>\n",
              "      <th>1</th>\n",
              "      <td>0</td>\n",
              "      <td>1</td>\n",
              "      <td>0</td>\n",
              "    </tr>\n",
              "    <tr>\n",
              "      <th>2</th>\n",
              "      <td>0</td>\n",
              "      <td>2</td>\n",
              "      <td>0</td>\n",
              "    </tr>\n",
              "    <tr>\n",
              "      <th>3</th>\n",
              "      <td>0</td>\n",
              "      <td>3</td>\n",
              "      <td>0</td>\n",
              "    </tr>\n",
              "    <tr>\n",
              "      <th>4</th>\n",
              "      <td>0</td>\n",
              "      <td>4</td>\n",
              "      <td>0</td>\n",
              "    </tr>\n",
              "    <tr>\n",
              "      <th>...</th>\n",
              "      <td>...</td>\n",
              "      <td>...</td>\n",
              "      <td>...</td>\n",
              "    </tr>\n",
              "    <tr>\n",
              "      <th>120835</th>\n",
              "      <td>99</td>\n",
              "      <td>1206</td>\n",
              "      <td>0</td>\n",
              "    </tr>\n",
              "    <tr>\n",
              "      <th>120836</th>\n",
              "      <td>99</td>\n",
              "      <td>1207</td>\n",
              "      <td>0</td>\n",
              "    </tr>\n",
              "    <tr>\n",
              "      <th>120837</th>\n",
              "      <td>99</td>\n",
              "      <td>1208</td>\n",
              "      <td>0</td>\n",
              "    </tr>\n",
              "    <tr>\n",
              "      <th>120838</th>\n",
              "      <td>99</td>\n",
              "      <td>1209</td>\n",
              "      <td>0</td>\n",
              "    </tr>\n",
              "    <tr>\n",
              "      <th>120839</th>\n",
              "      <td>99</td>\n",
              "      <td>1210</td>\n",
              "      <td>0</td>\n",
              "    </tr>\n",
              "  </tbody>\n",
              "</table>\n",
              "<p>120840 rows × 3 columns</p>\n",
              "</div>"
            ],
            "text/plain": [
              "        TrialID  ObsNum  Prediction\n",
              "0             0       0           0\n",
              "1             0       1           0\n",
              "2             0       2           0\n",
              "3             0       3           0\n",
              "4             0       4           0\n",
              "...         ...     ...         ...\n",
              "120835       99    1206           0\n",
              "120836       99    1207           0\n",
              "120837       99    1208           0\n",
              "120838       99    1209           0\n",
              "120839       99    1210           0\n",
              "\n",
              "[120840 rows x 3 columns]"
            ]
          },
          "execution_count": 62,
          "metadata": {},
          "output_type": "execute_result"
        }
      ],
      "source": [
        "submission_df"
      ]
    },
    {
      "cell_type": "markdown",
      "id": "94bdfcde",
      "metadata": {
        "id": "94bdfcde",
        "papermill": {
          "duration": 0.041753,
          "end_time": "2022-08-06T18:02:46.229642",
          "exception": false,
          "start_time": "2022-08-06T18:02:46.187889",
          "status": "completed"
        },
        "tags": []
      },
      "source": [
        "Let's replace the values of the `Predictipn` column with our predictions."
      ]
    },
    {
      "cell_type": "code",
      "execution_count": null,
      "id": "f96e38b5",
      "metadata": {
        "execution": {
          "iopub.execute_input": "2022-08-06T18:02:46.316581Z",
          "iopub.status.busy": "2022-08-06T18:02:46.316098Z",
          "iopub.status.idle": "2022-08-06T18:02:46.323115Z",
          "shell.execute_reply": "2022-08-06T18:02:46.321602Z"
        },
        "id": "f96e38b5",
        "papermill": {
          "duration": 0.053563,
          "end_time": "2022-08-06T18:02:46.325783",
          "exception": false,
          "start_time": "2022-08-06T18:02:46.272220",
          "status": "completed"
        },
        "tags": []
      },
      "outputs": [],
      "source": [
        "submission_df['Prediction'] = test_preds"
      ]
    },
    {
      "cell_type": "markdown",
      "id": "1ebf360e",
      "metadata": {
        "id": "1ebf360e",
        "papermill": {
          "duration": 0.042603,
          "end_time": "2022-08-06T18:02:46.409672",
          "exception": false,
          "start_time": "2022-08-06T18:02:46.367069",
          "status": "completed"
        },
        "tags": []
      },
      "source": [
        "Let's save it as a CSV file and download it."
      ]
    },
    {
      "cell_type": "code",
      "execution_count": null,
      "id": "ec9e55cd",
      "metadata": {
        "execution": {
          "iopub.execute_input": "2022-08-06T18:02:46.497312Z",
          "iopub.status.busy": "2022-08-06T18:02:46.496843Z",
          "iopub.status.idle": "2022-08-06T18:02:46.642510Z",
          "shell.execute_reply": "2022-08-06T18:02:46.641232Z"
        },
        "id": "ec9e55cd",
        "papermill": {
          "duration": 0.193493,
          "end_time": "2022-08-06T18:02:46.645618",
          "exception": false,
          "start_time": "2022-08-06T18:02:46.452125",
          "status": "completed"
        },
        "tags": []
      },
      "outputs": [],
      "source": [
        "submission_df.to_csv('submission.csv', index=False)"
      ]
    },
    {
      "cell_type": "code",
      "execution_count": null,
      "id": "1bb350bf",
      "metadata": {
        "execution": {
          "iopub.execute_input": "2022-08-06T18:02:46.732696Z",
          "iopub.status.busy": "2022-08-06T18:02:46.731514Z",
          "iopub.status.idle": "2022-08-06T18:02:46.797440Z",
          "shell.execute_reply": "2022-08-06T18:02:46.796312Z"
        },
        "id": "1bb350bf",
        "papermill": {
          "duration": 0.113386,
          "end_time": "2022-08-06T18:02:46.800752",
          "exception": false,
          "start_time": "2022-08-06T18:02:46.687366",
          "status": "completed"
        },
        "tags": []
      },
      "outputs": [],
      "source": [
        "solution = pd.read_csv(\"Solution_ford.csv\")"
      ]
    },
    {
      "cell_type": "code",
      "execution_count": null,
      "id": "c8512c83",
      "metadata": {
        "execution": {
          "iopub.execute_input": "2022-08-06T18:02:46.889016Z",
          "iopub.status.busy": "2022-08-06T18:02:46.887478Z",
          "iopub.status.idle": "2022-08-06T18:02:46.904620Z",
          "shell.execute_reply": "2022-08-06T18:02:46.902902Z"
        },
        "id": "c8512c83",
        "outputId": "3ca5e833-1cf4-43b8-8470-06b0141487fb",
        "papermill": {
          "duration": 0.063949,
          "end_time": "2022-08-06T18:02:46.908054",
          "exception": false,
          "start_time": "2022-08-06T18:02:46.844105",
          "status": "completed"
        },
        "tags": []
      },
      "outputs": [
        {
          "data": {
            "text/html": [
              "<div>\n",
              "<style scoped>\n",
              "    .dataframe tbody tr th:only-of-type {\n",
              "        vertical-align: middle;\n",
              "    }\n",
              "\n",
              "    .dataframe tbody tr th {\n",
              "        vertical-align: top;\n",
              "    }\n",
              "\n",
              "    .dataframe thead th {\n",
              "        text-align: right;\n",
              "    }\n",
              "</style>\n",
              "<table border=\"1\" class=\"dataframe\">\n",
              "  <thead>\n",
              "    <tr style=\"text-align: right;\">\n",
              "      <th></th>\n",
              "      <th>TrialID</th>\n",
              "      <th>ObsNum</th>\n",
              "      <th>Prediction</th>\n",
              "      <th>Indicator</th>\n",
              "    </tr>\n",
              "  </thead>\n",
              "  <tbody>\n",
              "    <tr>\n",
              "      <th>0</th>\n",
              "      <td>0</td>\n",
              "      <td>0</td>\n",
              "      <td>1</td>\n",
              "      <td>Public</td>\n",
              "    </tr>\n",
              "    <tr>\n",
              "      <th>1</th>\n",
              "      <td>0</td>\n",
              "      <td>1</td>\n",
              "      <td>1</td>\n",
              "      <td>Public</td>\n",
              "    </tr>\n",
              "    <tr>\n",
              "      <th>2</th>\n",
              "      <td>0</td>\n",
              "      <td>2</td>\n",
              "      <td>1</td>\n",
              "      <td>Private</td>\n",
              "    </tr>\n",
              "    <tr>\n",
              "      <th>3</th>\n",
              "      <td>0</td>\n",
              "      <td>3</td>\n",
              "      <td>1</td>\n",
              "      <td>Private</td>\n",
              "    </tr>\n",
              "    <tr>\n",
              "      <th>4</th>\n",
              "      <td>0</td>\n",
              "      <td>4</td>\n",
              "      <td>1</td>\n",
              "      <td>Private</td>\n",
              "    </tr>\n",
              "    <tr>\n",
              "      <th>...</th>\n",
              "      <td>...</td>\n",
              "      <td>...</td>\n",
              "      <td>...</td>\n",
              "      <td>...</td>\n",
              "    </tr>\n",
              "    <tr>\n",
              "      <th>120835</th>\n",
              "      <td>99</td>\n",
              "      <td>1206</td>\n",
              "      <td>1</td>\n",
              "      <td>Private</td>\n",
              "    </tr>\n",
              "    <tr>\n",
              "      <th>120836</th>\n",
              "      <td>99</td>\n",
              "      <td>1207</td>\n",
              "      <td>1</td>\n",
              "      <td>Private</td>\n",
              "    </tr>\n",
              "    <tr>\n",
              "      <th>120837</th>\n",
              "      <td>99</td>\n",
              "      <td>1208</td>\n",
              "      <td>1</td>\n",
              "      <td>Private</td>\n",
              "    </tr>\n",
              "    <tr>\n",
              "      <th>120838</th>\n",
              "      <td>99</td>\n",
              "      <td>1209</td>\n",
              "      <td>1</td>\n",
              "      <td>Private</td>\n",
              "    </tr>\n",
              "    <tr>\n",
              "      <th>120839</th>\n",
              "      <td>99</td>\n",
              "      <td>1210</td>\n",
              "      <td>1</td>\n",
              "      <td>Private</td>\n",
              "    </tr>\n",
              "  </tbody>\n",
              "</table>\n",
              "<p>120840 rows × 4 columns</p>\n",
              "</div>"
            ],
            "text/plain": [
              "        TrialID  ObsNum  Prediction Indicator\n",
              "0             0       0           1    Public\n",
              "1             0       1           1    Public\n",
              "2             0       2           1   Private\n",
              "3             0       3           1   Private\n",
              "4             0       4           1   Private\n",
              "...         ...     ...         ...       ...\n",
              "120835       99    1206           1   Private\n",
              "120836       99    1207           1   Private\n",
              "120837       99    1208           1   Private\n",
              "120838       99    1209           1   Private\n",
              "120839       99    1210           1   Private\n",
              "\n",
              "[120840 rows x 4 columns]"
            ]
          },
          "execution_count": 66,
          "metadata": {},
          "output_type": "execute_result"
        }
      ],
      "source": [
        "solution"
      ]
    },
    {
      "cell_type": "markdown",
      "source": [
        "- Now our model ready for the deployment."
      ],
      "metadata": {
        "id": "7_huRcG0xnsp"
      },
      "id": "7_huRcG0xnsp"
    },
    {
      "cell_type": "markdown",
      "id": "107c59b9",
      "metadata": {
        "id": "107c59b9",
        "papermill": {
          "duration": 0.042159,
          "end_time": "2022-08-06T18:02:46.992697",
          "exception": false,
          "start_time": "2022-08-06T18:02:46.950538",
          "status": "completed"
        },
        "tags": []
      },
      "source": [
        "## Summary and References\n",
        "\n",
        "The following topics were covered in this blog:\n",
        "\n",
        "- Downloading a real-world dataset\n",
        "- Preparing a dataset for training\n",
        "- Training and interpreting decision trees\n",
        "- Training and interpreting random forests\n",
        "- Overfitting, hyperparameter tuning & regularization\n",
        "- Making predictions on single inputs\n",
        "\n",
        "\n",
        "\n",
        "We also introduced the following terms:\n",
        "\n",
        "* Decision tree\n",
        "* Random forest\n",
        "* Overfitting\n",
        "* Hyperparameter\n",
        "* Hyperparameter tuning\n",
        "* Regularization\n",
        "* Ensembling\n",
        "* Generalization\n",
        "* Bootstrapping\n"
      ]
    }
  ],
  "metadata": {
    "kernelspec": {
      "display_name": "Python 3",
      "language": "python",
      "name": "python3"
    },
    "language_info": {
      "codemirror_mode": {
        "name": "ipython",
        "version": 3
      },
      "file_extension": ".py",
      "mimetype": "text/x-python",
      "name": "python",
      "nbconvert_exporter": "python",
      "pygments_lexer": "ipython3",
      "version": "3.7.12"
    },
    "papermill": {
      "default_parameters": {},
      "duration": 197.958074,
      "end_time": "2022-08-06T18:02:49.728185",
      "environment_variables": {},
      "exception": null,
      "input_path": "__notebook__.ipynb",
      "output_path": "__notebook__.ipynb",
      "parameters": {},
      "start_time": "2022-08-06T17:59:31.770111",
      "version": "2.3.4"
    },
    "colab": {
      "provenance": []
    }
  },
  "nbformat": 4,
  "nbformat_minor": 5
}